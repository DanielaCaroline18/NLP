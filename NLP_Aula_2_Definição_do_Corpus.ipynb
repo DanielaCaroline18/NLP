{
  "nbformat": 4,
  "nbformat_minor": 0,
  "metadata": {
    "kernelspec": {
      "display_name": "Python 3",
      "language": "python",
      "name": "python3"
    },
    "language_info": {
      "codemirror_mode": {
        "name": "ipython",
        "version": 3
      },
      "file_extension": ".py",
      "mimetype": "text/x-python",
      "name": "python",
      "nbconvert_exporter": "python",
      "pygments_lexer": "ipython3",
      "version": "3.6.5"
    },
    "colab": {
      "name": "NLP Aula 2 -Definição do Corpus.ipynb",
      "provenance": [],
      "collapsed_sections": [],
      "include_colab_link": true
    }
  },
  "cells": [
    {
      "cell_type": "markdown",
      "metadata": {
        "id": "view-in-github",
        "colab_type": "text"
      },
      "source": [
        "<a href=\"https://colab.research.google.com/github/DanielaCaroline18/NLP/blob/main/NLP_Aula_2_Defini%C3%A7%C3%A3o_do_Corpus.ipynb\" target=\"_parent\"><img src=\"https://colab.research.google.com/assets/colab-badge.svg\" alt=\"Open In Colab\"/></a>"
      ]
    },
    {
      "cell_type": "code",
      "metadata": {
        "id": "UDYaAoSwMdRI",
        "colab": {
          "base_uri": "https://localhost:8080/",
          "height": 615
        },
        "outputId": "ed553741-21f6-43bc-f949-00b2ab2cc41b"
      },
      "source": [
        "                                                                                                                             sa!pip install gensim\n",
        "!pip install umap-learn\n",
        "!pip install wikipedia\n",
        "!pip install unidecode"
      ],
      "execution_count": null,
      "outputs": [
        {
          "output_type": "stream",
          "text": [
            "Requirement already satisfied: gensim in /usr/local/lib/python3.6/dist-packages (3.6.0)\n",
            "Requirement already satisfied: six>=1.5.0 in /usr/local/lib/python3.6/dist-packages (from gensim) (1.12.0)\n",
            "Requirement already satisfied: scipy>=0.18.1 in /usr/local/lib/python3.6/dist-packages (from gensim) (1.4.1)\n",
            "Requirement already satisfied: numpy>=1.11.3 in /usr/local/lib/python3.6/dist-packages (from gensim) (1.18.4)\n",
            "Requirement already satisfied: smart-open>=1.2.1 in /usr/local/lib/python3.6/dist-packages (from gensim) (2.0.0)\n",
            "Requirement already satisfied: requests in /usr/local/lib/python3.6/dist-packages (from smart-open>=1.2.1->gensim) (2.23.0)\n",
            "Requirement already satisfied: boto3 in /usr/local/lib/python3.6/dist-packages (from smart-open>=1.2.1->gensim) (1.13.4)\n",
            "Requirement already satisfied: boto in /usr/local/lib/python3.6/dist-packages (from smart-open>=1.2.1->gensim) (2.49.0)\n",
            "Requirement already satisfied: certifi>=2017.4.17 in /usr/local/lib/python3.6/dist-packages (from requests->smart-open>=1.2.1->gensim) (2020.4.5.1)\n",
            "Requirement already satisfied: idna<3,>=2.5 in /usr/local/lib/python3.6/dist-packages (from requests->smart-open>=1.2.1->gensim) (2.9)\n",
            "Requirement already satisfied: urllib3!=1.25.0,!=1.25.1,<1.26,>=1.21.1 in /usr/local/lib/python3.6/dist-packages (from requests->smart-open>=1.2.1->gensim) (1.24.3)\n",
            "Requirement already satisfied: chardet<4,>=3.0.2 in /usr/local/lib/python3.6/dist-packages (from requests->smart-open>=1.2.1->gensim) (3.0.4)\n",
            "Requirement already satisfied: jmespath<1.0.0,>=0.7.1 in /usr/local/lib/python3.6/dist-packages (from boto3->smart-open>=1.2.1->gensim) (0.9.5)\n",
            "Requirement already satisfied: s3transfer<0.4.0,>=0.3.0 in /usr/local/lib/python3.6/dist-packages (from boto3->smart-open>=1.2.1->gensim) (0.3.3)\n",
            "Requirement already satisfied: botocore<1.17.0,>=1.16.4 in /usr/local/lib/python3.6/dist-packages (from boto3->smart-open>=1.2.1->gensim) (1.16.4)\n",
            "Requirement already satisfied: python-dateutil<3.0.0,>=2.1 in /usr/local/lib/python3.6/dist-packages (from botocore<1.17.0,>=1.16.4->boto3->smart-open>=1.2.1->gensim) (2.8.1)\n",
            "Requirement already satisfied: docutils<0.16,>=0.10 in /usr/local/lib/python3.6/dist-packages (from botocore<1.17.0,>=1.16.4->boto3->smart-open>=1.2.1->gensim) (0.15.2)\n",
            "Requirement already satisfied: umap-learn in /usr/local/lib/python3.6/dist-packages (0.4.2)\n",
            "Requirement already satisfied: tbb>=2019.0 in /usr/local/lib/python3.6/dist-packages (from umap-learn) (2020.0.133)\n",
            "Requirement already satisfied: scipy>=1.3.1 in /usr/local/lib/python3.6/dist-packages (from umap-learn) (1.4.1)\n",
            "Requirement already satisfied: numpy>=1.17 in /usr/local/lib/python3.6/dist-packages (from umap-learn) (1.18.4)\n",
            "Requirement already satisfied: scikit-learn>=0.20 in /usr/local/lib/python3.6/dist-packages (from umap-learn) (0.22.2.post1)\n",
            "Requirement already satisfied: numba!=0.47,>=0.46 in /usr/local/lib/python3.6/dist-packages (from umap-learn) (0.48.0)\n",
            "Requirement already satisfied: joblib>=0.11 in /usr/local/lib/python3.6/dist-packages (from scikit-learn>=0.20->umap-learn) (0.14.1)\n",
            "Requirement already satisfied: llvmlite<0.32.0,>=0.31.0dev0 in /usr/local/lib/python3.6/dist-packages (from numba!=0.47,>=0.46->umap-learn) (0.31.0)\n",
            "Requirement already satisfied: setuptools in /usr/local/lib/python3.6/dist-packages (from numba!=0.47,>=0.46->umap-learn) (46.3.0)\n",
            "Requirement already satisfied: wikipedia in /usr/local/lib/python3.6/dist-packages (1.4.0)\n",
            "Requirement already satisfied: requests<3.0.0,>=2.0.0 in /usr/local/lib/python3.6/dist-packages (from wikipedia) (2.23.0)\n",
            "Requirement already satisfied: beautifulsoup4 in /usr/local/lib/python3.6/dist-packages (from wikipedia) (4.6.3)\n",
            "Requirement already satisfied: certifi>=2017.4.17 in /usr/local/lib/python3.6/dist-packages (from requests<3.0.0,>=2.0.0->wikipedia) (2020.4.5.1)\n",
            "Requirement already satisfied: urllib3!=1.25.0,!=1.25.1,<1.26,>=1.21.1 in /usr/local/lib/python3.6/dist-packages (from requests<3.0.0,>=2.0.0->wikipedia) (1.24.3)\n",
            "Requirement already satisfied: chardet<4,>=3.0.2 in /usr/local/lib/python3.6/dist-packages (from requests<3.0.0,>=2.0.0->wikipedia) (3.0.4)\n",
            "Requirement already satisfied: idna<3,>=2.5 in /usr/local/lib/python3.6/dist-packages (from requests<3.0.0,>=2.0.0->wikipedia) (2.9)\n",
            "Requirement already satisfied: unidecode in /usr/local/lib/python3.6/dist-packages (1.1.1)\n"
          ],
          "name": "stdout"
        }
      ]
    },
    {
      "cell_type": "code",
      "metadata": {
        "id": "xDiS_jPuMdRQ"
      },
      "source": [
        "import re\n",
        "import nltk\n",
        "from nltk.util import ngrams\n",
        "from nltk.corpus import stopwords\n",
        "import wikipedia\n",
        "import string\n",
        "from unidecode import unidecode\n",
        "from nltk.tokenize import sent_tokenize\n",
        "from sklearn.feature_extraction.text import TfidfVectorizer\n",
        "from sklearn.feature_extraction.text import CountVectorizer\n",
        "import pandas as pd\n",
        "import urllib.request\n",
        "import bz2\n",
        "import gensim\n",
        "import warnings\n",
        "import numpy as np\n",
        "from gensim.models import word2vec\n",
        "from sklearn.manifold import TSNE\n",
        "from sklearn.decomposition import PCA\n",
        "import umap\n",
        "warnings.filterwarnings('ignore')\n",
        "\n",
        "import matplotlib.pyplot as plt\n",
        "%matplotlib inline"
      ],
      "execution_count": null,
      "outputs": []
    },
    {
      "cell_type": "markdown",
      "metadata": {
        "id": "WBIF_aV4MdRV"
      },
      "source": [
        "# Definição do Corpus"
      ]
    },
    {
      "cell_type": "markdown",
      "metadata": {
        "id": "IX6bKXbFMdRX"
      },
      "source": [
        "## Base"
      ]
    },
    {
      "cell_type": "code",
      "metadata": {
        "id": "i7omAZSRMdRY"
      },
      "source": [
        "wikipedia.set_lang(\"pt\")\n",
        "bh = wikipedia.page(\"Belo Horizonte\")"
      ],
      "execution_count": null,
      "outputs": []
    },
    {
      "cell_type": "code",
      "metadata": {
        "id": "3fEnBfNMMdRd"
      },
      "source": [
        "corpus = bh.content"
      ],
      "execution_count": null,
      "outputs": []
    },
    {
      "cell_type": "markdown",
      "metadata": {
        "id": "frMByOQlMdRj"
      },
      "source": [
        "Selecionamos algumas frases do corpus de BH da wikipedia.\n",
        "\n",
        "Conside a lista abaixo como nosso corpus de documentos. Cada elemento da lista, considere como um único documento."
      ]
    },
    {
      "cell_type": "code",
      "metadata": {
        "id": "PCz3ntY0MdRl"
      },
      "source": [
        "documentos = \\\n",
        "[\"Belo Horizonte é um município brasileiro e a capital do estado de Minas Gerais\",\n",
        "\"A populacao de Belo Horizonte é estimada em 2 501 576 habitantes, conforme estimativas do Instituto Brasileiro de Geografia e Estatística\",\n",
        "\"Belo Horizonte já foi indicada pelo Population Crisis Commitee, da ONU, como a metrópole com melhor qualidade de vida na América Latina\",\n",
        "\"Belo Horizonte é mundialmente conhecida e exerce significativa influência nacional e até internacional, seja do ponto de vista cultural, econômico ou político\",\n",
        "\"Belo Horizonte é a capital do segundo estado mais populoso do Brasil, Minas Gerais\"]"
      ],
      "execution_count": null,
      "outputs": []
    },
    {
      "cell_type": "markdown",
      "metadata": {
        "id": "jfXhioJtMdRu"
      },
      "source": [
        "## Preprocessamento"
      ]
    },
    {
      "cell_type": "markdown",
      "metadata": {
        "id": "La6obq5WMdRv"
      },
      "source": [
        "<b> Atividade </b>\n",
        "\n",
        "1) Escreva uma método que realiza o pré-processamento da lista de <b>documentos</b>.\n",
        "\n",
        "O método deve, para cada documento:\n",
        "- tokenizar cada palavra\n",
        "- remover stopwords\n",
        "- remover números\n",
        "- remover pontuções\n",
        "- remover acentos"
      ]
    },
    {
      "cell_type": "code",
      "metadata": {
        "id": "EpwvPhrQMdRy"
      },
      "source": [
        "def pre_processamento_texto(corpus):\n",
        "    print(\"Documento\")\n",
        "    print(\"#tokenizacao\")\n",
        "    corpus_alt = re.findall(r\"\\w+(?:'\\w+)?|[^\\w\\s]\", corpus)\n",
        "    #lowcase\n",
        "    corpus_alt = [t.lower() for t in corpus_alt]\n",
        "    print(\"#remove stopwords\")\n",
        "    portugues_stops = stopwords.words('portuguese')\n",
        "    corpus_alt = [t for t in corpus_alt if t not in portugues_stops]\n",
        "    print(\"#remove numeros\")\n",
        "    corpus_alt = [re.sub(r'\\d', '', t) for t in corpus_alt]\n",
        "    print(\"#remove pontuação\")\n",
        "    corpus_alt = [t for t in corpus_alt if t not in string.punctuation]\n",
        "    print(\"#remove acentos\")\n",
        "    corpus_alt = [unidecode(t) for t in corpus_alt]\n",
        "   \n",
        "    return corpus_alt"
      ],
      "execution_count": null,
      "outputs": []
    },
    {
      "cell_type": "code",
      "metadata": {
        "id": "GGCoq47YDTBp",
        "colab": {
          "base_uri": "https://localhost:8080/",
          "height": 68
        },
        "outputId": "30ea1ef7-35b0-4e1f-d91a-1e6991dc094c"
      },
      "source": [
        " import nltk\n",
        " nltk.download('stopwords')"
      ],
      "execution_count": null,
      "outputs": [
        {
          "output_type": "stream",
          "text": [
            "[nltk_data] Downloading package stopwords to /root/nltk_data...\n",
            "[nltk_data]   Package stopwords is already up-to-date!\n"
          ],
          "name": "stdout"
        },
        {
          "output_type": "execute_result",
          "data": {
            "text/plain": [
              "True"
            ]
          },
          "metadata": {
            "tags": []
          },
          "execution_count": 7
        }
      ]
    },
    {
      "cell_type": "code",
      "metadata": {
        "id": "Jnfjg2QmMdR4",
        "colab": {
          "base_uri": "https://localhost:8080/",
          "height": 527
        },
        "outputId": "70e7979b-ffbe-4545-efdf-326cef27d566"
      },
      "source": [
        "corpus_processado = [pre_processamento_texto(documento) for documento in documentos] "
      ],
      "execution_count": null,
      "outputs": [
        {
          "output_type": "stream",
          "text": [
            "Documento\n",
            "#tokenizacao\n",
            "#remove stopwords\n",
            "#remove numeros\n",
            "#remove pontuação\n",
            "#remove acentos\n",
            "Documento\n",
            "#tokenizacao\n",
            "#remove stopwords\n",
            "#remove numeros\n",
            "#remove pontuação\n",
            "#remove acentos\n",
            "Documento\n",
            "#tokenizacao\n",
            "#remove stopwords\n",
            "#remove numeros\n",
            "#remove pontuação\n",
            "#remove acentos\n",
            "Documento\n",
            "#tokenizacao\n",
            "#remove stopwords\n",
            "#remove numeros\n",
            "#remove pontuação\n",
            "#remove acentos\n",
            "Documento\n",
            "#tokenizacao\n",
            "#remove stopwords\n",
            "#remove numeros\n",
            "#remove pontuação\n",
            "#remove acentos\n"
          ],
          "name": "stdout"
        }
      ]
    },
    {
      "cell_type": "markdown",
      "metadata": {
        "id": "Qq1oim8GMdR-"
      },
      "source": [
        "# Representação Textual"
      ]
    },
    {
      "cell_type": "markdown",
      "metadata": {
        "id": "KrtxSt2xMdR_"
      },
      "source": [
        "## N-grams\n",
        "\n",
        "Existem várias formas de calcular os N-grams.\n",
        "\n",
        "Iremos estudar o: Phrases do gensim e o ngrams do NLTK"
      ]
    },
    {
      "cell_type": "markdown",
      "metadata": {
        "id": "ZscaHBnFMdSA"
      },
      "source": [
        "### NLTK\n",
        "\n",
        "Para retornar o ngrams do nltk, utilize o exemplo abaixo:\n",
        "\n",
        "```python\n",
        "list(ngrams(corpus, 2)\n",
        "```\n",
        "\n",
        "<b> Atividade </b>\n",
        "\n",
        "2) Faça um código para armazena os bigrams de cada documento do corpus <b>corpus_processado</b> na variável corpus_ngrams_nltk.\n",
        "Depois imprima os bigramas de cada documento"
      ]
    },
    {
      "cell_type": "code",
      "metadata": {
        "id": "TNTNU0WAEDT3",
        "colab": {
          "base_uri": "https://localhost:8080/",
          "height": 952
        },
        "outputId": "05b170aa-ce3e-4621-a55d-8efac1cc902b"
      },
      "source": [
        "corpus_processado"
      ],
      "execution_count": null,
      "outputs": [
        {
          "output_type": "execute_result",
          "data": {
            "text/plain": [
              "[['belo',\n",
              "  'horizonte',\n",
              "  'municipio',\n",
              "  'brasileiro',\n",
              "  'capital',\n",
              "  'estado',\n",
              "  'minas',\n",
              "  'gerais'],\n",
              " ['populacao',\n",
              "  'belo',\n",
              "  'horizonte',\n",
              "  'estimada',\n",
              "  'habitantes',\n",
              "  'conforme',\n",
              "  'estimativas',\n",
              "  'instituto',\n",
              "  'brasileiro',\n",
              "  'geografia',\n",
              "  'estatistica'],\n",
              " ['belo',\n",
              "  'horizonte',\n",
              "  'indicada',\n",
              "  'population',\n",
              "  'crisis',\n",
              "  'commitee',\n",
              "  'onu',\n",
              "  'metropole',\n",
              "  'melhor',\n",
              "  'qualidade',\n",
              "  'vida',\n",
              "  'america',\n",
              "  'latina'],\n",
              " ['belo',\n",
              "  'horizonte',\n",
              "  'mundialmente',\n",
              "  'conhecida',\n",
              "  'exerce',\n",
              "  'significativa',\n",
              "  'influencia',\n",
              "  'nacional',\n",
              "  'internacional',\n",
              "  'ponto',\n",
              "  'vista',\n",
              "  'cultural',\n",
              "  'economico',\n",
              "  'politico'],\n",
              " ['belo',\n",
              "  'horizonte',\n",
              "  'capital',\n",
              "  'segundo',\n",
              "  'estado',\n",
              "  'populoso',\n",
              "  'brasil',\n",
              "  'minas',\n",
              "  'gerais']]"
            ]
          },
          "metadata": {
            "tags": []
          },
          "execution_count": 9
        }
      ]
    },
    {
      "cell_type": "code",
      "metadata": {
        "id": "Xgs1BE_1MdSC"
      },
      "source": [
        "corpus_ngrams_nltk = [list(ngrams(doc, 2)) for doc in corpus_processado ]"
      ],
      "execution_count": null,
      "outputs": []
    },
    {
      "cell_type": "code",
      "metadata": {
        "id": "lQpWuv2TMdSH",
        "colab": {
          "base_uri": "https://localhost:8080/",
          "height": 867
        },
        "outputId": "64d7999d-6f7f-49f3-834e-34c78fb2128d"
      },
      "source": [
        "corpus_ngrams_nltk"
      ],
      "execution_count": null,
      "outputs": [
        {
          "output_type": "execute_result",
          "data": {
            "text/plain": [
              "[[('belo', 'horizonte'),\n",
              "  ('horizonte', 'municipio'),\n",
              "  ('municipio', 'brasileiro'),\n",
              "  ('brasileiro', 'capital'),\n",
              "  ('capital', 'estado'),\n",
              "  ('estado', 'minas'),\n",
              "  ('minas', 'gerais')],\n",
              " [('populacao', 'belo'),\n",
              "  ('belo', 'horizonte'),\n",
              "  ('horizonte', 'estimada'),\n",
              "  ('estimada', 'habitantes'),\n",
              "  ('habitantes', 'conforme'),\n",
              "  ('conforme', 'estimativas'),\n",
              "  ('estimativas', 'instituto'),\n",
              "  ('instituto', 'brasileiro'),\n",
              "  ('brasileiro', 'geografia'),\n",
              "  ('geografia', 'estatistica')],\n",
              " [('belo', 'horizonte'),\n",
              "  ('horizonte', 'indicada'),\n",
              "  ('indicada', 'population'),\n",
              "  ('population', 'crisis'),\n",
              "  ('crisis', 'commitee'),\n",
              "  ('commitee', 'onu'),\n",
              "  ('onu', 'metropole'),\n",
              "  ('metropole', 'melhor'),\n",
              "  ('melhor', 'qualidade'),\n",
              "  ('qualidade', 'vida'),\n",
              "  ('vida', 'america'),\n",
              "  ('america', 'latina')],\n",
              " [('belo', 'horizonte'),\n",
              "  ('horizonte', 'mundialmente'),\n",
              "  ('mundialmente', 'conhecida'),\n",
              "  ('conhecida', 'exerce'),\n",
              "  ('exerce', 'significativa'),\n",
              "  ('significativa', 'influencia'),\n",
              "  ('influencia', 'nacional'),\n",
              "  ('nacional', 'internacional'),\n",
              "  ('internacional', 'ponto'),\n",
              "  ('ponto', 'vista'),\n",
              "  ('vista', 'cultural'),\n",
              "  ('cultural', 'economico'),\n",
              "  ('economico', 'politico')],\n",
              " [('belo', 'horizonte'),\n",
              "  ('horizonte', 'capital'),\n",
              "  ('capital', 'segundo'),\n",
              "  ('segundo', 'estado'),\n",
              "  ('estado', 'populoso'),\n",
              "  ('populoso', 'brasil'),\n",
              "  ('brasil', 'minas'),\n",
              "  ('minas', 'gerais')]]"
            ]
          },
          "metadata": {
            "tags": []
          },
          "execution_count": 11
        }
      ]
    },
    {
      "cell_type": "markdown",
      "metadata": {
        "id": "Nzfi_ddLMdSL"
      },
      "source": [
        "### Phrases - Gensim\n",
        "\n",
        "Forma mais inteligente de calcular os bigrams. Ela calcula os bigramas levando em consideração a frequência do par das palavaras em todos os documentos.\n",
        "Para isso ele treina um modelo e depois aplica no corpus.\n",
        "\n",
        "```python\n",
        "#treinamento bigrams\n",
        "model_corpus_phrases = gensim.models.Phrases(corpus_processado, min_count=1)\n",
        "#calulando os bigrams do corpus processado\n",
        "bigram_corpus = model_corpus_phrases[corpus_processado]\n",
        "```\n",
        "\n",
        "<b> Atividade </b>\n",
        "\n",
        "3) Faça um código que treine os bigrams, sendo que o <b>min_count = 1</b>. \n",
        "O <b>min_count</b> é a contagem mínima que aquele par de palavras deve aparecer junto para considerarmos com um token. Teste também com outros valores de mim_count. Depois imprima os bigramas de cada documento.\n",
        "Use o corpus_processado."
      ]
    },
    {
      "cell_type": "code",
      "metadata": {
        "id": "ZKPDLct-MdSM"
      },
      "source": [
        "# treinamento bigrams\n",
        "model_corpus_phrases = gensim.models.Phrases(corpus_processado, min_count=1)\n"
      ],
      "execution_count": null,
      "outputs": []
    },
    {
      "cell_type": "code",
      "metadata": {
        "id": "mWtFJwWbMdSR"
      },
      "source": [
        "# calulando os bigrams do corpus processado\n",
        "bigram_corpus = model_corpus_phrases[corpus_processado]"
      ],
      "execution_count": null,
      "outputs": []
    },
    {
      "cell_type": "code",
      "metadata": {
        "id": "5VYelM-xHq3W",
        "colab": {
          "base_uri": "https://localhost:8080/",
          "height": 153
        },
        "outputId": "e1aa601f-c087-435d-b94f-c67bba3b86a6"
      },
      "source": [
        "corpus_processado[0]"
      ],
      "execution_count": null,
      "outputs": [
        {
          "output_type": "execute_result",
          "data": {
            "text/plain": [
              "['belo',\n",
              " 'horizonte',\n",
              " 'municipio',\n",
              " 'brasileiro',\n",
              " 'capital',\n",
              " 'estado',\n",
              " 'minas',\n",
              " 'gerais']"
            ]
          },
          "metadata": {
            "tags": []
          },
          "execution_count": 14
        }
      ]
    },
    {
      "cell_type": "code",
      "metadata": {
        "id": "O-yuV07VHNbU",
        "colab": {
          "base_uri": "https://localhost:8080/",
          "height": 119
        },
        "outputId": "695c044d-6bd4-4f21-b794-bfe2694d90eb"
      },
      "source": [
        "bigram_corpus[0]"
      ],
      "execution_count": null,
      "outputs": [
        {
          "output_type": "execute_result",
          "data": {
            "text/plain": [
              "['belo_horizonte',\n",
              " 'municipio',\n",
              " 'brasileiro',\n",
              " 'capital',\n",
              " 'estado',\n",
              " 'minas_gerais']"
            ]
          },
          "metadata": {
            "tags": []
          },
          "execution_count": 15
        }
      ]
    },
    {
      "cell_type": "code",
      "metadata": {
        "id": "rV62ZWw9HXWu",
        "colab": {
          "base_uri": "https://localhost:8080/",
          "height": 207
        },
        "outputId": "000fea63-5624-4537-cece-2767b08b4038"
      },
      "source": [
        "for i in range(0, len(bigram_corpus)):\n",
        "  print(\"Doc \", i)\n",
        "  print(bigram_corpus[i])"
      ],
      "execution_count": null,
      "outputs": [
        {
          "output_type": "stream",
          "text": [
            "Doc  0\n",
            "['belo_horizonte', 'municipio', 'brasileiro', 'capital', 'estado', 'minas_gerais']\n",
            "Doc  1\n",
            "['populacao', 'belo_horizonte', 'estimada', 'habitantes', 'conforme', 'estimativas', 'instituto', 'brasileiro', 'geografia', 'estatistica']\n",
            "Doc  2\n",
            "['belo_horizonte', 'indicada', 'population', 'crisis', 'commitee', 'onu', 'metropole', 'melhor', 'qualidade', 'vida', 'america', 'latina']\n",
            "Doc  3\n",
            "['belo_horizonte', 'mundialmente', 'conhecida', 'exerce', 'significativa', 'influencia', 'nacional', 'internacional', 'ponto', 'vista', 'cultural', 'economico', 'politico']\n",
            "Doc  4\n",
            "['belo_horizonte', 'capital', 'segundo', 'estado', 'populoso', 'brasil', 'minas_gerais']\n"
          ],
          "name": "stdout"
        }
      ]
    },
    {
      "cell_type": "markdown",
      "metadata": {
        "id": "3dkEkQKfMdSV"
      },
      "source": [
        "## TD-IDF\n",
        "\n",
        "Dica de leitura: https://kavita-ganesan.com/tfidftransformer-tfidfvectorizer-usage-differences/#.XklQxnVKj7c\n",
        "\n",
        "Para representar o texto com TF-IDF utilizamos o TfidfVectorizer. A seguir apresentamos instruções sobre como utilizá-lo.\n",
        "\n",
        "```python\n",
        "#primeiro criamos o objeto\n",
        "vect = TfidfVectorizer()\n",
        "vect #aqui você pode observa todos os parâmetros que o objeto possui\n",
        "## Existem alguns parâmetros, opcionais, que podemos informar para uma possível melhora do nosso modelo. Por exemplo:\n",
        "### inclui 1-grams e 2-grams\n",
        "vect.set_params(ngram_range=(1, 2))\n",
        "### ignora termos que a aparecem em mais de 50% dos documentoss\n",
        "vect.set_params(max_df=0.5)\n",
        "### só considero termos que aparecem em ao menos 2 documentos\n",
        "vect.set_params(min_df=2)\n",
        "\n",
        "#depois aplicamos fit_transform para transformar o texto em números\n",
        "docs_tdidf = vect.fit_transform(docs)\n",
        "\n",
        "#o docs_tdidf é uma matriz com os números que representam cada um dos textos. \n",
        "## Conseguimos verificar a dimensão desta matriz:\n",
        "print(docs_tdidf.shape)\n",
        "\n",
        "#Para visualizar as features capturadas pelo TF-IDF utilize:\n",
        "print(vect.get_feature_names())\n",
        "#Para visualizar os vetores correspondentes a cada palavara utilize:\n",
        "df = pd.DataFrame(docs_tdidf.T.todense(), index=vect.get_feature_names(), columns=[\"doc\"+str(i+1) for i in range(0,len(docs))])\n",
        "df\n",
        "```"
      ]
    },
    {
      "cell_type": "markdown",
      "metadata": {
        "id": "Dg-1V2EMMdSW"
      },
      "source": [
        "<b> Atividade: </b>\n",
        "\n",
        "4) Faça o TDIFTVectorizer nos documentos da variável <b>documentos</b> sem alterar nenhum parâmetro. "
      ]
    },
    {
      "cell_type": "code",
      "metadata": {
        "id": "8Vm-I90-MdSX",
        "colab": {
          "base_uri": "https://localhost:8080/",
          "height": 136
        },
        "outputId": "4c80f96a-f718-4e21-a5bf-28f9bfbc21a2"
      },
      "source": [
        "vect = TfidfVectorizer()\n",
        "### inclui 1-grams e 2-grams\n",
        "vect.set_params(ngram_range=(1, 2))\n",
        "### ignora termos que a aparecem em mais de 50% dos documentoss\n",
        "vect.set_params(max_df=0.5)\n",
        "### só considero termos que aparecem em ao menos 2 documentos\n",
        "vect.set_params(min_df=2)\n",
        "vect"
      ],
      "execution_count": null,
      "outputs": [
        {
          "output_type": "execute_result",
          "data": {
            "text/plain": [
              "TfidfVectorizer(analyzer='word', binary=False, decode_error='strict',\n",
              "                dtype=<class 'numpy.float64'>, encoding='utf-8',\n",
              "                input='content', lowercase=True, max_df=0.5, max_features=None,\n",
              "                min_df=2, ngram_range=(1, 2), norm='l2', preprocessor=None,\n",
              "                smooth_idf=True, stop_words=None, strip_accents=None,\n",
              "                sublinear_tf=False, token_pattern='(?u)\\\\b\\\\w\\\\w+\\\\b',\n",
              "                tokenizer=None, use_idf=True, vocabulary=None)"
            ]
          },
          "metadata": {
            "tags": []
          },
          "execution_count": 17
        }
      ]
    },
    {
      "cell_type": "code",
      "metadata": {
        "id": "jrzkj9E7JiXQ"
      },
      "source": [
        "docs_tdidf = vect.fit_transform(documentos)"
      ],
      "execution_count": null,
      "outputs": []
    },
    {
      "cell_type": "markdown",
      "metadata": {
        "id": "FPhXjtJrMdSb"
      },
      "source": [
        "<b> Atividade </b>\n",
        "\n",
        "5) Imprima o shape do resultado da atividade 4"
      ]
    },
    {
      "cell_type": "code",
      "metadata": {
        "id": "o0WCCZiHMdSc",
        "colab": {
          "base_uri": "https://localhost:8080/",
          "height": 34
        },
        "outputId": "7dcbdbc8-f8ea-4924-d0c6-2f0c174d1828"
      },
      "source": [
        "docs_tdidf.shape"
      ],
      "execution_count": null,
      "outputs": [
        {
          "output_type": "execute_result",
          "data": {
            "text/plain": [
              "(5, 7)"
            ]
          },
          "metadata": {
            "tags": []
          },
          "execution_count": 19
        }
      ]
    },
    {
      "cell_type": "markdown",
      "metadata": {
        "id": "ehM671wqMdSl"
      },
      "source": [
        "<b> Atividade </b>\n",
        "\n",
        "6) Imprima as features capturadas em 4."
      ]
    },
    {
      "cell_type": "code",
      "metadata": {
        "id": "Ha-ihpYsMdSm",
        "colab": {
          "base_uri": "https://localhost:8080/",
          "height": 136
        },
        "outputId": "c69bf071-0ea2-4e65-cd95-8b161df83b16"
      },
      "source": [
        "vect.get_feature_names()"
      ],
      "execution_count": null,
      "outputs": [
        {
          "output_type": "execute_result",
          "data": {
            "text/plain": [
              "['brasileiro',\n",
              " 'capital',\n",
              " 'capital do',\n",
              " 'estado',\n",
              " 'gerais',\n",
              " 'minas',\n",
              " 'minas gerais']"
            ]
          },
          "metadata": {
            "tags": []
          },
          "execution_count": 20
        }
      ]
    },
    {
      "cell_type": "markdown",
      "metadata": {
        "id": "jWP94inzMdSs"
      },
      "source": [
        "7) Imprima os vetores correspondentes a cada palavra de cada documento."
      ]
    },
    {
      "cell_type": "code",
      "metadata": {
        "id": "bfRhYkaNMdSt",
        "colab": {
          "base_uri": "https://localhost:8080/",
          "height": 187
        },
        "outputId": "af544b72-43e5-4986-e706-7c06dbee08ae"
      },
      "source": [
        "docs_tdidf.todense()"
      ],
      "execution_count": null,
      "outputs": [
        {
          "output_type": "execute_result",
          "data": {
            "text/plain": [
              "matrix([[0.37796447, 0.37796447, 0.37796447, 0.37796447, 0.37796447,\n",
              "         0.37796447, 0.37796447],\n",
              "        [1.        , 0.        , 0.        , 0.        , 0.        ,\n",
              "         0.        , 0.        ],\n",
              "        [0.        , 0.        , 0.        , 0.        , 0.        ,\n",
              "         0.        , 0.        ],\n",
              "        [0.        , 0.        , 0.        , 0.        , 0.        ,\n",
              "         0.        , 0.        ],\n",
              "        [0.        , 0.40824829, 0.40824829, 0.40824829, 0.40824829,\n",
              "         0.40824829, 0.40824829]])"
            ]
          },
          "metadata": {
            "tags": []
          },
          "execution_count": 21
        }
      ]
    },
    {
      "cell_type": "markdown",
      "metadata": {
        "id": "j7v_tpXQMdSz"
      },
      "source": [
        "<b> Atividade </b>\n",
        "\n",
        "8) Depois repita os itens 4,5,6 e 7 aplicando a alteração de parâmetros"
      ]
    },
    {
      "cell_type": "code",
      "metadata": {
        "id": "GkSNRRgMMdS0",
        "colab": {
          "base_uri": "https://localhost:8080/",
          "height": 136
        },
        "outputId": "69f74daa-0b8e-4e20-84f5-0775b84af3a3"
      },
      "source": [
        "vect = TfidfVectorizer()\n",
        "### inclui 1-grams e 2-grams\n",
        "vect.set_params(ngram_range=(2,3))\n",
        "### ignora termos que a aparecem em mais de 50% dos documentoss\n",
        "vect.set_params(max_df=0.6)\n",
        "### só considero termos que aparecem em ao menos 2 documentos\n",
        "vect.set_params(min_df=2)\n",
        "vect"
      ],
      "execution_count": null,
      "outputs": [
        {
          "output_type": "execute_result",
          "data": {
            "text/plain": [
              "TfidfVectorizer(analyzer='word', binary=False, decode_error='strict',\n",
              "                dtype=<class 'numpy.float64'>, encoding='utf-8',\n",
              "                input='content', lowercase=True, max_df=0.6, max_features=None,\n",
              "                min_df=2, ngram_range=(2, 3), norm='l2', preprocessor=None,\n",
              "                smooth_idf=True, stop_words=None, strip_accents=None,\n",
              "                sublinear_tf=False, token_pattern='(?u)\\\\b\\\\w\\\\w+\\\\b',\n",
              "                tokenizer=None, use_idf=True, vocabulary=None)"
            ]
          },
          "metadata": {
            "tags": []
          },
          "execution_count": 22
        }
      ]
    },
    {
      "cell_type": "code",
      "metadata": {
        "id": "m_TFDduTM6B4"
      },
      "source": [
        "docs_tdidf = vect.fit_transform(documentos)"
      ],
      "execution_count": null,
      "outputs": []
    },
    {
      "cell_type": "code",
      "metadata": {
        "id": "iSMpr-ejL4-C",
        "colab": {
          "base_uri": "https://localhost:8080/",
          "height": 34
        },
        "outputId": "70dfbd18-d75a-416a-ec73-5122c2b3cf4c"
      },
      "source": [
        "docs_tdidf.shape"
      ],
      "execution_count": null,
      "outputs": [
        {
          "output_type": "execute_result",
          "data": {
            "text/plain": [
              "(5, 2)"
            ]
          },
          "metadata": {
            "tags": []
          },
          "execution_count": 24
        }
      ]
    },
    {
      "cell_type": "code",
      "metadata": {
        "id": "m7AGvMCtMGto",
        "colab": {
          "base_uri": "https://localhost:8080/",
          "height": 34
        },
        "outputId": "32e3e1dd-2c23-4743-c600-3f11076ce1f6"
      },
      "source": [
        "vect.get_feature_names()"
      ],
      "execution_count": null,
      "outputs": [
        {
          "output_type": "execute_result",
          "data": {
            "text/plain": [
              "['capital do', 'minas gerais']"
            ]
          },
          "metadata": {
            "tags": []
          },
          "execution_count": 25
        }
      ]
    },
    {
      "cell_type": "code",
      "metadata": {
        "id": "IbZb2ehLMHDI",
        "colab": {
          "base_uri": "https://localhost:8080/",
          "height": 102
        },
        "outputId": "dbafff66-29b0-42f4-e105-4480339dac62"
      },
      "source": [
        "docs_tdidf.todense()"
      ],
      "execution_count": null,
      "outputs": [
        {
          "output_type": "execute_result",
          "data": {
            "text/plain": [
              "matrix([[0.70710678, 0.70710678],\n",
              "        [0.        , 0.        ],\n",
              "        [0.        , 0.        ],\n",
              "        [0.        , 0.        ],\n",
              "        [0.70710678, 0.70710678]])"
            ]
          },
          "metadata": {
            "tags": []
          },
          "execution_count": 26
        }
      ]
    },
    {
      "cell_type": "markdown",
      "metadata": {
        "id": "ZYVBV8zpMdS4"
      },
      "source": [
        "## Bag of Words\n",
        "\n",
        "Para representar o bag of words utilizamos o CountVectorizer\n",
        "\n",
        "```python\n",
        "#primeiro criamos o objeto\n",
        "vect_bag = CountVectorizer(binary=True) #se binary = False -> ocorre a contagem da frequência em que a palavra aparece\n",
        "vect_bag #imprime os parâmetros\n",
        "\n",
        "```\n",
        "\n",
        "<b> Atividade </b>\n",
        "\n",
        "9) Faça o CountVectorizer nos documentos da variável <b>documentos</b> considerando binary = True"
      ]
    },
    {
      "cell_type": "code",
      "metadata": {
        "id": "vlF5c5oQMdS5",
        "colab": {
          "base_uri": "https://localhost:8080/",
          "height": 119
        },
        "outputId": "dfd99193-e38d-4f66-946b-9d3dbd72eb7b"
      },
      "source": [
        "# primeiro criamos o objeto\n",
        "vect_bag = CountVectorizer(binary=True) #se binary = False -> ocorre a contagem da frequência em que a palavra aparece\n",
        "vect_bag #imprime os parâmetros"
      ],
      "execution_count": null,
      "outputs": [
        {
          "output_type": "execute_result",
          "data": {
            "text/plain": [
              "CountVectorizer(analyzer='word', binary=True, decode_error='strict',\n",
              "                dtype=<class 'numpy.int64'>, encoding='utf-8', input='content',\n",
              "                lowercase=True, max_df=1.0, max_features=None, min_df=1,\n",
              "                ngram_range=(1, 1), preprocessor=None, stop_words=None,\n",
              "                strip_accents=None, token_pattern='(?u)\\\\b\\\\w\\\\w+\\\\b',\n",
              "                tokenizer=None, vocabulary=None)"
            ]
          },
          "metadata": {
            "tags": []
          },
          "execution_count": 27
        }
      ]
    },
    {
      "cell_type": "markdown",
      "metadata": {
        "id": "y8RCW0fFMdS9"
      },
      "source": [
        "<b> Atividade </b>\n",
        "\n",
        "10) Imprima o índice correspondente a cada token da lista retornada por vect_bag.get_feature_names()"
      ]
    },
    {
      "cell_type": "code",
      "metadata": {
        "id": "Xgb9Ar5KMdS-"
      },
      "source": [
        "docs_bow= vect_bag.fit_transform(documentos)"
      ],
      "execution_count": null,
      "outputs": []
    },
    {
      "cell_type": "code",
      "metadata": {
        "id": "sY1xx3GoNxij",
        "colab": {
          "base_uri": "https://localhost:8080/",
          "height": 51
        },
        "outputId": "f9f75d8b-8070-4a75-8b9b-d3be141e6288"
      },
      "source": [
        "docs_bow"
      ],
      "execution_count": null,
      "outputs": [
        {
          "output_type": "execute_result",
          "data": {
            "text/plain": [
              "<5x59 sparse matrix of type '<class 'numpy.int64'>'\n",
              "\twith 78 stored elements in Compressed Sparse Row format>"
            ]
          },
          "metadata": {
            "tags": []
          },
          "execution_count": 29
        }
      ]
    },
    {
      "cell_type": "code",
      "metadata": {
        "id": "kJSZc6TPOTdU",
        "colab": {
          "base_uri": "https://localhost:8080/",
          "height": 1000
        },
        "outputId": "b9c171f8-49a9-4845-afa1-1eb941bdfc98"
      },
      "source": [
        "vect_bag.get_feature_names()"
      ],
      "execution_count": null,
      "outputs": [
        {
          "output_type": "execute_result",
          "data": {
            "text/plain": [
              "['501',\n",
              " '576',\n",
              " 'américa',\n",
              " 'até',\n",
              " 'belo',\n",
              " 'brasil',\n",
              " 'brasileiro',\n",
              " 'capital',\n",
              " 'com',\n",
              " 'commitee',\n",
              " 'como',\n",
              " 'conforme',\n",
              " 'conhecida',\n",
              " 'crisis',\n",
              " 'cultural',\n",
              " 'da',\n",
              " 'de',\n",
              " 'do',\n",
              " 'econômico',\n",
              " 'em',\n",
              " 'estado',\n",
              " 'estatística',\n",
              " 'estimada',\n",
              " 'estimativas',\n",
              " 'exerce',\n",
              " 'foi',\n",
              " 'geografia',\n",
              " 'gerais',\n",
              " 'habitantes',\n",
              " 'horizonte',\n",
              " 'indicada',\n",
              " 'influência',\n",
              " 'instituto',\n",
              " 'internacional',\n",
              " 'já',\n",
              " 'latina',\n",
              " 'mais',\n",
              " 'melhor',\n",
              " 'metrópole',\n",
              " 'minas',\n",
              " 'mundialmente',\n",
              " 'município',\n",
              " 'na',\n",
              " 'nacional',\n",
              " 'onu',\n",
              " 'ou',\n",
              " 'pelo',\n",
              " 'político',\n",
              " 'ponto',\n",
              " 'populacao',\n",
              " 'population',\n",
              " 'populoso',\n",
              " 'qualidade',\n",
              " 'segundo',\n",
              " 'seja',\n",
              " 'significativa',\n",
              " 'um',\n",
              " 'vida',\n",
              " 'vista']"
            ]
          },
          "metadata": {
            "tags": []
          },
          "execution_count": 30
        }
      ]
    },
    {
      "cell_type": "markdown",
      "metadata": {
        "id": "FkBJFIWVMdTC"
      },
      "source": [
        "<b> Atividade </b>\n",
        "\n",
        "11) Observe cada palavra do primeiro documento da vairável documents (documents[0]) e o vetor retornado para este mesmo documento \n",
        "(docs_bag.todense()[0]).\n",
        "\n",
        "Com o resultado da célula anterior, check se as posições preenchidas com '1' são as posições que representam cada uma das palavras do docs[0].\n",
        "Observe que é o bag of Words que vimos em sala."
      ]
    },
    {
      "cell_type": "code",
      "metadata": {
        "id": "6keplN3WOrX-"
      },
      "source": [
        ""
      ],
      "execution_count": null,
      "outputs": []
    },
    {
      "cell_type": "code",
      "metadata": {
        "id": "C-Fo9ROUMdTC",
        "colab": {
          "base_uri": "https://localhost:8080/",
          "height": 68
        },
        "outputId": "ddbe686f-a625-49c5-e640-d5e5eb5aeac8"
      },
      "source": [
        "docs_bow.todense()[0]"
      ],
      "execution_count": null,
      "outputs": [
        {
          "output_type": "execute_result",
          "data": {
            "text/plain": [
              "matrix([[0, 0, 0, 0, 1, 0, 1, 1, 0, 0, 0, 0, 0, 0, 0, 0, 1, 1, 0, 0, 1,\n",
              "         0, 0, 0, 0, 0, 0, 1, 0, 1, 0, 0, 0, 0, 0, 0, 0, 0, 0, 1, 0, 1,\n",
              "         0, 0, 0, 0, 0, 0, 0, 0, 0, 0, 0, 0, 0, 0, 1, 0, 0]])"
            ]
          },
          "metadata": {
            "tags": []
          },
          "execution_count": 31
        }
      ]
    },
    {
      "cell_type": "code",
      "metadata": {
        "id": "4nl27KO7MdTH",
        "colab": {
          "base_uri": "https://localhost:8080/",
          "height": 272
        },
        "outputId": "ff7d8eda-799f-4be8-bcd3-755ad4bc3f92"
      },
      "source": [
        "docs_bow.todense()"
      ],
      "execution_count": null,
      "outputs": [
        {
          "output_type": "execute_result",
          "data": {
            "text/plain": [
              "matrix([[0, 0, 0, 0, 1, 0, 1, 1, 0, 0, 0, 0, 0, 0, 0, 0, 1, 1, 0, 0, 1,\n",
              "         0, 0, 0, 0, 0, 0, 1, 0, 1, 0, 0, 0, 0, 0, 0, 0, 0, 0, 1, 0, 1,\n",
              "         0, 0, 0, 0, 0, 0, 0, 0, 0, 0, 0, 0, 0, 0, 1, 0, 0],\n",
              "        [1, 1, 0, 0, 1, 0, 1, 0, 0, 0, 0, 1, 0, 0, 0, 0, 1, 1, 0, 1, 0,\n",
              "         1, 1, 1, 0, 0, 1, 0, 1, 1, 0, 0, 1, 0, 0, 0, 0, 0, 0, 0, 0, 0,\n",
              "         0, 0, 0, 0, 0, 0, 0, 1, 0, 0, 0, 0, 0, 0, 0, 0, 0],\n",
              "        [0, 0, 1, 0, 1, 0, 0, 0, 1, 1, 1, 0, 0, 1, 0, 1, 1, 0, 0, 0, 0,\n",
              "         0, 0, 0, 0, 1, 0, 0, 0, 1, 1, 0, 0, 0, 1, 1, 0, 1, 1, 0, 0, 0,\n",
              "         1, 0, 1, 0, 1, 0, 0, 0, 1, 0, 1, 0, 0, 0, 0, 1, 0],\n",
              "        [0, 0, 0, 1, 1, 0, 0, 0, 0, 0, 0, 0, 1, 0, 1, 0, 1, 1, 1, 0, 0,\n",
              "         0, 0, 0, 1, 0, 0, 0, 0, 1, 0, 1, 0, 1, 0, 0, 0, 0, 0, 0, 1, 0,\n",
              "         0, 1, 0, 1, 0, 1, 1, 0, 0, 0, 0, 0, 1, 1, 0, 0, 1],\n",
              "        [0, 0, 0, 0, 1, 1, 0, 1, 0, 0, 0, 0, 0, 0, 0, 0, 0, 1, 0, 0, 1,\n",
              "         0, 0, 0, 0, 0, 0, 1, 0, 1, 0, 0, 0, 0, 0, 0, 1, 0, 0, 1, 0, 0,\n",
              "         0, 0, 0, 0, 0, 0, 0, 0, 0, 1, 0, 1, 0, 0, 0, 0, 0]])"
            ]
          },
          "metadata": {
            "tags": []
          },
          "execution_count": 32
        }
      ]
    },
    {
      "cell_type": "markdown",
      "metadata": {
        "id": "_Wx3V_9HMdTL"
      },
      "source": [
        "## Embedding"
      ]
    },
    {
      "cell_type": "markdown",
      "metadata": {
        "id": "8bmLhE4pMdTM"
      },
      "source": [
        "### Utilizando um embedding treinado"
      ]
    },
    {
      "cell_type": "markdown",
      "metadata": {
        "id": "aKHhYZqnMdTN"
      },
      "source": [
        "<b> Atividade </b>\n",
        "\n",
        "12) Faça download do seguinte arquivo, realize a leitura deste arquivo e carregue o modelo: \n",
        "https://drive.google.com/open?id=1zI8pGfbUHuU_0wY_FV4tD6w6ZCUJTQbh\n",
        "\n",
        "\n",
        "O código abaixo é um exmplo de como ler o arquivo que você fez download.\n",
        "\n",
        "```python\n",
        "newfilepath = \"embedding_wiki_100d_pt.txt\"\n",
        "filepath = \"ptwiki_20180420_100d.txt.bz2\"\n",
        "with open(newfilepath, 'wb') as new_file, bz2.BZ2File(filepath, 'rb') as file:\n",
        "    for data in iter(lambda : file.read(100 * 1024), b''):\n",
        "        new_file.write(data)\n",
        "        \n",
        "#carregar\n",
        "word_vectors = gensim.models.KeyedVectors.load_word2vec_format(newfilepath, binary=False)\n",
        "```\n",
        "\n",
        "<b> Dica </b> Use %%time para capturar o tempo de execução em cada célula."
      ]
    },
    {
      "cell_type": "code",
      "metadata": {
        "id": "nhAKItza_9w_",
        "colab": {
          "base_uri": "https://localhost:8080/",
          "height": 122
        },
        "outputId": "ffa1a060-dc3b-471d-871b-f8f6ab155d01"
      },
      "source": [
        "from google.colab import drive\n",
        "drive.mount('/content/drive')"
      ],
      "execution_count": null,
      "outputs": [
        {
          "output_type": "stream",
          "text": [
            "Go to this URL in a browser: https://accounts.google.com/o/oauth2/auth?client_id=947318989803-6bn6qk8qdgf4n4g3pfee6491hc0brc4i.apps.googleusercontent.com&redirect_uri=urn%3aietf%3awg%3aoauth%3a2.0%3aoob&response_type=code&scope=email%20https%3a%2f%2fwww.googleapis.com%2fauth%2fdocs.test%20https%3a%2f%2fwww.googleapis.com%2fauth%2fdrive%20https%3a%2f%2fwww.googleapis.com%2fauth%2fdrive.photos.readonly%20https%3a%2f%2fwww.googleapis.com%2fauth%2fpeopleapi.readonly\n",
            "\n",
            "Enter your authorization code:\n",
            "··········\n",
            "Mounted at /content/drive\n"
          ],
          "name": "stdout"
        }
      ]
    },
    {
      "cell_type": "code",
      "metadata": {
        "id": "F8dWUdBW_9Iz"
      },
      "source": [
        "newfilepath = \"/content/drive/My Drive/embedding_wiki_100d_pt.txt\"\n",
        "filepath = \"/content/drive/My Drive/ptwiki_20180420_100d.txt.bz2\"\n",
        "with open(newfilepath, 'wb') as new_file, bz2.BZ2File(filepath, 'rb') as file:\n",
        "    for data in iter(lambda : file.read(100 * 1024), b''):\n",
        "        new_file.write(data)\n",
        "\n",
        "# carregar\n",
        "word_vectors = gensim.models.KeyedVectors.load_word2vec_format(newfilepath, binary=False)"
      ],
      "execution_count": null,
      "outputs": []
    },
    {
      "cell_type": "code",
      "metadata": {
        "id": "Gy98mmebUbxT"
      },
      "source": [
        "word_vectors.wv.vocab"
      ],
      "execution_count": null,
      "outputs": []
    },
    {
      "cell_type": "code",
      "metadata": {
        "id": "305CjrwVUg-t",
        "colab": {
          "base_uri": "https://localhost:8080/",
          "height": 34
        },
        "outputId": "50844af6-93fc-4c69-8ee0-fc78f9a4ff3a"
      },
      "source": [
        "len(word_vectors.wv.vocab)"
      ],
      "execution_count": null,
      "outputs": [
        {
          "output_type": "execute_result",
          "data": {
            "text/plain": [
              "1055544"
            ]
          },
          "metadata": {
            "tags": []
          },
          "execution_count": 36
        }
      ]
    },
    {
      "cell_type": "markdown",
      "metadata": {
        "id": "xMCKo6ISMdTV"
      },
      "source": [
        "<b> Atividade </b>\n",
        "\n",
        "13) Imprima os vetores das palavras \"nlp\" e \"computacao\"\n",
        "\n",
        "```python\n",
        "#exemplo de retorno do vetor\n",
        "word_vectors[__]\n",
        "```"
      ]
    },
    {
      "cell_type": "code",
      "metadata": {
        "id": "gR0QZQmbMdTW",
        "colab": {
          "base_uri": "https://localhost:8080/",
          "height": 272
        },
        "outputId": "4322e34b-35f7-46d5-d59a-0340a4f61b9d"
      },
      "source": [
        "word_vectors[\"npl\"]"
      ],
      "execution_count": null,
      "outputs": [
        {
          "output_type": "execute_result",
          "data": {
            "text/plain": [
              "array([ 0.6659,  0.5119, -0.0152, -0.3437,  0.3897, -0.2281, -0.3457,\n",
              "       -0.369 , -0.063 ,  0.6527, -0.3391, -0.4539, -0.2778,  0.0862,\n",
              "        0.4217,  0.1291,  0.3754, -0.3961,  0.1515, -0.0197, -0.1135,\n",
              "       -0.1617, -0.2065, -0.0643,  0.4104, -0.0056,  0.5136, -0.0943,\n",
              "        0.1373,  0.3964,  0.2894, -0.5138,  0.0154,  0.9057, -0.8594,\n",
              "       -0.7475,  0.2306, -0.1922,  0.548 , -0.5278, -0.159 ,  0.2822,\n",
              "       -0.4197, -0.1271,  0.0411,  0.0116,  0.2135, -0.1349, -0.2138,\n",
              "        0.507 ,  0.366 ,  0.0086, -0.5621,  0.1909,  0.1788,  0.0678,\n",
              "       -0.2315, -0.3827, -0.0523, -0.2665,  0.1004, -0.3617, -0.6702,\n",
              "       -0.0022, -0.1074, -0.162 , -0.4893,  0.2383, -0.1643, -0.3104,\n",
              "        0.0037,  0.0143,  0.0671, -0.8334, -0.0248, -0.26  , -0.1936,\n",
              "       -0.0664,  0.442 ,  0.2454, -0.0658, -0.1363, -0.3748, -0.2374,\n",
              "       -0.259 ,  0.3742,  0.3004, -0.5761, -0.0758,  0.0276,  0.1911,\n",
              "        0.0914, -0.0872, -0.0447,  0.2659, -0.3028, -0.3364, -0.3497,\n",
              "        0.3734,  0.1227], dtype=float32)"
            ]
          },
          "metadata": {
            "tags": []
          },
          "execution_count": 37
        }
      ]
    },
    {
      "cell_type": "code",
      "metadata": {
        "id": "Oat4LJ74U46G",
        "colab": {
          "base_uri": "https://localhost:8080/",
          "height": 272
        },
        "outputId": "2700b393-e606-42ad-83cd-143aaca8d2f0"
      },
      "source": [
        "word_vectors[\"computacao\"]"
      ],
      "execution_count": null,
      "outputs": [
        {
          "output_type": "execute_result",
          "data": {
            "text/plain": [
              "array([ 0.5076, -0.2598,  0.0993,  0.1021, -0.2076, -0.2745,  0.0104,\n",
              "        0.0107,  0.0151,  0.2485, -0.2933,  0.1184, -0.4087, -0.0381,\n",
              "        0.0528, -0.2312,  0.1387,  0.1144,  0.0291,  0.164 , -0.0941,\n",
              "        0.1045, -0.1874,  0.0116,  0.1133, -0.11  , -0.0607,  0.047 ,\n",
              "       -0.0259,  0.4073,  0.1337, -0.3197,  0.0559,  0.2985, -0.0571,\n",
              "       -0.2967,  0.0675,  0.1016,  0.4049, -0.347 ,  0.1782, -0.2004,\n",
              "       -0.1565, -0.0758,  0.3695,  0.0918, -0.0197, -0.4832, -0.5214,\n",
              "        0.124 ,  0.3514,  0.1103,  0.0646, -0.0722,  0.2532, -0.0997,\n",
              "       -0.0581, -0.0238, -0.164 , -0.0828,  0.5997, -0.1605,  0.0169,\n",
              "        0.3451,  0.3026, -0.0841, -0.1699,  0.2674,  0.0184, -0.1471,\n",
              "       -0.218 , -0.0565, -0.1998, -0.3754, -0.1754,  0.1689, -0.2062,\n",
              "        0.2613,  0.1208, -0.217 ,  0.1932, -0.3372, -0.119 , -0.1323,\n",
              "       -0.4022,  0.0883,  0.1728, -0.2999, -0.0619,  0.3041,  0.1596,\n",
              "       -0.2037,  0.1473, -0.0561,  0.1435, -0.0683, -0.2464, -0.0562,\n",
              "        0.0109,  0.0419], dtype=float32)"
            ]
          },
          "metadata": {
            "tags": []
          },
          "execution_count": 38
        }
      ]
    },
    {
      "cell_type": "markdown",
      "metadata": {
        "id": "1yszDZi2MdTb"
      },
      "source": [
        "<b> Similaridade de Vetores </b> \n",
        "\n",
        "No gensim é possível realizar a similaridade utilizando o seguinte método:\n",
        "\n",
        "```python\n",
        "word_vectors.most_similar(___)\n",
        "```\n",
        "\n",
        "<b> Atividade </b>\n",
        "\n",
        "14) Verifique a similaridade das seguintes palavras: elizabete, raiva, segunda, dois, computação."
      ]
    },
    {
      "cell_type": "code",
      "metadata": {
        "id": "umskr0jYMdTb",
        "colab": {
          "base_uri": "https://localhost:8080/",
          "height": 187
        },
        "outputId": "6c3a993e-09c5-479a-a542-62b6105c6272"
      },
      "source": [
        "word_vectors.most_similar(\"maria\")"
      ],
      "execution_count": null,
      "outputs": [
        {
          "output_type": "execute_result",
          "data": {
            "text/plain": [
              "[('teresa', 0.9112114906311035),\n",
              " ('ana', 0.882124125957489),\n",
              " ('francisca', 0.8719291687011719),\n",
              " ('amélia', 0.8676352500915527),\n",
              " ('isabel', 0.861691951751709),\n",
              " ('cristina', 0.8612221479415894),\n",
              " ('benedita', 0.8503609895706177),\n",
              " ('ignácia', 0.8415696620941162),\n",
              " ('possidônia', 0.8404463529586792),\n",
              " ('luísa', 0.8373240232467651)]"
            ]
          },
          "metadata": {
            "tags": []
          },
          "execution_count": 39
        }
      ]
    },
    {
      "cell_type": "code",
      "metadata": {
        "id": "pXavRUBgVYsH",
        "colab": {
          "base_uri": "https://localhost:8080/",
          "height": 187
        },
        "outputId": "5a2fd4c2-5aca-434b-c5be-1547372599ce"
      },
      "source": [
        "word_vectors.most_similar(\"sonia\")"
      ],
      "execution_count": null,
      "outputs": [
        {
          "output_type": "execute_result",
          "data": {
            "text/plain": [
              "[('nina', 0.8018407821655273),\n",
              " ('adriana', 0.7894359827041626),\n",
              " ('patricia', 0.7888399362564087),\n",
              " ('sandra', 0.7887262105941772),\n",
              " ('cynthia', 0.7850594520568848),\n",
              " ('raquel', 0.78312748670578),\n",
              " ('tania', 0.7758930921554565),\n",
              " ('sheila', 0.7755793929100037),\n",
              " ('natalia', 0.7728093266487122),\n",
              " ('silvia', 0.7710472941398621)]"
            ]
          },
          "metadata": {
            "tags": []
          },
          "execution_count": 40
        }
      ]
    },
    {
      "cell_type": "code",
      "metadata": {
        "id": "1bnYicE4Vds3",
        "colab": {
          "base_uri": "https://localhost:8080/",
          "height": 187
        },
        "outputId": "ffbe1971-cfa1-40a9-a4cf-4d85bd021624"
      },
      "source": [
        "word_vectors.most_similar(\"raiva\")"
      ],
      "execution_count": null,
      "outputs": [
        {
          "output_type": "execute_result",
          "data": {
            "text/plain": [
              "[('medo', 0.8303433656692505),\n",
              " ('frustração', 0.8079831600189209),\n",
              " ('desespero', 0.8039345741271973),\n",
              " ('tristeza', 0.800615668296814),\n",
              " ('remorso', 0.7922823429107666),\n",
              " ('desgosto', 0.7901228666305542),\n",
              " ('inveja', 0.781806468963623),\n",
              " ('ciúmes', 0.7798185348510742),\n",
              " ('ódio', 0.776374101638794),\n",
              " ('repugnância', 0.7657582759857178)]"
            ]
          },
          "metadata": {
            "tags": []
          },
          "execution_count": 41
        }
      ]
    },
    {
      "cell_type": "code",
      "metadata": {
        "id": "F9nvy12cVncl",
        "colab": {
          "base_uri": "https://localhost:8080/",
          "height": 187
        },
        "outputId": "882c17fd-8137-462a-b9db-5adc735b4b1b"
      },
      "source": [
        "word_vectors.most_similar(\"amor\")"
      ],
      "execution_count": null,
      "outputs": [
        {
          "output_type": "execute_result",
          "data": {
            "text/plain": [
              "[('amar', 0.7834151387214661),\n",
              " ('encanto', 0.770285964012146),\n",
              " ('ciúme', 0.766516923904419),\n",
              " ('desatino', 0.760523796081543),\n",
              " ('felicidade', 0.7539675235748291),\n",
              " ('φιλία', 0.7527710795402527),\n",
              " ('desamor', 0.7506928443908691),\n",
              " ('enamoramento', 0.7480054497718811),\n",
              " ('ódio', 0.747761607170105),\n",
              " ('ternura', 0.7475244998931885)]"
            ]
          },
          "metadata": {
            "tags": []
          },
          "execution_count": 42
        }
      ]
    },
    {
      "cell_type": "code",
      "metadata": {
        "id": "Z4HVAZ-oVqkO",
        "colab": {
          "base_uri": "https://localhost:8080/",
          "height": 187
        },
        "outputId": "55e2af74-04f0-4f84-9c2f-a4e0eaacd310"
      },
      "source": [
        "word_vectors.most_similar(\"segunda\")"
      ],
      "execution_count": null,
      "outputs": [
        {
          "output_type": "execute_result",
          "data": {
            "text/plain": [
              "[('primeira', 0.8965903520584106),\n",
              " ('quarta', 0.8717238903045654),\n",
              " ('terceira', 0.8408156037330627),\n",
              " ('última', 0.8141331672668457),\n",
              " ('sétima', 0.807178258895874),\n",
              " ('sexta', 0.7998778820037842),\n",
              " ('décima', 0.7983245849609375),\n",
              " ('penúltima', 0.7719092965126038),\n",
              " ('nona', 0.7675511240959167),\n",
              " ('oitava', 0.7670223712921143)]"
            ]
          },
          "metadata": {
            "tags": []
          },
          "execution_count": 43
        }
      ]
    },
    {
      "cell_type": "markdown",
      "metadata": {
        "id": "_KrE-cy5MdTg"
      },
      "source": [
        "<b> Operação Vetorial</b>\n",
        "\n",
        "Na aula teórica, estudamos sobre as operação entre os vetores. \n",
        "Agora vamos ver na prática:\n",
        "\n",
        "```python\n",
        "#exemplo:\n",
        "word_vectors.wv.most_similar(positive=['mulher', 'rei'], negative=['homem'], topn=10)\n",
        "```\n",
        "\n",
        "<b>Atividade</b>\n",
        "\n",
        "15) Execute o exemplo acima em uma célula e repita para os seguintes cenários:\n",
        "\n",
        "- menino, menina, homem\n",
        "- caminhada, andar, correr\n",
        "- filho, filha, irmã\n",
        "- pai, mãe, avô\n",
        "\n",
        "<b> Reflita </b> as palavras similares fazem sentido?"
      ]
    },
    {
      "cell_type": "code",
      "metadata": {
        "id": "PhR-n_V4MdTh",
        "colab": {
          "base_uri": "https://localhost:8080/",
          "height": 187
        },
        "outputId": "fa064b94-5b08-471e-8c93-26250717219e"
      },
      "source": [
        "word_vectors.wv.most_similar(positive=['mulher', 'rei'], negative=['homem'], topn=10)"
      ],
      "execution_count": null,
      "outputs": [
        {
          "output_type": "execute_result",
          "data": {
            "text/plain": [
              "[('rainha', 0.8195168375968933),\n",
              " ('consorte', 0.7614860534667969),\n",
              " ('françae', 0.7443714141845703),\n",
              " ('teticheri', 0.7328507304191589),\n",
              " ('princesa', 0.731076717376709),\n",
              " ('esposa', 0.723304033279419),\n",
              " ('mutemuia', 0.7139754295349121),\n",
              " ('saovabha', 0.7129839658737183),\n",
              " ('coroação', 0.7080511450767517),\n",
              " ('sālote', 0.7042379379272461)]"
            ]
          },
          "metadata": {
            "tags": []
          },
          "execution_count": 44
        }
      ]
    },
    {
      "cell_type": "code",
      "metadata": {
        "id": "tWEMqEm-Vv2p",
        "colab": {
          "base_uri": "https://localhost:8080/",
          "height": 187
        },
        "outputId": "d6bf1daf-bc3d-4d07-e76c-9c1f7926ca2e"
      },
      "source": [
        "word_vectors.wv.most_similar(positive=['menino', 'menina'], negative=['homem'], topn=10)"
      ],
      "execution_count": null,
      "outputs": [
        {
          "output_type": "execute_result",
          "data": {
            "text/plain": [
              "[('garotinha', 0.746025800704956),\n",
              " ('criança', 0.7124738693237305),\n",
              " ('izildinha', 0.6914386749267578),\n",
              " ('garota', 0.6765151619911194),\n",
              " ('órfã', 0.6759505271911621),\n",
              " ('filhinha', 0.6749870777130127),\n",
              " ('avó', 0.6711723804473877),\n",
              " ('babá', 0.6623851656913757),\n",
              " ('irmãzinha', 0.6621854305267334),\n",
              " ('moça', 0.6594897508621216)]"
            ]
          },
          "metadata": {
            "tags": []
          },
          "execution_count": 45
        }
      ]
    },
    {
      "cell_type": "code",
      "metadata": {
        "id": "nGnFL9YTWGDZ",
        "colab": {
          "base_uri": "https://localhost:8080/",
          "height": 187
        },
        "outputId": "7e1936d4-d1ca-4077-eede-cbde6bb42f7d"
      },
      "source": [
        "word_vectors.wv.most_similar(positive=['caminhada', 'andar'], negative=['correr'], topn=10)"
      ],
      "execution_count": null,
      "outputs": [
        {
          "output_type": "execute_result",
          "data": {
            "text/plain": [
              "[('caminhadas', 0.618974506855011),\n",
              " ('pavimento', 0.606018602848053),\n",
              " ('passeio', 0.6024052500724792),\n",
              " ('piquenique', 0.598796546459198),\n",
              " ('sala', 0.5944793224334717),\n",
              " ('terraço', 0.5920617580413818),\n",
              " ('rampa', 0.5885153412818909),\n",
              " ('passarela', 0.5874667167663574),\n",
              " ('climatizada', 0.5863767862319946),\n",
              " ('calçadão', 0.5852184295654297)]"
            ]
          },
          "metadata": {
            "tags": []
          },
          "execution_count": 46
        }
      ]
    },
    {
      "cell_type": "code",
      "metadata": {
        "id": "3AU6s9LdWNjH",
        "colab": {
          "base_uri": "https://localhost:8080/",
          "height": 187
        },
        "outputId": "70a8dcfa-c759-42a1-d51e-501f659626c7"
      },
      "source": [
        "word_vectors.wv.most_similar(positive=['filho', 'filha'], negative=['irmã'], topn=10)"
      ],
      "execution_count": null,
      "outputs": [
        {
          "output_type": "execute_result",
          "data": {
            "text/plain": [
              "[('bisneto', 0.851236879825592),\n",
              " ('neto', 0.8316095471382141),\n",
              " ('primogênito', 0.8290099501609802),\n",
              " ('bisavô', 0.822635293006897),\n",
              " ('sobrinho', 0.8176089525222778),\n",
              " ('avô', 0.816977858543396),\n",
              " ('sogro', 0.8009151220321655),\n",
              " ('pai', 0.799014687538147),\n",
              " ('primogénito', 0.785844624042511),\n",
              " ('genro', 0.7755304574966431)]"
            ]
          },
          "metadata": {
            "tags": []
          },
          "execution_count": 47
        }
      ]
    },
    {
      "cell_type": "code",
      "metadata": {
        "id": "2tHCEqEXWYUo",
        "colab": {
          "base_uri": "https://localhost:8080/",
          "height": 187
        },
        "outputId": "61dda0c4-5ec8-4eab-9de4-2d5efcc1535b"
      },
      "source": [
        "word_vectors.wv.most_similar(positive=['pai', 'mãe'], negative=['avô'], topn=10)"
      ],
      "execution_count": null,
      "outputs": [
        {
          "output_type": "execute_result",
          "data": {
            "text/plain": [
              "[('avó', 0.8150790929794312),\n",
              " ('adotiva', 0.8064451813697815),\n",
              " ('irmã', 0.7990934252738953),\n",
              " ('esposa', 0.7982308268547058),\n",
              " ('madrasta', 0.7841061353683472),\n",
              " ('tia', 0.7805376052856445),\n",
              " ('falecida', 0.7775087356567383),\n",
              " ('eutímia', 0.7673025727272034),\n",
              " ('superprotegida', 0.7659645676612854),\n",
              " ('consternada', 0.7656985521316528)]"
            ]
          },
          "metadata": {
            "tags": []
          },
          "execution_count": 48
        }
      ]
    },
    {
      "cell_type": "markdown",
      "metadata": {
        "id": "wG8OdC2oMdTm"
      },
      "source": [
        "<b> Similaridade Palavras </b>\n",
        "\n",
        "```python\n",
        "#exemplo:\n",
        "word_vectors.wv.similarity('mulher', 'homem')\n",
        "```\n",
        "\n",
        "<b> Atividade </b>\n",
        "\n",
        "16) Verifique a similaridade entre as seguintes palavras:\n",
        "\n",
        "- mulher, homem\n",
        "- homem, mulher\n",
        "- computação, computacao\n",
        "- londres, homem"
      ]
    },
    {
      "cell_type": "code",
      "metadata": {
        "id": "4S2hSfBDMdTn",
        "colab": {
          "base_uri": "https://localhost:8080/",
          "height": 34
        },
        "outputId": "e90c2ac8-057c-4948-e8c4-3974cb0c37b2"
      },
      "source": [
        "word_vectors.wv.similarity('mulher', 'homem')"
      ],
      "execution_count": null,
      "outputs": [
        {
          "output_type": "execute_result",
          "data": {
            "text/plain": [
              "0.6771901"
            ]
          },
          "metadata": {
            "tags": []
          },
          "execution_count": 49
        }
      ]
    },
    {
      "cell_type": "code",
      "metadata": {
        "id": "nZVHrBM6Wui2",
        "colab": {
          "base_uri": "https://localhost:8080/",
          "height": 34
        },
        "outputId": "e7f9a0f3-c2d0-4fe4-d85e-3ae31e3dbbee"
      },
      "source": [
        "word_vectors.wv.similarity('homem', 'mulher')"
      ],
      "execution_count": null,
      "outputs": [
        {
          "output_type": "execute_result",
          "data": {
            "text/plain": [
              "0.6771901"
            ]
          },
          "metadata": {
            "tags": []
          },
          "execution_count": 50
        }
      ]
    },
    {
      "cell_type": "code",
      "metadata": {
        "id": "JEO1FXCsWyum",
        "colab": {
          "base_uri": "https://localhost:8080/",
          "height": 34
        },
        "outputId": "f1ca4d05-c662-4d93-fe92-0f99dede19b6"
      },
      "source": [
        "word_vectors.wv.similarity('computação', 'computacao')"
      ],
      "execution_count": null,
      "outputs": [
        {
          "output_type": "execute_result",
          "data": {
            "text/plain": [
              "0.5200784"
            ]
          },
          "metadata": {
            "tags": []
          },
          "execution_count": 51
        }
      ]
    },
    {
      "cell_type": "code",
      "metadata": {
        "id": "tHJJCTuiW5Iw",
        "colab": {
          "base_uri": "https://localhost:8080/",
          "height": 34
        },
        "outputId": "611df333-17ca-4a38-8ded-41dbb1a6111b"
      },
      "source": [
        "word_vectors.wv.similarity('londres', 'homem')"
      ],
      "execution_count": null,
      "outputs": [
        {
          "output_type": "execute_result",
          "data": {
            "text/plain": [
              "0.28118974"
            ]
          },
          "metadata": {
            "tags": []
          },
          "execution_count": 52
        }
      ]
    },
    {
      "cell_type": "markdown",
      "metadata": {
        "id": "Ir7FeO9UMdTt"
      },
      "source": [
        "### Treinando seu embedding\n",
        "\n",
        "Aqui vamos utilizar o corpus machado. São textos/contos escritos por Machado de Assis.\n",
        "Esse corpus é diponibilizado pelo NLTK."
      ]
    },
    {
      "cell_type": "code",
      "metadata": {
        "id": "64JrAsh9MdTu"
      },
      "source": [
        "from nltk.corpus import machado"
      ],
      "execution_count": null,
      "outputs": []
    },
    {
      "cell_type": "code",
      "metadata": {
        "id": "UdTSp0CMXCcx",
        "colab": {
          "base_uri": "https://localhost:8080/",
          "height": 68
        },
        "outputId": "0e81a7b6-1b7e-4f6b-923a-bb4c1d7903f1"
      },
      "source": [
        "import nltk\n",
        "nltk.download('machado')"
      ],
      "execution_count": null,
      "outputs": [
        {
          "output_type": "stream",
          "text": [
            "[nltk_data] Downloading package machado to /root/nltk_data...\n",
            "[nltk_data]   Package machado is already up-to-date!\n"
          ],
          "name": "stdout"
        },
        {
          "output_type": "execute_result",
          "data": {
            "text/plain": [
              "True"
            ]
          },
          "metadata": {
            "tags": []
          },
          "execution_count": 54
        }
      ]
    },
    {
      "cell_type": "code",
      "metadata": {
        "id": "JaivC88uMdTz"
      },
      "source": [
        "machado.fileids()"
      ],
      "execution_count": null,
      "outputs": []
    },
    {
      "cell_type": "code",
      "metadata": {
        "id": "mHWaWKrjMdT5"
      },
      "source": [
        "raw_casmurro = machado.raw('contos/macn001.txt')"
      ],
      "execution_count": null,
      "outputs": []
    },
    {
      "cell_type": "code",
      "metadata": {
        "id": "L86mhVgeMdT8",
        "colab": {
          "base_uri": "https://localhost:8080/",
          "height": 54
        },
        "outputId": "1ab95e63-bfce-41e1-9a4a-0e52d716a11b"
      },
      "source": [
        "raw_casmurro"
      ],
      "execution_count": null,
      "outputs": [
        {
          "output_type": "execute_result",
          "data": {
            "text/plain": [
              "\"Conto, Contos Fluminenses, 1870\\n\\nContos Fluminenses\\n\\nTexto-fonte:\\n\\nObra Completa, Machado de Assis, vol. II,\\n\\nRio de Janeiro: Nova Aguilar, 1994.\\n\\nPublicado originalmente pela\\nEditora Garnier, Rio de Janeiro, em 1870.\\n\\nÍNDICE\\n\\nMISS DOLLAR\\n\\nLUÍS\\nSOARES\\n\\nA MULHER DE\\nPRETO\\n\\nO\\nSEGREDO DE AUGUSTA\\n\\nCONFISSÕES DE UMA VIÚVA MOÇA\\n\\nLINHA\\nRETA E LINHA CURVA\\n\\nFREI\\nSIMÃO\\n\\nMISS\\nDOLLAR\\n\\nÍNDICE\\n\\nCapítulo Primeiro\\n\\nCapítulo II\\n\\nCapítulo iii\\n\\nCapítulo iv\\n\\nCapítulo v\\n\\nCapítulo vI\\n\\nCapítulo vII\\n\\nCAPÍTULO VIII\\n\\nCAPÍTULO PRIMEIRO\\n\\nEra conveniente ao romance que o leitor\\nficasse muito tempo sem saber quem era Miss Dollar. Mas por outro lado,\\nsem a apresentação de Miss Dollar, seria o autor obrigado a longas\\ndigressões, que encheriam o papel sem adiantar a ação. Não há hesitação\\npossível: vou apresentar-lhes Miss Dollar.\\n\\nSe o leitor é rapaz e dado ao gênio\\nmelancólico, imagina que Miss Dollar é uma inglesa pálida e delgada,\\nescassa de carnes e de sangue, abrindo à flor do rosto dois grandes olhos azuis\\ne sacudindo ao vento umas longas tranças loiras. A moça em questão deve ser\\nvaporosa e ideal como uma criação de Shakespeare; deve ser o contraste do roastbeef\\nbritânico, com que se alimenta a liberdade do Reino Unido. Uma tal Miss\\nDollar deve ter o poeta Tennyson de cor e ler Lamartine no original; se\\nsouber o português deve deliciar-se com a leitura dos sonetos de Camões ou os Cantos\\nde Gonçalves Dias. O chá e o leite devem ser a alimentação de semelhante\\ncriatura, adicionando-se-lhe alguns confeitos e biscoitos para acudir às\\nurgências do estômago. A sua fala deve ser um murmúrio de harpa eólia; o seu\\namor um desmaio, a sua vida uma contemplação, a sua morte um suspiro.\\n\\nA figura é poética, mas não é a da\\nheroína do romance.\\n\\nSuponhamos que o leitor não é dado a\\nestes devaneios e melancolias; nesse caso imagina uma Miss Dollar totalmente\\ndiferente da outra. Desta vez será uma robusta americana, vertendo sangue pelas\\nfaces, formas arredondadas, olhos vivos e ardentes, mulher feita, refeita e\\nperfeita. Amiga da boa mesa e do bom copo, esta Miss Dollar preferirá um\\nquarto de carneiro a uma página de Longfellow, coisa naturalíssima quando o\\nestômago reclama, e nunca chegará a compreender a poesia do pôr-do-sol. Será\\numa boa mãe de família segundo a doutrina de alguns padres-mestres da\\ncivilização, isto é, fecunda e ignorante.\\n\\nJá não será do mesmo sentir o leitor que\\ntiver passado a segunda mocidade e vir diante de si uma velhice sem recurso.\\nPara esse, a Miss Dollar verdadeiramente digna de ser contada em algumas\\npáginas, seria uma boa inglesa de cinqüenta anos, dotada com algumas mil libras\\nesterlinas, e que, aportando ao Brasil em procura de assunto para escrever um romance,\\nrealizasse um romance verdadeiro, casando com o leitor aludido. Uma tal Miss\\nDollar seria incompleta se não tivesse óculos verdes e um grande cacho de\\ncabelo grisalho em cada fonte. Luvas de renda branca e chapéu de linho em forma\\nde cuia, seriam a última demão deste magnífico tipo de ultramar.\\n\\nMais esperto que os outros, acode um\\nleitor dizendo que a heroína do romance não é nem foi inglesa, mas brasileira\\ndos quatro costados, e que o nome de Miss Dollar quer dizer simplesmente\\nque a rapariga é rica.\\n\\nA descoberta seria excelente, se fosse\\nexata; infelizmente nem esta nem as outras são exatas. A Miss Dollar do\\nromance não é a menina romântica, nem a mulher robusta, nem a velha literata,\\nnem a brasileira rica. Falha desta vez a proverbial perspicácia dos leitores; Miss\\nDollar é uma cadelinha galga.\\n\\nPara algumas pessoas a qualidade da\\nheroína fará perder o interesse do romance. Erro manifesto. Miss Dollar,\\napesar de não ser mais que uma cadelinha galga, teve as honras de ver o seu\\nnome nos papéis públicos, antes de entrar para este livro. O Jornal do\\nComércio e o Correio Mercantil publicaram nas colunas dos anúncios\\nas seguintes linhas reverberantes de promessa:\\n\\nDesencaminhou-se uma cadelinha galga, na\\nnoite de ontem, 30. Acode ao nome de Miss Dollar. Quem a achou e quiser\\nlevar à Rua de Mata-cavalos no..., receberá duzentos mil-réis de\\nrecompensa. Miss Dollar tem uma coleira ao pescoço fechada por um\\ncadeado em que se lêem as seguintes palavras: De tout mon coeur.\\n\\nTodas as pessoas que sentiam necessidade\\nurgente de duzentos mil-réis, e tiveram a felicidade de ler aquele anúncio,\\nandaram nesse dia com extremo cuidado nas ruas do Rio de Janeiro, a ver se\\ndavam com a fugitiva Miss Dollar. Galgo que aparecesse ao longe era\\nperseguido com tenacidade até verificar-se que não era o animal procurado. Mas\\ntoda esta caçada dos duzentos mil-réis era completamente inútil, visto que, no\\ndia em que apareceu o anúncio, já Miss Dollar estava aboletada na casa\\nde um sujeito morador nos Cajueiros que fazia coleção de cães.\\n\\nCAPÍTULO II\\n\\nQuais as razões que induziram o Dr.\\nMendonça a fazer coleção de cães, é coisa que ninguém podia dizer; uns queriam\\nque fosse simplesmente paixão por esse símbolo da fidelidade ou do servilismo;\\noutros pensavam antes que, cheio de profundo desgosto pelos homens, Mendonça\\nachou que era de boa guerra adorar os cães.\\n\\nFossem quais fossem as razões, o certo é\\nque ninguém possuía mais bonita e variada coleção do que ele. Tinha-os de todas\\nas raças, tamanhos e cores. Cuidava deles como se fossem seus filhos; se algum\\nlhe morria ficava melancólico. Quase se pode dizer que, no espírito de\\nMendonça, o cão pesava tanto como o amor, segundo uma expressão célebre: tirai\\ndo mundo o cão, e o mundo será um ermo.\\n\\nO leitor superficial conclui daqui que o\\nnosso Mendonça era um homem excêntrico. Não era. Mendonça era um homem como os\\noutros; gostava de cães como outros gostam de flores. Os cães eram as suas\\nrosas e violetas; cultivava-os com o mesmíssimo esmero. De flores gostava\\ntambém; mas gostava delas nas plantas em que nasciam: cortar um jasmim ou\\nprender um canário parecia-lhe idêntico atentado.\\n\\nEra o Dr. Mendonça homem de seus trinta e\\nquatro anos, bem apessoado, maneiras francas e distintas. Tinha-se formado em\\nmedicina e tratou algum tempo de doentes; a clínica estava já adiantada quando\\nsobreveio uma epidemia na capital; o Dr. Mendonça inventou um elixir contra a\\ndoença; e tão excelente era o elixir, que o autor ganhou um bom par de contos\\nde réis. Agora exercia a medicina como amador. Tinha quanto bastava para si e a\\nfamília. A família compunha-se dos animais citados acima.\\n\\nNa memorável noite em que se\\ndesencaminhou Miss Dollar, voltava Mendonça para casa quando teve a\\nventura de encontrar a fugitiva no Rocio. A cadelinha entrou a acompanhá-lo, e\\nele, notando que era animal sem dono visível, levou-a consigo para os\\nCajueiros.\\n\\nApenas entrou em casa examinou\\ncuidadosamente a cadelinha, Miss Dollar era realmente um mimo; tinha as\\nformas delgadas e graciosas da sua fidalga raça; os olhos castanhos e\\naveludados pareciam exprimir a mais completa felicidade deste mundo, tão\\nalegres e serenos eram. Mendonça contemplou-a e examinou minuciosamente. Leu o\\ndístico do cadeado que fechava a coleira, e convenceu-se finalmente de que a\\ncadelinha era animal de grande estimação da parte de quem quer que fosse dono\\ndela.\\n\\n\\x97 Se não aparecer o dono, fica comigo,\\ndisse ele entregando Miss Dollar ao moleque encarregado dos cães.\\n\\nTratou o moleque de dar comida a Miss\\nDollar, enquanto Mendonça planeava um bom futuro à nova hóspede, cuja\\nfamília devia perpetuar-se na casa.\\n\\nO plano de Mendonça durou o que duram os\\nsonhos: o espaço de uma noite. No dia seguinte, lendo os jornais, viu o anúncio\\ntranscrito acima, prometendo duzentos mil-réis a quem entregasse a cadelinha\\nfugitiva. A sua paixão pelos cães deu-lhe a medida da dor que devia sofrer o\\ndono ou dona de Miss Dollar, visto que chegava a oferecer duzentos\\nmil-réis de gratificação a quem apresentasse a galga. Conseqüentemente resolveu\\nrestituí-la, com bastante mágoa do coração. Chegou a hesitar por alguns\\ninstantes; mas afinal venceram os sentimentos de probidade e compaixão, que\\neram o apanágio daquela alma. E, como se lhe custasse despedir-se do animal,\\nainda recente na casa, dispôs-se a levá-lo ele mesmo, e para esse fim\\npreparou-se. Almoçou, e depois de averiguar bem se Miss Dollar havia\\nfeito a mesma operação, saíram ambos de casa com direção a Mata-cavalos.\\n\\nNaquele tempo ainda o Barão do Amazonas\\nnão tinha salvo a independência das repúblicas platinas mediante a vitória de\\nRiachuelo, nome com que depois a Câmara Municipal crismou a Rua de\\nMata-cavalos. Vigorava, portanto, o nome tradicional da rua, que não queria\\ndizer coisa nenhuma de jeito.\\n\\nA casa que tinha o número indicado no\\nanúncio era de bonita aparência e indicava certa abastança nos haveres de quem\\nlá morasse. Antes mesmo que Mendonça batesse palmas no corredor, já Miss\\nDollar, reconhecendo os pátrios lares, começava a pular de contente e a\\nsoltar uns sons alegres e guturais que, se houvesse entre os cães literatura,\\ndeviam ser um hino de ação de graças.\\n\\nVeio um moleque saber quem estava;\\nMendonça disse que vinha restituir a galga fugitiva. Expansão do rosto do\\nmoleque, que correu a anunciar a boa nova. Miss Dollar, aproveitando uma\\nfresta, precipitou-se pelas escadas acima. Dispunha-se Mendonça a descer, pois\\nestava cumprida a sua tarefa, quando o moleque voltou dizendo-lhe que subisse e\\nentrasse para a sala.\\n\\nNa sala não havia ninguém. Algumas\\npessoas, que têm salas elegantemente dispostas, costumam deixar tempo de serem\\nestas admiradas pelas visitas, antes de as virem cumprimentar. É possível que\\nesse fosse o costume dos donos daquela casa, mas desta vez não se cuidou em\\nsemelhante coisa, porque mal o médico entrou pela porta do corredor surgiu de\\noutra interior uma velha com Miss Dollar nos braços e a alegria no\\nrosto.\\n\\n\\x97 Queira ter a bondade de sentar-se,\\ndisse ela designando uma cadeira à Mendonça.\\n\\n\\x97 A minha demora é pequena, disse o\\nmédico sentando-se. Vim trazer-lhe a cadelinha que está comigo desde ontem...\\n\\n\\x97 Não imagina que desassossego causou cá\\nem casa a ausência de Miss Dollar...\\n\\n\\x97 Imagino, minha senhora; eu também sou\\napreciador de cães, e se me faltasse um sentiria profundamente. A sua Miss\\nDollar...\\n\\n\\x97 Perdão! interrompeu a velha; minha não;\\nMiss Dollar não é minha, é de minha sobrinha.\\n\\n\\x97 Ah!...\\n\\n\\x97 Ela aí vem.\\n\\nMendonça levantou-se justamente quando\\nentrava na sala a sobrinha em questão. Era uma moça que representava vinte e\\noito anos, no pleno desenvolvimento da sua beleza, uma dessas mulheres que\\nanunciam velhice tardia e imponente. O vestido de seda escura dava singular\\nrealce à cor imensamente branca da sua pele. Era roçagante o vestido, o que lhe\\naumentava a majestade do porte e da estatura. O corpinho do vestido cobria-lhe\\ntodo o colo; mas adivinhava-se por baixo da seda um belo tronco de mármore\\nmodelado por escultor divino. Os cabelos castanhos e naturalmente ondeados estavam\\npenteados com essa simplicidade caseira, que é a melhor de todas as modas\\nconhecidas; ornavam-lhe graciosamente a fronte como uma coroa doada pela\\nnatureza. A extrema brancura da pele não tinha o menor tom cor-de-rosa que lhe\\nfizesse harmonia e contraste. A boca era pequena, e tinha uma certa expressão\\nimperiosa. Mas a grande distinção daquele rosto, aquilo que mais prendia os\\nolhos, eram os olhos; imaginem duas esmeraldas nadando em leite.\\n\\nMendonça nunca vira olhos verdes em toda\\na sua vida; disseram-lhe que existiam olhos verdes, ele sabia de cor uns versos\\ncélebres de Gonçalves Dias; mas até então os olhos verdes eram para ele a mesma\\ncoisa que a fênix dos antigos. Um dia, conversando com uns amigos a propósito\\ndisto, afirmava que se alguma vez encontrasse um par de olhos verdes fugiria\\ndeles com terror.\\n\\n\\x97 Por quê? perguntou-lhe um dos\\ncircunstantes admirado.\\n\\n\\x97 A cor verde é a cor do mar, respondeu\\nMendonça; evito as tempestades de um; evitarei as tempestades dos outros.\\n\\nEu deixo ao critério do leitor esta\\nsingularidade de Mendonça, que de mais a mais é preciosa, no sentido de\\nMolière.\\n\\nCAPÍTULO III\\n\\nMendonça cumprimentou respeitosamente a\\nrecém-chegada, e esta, com um gesto, convidou-o a sentar-se outra vez.\\n\\n\\x97 Agradeço-lhe infinitamente o ter-me\\nrestituído este pobre animal, que me merece grande estima, disse Margarida\\nsentando-se.\\n\\n\\x97 E eu dou graças a Deus por tê-lo\\nachado; podia ter caído em mãos que o não restituíssem.\\n\\nMargarida fez um gesto a Miss Dollar,\\ne a cadelinha, saltando do regaço da velha, foi ter com Margarida; levantou as\\npatas dianteiras e pôs-lhas sobre os joelhos; Margarida e Miss Dollar\\ntrocaram um longo olhar de afeto. Durante esse tempo uma das mãos da moça\\nbrincava com uma das orelhas da galga, e dava assim lugar a que Mendonça\\nadmirasse os seus belíssimos dedos armados com unhas agudíssimas.\\n\\nMas, conquanto Mendonça tivesse sumo\\nprazer em estar ali, reparou que era esquisita e humilhante a sua demora.\\nPareceria estar esperando a gratificação. Para escapar a essa interpretação\\ndesairosa, sacrificou o prazer da conversa e a contemplação da moça;\\nlevantou-se dizendo:\\n\\n\\x97 A minha missão está cumprida...\\n\\n\\x97 Mas... interrompeu a velha.\\n\\nMendonça compreendeu a ameaça da\\ninterrupção da velha.\\n\\n\\x97 A alegria, disse ele, que restituí a\\nesta casa é a maior recompensa que eu podia ambicionar. Agora peço-lhes\\nlicença...\\n\\nAs duas senhoras compreenderam a intenção\\nde Mendonça; a moça pagou-lhe a cortesia com um sorriso; e a velha, reunindo no\\npulso quantas forças ainda lhe restavam pelo corpo todo, apertou com amizade\\na mão do rapaz.\\n\\nMendonça saiu impressionado pela\\ninteressante Margarida. Notava-lhe principalmente, além da beleza, que era de\\nprimeira água, certa severidade triste no olhar e nos modos. Se aquilo era\\ncaráter da moça, dava-se bem com a índole de médico; se era resultado de algum\\nepisódio da vida, era uma página do romance que devia ser decifrada por olhos\\nhábeis. A falar verdade, o único defeito que Mendonça lhe achou foi a cor dos olhos,\\nnão porque a cor fosse feia, mas porque ele tinha prevenção contra os olhos\\nverdes. A prevenção, cumpre dizê-lo, era mais literária que outra coisa;\\nMendonça apegava-se à frase que uma vez proferira, e foi acima citada, e a\\nfrase é que lhe produziu a prevenção. Não mo acusem de chofre; Mendonça era\\nhomem inteligente, instruído e dotado de bom senso; tinha, além disso, grande\\ntendência para as afeições românticas; mas apesar disso lá tinha calcanhar o\\nnosso Aquiles. Era homem como os outros, outros Aquiles andam por aí que são da\\ncabeça aos pés um imenso calcanhar. O ponto vulnerável de Mendonça era esse; o\\namor de uma frase era capaz de violentar-lhe afetos; sacrificava uma situação a\\num período arredondado.\\n\\nReferindo a um amigo o episódio da galga\\ne a entrevista com Margarida, Mendonça disse que poderia vir a gostar dela se\\nnão tivesse olhos verdes. O amigo riu com certo ar de sarcasmo.\\n\\n\\x97 Mas, doutor, disse-lhe ele, não\\ncompreendo essa prevenção; eu ouço até dizer que os olhos verdes são de\\nordinário núncios de boa alma. Além de que, a cor dos olhos não vale nada, a\\nquestão é a expressão deles. Podem ser azuis como o céu e pérfidos como o mar.\\n\\nA observação deste amigo anônimo tinha a\\nvantagem de ser tão poética como a de Mendonça. Por isso abalou profundamente o\\nânimo do médico. Não ficou este como o asno de Buridan entre a selha d\\x92água e a\\nquarta de cevada; o asno hesitaria, Mendonça não hesitou. Acudiu-lhe de pronto\\na lição do casuísta Sánchez, e das duas opiniões tomou a que lhe pareceu provável.\\n\\nAlgum leitor grave achará pueril esta\\ncircunstância dos olhos verdes e esta controvérsia sobre a qualidade provável\\ndeles. Provará com isso que tem pouca prática do mundo. Os almanaques\\npitorescos citam até à saciedade mil excentricidades e senões dos grandes\\nvarões que a humanidade admira, já por instruídos nas letras, já por valentes\\nnas armas; e nem por isso deixamos de admirar esses mesmos varões. Não queira o\\nleitor abrir uma exceção só para encaixar nela o nosso doutor. Aceitemo-lo com\\nos seus ridículos; quem os não tem? O ridículo é uma espécie de lastro da alma\\nquando ela entra no mar da vida; algumas fazem toda a navegação sem outra\\nespécie de carregamento.\\n\\nPara compensar essas fraquezas, já disse\\nque Mendonça tinha qualidades não vulgares. Adotando a opinião que lhe pareceu\\nmais provável, que foi a do amigo, Mendonça disse consigo que nas mãos de\\nMargarida estava talvez a chave do seu futuro. Ideou nesse sentido um plano de\\nfelicidade; uma casa num ermo, olhando para o mar ao lado do ocidente, a fim de\\npoder assistir ao espetáculo do pôr-do-sol. Margarida e ele, unidos pelo amor e\\npela Igreja, beberiam ali, gota a gota, a taça inteira da celeste felicidade. O\\nsonho de Mendonça continha outras particularidades que seria ocioso mencionar\\naqui. Mendonça pensou nisto alguns dias; chegou a passar algumas vezes por\\nMata-cavalos; mas tão infeliz que nunca viu Margarida nem a tia; afinal\\ndesistiu da empresa e voltou aos cães.\\n\\nA coleção de cães era uma verdadeira\\ngaleria de homens ilustres. O mais estimado deles chamava-se Diógenes;\\nhavia um galgo que acudia ao nome de César; um cão d\\x92água que se chamava\\nNelson; Cornélia chamava-se uma cadelinha rateira, e Calígula\\num enorme cão de fila, vera-efígie do grande monstro que a sociedade romana\\nproduziu. Quando se achava entre toda essa gente, ilustre por diferentes\\ntítulos, dizia Mendonça que entrava na história; era assim que se esquecia do\\nresto do mundo.\\n\\nCAPÍTULO IV\\n\\nAchava-se Mendonça uma vez à porta do\\nCarceller, onde acabava de tomar sorvete em companhia de um indivíduo, amigo\\ndele, quando viu passar um carro, e dentro do carro duas senhoras que lhe\\npareceram as senhoras de Mata-cavalos. Mendonça fez um movimento de espanto que\\nnão escapou ao amigo.\\n\\n\\x97 Que foi? perguntou-lhe este.\\n\\n\\x97 Nada; pareceu-me conhecer aquelas\\nsenhoras. Viste-as, Andrade?\\n\\n\\x97 Não.\\n\\nO carro entrara na Rua do Ouvidor; os\\ndois subiram pela mesma rua. Logo acima da Rua da Quitanda, parara o carro à\\nporta de uma loja, e as senhoras apearam-se e entraram. Mendonça não as viu\\nsair; mas viu o carro e suspeitou que fosse o mesmo. Apressou o passo sem dizer\\nnada a Andrade, que fez o mesmo, movido por essa natural curiosidade que sente\\num homem quando percebe algum segredo oculto.\\n\\nPoucos instantes depois estavam à porta\\nda loja; Mendonça verificou que eram as duas senhoras de Mata-cavalos. Entrou\\nafoito, com ar de quem ia comprar alguma coisa, e aproximou-se das senhoras. A\\nprimeira que o conheceu foi a tia. Mendonça cumprimentou-as respeitosamente.\\nElas receberam o cumprimento com afabilidade. Ao pé de Margarida estava Miss\\nDollar, que, por esse admirável faro que a natureza concedeu aos cães e aos\\ncortesãos da fortuna, deu dois saltos de alegria apenas viu Mendonça, chegando\\na tocar-lhe o estômago com as patas dianteiras.\\n\\n\\x97 Parece que Miss Dollar ficou com\\nboas recordações suas, disse D. Antônia (assim se chamava a tia de Margarida).\\n\\n\\x97 Creio que sim, respondeu Mendonça\\nbrincando com a galga e olhando para Margarida.\\n\\nJustamente nesse momento entrou Andrade.\\n\\n\\x97 Só agora as reconheci, disse ele\\ndirigindo-se às senhoras.\\n\\nAndrade apertou a mão das duas senhoras,\\nou antes apertou a mão de Antônia e os dedos de Margarida.\\n\\nMendonça não contava com este incidente,\\ne alegrou-se com ele por ter à mão o meio de tornar íntimas as relações\\nsuperficiais que tinha com a família.\\n\\n\\x97 Seria bom, disse ele a Andrade, que me\\napresentasses a estas senhoras.\\n\\n\\x97 Pois não as conheces? perguntou Andrade\\nestupefato.\\n\\n\\x97 Conhece-nos sem nos conhecer, respondeu\\nsorrindo a velha tia; por ora quem o apresentou foi Miss Dollar.\\n\\nAntônia referiu a Andrade a perda e o\\nachado da cadelinha.\\n\\n\\x97 Pois, nesse caso, respondeu Andrade,\\napresento-o já.\\n\\nFeita a apresentação oficial, o caixeiro trouxe\\na Margarida os objetos que ela havia comprado, e as duas senhoras despediram-se\\ndos rapazes pedindo-lhes que as fossem ver.\\n\\nNão citei nenhuma palavra de Margarida no\\ndiálogo acima transcrito, porque, a falar verdade, a moça só proferiu duas\\npalavras a cada um dos rapazes.\\n\\n\\x97 Passe bem, disse-lhes ela dando as\\npontas dos dedos e saindo para entrar no carro.\\n\\nFicando sós, saíram também os dois\\nrapazes e seguiram pela Rua do Ouvidor acima, ambos calados. Mendonça pensava\\nem Margarida; Andrade pensava nos meios de entrar na confidência de Mendonça. A\\nvaidade tem mil formas de manifestar-se como o fabuloso Proteu. A vaidade de\\nAndrade era ser confidente dos outros; parecia-lhe assim obter da confiança\\naquilo que só alcançava da indiscrição. Não lhe foi difícil apanhar o segredo\\nde Mendonça; antes de chegar à esquina da Rua dos Ourives já Andrade sabia de\\ntudo.\\n\\n\\x97 Compreendes agora, disse Mendonça, que\\neu preciso ir à casa dela; tenho necessidade de vê-la; quero ver se consigo...\\n\\nMendonça estacou.\\n\\n\\x97 Acaba! disse Andrade; se consegues ser\\namado. Por que não? Mas desde já te digo que não será fácil.\\n\\n\\x97 Por quê?\\n\\n\\x97 Margarida tem rejeitado cinco\\ncasamentos.\\n\\n\\x97 Naturalmente não amava os pretendentes,\\ndisse Mendonça com o ar de um geômetra que acha uma solução.\\n\\n\\x97 Amava apaixonadamente o primeiro,\\nrespondeu Andrade, e não era indiferente ao último.\\n\\n\\x97 Houve naturalmente intriga.\\n\\n\\x97 Também não. Admiras-te? É o que me\\nacontece. É uma rapariga esquisita. Se te achas com força de ser o Colombo\\ndaquele mundo, lança-te ao mar com a armada; mas toma cuidado com a revolta das\\npaixões, que são os ferozes marujos destas navegações de descoberta.\\n\\nEntusiasmado com esta alusão, histórica\\ndebaixo da forma de alegoria, Andrade olhou para Mendonça, que, desta vez\\nentregue ao pensamento da moça, não atendeu à frase do amigo. Andrade\\ncontentou-se com o seu próprio sufrágio, e sorriu com o mesmo ar de satisfação\\nque deve ter um poeta quando escreve o último verso de um poema.\\n\\nCAPÍTULO V\\n\\nDias depois, Andrade e Mendonça foram à\\ncasa de Margarida, e lá passaram meia hora em conversa cerimoniosa. As visitas\\nrepetiram-se; eram porém mais freqüentes da parte de Mendonça que de Andrade.\\nD. Antônia mostrou-se mais familiar que Margarida; só depois de algum tempo\\nMargarida desceu do Olimpo do silêncio em que habitualmente se encerrara.\\n\\nEra difícil deixar de o fazer. Mendonça,\\nconquanto não fosse dado à convivência das salas, era um cavalheiro próprio\\npara entreter duas senhoras que pareciam mortalmente aborrecidas. O médico\\nsabia piano e tocava agradavelmente; a sua conversa era animada; sabia esses\\nmil nadas que entretêm geralmente as senhoras quando elas não gostam ou não\\npodem entrar no terreno elevado da arte, da história e da filosofia. Não foi\\ndifícil ao rapaz estabelecer intimidade com a família.\\n\\nPosteriormente às primeiras visitas,\\nsoube Mendonça, por via de Andrade, que Margarida era viúva. Mendonça não\\nreprimiu o gesto de espanto.\\n\\n\\x97 Mas tu falaste de um modo que parecias\\ntratar de uma solteira, disse ele ao amigo.\\n\\n\\x97 É verdade que não me expliquei bem; os\\ncasamentos recusados foram todos propostos depois da viuvez.\\n\\n\\x97 Há que tempo está viúva?\\n\\n\\x97 Há três anos.\\n\\n\\x97 Tudo se explica, disse Mendonça depois\\nde algum silêncio; quer ficar fiel à sepultura; é uma Artemisa do século.\\n\\nAndrade era cético a respeito de\\nArtemisas; sorriu à observação do amigo, e, como este insistisse, replicou:\\n\\n\\x97 Mas se eu já te disse que ela amava\\napaixonadamente o primeiro pretendente e não era indiferente ao último.\\n\\n\\x97 Então, não compreendo.\\n\\n\\x97 Nem eu.\\n\\nMendonça desde esse momento tratou de\\ncortejar assiduamente a viúva; Margarida recebeu os primeiros olhares de\\nMendonça com um ar de tão supremo desdém, que o rapaz esteve quase a abandonar\\na empresa; mas, a viúva, ao mesmo tempo que parecia recusar amor, não lhe\\nrecusava estima, e tratava-o com a maior meiguice deste mundo sempre que ele a\\nolhava como toda a gente.\\n\\nAmor repelido é amor multiplicado. Cada\\nrepulsa de Margarida aumentava a paixão de Mendonça. Nem já lhe mereciam\\natenção o feroz Calígula, nem o elegante Júlio César. Os dois\\nescravos de Mendonça começaram a notar a profunda diferença que havia entre os\\nhábitos de hoje e os de outro tempo. Supuseram logo que alguma coisa o\\npreocupava. Convenceram-se disso quando Mendonça, entrando uma vez em casa, deu\\ncom a ponta do botim no focinho de Cornélia, na ocasião em que esta\\ninteressante cadelinha, mãe de dois Gracos rateiros, festejava a chegada\\ndo doutor.\\n\\nAndrade não foi insensível aos\\nsofrimentos do amigo e procurou consolá-lo. Toda a consolação nestes casos é\\ntão desejada quanto inútil; Mendonça ouvia as palavras de Andrade e\\nconfiava-lhe todas as suas penas. Andrade lembrou a Mendonça um excelente meio\\nde fazer cessar a paixão: era ausentar-se da casa. A isto respondeu Mendonça\\ncitando La Rochefoucauld:\\n\\n'A ausência diminui as paixões\\nmedíocres e aumenta as grandes, como o vento apaga as velas e atiça as\\nfogueiras.'\\n\\nA citação teve o mérito de tapar a boca\\nde Andrade, que acreditava tanto na constância como nas Artemisas, mas que não\\nqueria contrariar a autoridade do moralista, nem a resolução de Mendonça.\\n\\nCAPÍTULO VI\\n\\nCorreram assim três meses. A corte de Mendonça\\nnão adiantava um passo; mas a viúva nunca deixou de ser amável com ele. Era\\nisto o que principalmente retinha o médico aos pés da insensível viúva; não o\\nabandonava a esperança de vencê-la.\\n\\nAlgum leitor conspícuo desejaria antes\\nque Mendonça não fosse tão assíduo na casa de uma senhora exposta às calúnias\\ndo mundo. Pensou nisso o médico e consolou a consciência com a presença de um\\nindivíduo, até aqui não nomeado por motivo de sua nulidade, e que era nada\\nmenos que o filho da Sra. D. Antônia e a menina dos seus olhos. Chamava-se\\nJorge esse rapaz, que gastava duzentos mil-réis por mês, sem os ganhar, graças\\nà longanimidade da mãe. Freqüentava as casas dos cabeleireiros, onde gastava\\nmais tempo que uma romana da decadência às mãos das suas servas latinas. Não\\nperdia representação de importância no Alcazar; montava bons cavalos, e\\nenriquecia com despesas extraordinárias as algibeiras de algumas damas célebres\\ne de vários parasitas obscuros. Calçava luvas da letra E e botas nº 36, duas\\nqualidades que lançava à cara de todos os seus amigos que não desciam do nº 40\\ne da letra H. A presença deste gentil pimpolho, achava Mendonça que salvava a\\nsituação. Mendonça queria dar esta satisfação ao mundo, isto é, à opinião dos\\nociosos da cidade. Mas bastaria isso para tapar a boca aos ociosos?\\n\\nMargarida parecia indiferente às\\ninterpretações do mundo como à assiduidade do rapaz. Seria ela tão indiferente\\na tudo mais neste mundo? Não; amava a mãe, tinha um capricho por Miss Dollar,\\ngostava da boa música, e lia romances. Vestia-se bem, sem ser rigorista em\\nmatéria de moda; não valsava; quando muito dançava alguma quadrilha nos saraus\\na que era convidada. Não falava muito, mas exprimia-se bem. Tinha o gesto\\ngracioso e animado, mas sem pretensão nem faceirice.\\n\\nQuando Mendonça aparecia lá, Margarida\\nrecebia-o com visível contentamento. O médico iludia-se sempre, apesar de já\\nacostumado a essas manifestações. Com efeito, Margarida gostava imenso da\\npresença do rapaz, mas não parecia dar-lhe uma importância que lisonjeasse o\\ncoração dele. Gostava de o ver como se gosta de ver um dia bonito, sem morrer\\nde amores pelo sol.\\n\\nNão era possível sofrer por muito tempo a\\nposição em que se achava o médico. Uma noite, por um esforço de que antes disso\\nse não julgaria capaz, Mendonça dirigiu a Margarida esta pergunta indiscreta:\\n\\n\\x97 Foi feliz com seu marido?\\n\\nMargarida franziu a testa com espanto e\\ncravou os olhos nos do médico, que pareciam continuar mudamente a pergunta.\\n\\n\\x97 Fui, disse ela no fim de alguns\\ninstantes.\\n\\nMendonça não disse palavra; não contava\\ncom aquela resposta. Confiava demais na intimidade que reinava entre ambos; e\\nqueria descobrir por algum modo a causa da insensibilidade da viúva. Falhou o\\ncálculo; Margarida tornou-se séria durante algum tempo; a chegada de D. Antônia\\nsalvou uma situação esquerda para Mendonça. Pouco depois Margarida voltava às\\nboas, e a conversa tornou-se animada e íntima como sempre. A chegada de Jorge\\nlevou a animação da conversa a proporções maiores; D. Antônia, com olhos e ouvidos\\nde mãe, achava que o filho era o rapaz mais engraçado deste mundo; mas a\\nverdade é que não havia em toda a cristandade espírito mais frívolo. A mãe\\nria-se de tudo quanto o filho dizia; o filho enchia, só ele, a conversa,\\nreferindo anedotas e reproduzindo ditos e sestros do Alcazar. Mendonça via\\ntodas essas feições do rapaz, e aturava-o com resignação evangélica.\\n\\nA entrada de Jorge, animando a conversa,\\nacelerou as horas; às dez retirou-se o médico, acompanhado pelo filho de D.\\nAntônia, que ia cear. Mendonça recusou o convite que Jorge lhe fez, e\\ndespediu-se dele na Rua do Conde, esquina da do Lavradio.\\n\\nNessa mesma noite resolveu Mendonça dar\\num golpe decisivo; resolveu escrever uma carta a Margarida. Era temerário para\\nquem conhecesse o caráter da viúva; mas, com os precedentes já mencionados, era\\nloucura. Entretanto, não hesitou o médico em empregar a carta, confiando que no\\npapel diria as coisas de muito melhor maneira que de boca. A carta foi escrita\\ncom febril impaciência; no dia seguinte, logo depois de almoçar, Mendonça meteu\\na carta dentro de um volume de George Sand, mandou-o pelo moleque a Margarida.\\n\\nA viúva rompeu a capa de papel que\\nembrulhava o volume, e pôs o livro sobre a mesa da sala; meia hora depois\\nvoltou e pegou no livro para ler. Apenas o abriu, caiu-lhe a carta aos pés.\\nAbriu-a e leu o seguinte:\\n\\nQualquer que seja a causa da sua\\nesquivança, respeito-a, não me insurjo contra ela. Mas, se não me é dado\\ninsurgir-me, não me será lícito queixar-me? Há de ter compreendido o meu amor,\\ndo mesmo modo que tenho compreendido a sua indiferença; mas, por maior que seja\\nessa indiferença está longe de ombrear com o amor profundo e imperioso que se\\napossou de meu coração quando eu mais longe me cuidava destas paixões dos\\nprimeiros anos. Não lhe contarei as insônias e as lágrimas, as esperanças e os\\ndesencantos, páginas tristes deste livro que o destino põe nas mãos do homem\\npara que duas almas o leiam. É-lhe indiferente isso.\\n\\nNão ouso interrogá-la sobre a esquivança\\nque tem mostrado em relação a mim; mas por que motivo se estende essa\\nesquivança a tantos mais? Na idade das paixões férvidas, ornada pelo céu com\\numa beleza rara, por que motivo quer esconder-se ao mundo e defraudar a\\nnatureza e o coração de seus incontestáveis direitos? Perdoe-me a audácia da\\npergunta; acho-me diante de um enigma que o meu coração desejaria decifrar.\\nPenso às vezes que alguma grande dor a atormenta, e quisera ser o médico do seu\\ncoração; ambicionava, confesso, restaurar-lhe alguma ilusão perdida. Parece que\\nnão há ofensa nesta ambição.\\n\\nSe, porém, essa esquivança denota\\nsimplesmente um sentimento de orgulho legítimo, perdoe-me se ousei escrever-lhe\\nquando seus olhos expressamente mo proibiram. Rasgue a carta que não pode\\nvaler-lhe uma recordação, nem representar uma arma.\\n\\nA carta era toda de reflexão; a frase\\nfria e medida não exprimia o fogo do sentimento. Não terá, porém, escapado ao\\nleitor a sinceridade e a simplicidade com que Mendonça pedia uma explicação que\\nMargarida provavelmente não podia dar.\\n\\nQuando Mendonça disse a Andrade haver\\nescrito a Margarida, o amigo do médico entrou a rir despregadamente.\\n\\n\\x97 Fiz mal? perguntou Mendonça.\\n\\n\\x97 Estragaste tudo. Os outros pretendentes\\ncomeçaram também por carta; foi justamente a certidão de óbito do amor.\\n\\n\\x97 Paciência, se acontecer o mesmo, disse\\nMendonça levantando os ombros com aparente indiferença; mas eu desejava que não\\nestivesses sempre a falar nos pretendentes; eu não sou pretendente no sentido\\ndesses.\\n\\n\\x97 Não querias casar com ela?\\n\\n\\x97 Sem dúvida, se fosse possível,\\nrespondeu Mendonça.\\n\\n\\x97 Pois era justamente o que os outros\\nqueriam; casar-te-ias e entrarias na mansa posse dos bens que lhe couberam em\\npartilha e que sobem a muito mais de cem contos. Meu rico, se falo em\\npretendentes não é por te ofender, porque um dos quatro pretendentes despedidos\\nfui eu.\\n\\n\\x97 Tu?\\n\\n\\x97 É verdade; mas descansa, não fui o\\nprimeiro, nem ao menos o último.\\n\\n\\x97 Escreveste?\\n\\n\\x97 Como os outros; como eles, não obtive\\nresposta; isto é, obtive uma: devolveu-me a carta. Portanto, já que lhe\\nescreveste, espera o resto; verás se o que te digo é ou não exato. Estás\\nperdido, Mendonça; fizeste muito mal.\\n\\nAndrade tinha esta feição característica\\nde não omitir nenhuma das cores sombrias de uma situação, com o pretexto de que\\naos amigos se deve a verdade. Desenhado o quadro, despediu-se de Mendonça, e\\nfoi adiante.\\n\\nMendonça foi para casa, onde passou a\\nnoite em claro.\\n\\nCAPÍTULO VII\\n\\nEnganara-se Andrade; a viúva respondeu à carta\\ndo médico. A carta dela limitou-se a isto:\\n\\nPerdôo-lhe tudo; não lhe perdoarei se me\\nescrever outra vez. A minha esquivança não tem nenhuma causa; é questão de\\ntemperamento.\\n\\nO sentido da carta era ainda mais\\nlacônico do que a expressão. Mendonça leu-a muitas vezes, a ver se a\\ncompletava; mas foi trabalho perdido. Uma coisa concluiu ele logo; era que\\nhavia coisa oculta que arredava Margarida do casamento; depois concluiu outra,\\nera que Margarida ainda lhe perdoaria segunda carta se lha escrevesse.\\n\\nA primeira vez que Mendonça foi a\\nMata-cavalos achou-se embaraçado sobre a maneira por que falaria a Margarida; a\\nviúva tirou-o do embaraço, tratando-o como se nada houvesse entre ambos.\\nMendonça não teve ocasião de aludir às cartas por causa da presença de D.\\nAntônia, mas estimou isso mesmo, porque não sabia o que lhe diria caso viessem\\na ficar sós os dois.\\n\\nDias depois, Mendonça escreveu segunda\\ncarta à viúva e mandou-lha pelo mesmo canal da outra. A carta foi-lhe devolvida\\nsem resposta. Mendonça arrependeu-se de ter abusado da ordem da moça, e\\nresolveu, de uma vez por todas, não voltar à casa de Mata-cavalos. Nem tinha\\nânimo de lá aparecer, nem julgava conveniente estar junto de uma pessoa a quem\\namava sem esperança.\\n\\nAo cabo de um mês não tinha perdido uma\\npartícula sequer do sentimento que nutria pela viúva. Amava-a com o mesmíssimo\\nardor. A ausência, como ele pensara, aumentou-lhe o amor, como o vento ateia um\\nincêndio. Debalde lia ou buscava distrair-se na vida agitada do Rio de Janeiro;\\nentrou a escrever um estudo sobre a teoria do ouvido, mas a pena\\nescapava-se-lhe para o coração, e saiu o escrito com uma mistura de nervos e\\nsentimentos. Estava então na sua maior nomeada o romance de Renan sobre\\na vida de Jesus; Mendonça encheu o gabinete com todos os folhetos publicados de\\nparte a parte, e entrou a estudar profundamente o misterioso drama da Judéia.\\nFez quanto pôde para absorver o espírito e esquecer a esquiva Margarida;\\nera-lhe impossível.\\n\\nUm dia de manhã apareceu-lhe em casa o\\nfilho de D. Antônia; traziam-no dois motivos: perguntar-lhe por que não ia a\\nMata-cavalos, e mostrar-lhe umas calças novas. Mendonça aprovou as calças, e\\ndesculpou como pôde a ausência, dizendo que andava atarefado. Jorge não era\\nalma que compreendesse a verdade escondida por baixo de uma palavra\\nindiferente; vendo Mendonça mergulhado no meio de uma chusma de livros e\\nfolhetos, perguntou-lhe se estava estudando para ser deputado. Jorge cuidava\\nque se estudava para ser deputado!\\n\\n\\x97 Não, respondeu Mendonça.\\n\\n\\x97 É verdade que a prima também lá anda\\ncom livros, e não creio que pretenda ir à câmara.\\n\\n\\x97 Ah! sua prima?\\n\\n\\x97 Não imagina; não faz outra coisa.\\nFecha-se no quarto, e passa os dias inteiros a ler.\\n\\nInformado por Jorge, Mendonça supôs que\\nMargarida era nada menos que uma mulher de letras, alguma modesta poetisa, que\\nesquecia o amor dos homens nos braços das musas. A suposição era gratuita e\\nfilha mesmo de um espírito cego pelo amor como o de Mendonça. Há várias razões\\npara ler muito sem ter comércio com as musas.\\n\\n\\x97 Note que a prima nunca leu tanto; agora\\né que lhe deu para isso, disse Jorge tirando da charuteira um magnífico havana\\ndo valor de três tostões, e oferecendo outro a Mendonça. Fume isto, continuou\\nele, fume e diga-me se há ninguém como o Bernardo para ter charutos bons.\\n\\nGastos os charutos, Jorge despediu-se do\\nmédico, levando a promessa de que este iria à casa de D. Antônia o mais cedo\\nque pudesse.\\n\\nNo fim de quinze dias Mendonça voltou a\\nMata-cavalos.\\n\\nEncontrou na sala Andrade e D. Antônia,\\nque o receberam com aleluias. Mendonça parecia com efeito ressurgir de um\\ntúmulo; tinha emagrecido e empalidecido. A melancolia dava-lhe ao rosto maior\\nexpressão de abatimento. Alegou trabalhos extraordinários, e entrou a conversar\\nalegremente como dantes. Mas essa alegria, como se compreende, era toda\\nforçada. No fim de um quarto de hora a tristeza apossou-se-lhe outra vez do\\nrosto. Durante esse tempo, Margarida não apareceu na sala; Mendonça, que até\\nentão não perguntara por ela, não sei por que razão, vendo que ela não\\naparecia, perguntou se estava doente. D. Antônia respondeu-lhe que Margarida\\nestava um pouco incomodada.\\n\\nO incômodo de Margarida durou uns três\\ndias; era uma simples dor de cabeça, que o primo atribuiu à aturada leitura.\\n\\nNo fim de alguns dias mais, D. Antônia\\nfoi surpreendida com uma lembrança de Margarida; a viúva queria ir viver na\\nroça algum tempo.\\n\\n\\x97 Aborrece-te a cidade? perguntou a boa\\nvelha.\\n\\n\\x97 Alguma coisa, respondeu Margarida; queria\\nir viver uns dois meses na roça.\\n\\nD. Antônia não podia recusar nada à\\nsobrinha; concordou em ir para a roça; e começaram os preparativos. Mendonça\\nsoube da mudança no Rocio, andando a passear de noite; disse-lho Jorge na\\nocasião de ir para o Alcazar. Para o rapaz era uma fortuna aquela mudança,\\nporque suprimia-lhe a única obrigação que ainda tinha neste mundo, que era a de\\nir jantar com a mãe.\\n\\nNão achou Mendonça nada que admirar na\\nresolução; as resoluções de Margarida começavam a parecer-lhe simplicidades.\\n\\nQuando voltou para casa encontrou um\\nbilhete de D. Antônia concebido nestes termos:\\n\\nTemos de ir para fora alguns meses;\\nespero que não nos deixe sem despedir-se de nós. A partida é sábado; e eu quero\\nincumbi-lo de uma coisa.\\n\\nMendonça tomou chá, e dispôs-se a dormir.\\nNão pôde. Quis ler; estava incapaz disso. Era cedo; saiu. Insensivelmente\\ndirigiu os passos para Mata-cavalos. A casa de D. Antônia estava fechada e\\nsilenciosa; evidentemente estavam já dormindo. Mendonça passou adiante, e parou\\njunto da grade do jardim adjacente à casa. De fora podia ver a janela do quarto\\nde Margarida, pouco elevada, e dando para o jardim. Havia luz dentro;\\nnaturalmente Margarida estava acordada. Mendonça deu mais alguns passos; a\\nporta do jardim estava aberta. Mendonça sentiu pulsar-lhe o coração com força\\ndesconhecida. Surgiu-lhe no espírito uma suspeita. Não há coração confiante que\\nnão tenha desfalecimentos destes; além de que, seria errada a suspeita?\\nMendonça, entretanto, não tinha nenhum direito à viúva; fora repelido\\ncategoricamente. Se havia algum dever da parte dele era a retirada e o\\nsilêncio.\\n\\nMendonça quis conservar-se no limite que\\nlhe estava marcado; a porta aberta do jardim podia ser esquecimento da parte\\ndos fâmulos. O médico refletiu bem que aquilo tudo era fortuito, e fazendo um\\nesforço afastou-se do lugar. Adiante parou e refletiu; havia um demônio que o\\nimpelia por aquela porta dentro. Mendonça voltou, e entrou com precaução.\\n\\nApenas dera alguns passos surgiu-lhe em\\nfrente Miss Dollar latindo; parece que a galga saíra de casa sem ser\\npressentida; Mendonça amimou-a e a cadelinha parece que reconheceu o médico,\\nporque trocou os latidos em festas. Na parede do quarto de Margarida\\ndesenhou-se uma sombra de mulher; era a viúva que chegava à janela para ver a\\ncausa do ruído. Mendonça coseu-se como pôde com uns arbustos que ficavam junto\\nda grade; não vendo ninguém, Margarida voltou para dentro.\\n\\nPassados alguns minutos, Mendonça saiu do\\nlugar em que se achava e dirigiu-se para o lado da janela da viúva.\\nAcompanhava-o Miss Dollar. Do jardim não podia olhar, ainda que fosse\\nmais alto, para o aposento da moça. A cadelinha apenas chegou àquele ponto,\\nsubiu ligeira uma escada de pedra que comunicava o jardim com a casa; a porta\\ndo quarto de Margarida ficava justamente no corredor que se seguia à escada; a\\nporta estava aberta. O rapaz imitou a cadelinha; subiu os seis degraus de pedra\\nvagarosamente; quando pôs o pé no último ouviu Miss Dollar pulando no\\nquarto e vindo latir à porta, como que avisando a Margarida de que se\\naproximava um estranho.\\n\\nMendonça deu mais um passo. Mas nesse\\nmomento atravessou o jardim um escravo que acudia ao latido da cadelinha; o\\nescravo examinou o jardim, e não vendo ninguém retirou-se. Margarida foi à\\njanela e perguntou o que era; o escravo explicou-lho e tranqüilizou-a dizendo\\nque não havia ninguém.\\n\\nJustamente quando ela saía da janela\\naparecia à porta a figura de Mendonça. Margarida estremeceu por um abalo\\nnervoso; ficou mais pálida do que era; depois, concentrando nos olhos toda a\\nsoma de indignação que pode conter um coração, perguntou-lhe com voz trêmula:\\n\\n\\x97 Que quer aqui?\\n\\nFoi nesse momento, e só então, que\\nMendonça reconheceu toda a baixeza do seu procedimento, ou para falar mais\\nacertadamente, toda a alucinação do seu espírito. Pareceu-lhe ver em Margarida\\na figura da sua consciência, a exprobrar-lhe tamanha indignidade. O pobre rapaz\\nnão procurou desculpar-se; a sua resposta foi singela e verdadeira.\\n\\n\\x97 Sei que cometi um ato infame, disse\\nele; não tinha razão para isso; estava louco; agora conheço a extensão do mal.\\nNão lhe peço que me desculpe, D. Margarida; não mereço perdão; mereço desprezo;\\nadeus!\\n\\n\\x97 Compreendo, senhor, disse Margarida;\\nquer obrigar-me pela força do descrédito quando me não pode obrigar pelo\\ncoração. Não é de cavalheiro.\\n\\n\\x97 Oh! isso... juro-lhe que não foi tal o\\nmeu pensamento...\\n\\nMargarida caiu numa cadeira parecendo\\nchorar. Mendonça deu um passo para entrar, visto que até então não saíra da\\nporta; Margarida levantou os olhos cobertos de lágrimas, e com um gesto\\nimperioso mostrou-lhe que saísse.\\n\\nMendonça obedeceu; nem um nem outro\\ndormiram nessa noite. Ambos curvavam-se ao peso da vergonha: mas, por honra de\\nMendonça, a dele era maior que a dela; e a dor de uma não ombreava com o\\nremorso de outro.\\n\\nCAPÍTULO\\nVIII\\n\\nNo dia seguinte estava Mendonça em casa\\nfumando charutos sobre charutos, recurso das grandes ocasiões, quando parou à\\nporta dele um carro, apeando-se pouco depois a mãe de Jorge. A visita pareceu\\nde mau agouro ao médico. Mas apenas a velha entrou, dissipou-lhe o receio.\\n\\n\\x97 Creio, disse D. Antônia, que a minha\\nidade permite visitar um homem solteiro.\\n\\nMendonça procurou sorrir ouvindo este\\ngracejo; mas não pôde. Convidou a boa senhora a sentar-se, e sentou-se ele\\ntambém esperando que ela lhe explicasse a causa da visita.\\n\\n\\x97 Escrevi-lhe ontem, disse ela, para que\\nfosse ver-me hoje; preferi vir cá, receando que por qualquer motivo não fosse a\\nMata-cavalos.\\n\\n\\x97 Queria então incumbir-me?\\n\\n\\x97 De coisa nenhuma, respondeu a velha\\nsorrindo; incumbir disse-lhe eu, como diria qualquer outra coisa indiferente;\\nquero informá-lo.\\n\\n\\x97 Ah! de quê?\\n\\n\\x97 Sabe quem ficou hoje de cama?\\n\\n\\x97 D. Margarida?\\n\\n\\x97 É verdade; amanheceu um pouco doente;\\ndiz que passou a noite mal. Eu creio que sei a razão, acrescentou D. Antônia\\nrindo maliciosamente para Mendonça.\\n\\n\\x97 Qual será então a razão? perguntou o\\nmédico.\\n\\n\\x97 Pois não percebe?\\n\\n\\x97 Não.\\n\\n\\x97 Margarida ama-o.\\n\\nMendonça levantou-se da cadeira como por\\numa mola. A declaração da tia da viúva era tão inesperada que o rapaz cuidou\\nestar sonhando.\\n\\n\\x97 Ama-o, repetiu D. Antônia.\\n\\n\\x97 Não creio, respondeu Mendonça depois de\\nalgum silêncio; há de ser engano seu.\\n\\n\\x97 Engano! disse a velha.\\n\\nD. Antônia contou a Mendonça que, curiosa\\npor saber a causa das vigílias de Margarida, descobrira no quarto dela um diário\\nde impressões, escrito por ela, à imitação de não sei quantas heroínas de\\nromances; aí lera a verdade que lhe acabava de dizer.\\n\\n\\x97 Mas se me ama, observou Mendonça\\nsentindo entrar-lhe n\\x92alma um mundo de esperanças, se me ama, por que recusa o\\nmeu coração?\\n\\n\\x97 O diário explica isso mesmo; eu\\nlhe digo. Margarida foi infeliz no casamento; o marido teve unicamente em vista\\ngozar da riqueza dela; Margarida adquiriu a certeza de que nunca será amada por\\nsi, mas pelos cabedais que possui; atribui o seu amor à cobiça. Está\\nconvencido?\\n\\nMendonça começou a protestar.\\n\\n\\x97 É inútil, disse D. Antônia, eu creio na\\nsinceridade do seu afeto; já de há muito percebi isso mesmo; mas como convencer\\num coração desconfiado?\\n\\n\\x97 Não sei.\\n\\n\\x97 Nem eu, disse a velha, mas para isso é\\nque eu vim cá; peço-lhe que veja se pode fazer com que a minha Margarida torne\\na ser feliz, se lhe influi a crença no amor que lhe tem.\\n\\n\\x97 Acho que é impossível...\\n\\nMendonça lembrou-se de contar a D.\\nAntônia a cena da véspera; mas arrependeu-se a tempo.\\n\\nD. Antônia saiu pouco depois.\\n\\nA situação de Mendonça, ao passo que se\\ntornara mais clara, estava mais difícil que dantes. Era possível tentar alguma\\ncoisa antes da cena do quarto; mas depois, achava Mendonça impossível conseguir\\nnada.\\n\\nA doença de Margarida durou dois dias, no\\nfim dos quais levantou-se a viúva um pouco abatida, e a primeira coisa que fez\\nfoi escrever a Mendonça pedindo-lhe que fosse lá à casa.\\n\\nMendonça admirou-se bastante do convite,\\ne obedeceu de pronto.\\n\\n\\x97 Depois do que se deu há três dias,\\ndisse-lhe Margarida, compreende o senhor que eu não posso ficar debaixo da ação\\nda maledicência... Diz que me ama; pois bem, o nosso casamento é inevitável.\\n\\nInevitável! amargou esta\\npalavra ao médico, que aliás não podia recusar uma reparação. Lembrava-se ao\\nmesmo tempo que era amado; e conquanto a idéia lhe sorrisse ao espírito, outra\\nvinha dissipar esse instantâneo prazer, e era a suspeita que Margarida nutria a\\nseu respeito.\\n\\n\\x97 Estou às suas ordens, respondeu ele.\\n\\nAdmirou-se D. Antônia da presteza do\\ncasamento quando Margarida lho anunciou nesse mesmo dia. Supôs que fosse\\nmilagre do rapaz. Pelo tempo adiante reparou que os noivos tinham cara mais de\\nenterro que de casamento. Interrogou a sobrinha a esse respeito; obteve uma\\nresposta evasiva.\\n\\nFoi modesta e reservada a cerimônia do\\ncasamento. Andrade serviu de padrinho, D. Antônia de madrinha; Jorge falou no\\nAlcazar a um padre, seu amigo, para celebrar o ato.\\n\\nD. Antônia quis que os noivos ficassem\\nresidindo em casa com ela. Quando Mendonça se achou a sós com Margarida,\\ndisse-lhe:\\n\\n\\x97 Casei-me para salvar-lhe a reputação;\\nnão quero obrigar pela fatalidade das coisas um coração que me não pertence.\\nTer-me-á por seu amigo; até amanhã.\\n\\nSaiu Mendonça depois deste speech,\\ndeixando Margarida suspensa entre o conceito que fazia dele e a impressão das\\nsuas palavras agora.\\n\\nNão havia posição mais singular do que a\\ndestes noivos separados por uma quimera. O mais belo dia da vida tornava-se\\npara eles um dia de desgraça e de solidão; a formalidade do casamento foi\\nsimplesmente o prelúdio do mais completo divórcio. Menos ceticismo da parte de\\nMargarida, mais cavalheirismo da parte do rapaz, teriam poupado o desenlace\\nsombrio da comédia do coração. Vale mais imaginar que descrever as torturas\\ndaquela primeira noite de noivado.\\n\\nMas aquilo que o espírito do homem não\\nvence, há de vencê-lo o tempo, a quem cabe final razão. O tempo convenceu\\nMargarida de que a sua suspeita era gratuita; e, coincidindo com ele o coração,\\nveio a tornar-se efetivo o casamento apenas celebrado.\\n\\nAndrade ignorou estas coisas; cada vez\\nque encontrava Mendonça chamava-lhe Colombo do amor; tinha Andrade a mania de\\ntodo o sujeito a quem as idéias ocorrem trimestralmente; apenas pilhada alguma\\nde jeito repetia-a até a saciedade.\\n\\nOs dois esposos são ainda noivos e\\nprometem sê-lo até a morte. Andrade meteu-se na diplomacia e promete ser um dos\\nluzeiros da nossa representação internacional. Jorge continua a ser um bom\\npândego; D. Antônia prepara-se para despedir-se do mundo.\\n\\nQuanto a Miss Dollar, causa\\nindireta de todos estes acontecimentos, saindo um dia à rua foi pisada por um\\ncarro; faleceu pouco depois. Margarida não pôde reter algumas lágrimas pela\\nnobre cadelinha; foi o corpo enterrado na chácara, à sombra de uma laranjeira;\\ncobre a sepultura uma lápide com esta simples inscrição:\\n\\nA Miss Dollar\\n\\nLuís Soares\\n\\nÍNDICE\\n\\nCapítulo Primeiro\\n\\nCapítulo II\\n\\nCapítulo iii\\n\\nCapítulo iv\\n\\nCapítulo v\\n\\nCapítulo vI\\n\\nCAPÍTULO PRIMEIRO\\n\\nTrocar o dia pela noite, dizia Luís\\nSoares, é restaurar o império da natureza corrigindo a obra da sociedade. O\\ncalor do sol está dizendo aos homens que vão descansar e dormir, ao passo que a\\nfrescura relativa da noite é a verdadeira estação em que se deve viver. Livre\\nem todas as minhas ações, não quero sujeitar-me à lei absurda que a sociedade\\nme impõe: velarei de noite, dormirei de dia.\\n\\nContrariamente a vários ministérios,\\nSoares cumpria este programa com um escrúpulo digno de uma grande consciência. A\\naurora para ele era o crepúsculo, o crepúsculo era a aurora. Dormia doze horas\\nconsecutivas durante o dia, quer dizer das seis da manhã às seis da tarde.\\nAlmoçava às sete e jantava às duas da madrugada. Não ceava. A sua ceia\\nlimitava-se a uma xícara de chocolate que o criado lhe dava às cinco horas da\\nmanhã quando ele entrava para casa. Soares engolia o chocolate, fumava dois\\ncharutos, fazia alguns trocadilhos com o criado, lia uma página de algum\\nromance, e deitava-se.\\n\\nNão lia jornais. Achava que um jornal era\\na coisa mais inútil deste mundo, depois da Câmara dos Deputados, das obras dos\\npoetas e das missas. Não quer isto dizer que Soares fosse ateu em religião,\\npolítica e poesia. Não. Soares era apenas indiferente. Olhava para todas as\\ngrandes coisas com a mesma cara com que via uma mulher feia. Podia vir a ser um\\ngrande perverso; até então era apenas uma grande inutilidade.\\n\\nGraças a uma boa fortuna que lhe deixara\\no pai, Soares podia gozar a vida que levava, esquivando-se a todo o gênero de\\ntrabalho e entregue somente aos instintos da sua natureza e aos caprichos do\\nseu coração. Coração é talvez demais. Era duvidoso que Soares o tivesse. Ele\\nmesmo o dizia. Quando alguma dama lhe pedia que ele a amasse, Soares respondia:\\n\\n\\x97 Minha rica pequena, eu nasci com a\\ngrande vantagem de não ter coisa nenhuma dentro do peito nem dentro da cabeça.\\nIsso que chamam juízo e sentimento são para mim verdadeiros mistérios. Não os\\ncompreendo porque os não sinto.\\n\\nSoares acrescentava que a fortuna\\nsuplantara a natureza deitando-lhe no berço em que nasceu uma boa soma de\\ncontos de réis. Mas esquecia que a fortuna, apesar de generosa, é exigente, e\\nquer da parte dos seus afilhados algum esforço próprio. A fortuna não é\\nDanaide. Quando vê que um tonel esgota a água que se lhe põe dentro vai levar\\nos seus cântaros a outra parte. Soares não pensava nisto. Cuidava que os seus\\nbens eram renascentes como as cabeças da hidra antiga. Gastava às mãos largas;\\ne os contos de réis, tão dificilmente acumulados por seu pai, escapavam-se-lhes\\ndas mãos como pássaros sequiosos por gozarem do ar livre.\\n\\nAchou-se, portanto, pobre quando menos o\\nesperava. Um dia de manhã, quer dizer às ave-marias, os olhos de Soares viram\\nescritas as palavras fatídicas do festim babilônico. Era uma carta que o criado\\nlhe entregara dizendo que o banqueiro de Soares a havia deixado à meia-noite. O\\ncriado falava como o amo vivia: ao meio-dia chamava meia-noite.\\n\\n\\x97 Já te disse, respondeu Soares, que eu\\nsó recebo cartas dos meus amigos, ou então...\\n\\n\\x97 De alguma rapariga, bem sei. É por isso\\nque lhe não tenho dado as cartas que o banqueiro tem trazido há um mês. Hoje,\\nporém, o homem disse que era indispensável que lhe eu desse esta.\\n\\nSoares sentou-se na cama, e perguntou ao\\ncriado meio alegre e meio zangado:\\n\\n\\x97 Então tu és criado dele ou meu?\\n\\n\\x97 Meu amo, o banqueiro disse que se trata\\nde um grande perigo.\\n\\n\\x97 Que perigo?\\n\\n\\x97 Não sei.\\n\\n\\x97 Deixa ver a carta.\\n\\nO criado entregou-lhe a carta.\\n\\nSoares abriu-a e leu-a duas vezes. Dizia\\na carta que o rapaz não possuía mais que seis contos de réis. Para Soares seis\\ncontos de réis eram menos que seis vinténs.\\n\\nPela primeira vez na sua vida Soares\\nsentiu uma grande comoção. A idéia de não ter dinheiro nunca lhe havia acudido\\nao espírito; não imaginava que um dia se achasse na posição de qualquer outro\\nhomem que precisava de trabalhar.\\n\\nAlmoçou sem vontade e saiu. Foi ao\\nAlcazar. Os amigos acharam-no triste; perguntaram-lhe se era alguma mágoa de\\namor. Soares respondeu que estava doente. As Laís da localidade acharam que era\\nde bom gosto ficarem tristes também. A consternação foi geral.\\n\\nUm dos seus amigos, José Pires, propôs um\\npasseio a Botafogo para distrair as melancolias de Soares. O rapaz aceitou. Mas\\no passeio a Botafogo era tão comum que não podia distraí-lo. Lembraram-se de ir\\nao Corcovado, idéia que foi aceita e executada imediatamente.\\n\\nMas que há que possa distrair um rapaz\\nnas condições de Soares? A viagem ao Corcovado apenas lhe produziu uma grande\\nfadiga, aliás útil, porque, na volta, dormiu o rapaz a sono solto.\\n\\nQuando acordou mandou dizer ao Pires que\\nviesse falar-lhe imediatamente. Daí a uma hora parava um carro à porta: era o\\nPires que chegava, mas acompanhado de uma rapariga morena que respondia ao nome\\nde Vitória. Entraram os dois pela sala de Soares com a franqueza e o estrépito\\nnaturais entre pessoas de família.\\n\\n\\x97 Não está doente? perguntou Vitória ao\\ndono da casa.\\n\\n\\x97 Não, respondeu este; mas por que veio\\nvocê?\\n\\n\\x97 É boa! disse José Pires; veio porque é\\na minha xícara inseparável... Querias falar-me em particular?\\n\\n\\x97 Queria.\\n\\n\\x97 Pois falemos aí em qualquer canto;\\nVitória fica na sala vendo os álbuns.\\n\\n\\x97 Nada, interrompeu a moça; nesse caso\\nvou-me embora. É melhor; só imponho uma condição: é que ambos hão de ir depois\\nlá para casa; temos ceata.\\n\\n\\x97 Valeu! disse Pires.\\n\\nVitória saiu; os dois rapazes ficaram\\nsós.\\n\\nPires era o tipo do bisbilhoteiro e leviano.\\nEm lhe cheirando novidade preparava-se para instruir-se de tudo. Lisonjeava-o a\\nconfiança de Soares, e adivinhava que o rapaz ia comunicar-lhe alguma coisa\\nimportante. Para isso assumiu um ar condigno com a situação. Sentou-se\\ncomodamente em uma cadeira de braços; pôs o castão da bengala na boca e começou\\no ataque com estas palavras:\\n\\n\\x97 Estamos sós; que me queres?\\n\\nSoares confiou-lhe tudo; leu-lhe a carta\\ndo banqueiro; mostrou-lhe em toda a nudez a sua miséria. Disse-lhe que naquela\\nsituação não via solução possível, e confessou ingenuamente que a idéia do\\nsuicídio o havia alimentado durante longas horas.\\n\\n\\x97 Um suicídio! exclamou Pires; estás\\ndoido.\\n\\n\\x97 Doido! respondeu Soares; entretanto não\\nvejo outra saída neste beco. Demais, é apenas meio suicídio, porque a pobreza\\njá é meia morte.\\n\\n\\x97 Convenho que a pobreza não é coisa\\nagradável, e até acho...\\n\\nPires interrompeu-se; uma idéia súbita\\natravessara-lhe o espírito: a idéia de que Soares acabasse a conferência por\\npedir-lhe dinheiro. Pires tinha um preceito na sua vida: era não emprestar\\ndinheiro aos amigos. Não se empresta sangue, dizia ele.\\n\\nSoares não reparou na frase cortada do\\namigo, e disse:\\n\\n\\x97 Viver pobre depois de ter sido rico...\\né impossível.\\n\\n\\x97 Nesse caso que me queres tu? perguntou\\nPires, a quem pareceu que era bom atacar o touro de frente.\\n\\n\\x97 Um conselho.\\n\\n\\x97 Inútil conselho, pois que já tens uma\\nidéia fixa.\\n\\n\\x97 Talvez. Entretanto confesso que não se\\ndeixa a vida com facilidade, e má ou boa, sempre custa morrer. Por outro lado, ostentar\\na minha miséria diante das pessoas que me viram rico é uma humilhação que eu\\nnão aceito. Que farias tu no meu lugar?\\n\\n\\x97 Homem, respondeu Pires, há muitos\\nmeios...\\n\\n\\x97 Venha um.\\n\\n\\x97 Primeiro meio. Vai para Nova Iorque e\\nprocura uma fortuna.\\n\\n\\x97 Não me convém; nesse caso fico no Rio\\nde Janeiro.\\n\\n\\x97 Segundo meio. Arranja um casamento\\nrico.\\n\\n\\x97 É bom de dizer. Onde está esse\\ncasamento?\\n\\n\\x97 Procura. Não tens uma prima que gosta\\nde ti?\\n\\n\\x97 Creio que já não gosta; e demais não é\\nrica; tem apenas trinta contos; despesa de um ano.\\n\\n\\x97 É um bom princípio de vida.\\n\\n\\x97 Nada; outro meio.\\n\\n\\x97 Terceiro meio, e o melhor. Vai à casa\\nde teu tio, angaria-lhe a estima, dize que estás arrependido da vida passada,\\naceita um emprego, enfim vê se te constituis seu herdeiro universal.\\n\\nSoares não respondeu; a idéia pareceu-lhe\\nboa.\\n\\n\\x97 Aposto que te agrada o terceiro meio?\\nperguntou Pires rindo.\\n\\n\\x97 Não é mau. Aceito; e bem sei que é\\ndifícil e demorado; mas eu não tenho muitos à escolha.\\n\\n\\x97 Ainda bem, disse Pires levantando-se.\\nAgora o que se quer é algum juízo. Há de custar-te o sacrifício, mas lembra-te\\nque é o meio único de teres dentro de pouco tempo uma fortuna. Teu tio é um\\nhomem achacado de moléstias; qualquer dia bate a bota. Aproveita o tempo. E\\nagora vamos à ceia da Vitória.\\n\\n\\x97 Não vou, disse Soares; quero\\nacostumar-me desde já a viver vida nova.\\n\\n\\x97 Bem; adeus.\\n\\n\\x97 Olha; confiei-te isto a ti só;\\nguarda-me segredo.\\n\\n\\x97 Sou um túmulo, respondeu Pires descendo\\na escada.\\n\\nMas no dia seguinte já os rapazes e\\nraparigas sabiam que Soares ia fazer-se anacoreta... por não ter dinheiro\\nnenhum. O próprio Soares reconheceu isto no rosto dos amigos. Todos pareciam\\ndizer-lhe: É pena! que pândego vamos nós perder!\\n\\nPires nunca mais o visitou.\\n\\nCAPÍTULO II\\n\\nO tio de Soares chamava-se o Major Luís\\nda Cunha Vilela, e era com efeito um homem já velho e adoentado. Contudo não se\\npodia dizer que morreria cedo. O Major Vilela observava um rigoroso regímen que\\nlhe ia entretendo a vida. Tinha uns bons sessenta anos. Era um velho alegre e\\nsevero ao mesmo tempo. Gostava de rir, mas era implacável com os maus costumes.\\nConstitucional por necessidade, era no fundo de sua alma absolutista. Chorava\\npela sociedade antiga; criticava constantemente a nova. Enfim foi o último\\nhomem que abandonou a cabeleira de rabicho.\\n\\nVivia o Major Vilela em Catumbi,\\nacompanhado de sua sobrinha Adelaide, e mais uma velha parenta. A sua vida era\\npatriarcal. Importando-se pouco ou nada com o que ia por fora, o major\\nentregava-se todo ao cuidado de sua casa, aonde poucos amigos e algumas\\nfamílias da vizinhança o iam ver, e passar as noites com ele. O major\\nconservava sempre a mesma alegria, ainda nas ocasiões em que o reumatismo o\\nprostrava. Os reumáticos dificilmente acreditarão nisto; mas eu posso afirmar\\nque era verdade.\\n\\nFoi num dia de manhã, felizmente um dia\\nem que o major não sentia o menor achaque, e ria e brincava com as duas\\nparentas, que Soares apareceu em Catumbi à porta do tio.\\n\\nQuando o major recebeu o cartão com o\\nnome do sobrinho, supôs que era alguma caçoada. Podia contar com todos em casa,\\nmenos o sobrinho. Fazia já dois anos que o não via, e entre a última e a\\npenúltima vez tinha mediado ano e meio. Mas o moleque disse-lhe tão seriamente\\nque o nhonhô Luís estava na sala de espera, que o velho acabou por acreditar.\\n\\n\\x97 Que te parece, Adelaide?\\n\\nA moça não respondeu.\\n\\nO velho foi à sala de visitas.\\n\\nSoares tinha pensado no meio de aparecer\\nao tio. Ajoelhar-se era dramático demais; cair-lhe nos braços exigia certo\\nimpulso íntimo que ele não tinha; além de que, Soares vexava-se de ter ou\\nfingir uma comoção. Lembrou-se de começar uma conversação alheia ao fim que o\\nlevava lá, e acabar por confessar-se disposto a arrepiar carreira. Mas este\\nmeio tinha o inconveniente de fazer preceder a reconciliação por um sermão, que\\no rapaz dispensava. Ainda não se resolvera a aceitar um dos muitos meios que\\nlhe vieram à idéia, quando o major apareceu à porta da sala.\\n\\nO major parou à porta sem dizer palavra e\\nlançou sobre o sobrinho um olhar severo e interrogador.\\n\\nSoares hesitou um instante; mas como a\\nsituação podia prolongar-se sem benefício seu, o rapaz seguiu um movimento\\nnatural: foi ao tio e estendeu-lhe a mão.\\n\\n\\x97 Meu tio, disse ele, não precisa dizer\\nmais nada; o seu olhar diz-me tudo. Fui pecador e arrependo-me. Aqui estou.\\n\\nO major estendeu-lhe a mão, que o rapaz\\nbeijou com o respeito de que era suscetível.\\n\\nDepois encaminhou-se para uma cadeira e\\nsentou-se; o rapaz ficou de pé.\\n\\n\\x97 Se o teu arrependimento é sincero,\\nabro-te a minha porta e o meu coração. Se não é sincero podes ir embora; há\\nmuito tempo que não freqüento a casa da ópera: não gosto de comediantes.\\n\\nSoares protestou que era sincero. Disse\\nque fora dissipado e doido, mas que aos trinta anos era justo ter juízo.\\nReconhecia agora que o tio sempre tivera razão. Supôs ao princípio que eram\\nsimples rabugices de velho, e mais nada; mas não era natural esta leviandade num\\nrapaz educado no vício? Felizmente corrigia-se a tempo. O que ele agora queria\\nera entrar em bom viver, e começava por aceitar um emprego público que o\\nobrigasse a trabalhar e fazer-se sério. Tratava-se de ganhar uma posição.\\n\\nOuvindo o discurso de que fiz o extrato\\nacima, o major procurava adivinhar o fundo do pensamento de Soares. Seria ele\\nsincero? O velho concluiu que o sobrinho falava com a alma nas mãos. A sua\\nilusão chegou ao ponto de ver-lhe uma lágrima nos olhos, lágrima que não\\napareceu, nem mesmo fingida.\\n\\nQuando Soares acabou, o major\\nestendeu-lhe a mão e apertou a que o rapaz lhe estendeu também.\\n\\n\\x97 Creio, Luís. Ainda bem que te\\narrependeste a tempo. Isso que vivias não era vida nem morte; a vida é mais\\ndigna e a morte mais tranqüila do que a existência que malbarataste. Entras\\nagora em casa como um filho pródigo. Terás o melhor lugar à mesa. Esta família\\né a mesma família.\\n\\nO major continuou por este tom; Soares\\nouviu a pé quedo o discurso do tio. Dizia consigo que era a amostra da pena que\\nia sofrer, e um grande desconto dos seus pecados.\\n\\nO major acabou levando o rapaz para\\ndentro, onde os esperava o almoço.\\n\\nNa sala de jantar estavam Adelaide e a\\nvelha parenta. A Sra. Antônia de Moura Vilela recebeu Soares com grandes\\nexclamações que envergonharam sinceramente o rapaz. Quanto a Adelaide, apenas o\\ncumprimentou sem olhar para ele; Soares retribuiu o cumprimento.\\n\\nO major reparou na frieza; mas parece que\\nsabia alguma coisa, porque apenas deu uma risadinha amarela, coisa que lhe era\\npeculiar.\\n\\nSentaram-se à mesa, e o almoço correu\\nentre as pilhérias do major, as recriminações da Sra. Antônia, as explicações\\ndo rapaz e o silêncio de Adelaide. Quando o almoço acabou, o major disse ao\\nsobrinho que fumasse, concessão enorme que o rapaz a custo aceitou. As duas\\nsenhoras saíram; ficaram os dois à mesa.\\n\\n\\x97 Estás então disposto a trabalhar?\\n\\n\\x97 Estou, meu tio.\\n\\n\\x97 Bem; vou ver se te arranjo um emprego.\\nQue emprego preferes?\\n\\n\\x97 O que quiser, meu tio, contanto que eu\\ntrabalhe.\\n\\n\\x97 Bem. Levarás amanhã, uma carta minha a\\num dos ministros. Deus queira que possas obter o emprego sem dificuldade. Quero\\nver-te trabalhador e sério; quero ver-te homem. As dissipações não produzem\\nnada, a não serem dívidas e desgostos... Tens dívidas?\\n\\n\\x97 Nenhuma, respondeu Soares.\\n\\nSoares mentia. Tinha uma dívida de\\nalfaiate, relativamente pequena; queria pagá-la sem que o tio soubesse.\\n\\nNo dia seguinte o major escreveu a carta\\nprometida, que o sobrinho levou ao ministro; e tão feliz foi, que daí a um mês\\nestava empregado em uma secretaria com um bom ordenado.\\n\\nCumpre fazer justiça ao rapaz. O\\nsacrifício que fez de transformar os seus hábitos da vida foi enorme, e a\\njulgá-lo pelos seus antecedentes, ninguém o julgara capaz de tal. Mas o desejo\\nde perpetuar uma vida de dissipação pode explicar a mudança e o sacrifício.\\nAquilo na existência de Soares não passava de um parêntesis mais ou menos\\nextenso. Almejava por fechá-lo e continuar o período como havia começado, isto\\né, vivendo com Aspásia e pagodeando com Alcibíades.\\n\\nO tio não desconfiava de nada; mas temia\\nque o rapaz fosse novamente tentado à fuga, ou porque o seduzisse a lembrança\\ndas dissipações antigas, ou porque o aborrecesse a monotonia e a fadiga do\\ntrabalho. Com o fim de impedir o desastre, lembrou-se de inspirar-lhe ambição\\npolítica. Pensava o major que a política seria um remédio decisivo para aquele\\ndoente, como se não fosse conhecido que os louros de Lovelace e os de Turgot andam\\nmuita vez na mesma cabeça.\\n\\nSoares não desanimou o major. Disse que\\nera natural acabar a sua existência na política, e chegou a dizer que algumas\\nvezes sonhara com uma cadeira no parlamento.\\n\\n\\x97 Pois eu verei se te posso arranjar\\nisto, respondeu o tio. O que é preciso é que estudes a ciência da política, a\\nhistória do nosso parlamento e do nosso governo; e principalmente é preciso que\\ncontinues a ser o que és hoje: um rapaz sério.\\n\\nSe bem o dizia o major, melhor o fazia\\nSoares, que desde então meteu-se com os livros e lia com afinco as discussões\\ndas câmaras.\\n\\nSoares não morava com o tio, mas passava\\nlá todo o tempo que lhe sobrava do trabalho, e voltava para casa depois do chá,\\nque era patriarcal, e bem diferente das ceatas do antigo tempo.\\n\\nNão afirmo que entre as duas fases da\\nexistência de Luís Soares não houvesse algum elo de união, e que o emigrante\\ndas terras de Gnido não fizesse de quando em quando excursões à pátria. Em todo\\no caso essas excursões eram tão secretas que ninguém sabia delas, nem talvez os\\nhabitantes das referidas terras, com exceção dos poucos escolhidos para\\nreceberem o expatriado. O caso era singular, porque naquele país não se\\nreconhece o cidadão naturalizado estrangeiro, ao contrário da Inglaterra, que\\nnão dá aos súditos da rainha o direito de escolherem outra pátria.\\n\\nSoares encontrava-se de quando em quando\\ncom Pires. O confidente do convertido manifestava a sua amizade antiga\\noferecendo-lhe um charuto de Havana e contando-lhe algumas boas fortunas\\nhavidas nas campanhas do amor, em que o alarve supunha ser consumado general.\\n\\nHavia já cinco meses que o sobrinho do\\nMajor Vilela se achava empregado, e ainda os chefes da repartição não tinham\\ntido um só motivo de queixa contra ele. A dedicação era digna de melhor causa.\\nExteriormente via-se em Luís Soares um monge; raspando-se um pouco achava-se o\\ndiabo.\\n\\nOra, o diabo viu de longe uma\\nconquista...\\n\\nCAPÍTULO III\\n\\nA prima Adelaide tinha vinte e quatro\\nanos, e a sua beleza, no pleno desenvolvimento da sua mocidade, tinha em si o\\ncondão de fazer morrer de amores. Era alta e bem proporcionada; tinha uma\\ncabeça modelada pelo tipo antigo; a testa era espaçosa e alta, os olhos\\nrasgados e negros, o nariz levemente aquilino. Quem a contemplava durante\\nalguns momentos sentia que ela tinha todas as energias, a das paixões e a da\\nvontade.\\n\\nHá de lembrar-se o leitor do frio\\ncumprimento trocado entre Adelaide e seu primo; também se há de lembrar que\\nSoares disse ao amigo Pires ter sido amado por sua prima. Ligam-se estas duas\\ncoisas. A frieza de Adelaide resultava de uma lembrança que era dolorosa para a\\nmoça; Adelaide amara o primo, não com um simples amor de primos, que em geral\\nresulta da convivência e não de uma súbita atração. Amara-o com todo o vigor e\\ncalor de sua alma; mas já então o rapaz iniciava os seus passos em outras\\nregiões e ficou indiferente aos afetos da moça. Um amigo que sabia do segredo\\nperguntou-lhe um dia por que razão não se casava com Adelaide, ao que o rapaz\\nrespondeu friamente:\\n\\n\\x97 Quem tem a minha fortuna não se casa;\\nmas se se casa é sempre com quem tenha mais. Os bens de Adelaide são a quinta\\nparte dos meus; para ela é negócio da China; para mim é um mau negócio.\\n\\nO amigo que ouvira esta resposta não\\ndeixou de dar uma prova da sua afeição ao rapaz indo contar tudo à moça. O\\ngolpe foi tremendo, não tanto pela certeza que lhe dava de não ser amada, como\\npela circunstância de nem ao menos ficar-lhe o direito de estima. A confissão\\nde Soares era um corpo de delito. O confidente oficioso esperava talvez colher\\nos despojos da derrota; mas Adelaide, tão depressa ouviu a delação como\\ndesprezou o delator.\\n\\nO incidente não passou disto.\\n\\nQuando Soares voltou à casa do tio, a\\nmoça achou-se em dolorosa situação; era obrigada a conviver com um homem ao\\nqual nem podia dar apreço. Pela sua parte, o rapaz também se achava acanhado,\\nnão porque lhe doessem as palavras que dissera um dia, mas por causa do tio,\\nque ignorava tudo. Não ignorava; o moço é que o supunha. O major soube da\\npaixão de Adelaide e soube também da repulsa que tivera no coração do rapaz.\\nTalvez não soubesse das palavras textuais repetidas à moça pelo amigo de\\nSoares; mas se não conhecia o texto, conhecia o espírito; sabia que, pelo\\nmotivo de ser amado, o rapaz entrara a aborrecer a prima, e que esta, vendo-se\\nrepelida, entrara a aborrecer o rapaz. O major supôs até durante algum tempo\\nque a ausência de Soares tinha por motivo a presença da moça em casa.\\n\\nAdelaide era filha de um irmão do major,\\nhomem muito rico e igualmente excêntrico, que morrera havia dez anos deixando a\\nmoça entregue aos cuidados do irmão. Como o pai de Adelaide fizera muitas\\nviagens, parece que gastou nelas a maior parte da sua fortuna. Quando morreu\\napenas coube a Adelaide, filha única, cerca de trinta contos, que o tio\\nconservou intactos para serem o dote da pupila.\\n\\nSoares houve-se como pôde na singular\\nsituação em que se achava. Não conversava com a prima; apenas trocava com ela\\nas palavras estritamente necessárias para não chamar a atenção do tio. A moça\\nfazia o mesmo.\\n\\nMas quem pode ter mão ao coração? A prima\\nde Luís Soares sentiu que pouco a pouco lhe ia renascendo o antigo afeto.\\nProcurou combatê-lo sinceramente; mas não se impede o crescimento de uma planta\\nsenão arrancando-lhe as raízes. As raízes existiam ainda. Apesar dos esforços\\nda moça o amor veio pouco a pouco invadindo o lugar do ódio, e se até então o\\nsuplício era grande, agora era enorme. Travara-se uma luta entre o orgulho e o\\namor. A moça sofreu consigo; não articulou uma palavra.\\n\\nLuís Soares reparava que quando os seus\\ndedos tocavam os da prima, esta experimentava uma grande emoção: corava e\\nempalidecia. Era um grande navegador aquele rapaz nos mares do amor:\\nconhecia-lhe a calma e a tempestade. Convenceu-se de que a prima o amava outra\\nvez. A descoberta não o alegrou; pelo contrário, foi-lhe motivo de grande\\nirritação. Receava que o tio, descobrindo o sentimento da sobrinha, propusesse\\no casamento ao rapaz; e recusá-lo não seria comprometer no futuro a esperada\\nherança? A herança sem o casamento era o ideal do moço. 'Dar-me asas,\\npensava ele, atando-me os pés, é o mesmo que condenar-me à prisão. É o destino\\ndo papagaio doméstico; não aspiro a tê-lo.'\\n\\nRealizaram-se as previsões do rapaz. O\\nmajor descobriu a causa da tristeza da moça e resolveu pôr termo àquela\\nsituação propondo ao sobrinho o casamento.\\n\\nSoares não podia recusar abertamente sem\\ncomprometer o edifício da sua fortuna.\\n\\n\\x97 Este casamento, disse-lhe o tio, é complemento\\nda minha felicidade. De um só lance reúno duas pessoas que tanto estimo, e\\nmorro tranqüilo sem levar nenhum pesar para o outro mundo. Estou que aceitarás.\\n\\n\\x97 Aceito, meu tio; mas observo que o\\ncasamento assenta no amor, e eu não amo minha prima.\\n\\n\\x97 Bem; hás de amá-la; casa-te primeiro...\\n\\n\\x97 Não desejo expô-la a uma desilusão.\\n\\n\\x97 Qual desilusão! disse o major sorrindo.\\nGosto de ouvir-te falar essa linguagem poética, mas casamento não é poesia. É\\nverdade que é bom que duas pessoas antes de se casarem se tenham já alguma\\nestima mútua. Isso creio que tens. Lá fogos ardentes, meu rico sobrinho, são\\ncoisas que ficam bem em verso, e mesmo em prosa; mas na vida, que não é prosa\\nnem verso, o casamento apenas exige certa conformidade de gênio, de educação e\\nde estima.\\n\\n\\x97 Meu tio sabe que eu não me recuso a uma\\nordem sua.\\n\\n\\x97 Ordem, não! Não te ordeno, proponho.\\nDizes que não amas tua prima; pois bem, faze por isso, e daqui a algum tempo\\ncasem-se que me darão gosto. O que eu quero é que seja cedo, porque não estou\\nlonge de dar à casca.\\n\\nO rapaz disse que sim. Adiou a\\ndificuldade não podendo resolvê-la. O major ficou satisfeito com o arranjo e\\nconsolou a sobrinha com a promessa de que podia casar-se um dia com o primo.\\nEra a primeira vez que o velho tocava em semelhante assunto, e Adelaide não\\ndissimulou o seu espanto, espanto que lisonjeou profundamente a perspicácia do\\nmajor.\\n\\n\\x97 Ah! tu pensas, disse ele, que eu por\\nser velho já perdi os olhos do coração? Vejo tudo, Adelaide; vejo aquilo mesmo\\nque se quer esconder.\\n\\nA moça não pôde reter algumas lágrimas, e\\ncomo o velho a consolasse dando-lhe esperanças, ela respondeu abanando a\\ncabeça:\\n\\n\\x97 Esperanças, nenhuma!\\n\\n\\x97 Descansa em mim! disse o major.\\n\\nConquanto a dedicação do tio fosse toda espontânea\\ne filha do amor que votava à sobrinha, esta compreendeu que semelhante\\nintervenção podia fazer supor ao primo que ela esmolava os afetos do seu\\ncoração.\\n\\nAqui falou o orgulho da mulher, que\\npreferia o sofrimento à humilhação. Quando ela expôs estas objeções ao tio, o\\nmajor sorriu-se afavelmente e procurou acalmar a suscetibilidade da moça.\\n\\nPassaram-se alguns dias sem mais\\nincidente; o rapaz estava no gozo da dilação que lhe dera o tio. Adelaide\\nreadquiriu o seu ar frio e indiferente. Soares compreendia o motivo, e àquela\\nmanifestação do orgulho respondia com um sorriso. Duas vezes notou Adelaide\\nessa expressão de desdém da parte do primo. Que mais precisava para reconhecer\\nque o rapaz sentia por ela a mesma indiferença de outro tempo! Acrescia que\\nsempre que os dois se encontravam sós, Soares era o primeiro que se afastava\\ndela. Era o mesmo homem.\\n\\n'Não me ama, não me amará\\nnunca!' dizia a moça consigo.\\n\\nCAPÍTULO IV\\n\\nUm dia de manhã o major Vilela recebeu a\\nseguinte carta:\\n\\nMeu valente major.\\n\\nCheguei da Bahia hoje mesmo, e lá irei de\\ntarde para ver-te e abraçar-te. Prepara um jantar. Creio que me não hás de\\nreceber como qualquer indivíduo. Não esqueças o vatapá.\\n\\nTeu amigo,\\nAnselmo.\\n\\n\\x97 Bravo! disse o major. Temos cá o Anselmo;\\nprima Antônia, mande fazer um bom vatapá.\\n\\nO Anselmo que chegara da Bahia chamava-se\\nAnselmo Barroso de Vasconcelos. Era um fazendeiro rico, e veterano da\\nindependência. Com os seus setenta e oito anos ainda se mostrava rijo e capaz\\nde grandes feitos. Tinha sido íntimo amigo do pai de Adelaide, que o apresentou\\nao major, vindo a ficar amigo deste depois que o outro morrera. Anselmo\\nacompanhou o amigo até os seus últimos instantes; e chorou a perda como se fora\\nseu próprio irmão. As lágrimas cimentaram a amizade entre ele e o major.\\n\\nDe tarde apareceu Anselmo galhofeiro e\\nvivo como se começasse para ele uma nova mocidade. Abraçou a todos; deu um\\nbeijo em Adelaide, a quem felicitou pelo desenvolvimento das suas graças.\\n\\n\\x97 Não se ria de mim, disse-lhe ele, eu\\nfui o maior amigo de seu pai. Pobre amigo! morreu nos meus braços.\\n\\nSoares, que sofria com a monotonia da\\nvida que levava em casa do tio, alegrou-se com a presença do galhofeiro ancião,\\nque era um verdadeiro fogo de artifício. Anselmo é que pareceu não simpatizar\\ncom o sobrinho do major. Quando o major ouviu isto, disse:\\n\\n\\x97 Sinto muito, porque Soares é um rapaz\\nsério.\\n\\n\\x97 Creio que é sério demais. Rapaz que não\\nri...\\n\\nNão sei que incidente interrompeu a frase\\ndo fazendeiro.\\n\\nDepois do jantar Anselmo disse ao major:\\n\\n\\x97 Quantos são amanhã?\\n\\n\\x97 Quinze.\\n\\n\\x97 De que mês?\\n\\n\\x97 É boa! de dezembro.\\n\\n\\x97 Bem; amanhã 15 de dezembro preciso ter\\numa conferência contigo e os teus parentes. Se o vapor se demora um dia em\\ncaminho pregava-me uma boa peça.\\n\\nNo dia seguinte verificou-se a\\nconferência pedida por Anselmo. Estavam presentes o major, Soares, Adelaide e\\nD. Antônia, únicos parentes do finado.\\n\\n\\x97 Faz hoje dez anos que faleceu o pai\\ndesta menina, disse Anselmo apontando para Adelaide. Como sabem, o Dr. Bento\\nVarela foi o meu melhor amigo, e eu tenho consciência de haver correspondido à\\nsua afeição até aos últimos instantes. Sabem que ele era um gênio excêntrico;\\ntoda a sua vida foi uma grande originalidade. Ideava vinte projetos, qual mais\\ngrandioso, qual mais impossível, sem chegar ao cabo de nenhum, porque o seu\\nespírito criador tão depressa compunha uma coisa como entrava a planear outra.\\n\\n\\x97 É verdade, interrompeu o major.\\n\\n\\x97 O Bento morreu nos meus braços, e como\\nderradeira prova da sua amizade confiou-me um papel com a declaração de que eu\\nsó o abrisse em presença dos seus parentes dez anos depois de sua morte. No\\ncaso de eu morrer os meus herdeiros assumiriam essa obrigação; em falta deles,\\no major, a Sra. D. Adelaide, enfim qualquer pessoa que por laço de sangue\\nestivesse ligada a ele. Enfim, se ninguém houvesse na classe mencionada, ficava\\nincumbido um tabelião. Tudo isto havia eu declarado em testamento, que vou\\nreformar. O papel a que me refiro, tenho aqui no bolso.\\n\\nHouve um movimento de curiosidade.\\n\\nAnselmo tirou do bolso uma carta fechada\\ncom lacre preto.\\n\\n\\x97 É este, disse ele. Está intacto. Não\\nconheço o texto; mas posso mais ou menos saber o que está dentro por\\ncircunstâncias que vou referir.\\n\\nRedobrou a atenção geral.\\n\\n\\x97 Antes de morrer, continuou Anselmo, o\\nmeu querido amigo entregou-me uma parte da sua fortuna, quero dizer a maior\\nparte, porque a menina recebeu apenas trinta contos. Eu recebi dele trezentos\\ncontos, que guardei até hoje intactos, e que devo restituir segundo as\\nindicações desta carta.\\n\\nA um movimento de espanto em todos\\nseguiu-se um movimento de ansiedade. Qual seria a vontade misteriosa do pai de\\nAdelaide? D. Antônia lembrou-se que em rapariga fora namorada do defunto, e por\\num momento lisonjeou-se com a idéia de que o velho maníaco se houvesse lembrado\\ndela às portas da morte.\\n\\n\\x97 Nisto reconheço eu o mano Bento, disse\\no major tomando uma pitada; era o homem dos mistérios, das surpresas e das\\nidéias extravagantes, seja dito sem agravo aos seus pecados, se é que os\\nteve...\\n\\nAnselmo tinha aberto a carta. Todos\\nprestaram ouvidos. O veterano leu o seguinte:\\n\\nMeu bom e estimadíssimo Anselmo.\\n\\nQuero que me prestes o último favor. Tens\\ncontigo a maior parte da minha fortuna, e eu diria a melhor se tivesse de\\naludir à minha querida filha Adelaide. Guarda esses trezentos contos até daqui\\na dez anos, e ao terminar o prazo, lê esta carta diante dos meus parentes.\\n\\nSe nessa época a minha filha Adelaide for\\nviva e casada entrega-lhe a fortuna. Se não estiver casada, entrega-lha também,\\nmas com uma condição: é que se case com o sobrinho Luís Soares, filho de minha\\nirmã Luísa; quero-lhe muito, e apesar de ser rico, desejo que entre na posse da\\nfortuna com minha filha. No caso em que esta se recuse a esta condição, fica tu\\ncom a fortuna toda.\\n\\nQuando Anselmo acabou de ler esta carta\\nseguiu-se um silêncio de surpresa geral, de que partilhava o próprio veterano,\\nalheio até então ao conteúdo da carta.\\n\\nSoares tinha os olhos em Adelaide; esta\\ntinha-os no chão.\\n\\nComo o silêncio se prolongasse, Anselmo\\nresolveu rompê-lo.\\n\\n\\x97 Ignorava, como todos, disse ele, o que\\nesta carta contém; felizmente chega ela a tempo de se realizar a última vontade\\ndo meu finado amigo.\\n\\n\\x97 Sem dúvida nenhuma, disse o major.\\n\\nOuvindo isto, a moça levantou\\ninsensivelmente os olhos para o primo, e os dela encontraram-se com os dele. Os\\ndele transbordavam de contentamento e ternura; a moça fitou-os durante alguns\\ninstantes. Um sorriso, já não zombeteiro, passou pelos lábios do rapaz. A moça\\nsorriu com tamanho desdém às zumbaias de um cortesão.\\n\\nAnselmo levantou-se.\\n\\n\\x97 Agora que estão cientes disto, disse\\nele aos dois primos, espero que resolvam, e como o resultado não pode ser duvidoso,\\ndesde já os felicito. Entretanto, hão de dar-me licença, que tenho de ir a\\noutras partes.\\n\\nCom a saída de Anselmo dispersara-se a\\nreunião. Adelaide foi para o seu quarto com a velha parenta. O tio e o sobrinho\\nficaram na sala.\\n\\n\\x97 Luís, disse o primeiro, és o homem mais\\nfeliz do mundo.\\n\\n\\x97 Parece-lhe, meu tio? disse o moço\\nprocurando disfarçar a sua alegria.\\n\\n\\x97 És. Tens uma moça que te ama\\nloucamente. De repente cai-lhe nas mãos uma fortuna inesperada; e essa fortuna\\nsó pode havê-la com a condição de se casar contigo. Até os mortos trabalham a\\nteu favor.\\n\\n\\x97 Afirmo-lhe, meu tio, que a fortuna não\\npesa nada nestes casos, e se eu assentar em casar com a prima será por outro\\nmotivo.\\n\\n\\x97 Bem sei que a riqueza não é essencial; não\\né. Mas enfim vale alguma coisa. É melhor ter trezentos contos que trinta;\\nsempre é mais uma cifra. Contudo não te aconselho que te cases com ela se não\\ntiveres alguma afeição. Nota que eu não me refiro a essas paixões de que me\\nfalaste. Casar mal, apesar da riqueza, é sempre casar mal.\\n\\n\\x97 Estou convencido disto, meu tio. Por\\nisso ainda não dei a minha resposta, nem dou por ora. Se eu vier a afeiçoar-me\\nà prima estou pronto a entrar na posse dessa inesperada riqueza.\\n\\nComo o leitor terá adivinhado, a resolução\\ndo casamento estava assentada no espírito de Soares. Em vez de esperar a morte\\ndo tio, parecia-lhe melhor entrar desde logo na posse de um excelente pecúlio,\\no que se lhe afigurava tanto mais fácil, quanto que era a voz do túmulo que o\\nimpunha.\\n\\nSoares contava também com a profunda\\nveneração de Adelaide por seu pai. Isto, ligado ao amor que a rapariga sentia\\npor ele, devia produzir o desejado efeito.\\n\\nNessa noite o rapaz dormiu pouco. Sonhou\\ncom o Oriente. Pintou-lhe a imaginação um harém recendente das melhores\\nessências da Arábia, forrado o chão com tapetes da Pérsia; sobre moles divãs\\nostentavam-se as mais perfeitas belezas do mundo. Uma circassiana dançava no\\nmeio do salão ao som de um pandeiro de marfim. Mas um furioso eunuco,\\nprecipitando-se na sala com o iatagã desembainhado, enterrou-o todo no peito de\\nSoares, que acordou com o pesadelo, e não pôde mais conciliar o sono.\\n\\nLevantou-se mais cedo e foi passear até\\nchegar a hora do almoço e da repartição.\\n\\nCAPÍTULO V\\n\\nO plano de Luís Soares estava feito.\\n\\nTratava-se de abater as armas pouco a\\npouco, simulando-se vencido diante da influência de Adelaide. A circunstância\\nda riqueza tornava necessária toda a discrição. A transição devia ser lenta.\\nCumpria ser diplomata.\\n\\nOs leitores terão visto que, apesar de\\ncerta argúcia da parte de Soares, não tinha ele a perfeita compreensão das\\ncoisas, e por outro lado o seu caráter era indeciso e vário.\\n\\nHesitara em casar com Adelaide quando o\\ntio lhe falou nisso, quando era certo que viria a obter mais tarde a fortuna do\\nmajor. Dizia então que não tinha vocação de papagaio. A situação agora era a\\nmesma; aceitava uma fortuna mediante uma prisão. É verdade que se esta\\nresolução era contrária à primeira, podia ter por causa o cansaço que lhe ia\\nproduzindo a vida que levava. Além de que, desta vez, a riqueza não se fazia\\nesperar; era entregue logo depois do consórcio.\\n\\n'Trezentos contos, pensava o rapaz,\\né quanto basta para eu ser mais do que fui. O que não hão de dizer os\\noutros!'\\n\\nAntevendo uma felicidade que era certa\\npara ele, Soares começou o assédio da praça, aliás praça rendida.\\n\\nJá o rapaz procurava os olhos da prima,\\njá os encontrava, já lhes pedia aquilo que recusara até então, o amor da moça.\\nQuando, à mesa, as suas mãos se encontravam, Soares tinha o cuidado de demorar\\no contato, e se a moça retirava a sua mão, o rapaz nem por isso desanimava.\\nQuando se encontrava a sós com ela, não fugia como outrora, antes lhe dirigia\\nalguma palavra, a que Adelaide respondia com fria polidez.\\n\\n'Quer vender o peixe caro',\\npensava Soares.\\n\\nUma vez atreveu-se a mais. Adelaide\\ntocava piano quando ele entrou sem que ela o visse. Quando a moça acabou,\\nSoares estava por trás dela.\\n\\n\\x97 Que lindo! disse o rapaz; deixe-me\\nbeijar-lhe essas mãos inspiradas.\\n\\nA moça olhou séria para ele, pegou no\\nlenço que pusera sobre o piano, e saiu sem dizer palavra.\\n\\nEsta cena mostrou a Soares toda a\\ndificuldade da empresa; mas o rapaz confiava em si, não porque se reconhecesse\\ncapaz de grandes energias, mas por espécie de esperança na sua boa estrela.\\n\\n\\x97 É difícil subir a corrente, disse ele,\\nmas sobe-se. Não se fazem Alexandres na conquista de praças desarmadas.\\n\\nContudo, as desilusões iam-se sucedendo,\\ne o rapaz, se o não alentasse a idéia da riqueza, teria abatido as armas.\\n\\nUm dia lembrou-se de escrever-lhe uma\\ncarta. Lembrou-se de que era difícil expor-lhe de viva voz tudo quanto sentia;\\nmas que uma carta, por muito ódio que ela lhe tivesse, sempre seria lida.\\n\\nAdelaide devolveu a carta pelo moleque da\\ncasa que lha havia entregue.\\n\\nA segunda carta teve a mesma sorte.\\nQuando mandou a terceira, o moleque não a quis receber.\\n\\nLuís Soares teve um instante de\\ndesengano. Indiferente à moça, já começava a odiá-la; se casasse com ela era\\nprovável que a tratasse como inimigo mortal.\\n\\nA situação tornava-se ridícula para ele;\\nou antes, já o era há muito, mas Soares só então o compreendeu. Para escapar ao\\nridículo, resolveu dar um golpe final, mas grande. Aproveitou a primeira\\nocasião que pôde, e fez uma declaração positiva à moça, cheia de súplicas, de\\nsuspiros, talvez de lágrimas. Confessou os seus erros; reconheceu que não a\\nhavia compreendido; mas arrependera-se e confessava tudo. A influência dela\\nacabara por abatê-lo.\\n\\n\\x97 Abatê-lo! disse ela; não compreendo. A\\nque influência alude?\\n\\n\\x97 Bem sabe; à influência da sua beleza,\\ndo seu amor... Não suponha que lhe estou mentindo. Sinto-me hoje tão apaixonado\\nque era capaz de cometer um crime!\\n\\n\\x97 Um crime?\\n\\n\\x97 Não é crime o suicídio? De que me\\nserviria a vida sem o seu amor? Vamos, fale!\\n\\nA moça olhou para ele durante alguns\\ninstantes sem dizer palavra.\\n\\nO rapaz ajoelhou-se.\\n\\n\\x97 Ou seja a morte, ou seja a felicidade,\\ndisse ele, quero recebê-la de joelhos.\\n\\nAdelaide sorriu e soltou lentamente estas\\npalavras:\\n\\n\\x97 Trezentos contos! É muito dinheiro para\\ncomprar um miserável.\\n\\nE deu-lhe as costas.\\n\\nSoares ficou petrificado. Durante alguns\\nminutos conservou-se na mesma posição, com os olhos fitos na moça que se\\nafastava lentamente. O rapaz dobrava-se ao peso da humilhação. Não previra tão\\ncruel desforra da parte de Adelaide. Nem uma palavra de ódio, nem um indício de\\nraiva; apenas um calmo desdém, um desprezo tranqüilo e soberano. Soares sofrera\\nmuito quando perdeu a fortuna; mas agora que o seu orgulho foi humilhado, a sua\\ndor foi infinitamente maior.\\n\\nPobre rapaz!\\n\\nA moça foi para dentro. Parece que\\ncontava com aquela cena; porque entrando em casa, foi logo procurar o tio, e\\ndeclarou-lhe que, apesar de quanto venerava a memória do pai, não podia\\nobedecer-lhe, e desistia do casamento.\\n\\n\\x97 Mas não o amas tu? perguntou-lhe o\\nmajor.\\n\\n\\x97 Amei-o.\\n\\n\\x97 Amas a outro?\\n\\n\\x97 Não.\\n\\n\\x97 Então explica-te.\\n\\nAdelaide expôs francamente o procedimento\\nde Soares desde que ali entrara, a mudança que fizera, a sua ambição, a cena do\\njardim. O major ouviu atentamente a moça, procurou desculpar o sobrinho, mas no\\nfundo ele acreditava que Soares era um mau caráter.\\n\\nEste, depois que pôde refrear a sua cólera,\\nentrou em casa e foi despedir-se do tio até o dia seguinte.\\n\\nPretextou que tinha um negócio urgente.\\n\\nCAPÍTULO VI\\n\\nAdelaide contou miudamente ao amigo de\\nseu pai os sucessos que a obrigavam a não preencher a condição da carta póstuma\\nconfiada a Anselmo. Em conseqüência desta recusa, a fortuna devia ficar com\\nAnselmo; a moça contentava-se com o que tinha.\\n\\nNão se deu Anselmo por vencido, e antes\\nde aceitar a recusa foi ver se sondava o espírito de Luís Soares.\\n\\nQuando o sobrinho do major viu entrar por\\ncasa o fazendeiro suspeitou que alguma coisa houvesse a respeito do casamento.\\nAnselmo era perspicaz; de modo que, apesar da aparência de vítima com que\\nSoares lhe aparecera, compreendeu ele que Adelaide tinha razão.\\n\\nAssim pois tudo estava acabado. Anselmo\\ndispôs-se a partir para a Bahia, e assim o declarou à família do major.\\n\\nNas vésperas de partir achavam-se todos\\njuntos na sala de visitas, quando Anselmo soltou estas palavras:\\n\\n\\x97 Major, está ficando melhor e forte; eu\\ncreio que uma viagem à Europa lhe fará bem. Esta moça também gostará de ver a\\nEuropa, e creio que a Sra. D. Antônia, apesar da idade, lá quererá ir. Pela\\nminha parte sacrifico a Bahia e vou também. Aprovam o conselho?\\n\\n\\x97 Homem, disse o major, é preciso\\npensar...\\n\\n\\x97 Qual pensar! Se pensarem não\\nembarcarão. Que diz a menina?\\n\\n\\x97 Eu obedeço ao tio, respondeu Adelaide.\\n\\n\\x97 Além de que, disse Anselmo, agora que\\nD. Adelaide está de posse de uma grande fortuna, há de querer apreciar o que há\\nde bonito nos países estrangeiros a fim de poder melhor avaliar o que há no\\nnosso...\\n\\n\\x97 Sim, disse o major; mas você fala de\\ngrande fortuna...\\n\\n\\x97 Trezentos contos.\\n\\n\\x97 São seus.\\n\\n\\x97 Meus! Então sou algum ratoneiro? Que me\\nimporta a mim a fantasia de um generoso amigo? O dinheiro é desta menina, sua\\nlegítima herdeira, e não meu, que aliás tenho bastante.\\n\\n\\x97 Isso é bonito, Anselmo!\\n\\n\\x97 Mas o que não seria se não fosse isto?\\n\\nA viagem à Europa ficou assentada.\\n\\nLuís Soares ouviu a conversa toda sem\\ndizer palavra; mas a idéia de que talvez pudesse ir com o tio sorriu-lhe ao\\nespírito. No dia seguinte teve um desengano cruel. Disse-lhe o major que, antes\\nde partir, o deixaria recomendado ao ministro.\\n\\nSoares procurou ainda ver se alcançava\\nseguir com a família. Era simples cobiça na fortuna do tio, desejo de ver novas\\nterras, ou impulso de vingança contra a prima? Era tudo isso, talvez.\\n\\nÀ última hora foi-se a derradeira\\nesperança. A família partiu sem ele.\\n\\nAbandonado, pobre, tendo por única\\nperspectiva o trabalho diário, sem esperanças no futuro, e além do mais,\\nhumilhado e ferido em seu amor-próprio, Soares tomou a triste resolução dos\\ncovardes.\\n\\nUm dia de noite o criado ouviu no quarto\\ndele um tiro; correu, achou um cadáver.\\n\\nPires soube na rua da notícia, e correu à\\ncasa de Vitória, que encontrou no toucador.\\n\\n\\x97 Sabes de uma coisa? perguntou ele.\\n\\n\\x97 Não. Que é?\\n\\n\\x97 O Soares matou-se.\\n\\n\\x97 Quando?\\n\\n\\x97 Neste momento.\\n\\n\\x97 Coitado! É sério?\\n\\n\\x97 É sério. Vais sair?\\n\\n\\x97 Vou ao Alcazar.\\n\\n\\x97 Canta-se hoje Barbe-Bleue, não\\né?\\n\\n\\x97 É.\\n\\n\\x97 Pois eu também vou.\\n\\nE entrou a cantarolar a canção de Barbe-Bleue.\\n\\nLuís Soares não teve outra oração fúnebre\\ndos seus amigos mais íntimos.\\n\\nA MULHER DE PRETO\\n\\nÍNDICE\\n\\nCapítulo Primeiro\\n\\nCapítulo II\\n\\nCapítulo iii\\n\\nCapítulo iv\\n\\nCapítulo v\\n\\nCapítulo vI\\n\\nCapítulo vII\\n\\nCapítulo VIII\\n\\nCapítulo IX\\n\\nCapítulo X\\n\\nCapítulo XI\\n\\nCAPÍTULO PRIMEIRO\\n\\nA primeira vez que o Dr. Estêvão Soares\\nfalou ao deputado Meneses foi no Teatro Lírico no tempo da memorável luta entre\\nlagruístas e chartonistas. Um amigo comum os apresentou ao outro.\\nNo fim da noite separaram-se oferecendo cada um deles os seus serviços e\\ntrocando os respectivos cartões de visita.\\n\\nSó dois meses depois encontraram-se outra\\nvez.\\n\\nEstêvão Soares teve de ir à casa de um\\nministro de Estado para saber de uns papéis relativos a um parente da\\nprovíncia, e aí encontrou o deputado Meneses, que acabava de ter uma\\nconferência política.\\n\\nHouve sincero prazer em ambos\\nencontrando-se pela segunda vez; e Meneses arrancou de Estêvão a promessa de\\nque iria à casa dele daí a poucos dias.\\n\\nO ministro depressa despachou o jovem\\nmédico.\\n\\nChegando ao corredor, Estêvão foi\\nsurpreendido com uma tremenda bátega d'água, que nesse momento caía, e começava\\na alagar a rua.\\n\\nO rapaz olhou a um e outro lado a ver se\\npassava algum veículo vazio, mas procurou inutilmente; todos que passavam iam\\nocupados.\\n\\nApenas à porta estava um coupé\\nvazio à espera de alguém, que o rapaz supôs ser o deputado.\\n\\nDaí a alguns minutos desce com efeito o\\nrepresentante da nação, e admirou-se de ver o médico ainda à porta.\\n\\n\\x97 Que quer? disse-lhe Estêvão; a chuva\\nimpediu-me de sair; aqui fiquei a ver se passa um tílburi.\\n\\n\\x97 É natural que não passe, e nesse caso\\nofereço-lhe um lugar no meu coupé. Venha.\\n\\n\\x97 Perdão; mas é um incômodo...\\n\\n\\x97 Ora, incômodo! É um prazer. Vou\\ndeixá-lo em casa. Onde mora?\\n\\n\\x97 Rua da Misericórdia nº...\\n\\n\\x97 Bem, suba.\\n\\nEstêvão hesitou um pouco; mas não podia\\ndeixar de subir sem ofender o digno homem que de tão boa vontade lhe fazia um\\nobséquio.\\n\\nSubiram.\\n\\nMas em vez de mandar o cocheiro para a\\nRua da Misericórdia, o deputado gritou:\\n\\n\\x97 João, para casa!\\n\\nE entrou.\\n\\nEstêvão olhou para ele admirado.\\n\\n\\x97 Já sei, disse-lhe Meneses; admira-se de\\nver que faltei à minha palavra; mas eu desejo apenas que fique conhecendo a\\nminha casa a fim de lá voltar quanto antes.\\n\\nO coupé rolava já pela rua fora\\ndebaixo de uma chuva torrencial. Meneses foi o primeiro que rompeu o silêncio\\nde alguns minutos, dizendo ao jovem amigo:\\n\\n\\x97 Espero que o romance da nossa amizade\\nnão termine no primeiro capítulo.\\n\\nEstêvão, que já reparara nas maneiras\\nsolícitas do deputado, ficou inteiramente pasmado quando lhe ouviu falar no\\nromance da amizade. A razão era simples. O amigo que os havia apresentado no\\nTeatro Lírico disse no dia seguinte:\\n\\n\\x97 Meneses é um misantropo, e um cético;\\nnão crê em nada, nem estima ninguém. Na política como na sociedade faz um papel\\npuramente negativo.\\n\\nEsta era a impressão com que Estêvão,\\napesar da simpatia que o arrastava, falou a segunda vez a Meneses, e\\nadmirava-se de tudo, das maneiras, das palavras, e do tom de afeto que elas\\npareciam revelar.\\n\\nÀ linguagem do deputado o jovem médico\\nrespondeu com igual franqueza.\\n\\n\\x97 Por que acabaremos no primeiro\\ncapítulo? perguntou ele; um amigo não é coisa que se despreze, acolhe-se como\\num presente dos deuses.\\n\\n\\x97 Dos deuses! disse Meneses rindo; já\\nvejo que é pagão.\\n\\n\\x97 Alguma coisa, é verdade; mas no bom\\nsentido, respondeu Estêvão rindo também. Minha vida assemelha-se um pouco à de\\nUlisses...\\n\\n\\x97 Tem ao menos uma Ítaca, sua pátria, e\\numa Penélope, sua esposa.\\n\\n\\x97 Nem uma nem outra.\\n\\n\\x97 Então entender-nos-emos.\\n\\nDizendo isto o deputado voltou a cara\\npara o outro lado, vendo a chuva que caía na vidraça da portinhola.\\n\\nDecorreram dois ou três minutos, durante\\nos quais Estêvão teve tempo de contemplar a seu gosto o companheiro de viagem.\\n\\nMeneses voltou-se e entrou em novo\\nassunto.\\n\\nQuando o coupé entrou na Rua do\\nLavradio, Meneses disse ao médico:\\n\\n\\x97 Moro nesta rua; estamos perto de casa.\\nPromete-me que há de vir ver-me algumas vezes?\\n\\n\\x97 Amanhã mesmo.\\n\\n\\x97 Bem. Como vai a sua clínica?\\n\\n\\x97 Apenas começo, disse Estêvão; trabalho\\npouco; mas espero fazer alguma coisa.\\n\\n\\x97 O seu companheiro, na noite em que mo\\napresentou, disse-me que o senhor é moço de muito merecimento.\\n\\n\\x97 Tenho vontade de fazer alguma coisa.\\n\\nDaí a dez minutos parava o coupé à\\nporta de uma casa da Rua do Lavradio.\\n\\nApearam-se os dois e subiram.\\n\\nMeneses mostrou a Estêvão o seu gabinete\\nde trabalho, onde havia duas longas estantes de livros.\\n\\n\\x97 É a minha família, disse o deputado\\nmostrando os livros. História, filosofia, poesia... e alguns livros de\\npolítica. Aqui estudo e trabalho. Quando cá vier é aqui que o hei de receber.\\n\\nEstêvão prometeu voltar no dia seguinte,\\ne desceu para entrar no coupé que esperava por ele, e que o levou à Rua\\nda Misericórdia.\\n\\nEntrando em casa Estêvão dizia consigo:\\n\\n'Onde está a misantropia daquele\\nhomem? As maneiras de misantropo são mais rudes do que as dele; salvo se ele,\\nmais feliz do que Diógenes, achou em mim o homem que procurava.'\\n\\nCAPÍTULO II\\n\\nEstêvão era o tipo do rapaz sério. Tinha\\ntalento, ambição e vontade de saber, três armas poderosas nas mãos de um homem\\nque tenha consciência de si. Desde os dezesseis anos a sua vida foi um estudo\\nconstante, aturado e profundo. Destinado ao curso médico, Estêvão entrou na\\nacademia um pouco forçado, não queria desobedecer ao pai. A sua vocação era\\ntoda para as matemáticas. Que importa? disse ele ao saber da resolução paterna;\\nestudarei a medicina e a matemática. Com efeito teve tempo para uma e outra\\ncoisa; teve tempo ainda para estudar a literatura, e as principais obras da\\nantigüidade e contemporâneas eram-lhe tão familiares como os tratados de\\noperações e de higiene.\\n\\nPara estudar tanto, foi-lhe preciso\\nsacrificar uma parte da saúde. Estêvão aos vinte e quatro anos adquirira uma\\nmagreza, que não era a dos dezesseis; tinha a tez pálida e a cabeça pendia-lhe\\num pouco para a frente pelo longo hábito da leitura. Mas esses vestígios de uma\\nlonga aplicação intelectual não lhe alteraram a regularidade e harmonia das\\nfeições, nem os olhos perderam nos livros o brilho e a expressão. Era além\\ndisso naturalmente elegante, não digo enfeitado, que é coisa diferente: era\\nelegante nas maneiras, na atitude, no sorriso, no trajo, tudo mesclado de uma\\ncerta severidade que era o cunho do seu caráter. Podia-se notar-lhe muitas\\ninfrações ao código da moda; ninguém poderia dizer que ele faltasse nunca às\\nboas regras do gentleman.\\n\\nPerdera os pais aos vinte anos, mas\\nficara-lhe bastante juízo para continuar sozinho a viagem do mundo. O estudo\\nserviu-lhe de refúgio e bordão. Não sabia nada do que era o amor. Ocupara-se\\ntanto com a cabeça que esquecera-se de que tinha um coração dentro do peito.\\nNão se infira daqui que Estêvão fosse puramente um positivista. Pelo contrário,\\na alma dele possuía ainda em toda a plenitude da graça e da força as duas asas\\nque a natureza lhe dera. Não raras vezes rompia ela do cárcere da carne para ir\\ncorrer os espaços do céu, em busca de não sei que ideal mal definido, obscuro,\\nincerto. Quando voltava desses êxtases, Estêvão curava-se deles enterrando-se\\nnos volumes à cata de uma verdade científica. Newton era-lhe o antídoto de\\nGoethe.\\n\\nAlém disso, Estêvão tinha idéias\\nsingulares. Havia um padre, amigo dele, rapaz de trinta anos, da escola de\\nFénelon, que entrava com Telêmaco na ilha de Calipso. Ora, o padre dizia muitas\\nvezes a Estêvão que só uma coisa lhe faltava para ser completo: era casar-se.\\n\\n\\x97 Quando você tiver, dizia-lhe, uma\\nmulher amada e amante ao pé de si, será um homem feliz e completo. Dividirá\\nentão o tempo entre as duas coisas mais elevadas que a natureza deu ao homem, a\\ninteligência e o coração. Nesse dia quero eu mesmo casá-lo...\\n\\n\\x97 Padre Luís, respondia Estêvão, faça-me\\nentão o serviço completo: traga-me a mulher e a bênção.\\n\\nO padre sorria-se ao ouvir a resposta do\\nmédico, e como o sorriso parecia a Estêvão uma nova pergunta, o médico\\ncontinuava:\\n\\n\\x97 Se encontrar uma mulher tão completa\\ncomo eu exijo, afirmo-lhe que me casarei. Dirá que as obras humanas são\\nimperfeitas, e eu não contestarei, Padre Luís; mas nesse caso deixe-me caminhar\\nsó com as minhas imperfeições.\\n\\nDaqui engendrava-se sempre uma discussão,\\nque se animava e crescia até o ponto em que Estêvão concluía por este modo:\\n\\n\\x97 Padre Luís, uma menina que deixa as\\nbonecas para ir decorar mecanicamente alguns livros mal escolhidos; que\\ninterrompe uma lição para ouvir contar uma cena de namoro; que em matéria de\\narte só conhece os figurinos parisienses; que deixa as calças para entrar no\\nbaile, e que antes de suspirar por um homem, examina-lhe a correção da gravata,\\ne o apertado do botim; Padre Luís, esta menina pode vir a ser um esplêndido\\nornamento de salão e até uma fecunda mãe de família, mas nunca será uma mulher.\\n\\nEsta sentença de Estêvão tinha o defeito\\nde certas regras absolutas. Por isso, o padre dizia-lhe sempre:\\n\\n\\x97 Tem você razão; mas eu não lhe digo que\\ncase com a regra; procure a exceção que há de encontrar e leve-a ao altar, onde\\neu estarei para os unir.\\n\\nTais eram os sentimentos de Estêvão em relação\\nao amor e à mulher. A natureza dera-lhe em parte esses sentimentos; mas em\\nparte adquiriu-os ele nos livros. Exigia a perfeição intelectual e moral de uma\\nHeloísa; e partia da exceção para estabelecer uma regra. Era intolerante para\\nos erros veniais. Não os reconhecia como tais. Não há erro venial, dizia ele,\\nem matéria de costumes e de amor.\\n\\nContribuíra para esta rigidez de ânimo o\\nespetáculo da própria família de Estêvão. Até aos vinte anos foi ele testemunha\\ndo que era a santidade do amor mantido pela virtude doméstica. Sua mãe, que\\nmorrera com trinta e oito anos, amou o marido até os últimos dias, e poucos\\nmeses lhe sobreviveu. Estêvão soube que fora ardente e entusiástico o amor de\\nseus pais, na estação do noivado, durante a manhã conjugal; conheceu-o assim\\npor tradição; mas na tarde conjugal a que ele assistiu viu o amor calmo,\\nsolícito e confiante, cheio de dedicação e respeito, praticado como um culto;\\nsem recriminações nem pesares, e tão profundo como no primeiro dia. Os pais de\\nEstêvão morreram amados e felizes na tranqüila serenidade do dever.\\n\\nNo ânimo de Estêvão, o amor que funda a\\nfamília devia ser aquilo ou não seria nada. Era justiça; mas a intolerância de\\nEstêvão começava na convicção que ele tinha de que com a dele morrera a última\\nfamília, e fora com ela a derradeira tradição do amor. Que era preciso para\\nderrubar todo este sistema, ainda que momentâneo? Uma coisa pequeníssima: um\\nsorriso e dois olhos.\\n\\nMas como esses dois olhos não apareciam,\\nEstêvão entregava-se na maior parte do tempo aos seus estudos científicos,\\nempregando as horas vagas em algumas distrações que o não prendiam por muito\\ntempo.\\n\\nMorava só; tinha um escravo, da mesma\\nidade que ele, e cria da casa do pai, - mais irmão do que escravo, na dedicação\\ne no afeto. Recebia alguns amigos, a quem visitava de quando em quando de\\nquando, entre os quais incluímos o jovem Padre Luís, a quem Estevão chamava -\\nPlatão de sotaina.\\n\\nNaturalmente bom e afetuoso, generoso e\\ncavalheiresco, sem ódios nem rancores, entusiasta por todas as coisas boas e\\nverdadeiras, tal era o Dr. Estevão Soares, aos vinte e quatro anos de idade.\\n\\nDo seu retrato físico já dissemos alguma\\ncoisa. Bastará acrescentar que tinha uma bela cabeça, coberta de bastos cabelos\\ncastanhos, dois olhos da mesma cor, vivos e observadores; a palidez do rosto\\nfazia realçar o bigode naturalmente encaracolado. Era alto e tinha mãos\\nadmiráveis.\\n\\nCAPÍTULO III\\n\\nEstêvão Soares visitou Meneses no dia\\nseguinte.\\n\\nO deputado esperava-o, e recebeu-o como\\nse fosse um amigo velho. Estêvão marcara a hora da visita, que impossibilitava\\na presença de Meneses na Câmara; mas o deputado importou-se pouco com isso: não\\nfoi à Câmara. Mas teve a delicadeza de o não dizer a Estevão.\\n\\nMeneses estava no gabinete quando o\\ncriado anunciou-lhe a chegada do médico. Foi recebê-lo à porta.\\n\\n\\x97 Pontual como um rei, disse-lhe\\nalegremente.\\n\\n\\x97 Era dever. Lembro-lhe que não me\\nesqueci.\\n\\n\\x97 E agradeço-lho.\\n\\nSentaram-se os dois.\\n\\n\\x97 Agradeço-lhe porque eu receava sobretudo\\nque me houvesse compreendido mal; e que os impulsos da minha simpatia não\\nmerecessem da sua parte nenhuma consideração...\\n\\nEstêvão ia protestar.\\n\\n\\x97 Perdão, continuou Meneses, bem vejo que\\nme enganei, e é por isso que lhe agradeço. Eu não sou rapaz; tenho 47 anos; e\\npara a sua idade as relações de um homem como eu já não têm valor.\\n\\n\\x97 A velhice, quando é respeitável, deve\\nser respeitada; e amada quando é amável. Mas V. Excia. não é velho; tem os\\ncabelos apenas grisalhos: pode-se dizer que está na segunda mocidade.\\n\\n\\x97 Parece-lhe isso...\\n\\n\\x97 Parece e é.\\n\\n\\x97 Seja como for, disse Meneses, a verdade\\né que podemos ser amigos. Quantos anos tem?\\n\\n\\x97 Olhe lá, podia ser meu filho. Tem seus\\npais vivos?\\n\\n\\x97 Morreram há quatro anos.\\n\\n\\x97 Lembra-me haver dito que era\\nsolteiro...\\n\\n\\x97 É verdade.\\n\\n\\x97 De maneira que os seus cuidados são\\ntodos para a ciência?\\n\\n\\x97 É a minha esposa.\\n\\n\\x97 Sim, a sua esposa intelectual; mas essa\\nnão basta a um homem como o senhor... Enfim, isso é com o tempo; está ainda\\nmoço.\\n\\nDurante este diálogo, Estevão contemplava\\ne observava Meneses, em cujo rosto batia a claridade que entrava por uma das\\njanelas. Era uma cabeça severa, cheia de cabelos já grisalhos, que lhe caíam em\\ngracioso desalinho. Tinha os olhos negros e um pouco amortecidos; adivinhava-se\\nporém que deviam ter sido vivos e ardentes. As suíças também grisalhas eram\\ncomo as de lorde Palmerston, segundo dizem as gravuras. Não tinha rugas\\nde velhice; tinha uma ruga na testa, entre as sobrancelhas, indício de\\nconcentração de espírito, e não vestígio do tempo. A testa era alta, o queixo e\\nas maçãs do rosto um pouco salientes. Adivinhava-se que devia ter sido formoso\\nno tempo da primeira mocidade; e antevia-se já uma velhice imponente e augusta.\\nSorria de quando em quando; e o sorriso, embora aquele rosto não fosse de um\\nancião, produzia uma impressão singular; parecia um raio de lua no meio de uma\\nvelha ruína. É que o sorriso era amável, mas não era alegre.\\n\\nTodo aquele conjunto impressionava e\\natraía; Estêvão sentia-se cada vez mais arrastado para aquele homem, que o\\nprocurava, e lhe estendia a mão.\\n\\nA conversa continuou no tom afetuoso com\\nque começara; a primeira entrevista da amizade é o oposto da primeira\\nentrevista do amor; nesta a mudez é a grande eloqüência; naquela inspira-se e\\nganha-se a confiança, pela exposição franca dos sentimentos e das idéias.\\n\\nNão se falou de política. Estêvão aludiu\\nde passagem às funções de Meneses, mas foi um verdadeiro incidente a que o\\ndeputado não prestou atenção.\\n\\nNo fim de uma hora, Estêvão levantou-se\\npara sair; tinha de ir ver um doente.\\n\\n\\x97 O motivo é sagrado; senão retinha-o.\\n\\n\\x97 Mas eu voltarei outras vezes.\\n\\n\\x97 Sem dúvida alguma, e eu irei vê-lo algumas\\nvezes. Se no fim de quinze dias não se aborrecer... Olhe, venha de tarde; janta\\nalgumas vezes comigo; depois da Câmara estou completamente livre.\\n\\nEstêvão saiu prometendo tudo.\\n\\nVoltou lá, com efeito, e jantou duas\\nvezes com o deputado, que também visitou Estêvão em casa; foram ao teatro\\njuntos; relacionaram-se intimamente com as famílias conhecidas. No fim de um\\nmês eram dois amigos velhos. Tinham observado reciprocamente o caráter e os\\nsentimentos. Meneses gostava de ver a seriedade do médico e o seu bom senso,\\nestimava-o com as suas intolerâncias, aplaudindo-lhe a generosa ambição que o\\ndominava. Pela sua parte o médico via em Meneses um homem que sabia ligar a\\nausteridade dos anos à amabilidade de cavalheiro, modesto nas suas maneiras,\\ninstruído, sentimental. Da misantropia anunciada não encontrou vestígios. É\\nverdade que em algumas ocasiões Meneses parecia mais disposto a ouvir do que a\\nfalar; e então o olhar tornava-se-lhe sombrio e parado, como se em vez de ver\\nos objetos exteriores, estivesse contemplando a sua própria consciência. Mas\\neram rápidos esses momentos, e Meneses voltava logo aos seus modos habituais.\\n\\n'Não é um misantropo, pensava então\\nEstêvão; mas este homem tem um drama dentro de si.'\\n\\nA observação de Estêvão adquiriu certo caráter\\nde verossimilhança quando uma noite em que se achavam no Teatro Lírico, Estêvão\\nchamou a atenção de Meneses para uma mulher vestida de preto que se achava em\\num camarote da primeira ordem.\\n\\n\\x97 Não conheço aquela mulher, disse\\nEstêvão. Sabe quem é?\\n\\nMeneses olhou para o camarote indicado,\\ncontemplou a mulher por alguns instantes e respondeu:\\n\\n\\x97 Não conheço.\\n\\nA conversa ficou aí; mas o médico reparou\\nque a mulher duas vezes olhou para Meneses, e este duas vezes para ela, encontrando-se\\nos olhos de ambos.\\n\\nNo fim do espetáculo, os dois amigos\\ndirigiram-se pelo corredor do lado em que estivera a mulher de preto. Estêvão\\nteve apenas nova curiosidade, a curiosidade de artista: quis vê-la de perto.\\nMas a porta do camarote estava fechada. Teria já saído ou não? Era impossível\\nsabê-lo. Meneses passou sem olhar. Ao chegarem ao patamar da escada que dá para\\no lado da Rua dos Ciganos, pararam os dois porque havia grande afluência de\\ngente. Daí a pouco ouviu-se passo apressado; Meneses voltou o rosto, e dando o\\nbraço a Estêvão desceu imediatamente, apesar da dificuldade.\\n\\nEstêvão compreendeu, mas nada viu.\\n\\nPela sua parte, Meneses não deu sinal\\nalgum.\\n\\nApenas se desembaraçaram da multidão, o\\ndeputado encetou uma alegre conversa com o médico.\\n\\n\\x97 Que efeito lhe faz, perguntou ele,\\nquando passa no meio de tantas damas elegantes, aquela confusão de sedas e de\\nperfumes?\\n\\nEstêvão respondeu distraidamente, e\\nMeneses continuou a conversa no mesmo estilo; daí a cinco minutos a aventura do\\nteatro tinha-se-lhe varrido da memória.\\n\\nCAPÍTULO IV\\n\\nUm dia Estêvão Soares foi convidado para\\num baile em casa de um velho amigo de seu pai.\\n\\nA sociedade era luzida e numerosa; Estêvão,\\nembora vivesse muito arredado, achou ali grande número de conhecidas. Não\\ndançou; viu, conversou, riu um pouco e saiu.\\n\\nMas ao entrar levava o coração livre; ao\\nsair trouxe nele uma flecha, para falar a linguagem dos poetas da Arcádia; era\\na flecha do amor.\\n\\nDo amor? A falar a verdade não se pode\\ndar este nome ao sentimento experimentado por Estêvão; não era ainda o amor,\\nmas bem pode ser que viesse a sê-lo. Por enquanto era um sentimento de\\nfascinação doce e branda; uma mulher que lá estava produzira nele a impressão\\nque as fadas produziam nos príncipes errantes ou nas princesas perseguidas,\\nsegundo nos rezam os contos das velhas.\\n\\nA mulher em questão não era uma virgem;\\nera uma viúva de trinta e quatro anos, bela como o dia, graciosa e terna. Estêvão\\nvia-a pela primeira vez; pelo menos não se lembrava daquelas feições. Conversou\\ncom ela durante meia hora, e tão encantado ficou com as maneiras, a voz, a\\nbeleza de Madalena, que ao chegar à casa não pôde dormir.\\n\\nComo verdadeiro médico que era, sentia em\\nsi os sintomas dessa hipertrofia do coração que se chama amor e procurou\\ncombater a enfermidade nascente. Leu algumas páginas de matemáticas, isto é,\\npercorreu-as com os olhos; porque apenas começava a ler o espírito alheava do\\nlivro onde apenas ficavam os olhos: o espírito ia ter com a viúva.\\n\\nO cansaço foi mais feliz que Euclides:\\nsobre a madrugada Estêvão Soares adormeceu.\\n\\nMas sonhou com a viúva.\\n\\nSonhou que a apertava em seus braços, que\\na cobria de beijos, que era seu esposo perante a Igreja e perante a sociedade.\\n\\nQuando acordou e lembrou-se do sonho,\\nEstêvão sorriu.\\n\\n\\x97 Casar-me! disse ele. Era o que me\\nfaltava. Como poderia eu ser feliz com o espírito receoso e ambicioso que a\\nnatureza me deu? Acabemos com isto; nunca mais verei aquela mulher... e boa\\nnoite.\\n\\nComeçou a vestir-se.\\n\\nTrouxeram-lhe o almoço; Estêvão comeu\\nrapidamente, porque era tarde, e saiu para ir ver alguns doentes.\\n\\nMas ao passar pela Rua do Conde\\nlembrou-se que Madalena lhe dissera morar ali; mas aonde? A viúva disse-lhe o\\nnúmero; o médico porém estava tão embebido em ouvi-la falar que não o decorou.\\n\\nQueria e não queria; protestava\\nesquecê-la, e contudo daria o que se lhe pedisse para saber o número da casa\\nnaquele momento.\\n\\nComo ninguém podia dizer-lhe, o rapaz\\ntomou o partido de ir-se embora.\\n\\nNo dia seguinte, porém, teve o cuidado de\\npassar duas vezes pela Rua do Conde a ver se descobria a encantadora viúva. Não\\ndescobriu nada; mas quando ia tomar um tílburi e voltar para casa encontrou o\\namigo de seu pai em cuja casa encontrara Madalena.\\n\\nEstêvão já tinha pensado nele; mas\\nimediatamente tirou dali o pensamento, porque ir perguntar-lhe onde morava a\\nviúva era uma coisa que podia traí-lo.\\n\\nEstêvão já empregava o verbo trair.\\n\\nO homem em questão, depois de\\ncumprimentar ao médico, e trocar com ele algumas palavras, disse-lhe que ia à\\ncasa de Madalena, e despediu-se.\\n\\nEstêvão estremeceu de satisfação.\\n\\nAcompanhou de longe o amigo e viu-o\\nentrar em uma casa.\\n\\n'É ali', pensou ele.\\n\\nE afastou-se rapidamente.\\n\\nQuando entrou em casa achou uma carta\\npara ele; a letra, que lhe era desconhecida, estava traçada com elegância e\\ncuidado: a carta recendia de sândalo.\\n\\nO médico rompeu o lacre.\\n\\nA carta dizia assim:\\n\\nAmanhã toma-se chá em minha casa. Se\\nquiser vir passar algumas horas conosco dar-nos-á sumo prazer.\\n\\nMadalena C...\\n\\nEstêvão leu e releu o bilhete; teve idéia\\nde levá-lo aos lábios, mas envergonhado diante de si próprio por uma idéia que\\nlhe parecia de fraqueza, cheirou simplesmente o bilhete e meteu-o no bolso.\\n\\nEstêvão era um pouco fatalista.\\n\\n'Se eu não fosse àquele baile não\\nconhecia esta mulher, não andava agora com estes cuidados, e tinha conjurado\\numa desgraça ou uma felicidade, porque ambas as coisas podem nascer deste\\nencontro fortuito. Que será? Eis-me na dúvida de Hamleto. Devo ir à casa dela?\\nA cortesia pede que vá. Devo ir; mas irei encouraçado contra tudo. É preciso\\nromper com estas idéias, e continuar a vida tranqüila que tenho tido.'\\n\\nEstava nisto quando Meneses lhe entrou\\npor casa. Vinha buscá-lo para jantar. Estêvão saiu com o deputado. Em caminho\\nfez-lhe perguntas curiosas.\\n\\nPor exemplo:\\n\\n\\x97 Acredita no destino, meu amigo? Pensa\\nque há um deus do bem e um deus do mal, em conflito travado sobre a vida do\\nhomem?\\n\\n\\x97 O destino é a vontade, respondia\\nMeneses; cada homem faz o seu destino.\\n\\n\\x97 Mas enfim nós temos pressentimentos...\\nÀs vezes adivinhamos acontecimentos em que não tomamos parte; não lhe parece\\nque é um deus benfazejo que no-los segreda?\\n\\n\\x97 Fala como um pagão; eu não creio em\\nnada disso. Creio que tenho o estômago vazio, e o que melhor podemos fazer é\\njantar aqui mesmo no Hotel de Europa em vez de ir à Rua do Lavradio.\\n\\nSubiram ao Hotel de Europa.\\n\\nAli havia vários deputados que\\nconversavam de política, e os quais se reuniram a Meneses. Estêvão ouvia e\\nrespondia, sem esquecer nunca a viúva, a carta e o sândalo.\\n\\nAssim, pois, davam-se contrastes\\nsingulares entre a conversa geral e o pensamento de Estêvão.\\n\\nDizia por exemplo um deputado:\\n\\n\\x97 O governo é reator; as províncias não\\npodem mais suportá-lo. Os princípios estão todos preteridos, na minha província\\nforam demitidos alguns subdelegados pela circunstância única de serem meus\\nparentes; meu cunhado, que era diretor das rendas, foi posto fora do lugar, e\\neste deu-se a um peralta contraparente dos Valadares. Eu confesso que vou\\nromper amanhã a oposição.\\n\\nEstêvão olhava para o deputado; mas no\\ninterior estava dizendo isto:\\n\\n'Com efeito, Madalena é bela, é\\nadmiravelmente bela. Tem uns olhos de matar. Os cabelos são lindíssimos: tudo\\nnela é fascinador. Se pudesse ser minha mulher, eu seria feliz; mas quem\\nsabe?... Contudo sinto que vou amá-la. Já é irresistível; é preciso amá-la; e\\nela? que quer dizer aquele convite? Amar-me-á?'\\n\\nEstêvão embebera-se tanto nesta\\ncontemplação ideal, que, acontecendo perguntar-lhe um deputado se não achava a\\nsituação negra e carrancuda, Estêvão entregue ao seu pensamento respondeu:\\n\\n\\x97 É lindíssima!\\n\\n\\x97 Ah! disse o deputado, vejo que o senhor\\né ministerialista.\\n\\nEstêvão sorriu; mas Meneses franziu o\\nsobrolho.\\n\\nCompreendera tudo.\\n\\nCAPÍTULO V\\n\\nQuando saíram, o deputado disse ao\\nmédico:\\n\\n\\x97 Meu amigo, você é desleal comigo...\\n\\n\\x97 Por quê? perguntou Estêvão meio sério e\\nmeio risonho, não compreendendo a observação do deputado.\\n\\n\\x97 Sim, continuou Meneses; você esconde-me\\num segredo...\\n\\n\\x97 Eu?\\n\\n\\x97 É verdade: e um segredo de amor.\\n\\n\\x97 Ah!... disse Estêvão; por que diz isso?\\n\\n\\x97 Reparei há pouco que, ao passo que os\\nmais conversavam em política, você pensava em uma mulher, e mulher... lindíssima...\\n\\nEstêvão compreendeu que estava\\ndescoberto; não negou.\\n\\n\\x97 É verdade, pensava em uma mulher.\\n\\n\\x97 E eu serei o último a saber?\\n\\n\\x97 Mas saber o quê? Não há amor, não há\\nnada. Encontrei uma mulher que me impressionou e ainda agora me preocupa; mas é\\nbem possível que não passe disto. Aí está. É um capítulo interrompido; um\\nromance que fica na primeira página. Eu lhe digo: há de me ser difícil amar.\\n\\n\\x97 Por quê?\\n\\n\\x97 Eu sei? custa-me a crer no amor.\\n\\nMeneses olhou fixamente para Estêvão,\\nsorriu, abanou a cabeça e disse:\\n\\n\\x97 Olhe, deixe a descrença para os que já\\nsofreram as decepções; o senhor está moço, não conhece ainda nada desse sentimento.\\nNa sua idade ninguém é cético... Demais, se a mulher é bonita, eu aposto que\\ndaqui a pouco há de dizer-me o contrário.\\n\\n\\x97 Pode ser... respondeu Estêvão.\\n\\nE ao mesmo tempo entrou a pensar nas\\npalavras de Meneses, palavras que ele comparava ao episódio do Teatro Lírico.\\n\\nEntretanto, Estêvão foi ao convite de\\nMadalena. Preparou-se e perfumou-se como se fosse falar a uma noiva. Que sairia\\ndaquele encontro? Viria de lá livre ou cativo? Já seria amado? Estêvão não\\ndeixou de pensá-lo; aquele convite parecia-lhe uma prova irrecusável. O médico\\nentrando num tílburi começou a formar vários castelos no ar.\\n\\nEnfim chegou à casa.\\n\\nCAPÍTULO VI\\n\\nMadalena estava na sala acompanhada de um\\nfilho.\\n\\nNinguém mais.\\n\\nEram nove horas e meia.\\n\\n\\x97 Viria eu cedo demais? perguntou ele à\\ndona da casa.\\n\\n\\x97 O senhor nunca vem cedo.\\n\\nEstêvão inclinou-se.\\n\\nMadalena continuou:\\n\\n\\x97 Se me acha só, é porque, tendo\\nenfermado um pouco, mandei desavisar as poucas pessoas que eu havia convidado.\\n\\n\\x97 Ah! mas eu não recebi...\\n\\n\\x97 Naturalmente; eu não lhe mandei dizer\\nnada. Era a primeira vez que o convidava; não queria por modo algum arredar de\\ncasa um homem tão distinto.\\n\\nEstas palavras de Madalena não valiam\\ncoisa alguma, nem mesmo como desculpa, porque a desculpa é fraquíssima.\\n\\nEstêvão compreendeu logo que havia algum\\nmotivo oculto.\\n\\nSeria o amor?\\n\\nEstêvão pensou que era, e doeu-se,\\nporque, apesar de tudo, sonhara uma paixão mais reservada e menos precipitada.\\nNão queria, embora lhe agradasse, ser objeto daquela preferência; e mais que\\ntudo achava-se embaraçadíssimo diante de uma mulher a quem começava a amar, e\\nque talvez o amasse. Que lhe diria? Era a primeira vez que o médico achava-se\\nem tais apuros. Há toda a razão para supor que Estêvão naquele momento preferia\\nestar cem léguas distante, e contudo, longe que estivesse pensaria nela.\\n\\nMadalena era excessivamente bela, embora\\nmostrasse no rosto sinais de longo sofrimento. Era alta, cheia, tinha um\\nbelíssimo colo, magníficos braços, olhos castanhos e grandes, boca feita para\\nninho de amores.\\n\\nNaquele momento trajava um vestido preto.\\n\\nA cor preta ia-lhe muito bem.\\n\\nEstêvão contemplava aquela figura com\\namor e adoração; ouvia-a falar e sentia-se encantado e dominado por um sentimento\\nque não podia explicar.\\n\\nEra um misto de amor e de receio.\\n\\nMadalena mostrou-se delicada e solícita.\\nFalou no merecimento do rapaz e na sua nascente reputação, e instou com ele\\npara que fosse algumas vezes visitá-la.\\n\\nÀs 10 horas e meia serviu-se o chá na\\nsala. Estêvão conservou-se lá até às 11 horas.\\n\\nChegando à rua o médico estava\\ncompletamente namorado. Madalena tinha-o atado no seu carro, e o pobre rapaz\\nnem vontade tinha de quebrar o jugo.\\n\\nCaminhando para casa ia ele formando\\nprojetos: via-se casado com ela, amado e amante, causando inveja a todos, e\\nmais que tudo feliz no seu interior.\\n\\nQuando chegou à casa, lembrou-se de\\nescrever uma carta que mandaria no dia seguinte a Meneses. Escreveu cinco e\\nrasgou-as todas.\\n\\nAfinal redigiu um simples bilhete nestes\\ntermos:\\n\\nMeu amigo.\\n\\nVocê tem razão; na minha idade crê-se; eu\\ncreio e amo. Nunca o pensei; mas é verdade. Amo... Quer saber a quem? Hei de\\napresentá-lo em casa dela. Há de achá-la bonita... Se o é!...\\n\\nA carta dizia muitas coisas mais; era\\ntudo, porém, uma glosa do mesmo mote.\\n\\nEstêvão voltou à casa de Madalena e as\\nsuas visitas começaram a ser regulares e assíduas.\\n\\nA viúva usava para com ele de tanta\\nsolicitude que não era possível duvidar do sentimento que a dirigia. Pelo menos\\nEstêvão assim o pensava. Achava-se quase sempre só, e deliciava-se em ouvi-la.\\nA intimidade começou a estabelecer-se.\\n\\nLogo na segunda visita, Estêvão falou-lhe\\nem Meneses pedindo licença para apresentá-lo. A viúva disse que teria muito\\nprazer em receber amigos de Estêvão; mas pedia-lhe que adiasse a apresentação.\\nTodos os pedidos e todas as razões de Madalena eram dignas para o médico; não\\ndisse mais nada.\\n\\nComo era natural, ao passo que as visitas\\nà viúva eram mais assíduas, as visitas ao amigo eram mais raras.\\n\\nMeneses não se queixou; compreendeu, e\\ndisse-o ao rapaz.\\n\\n\\x97 Não se desculpe, acrescentou o\\ndeputado; é natural; a amizade deve ceder o passo ao amor. O que eu quero é que\\nseja feliz.\\n\\nUm dia Estêvão pediu ao amigo que lhe\\ncontasse o motivo que o tinha feito descrer do amor, e se algum grande\\ninfortúnio lhe havia acontecido.\\n\\n\\x97 Nada me aconteceu, disse Meneses.\\n\\nMas ao mesmo tempo, compreendendo que o\\nmédico merecia-lhe toda a confiança, e podia não acreditá-lo absolutamente,\\ndisse:\\n\\n\\x97 Por que negá-lo? Sim, aconteceu-me um\\ngrande infortúnio; amei também, mas não encontrei no amor as doçuras e a\\ndignidade do sentimento; enfim, é um drama íntimo de que não quero falar:\\nlimite-se a pateá-lo.\\n\\nCAPÍTULO VII\\n\\n\\x97 Quando quiser que eu lhe apresente o\\nmeu amigo Meneses... dizia Estêvão uma noite à viúva Madalena.\\n\\n\\x97 Ah! é verdade; um dia destes. Vejo que\\no senhor é amigo dele.\\n\\n\\x97 Somos amigos íntimos.\\n\\n\\x97 Verdadeiros?\\n\\n\\x97 Verdadeiros.\\n\\nMadalena sorriu; e como estava brincando\\ncom os cabelos do filho deu-lhe um beijo na testa.\\n\\nA criança riu alegremente e abraçou a\\nmãe.\\n\\nA idéia de vir a ser pai honorário do\\npequeno apresentou-se ao espírito de Estêvão. Contemplou-o, chamou por ele,\\nacariciou-o e deu-lhe um beijo no mesmo lugar em que pousaram os lábios de\\nMadalena.\\n\\nEstêvão tocava piano, e às vezes\\nexecutava algum pedaço de música a pedido de Madalena.\\n\\nNessas e noutras distrações lá passavam\\nas horas.\\n\\nO amor não adiantava um passo.\\n\\nPodiam ser ambos duas crateras prestes a\\nrebentar a lava; mas até então não davam o menor sinal de si.\\n\\nEsta situação incomodava o rapaz,\\nacanhava-o, e fazia-o sofrer; mas quando ele pensava em dar um ataque decisivo,\\nera exatamente quando se mostrava mais covarde e poltrão.\\n\\nEra o primeiro amor do rapaz: ele nem\\nconhecia as palavras próprias desse sentimento.\\n\\nUm dia resolveu escrever à viúva.\\n\\n'É melhor, pensava ele; uma carta é\\neloqüente e tem a grande vantagem de deixar a gente longe.'\\n\\nEntrou para o gabinete e começou uma\\ncarta.\\n\\nGastou nisso uma hora; cada frase\\nocupava-lhe muito tempo. Estêvão queria fugir à hipótese de ser classificado\\ncomo tolo ou como sensual. Queria que a carta não respirasse sentimentos frívolos\\nnem maus; queria revelar-se puro como era.\\n\\nMas de que não dependem às vezes os\\nacontecimentos? Estêvão estava relendo e emendando a carta quando lhe entrou\\npor casa um rapazola que tinha intimidade com ele. Chamava-se Oliveira e\\npassava por ser o primeiro janota do Rio de Janeiro.\\n\\nEntrou com um rolo de papel na mão.\\n\\nEstêvão escondeu rapidamente a carta.\\n\\n\\x97 Adeus, Estêvão! disse o recém-chegado.\\nEstavas escrevendo algum libelo ou carta de namoro?\\n\\n\\x97 Nem uma nem outra coisa, respondeu\\nEstêvão secamente.\\n\\n\\x97 Dou-te uma notícia.\\n\\n\\x97 Que é?\\n\\n\\x97 Entrei na literatura.\\n\\n\\x97 Ah!\\n\\n\\x97 É verdade, e venho ler-te a primeira\\ncomédia.\\n\\n\\x97 Deus me livre! disse Estêvão\\nlevantando-se.\\n\\n\\x97 Hás de ouvir, meu amigo; ao menos\\nalgumas cenas; dar-se-á caso que não me protejas nas letras? Anda cá; ao menos\\nduas cenas. Sim? É pouca coisa.\\n\\nEstêvão sentou-se.\\n\\nO dramaturgo continuou:\\n\\n\\x97 Talvez prefiras ouvir a minha tragédia\\nintitulada \\x97 O Punhal de Bruto...\\n\\n\\x97 Não, não; prefiro a comédia: é menos\\nsanguinária. Vamos lá.\\n\\nO Oliveira abriu o rolo, arranjou as\\nfolhas, tossiu e começou a ler o que se segue, com voz pausada e fanhosa:\\n\\nCENA I\\n\\nCÉSAR (entrando pela direita);\\nJOÃO (pela esquerda)\\n\\nCÉSAR \\x97 Fechada! A sinhá já se levantou?\\n\\nJOÃO \\x97 Já, sim senhor; mas está\\nincomodada.\\n\\nCÉSAR \\x97 O que tem?\\n\\nJOÃO \\x97 Tem... está incomodada.\\n\\nCÉSAR \\x97 Já sei. (Consigo) 'Os\\nincômodos do Costume'. (A João) Qual é então o remédio hoje?\\n\\nJOÃO \\x97 O remédio? (Depois de uma pausa)\\nNão sei.\\n\\nCÉSAR \\x97 Está bom, vai-te!\\n\\nCENA II\\n\\nCÉSAR, FREITAS (pela direita)\\n\\nCÉSAR \\x97 Bom dia. Sr. procurador...\\n\\nFREITAS \\x97 De causas perdidas. Só me ocupo\\nem procurar as perdidas. Procurar o que se não perdeu é tolice. A minha constituinte?\\n\\nCÉSAR \\x97 Disse-me o João que está\\nincomodada.\\n\\nFREITAS \\x97 Mesmo para V.Sa.?\\n\\nCÉSAR \\x97 (Sentando-se) Mesmo para\\nmim. Por que me olha com esse olhar? Tem inveja?\\n\\nFREITAS \\x97 Não é inveja, é admiração! De\\nordinário ninguém corresponde ao nome que recebeu na pia; mas o Sr. César,\\nbenza-o Deus, não desmente que traz um nome significativo, e trata de ser nas\\npáginas amorosas o que foi o outro nas batalhas campais.\\n\\nCÉSAR \\x97 Pois também os procuradores dizem\\ncoisas destas?\\n\\nFREITAS \\x97 De vez em quando. (Indo\\nsentar-se) V.Sa. admira-se?\\n\\nCÉSAR \\x97 (Tirando charutos) Como\\nnão é de costume... quer um charuto?\\n\\nFREITAS \\x97 Obrigado... Eu tomo rapé. (Tira\\na boceta) Quer uma pitada?\\n\\nCÉSAR \\x97 Obrigado.\\n\\nFREITAS \\x97 (Sentando-se) Pois a\\ncausa da minha constituinte vai às mil maravilhas. A parte contrária requereu\\nassinação de dez dias, mas eu vou...\\n\\nCÉSAR \\x97 Está bom, Sr. Freitas, eu\\ndispenso o resto; ou então não me fale linguagem do foro. Em resumo, ela vence?\\n\\nFREITAS \\x97 Está claro. Tratando provar\\nque...\\n\\nCÉSAR \\x97 Vence, é quanto basta.\\n\\nFREITAS \\x97 Pudera não vencer! Pois se eu\\nando nisto...\\n\\nCÉSAR \\x97 Tanto melhor!\\n\\nFREITAS \\x97 Ainda não me lembro de ter perdido\\numa só causa: isto é, já perdi uma, mas é porque nas vésperas de ganhar\\ndisse-me o constituinte que desejava perdê-la. Dito e feito. Provei o contrário\\ndo que já tinha provado, e perdi... ou antes, ganhei, porque perder assim é\\nganhar.\\n\\nCÉSAR \\x97 É a fênix dos procuradores.\\n\\nFREITAS \\x97 (Modestamente) São os\\nseus bons olhos...\\n\\nCÉSAR \\x97 Mas a consciência?\\n\\nFREITAS \\x97 Quem é a consciência?\\n\\nCÉSAR \\x97 A consciência, a sua consciência?\\n\\nFREITAS \\x97 A minha consciência? Ah! essa\\ntambém ganha.\\n\\nCÉSAR \\x97 (Levantando-se) Ah!\\ntambém?...\\n\\nFREITAS \\x97 (O mesmo) Tem V.\\nSA.alguma demandazinha?\\n\\nCÉSAR \\x97 Não, não, não tenho; mas, quando\\ntiver, fique descansado, vou bater à sua porta...\\n\\nFREITAS \\x97 Sempre às ordens de V. Sa.\\n\\nCAPÍTULO VIII\\n\\nEstêvão interrompeu violentamente a\\nleitura, o que desgostou bastante ao poeta novel. O pobre candidato às musas\\nmal pôde balbuciar uma súplica; Estêvão mostrou-se surdo, e o mais que lhe\\nconcedeu foi ficar com a comédia para lê-la depois.\\n\\nOliveira contentou-se com isso; mas não\\nse retirou sem recitar-lhe de cor uma fala do protagonista da tragédia, em\\nversos duros e compridos, dando-lhe por quebra uma estrofe de uma poesia\\nlírica, no estilo do Djinns de Vítor Hugo.\\n\\nEnfim saiu.\\n\\nEntretanto havia passado o tempo.\\n\\nEstêvão releu a carta e quis ainda\\nmandá-la; mas a interrupção do poeta fora proveitosa; relendo a carta, Estêvão\\nachou-a fria e nula; a linguagem era ardente, mas não lhe correspondia ao fogo\\ndo coração.\\n\\n\\x97 É inútil, disse ele rasgando a carta em\\nmil pedaços, a língua humana há de ser sempre impotente para exprimir certos\\nafetos da alma; tudo aquilo era frio e diferente do que sinto. Estou condenado\\na não dizer nada ou a dizer mal. Ao pé dela não tenho forças, sinto-me fraco...\\n\\nEstêvão parou diante da janela que dava\\npara a rua, no momento em que passava um antigo colega dele, com a mulher de\\nbraço, a mulher que era bonita, e com quem se casara um mês antes.\\n\\nOs dois iam alegres e felizes.\\n\\nEstêvão contemplou aquele quadro com\\nadoração e tristeza. O casamento já não era para ele aquele impossível de que\\nfalava quando apenas tinha idéias e não sentimentos. Agora era uma ventura\\nrealizável.\\n\\nO casal que passara dera-lhe nova força.\\n\\n\\x97 É preciso acabar com isto, dizia ele;\\neu não posso deixar de ir àquela mulher e dizer-lhe que a amo, que a adoro, que\\ndesejo ser seu marido. Ela amar-me-á, se já me não ama: sim, ama-me...\\n\\nE começou a vestir-se.\\n\\nQuando calçava as luvas e lançava um\\nolhar para o relógio, o criado trouxe-lhe uma carta.\\n\\nEra de Madalena.\\n\\nEspero, meu caro doutor, que não deixe de\\nvir hoje; esperei-o ontem em vão. Desejo falar-lhe.\\n\\nEstêvão acabou de ler este bilhete na\\nescada, com tal pressa descia e tal urgência tinha de achar-se em casa da\\nviúva.\\n\\nO que ele não queria era perder aquele\\nassomo de coragem. Partiu.\\n\\nQuando chegou à casa de Madalena\\nachava-se esta à janela. Recebeu-o com a costumada afabilidade. Estêvão\\ndesculpou-se como pôde por não ter podido vir na véspera, acrescentando que só\\ncom desgosto do seu coração havia faltado.\\n\\nQue melhor ocasião do que era essa para\\nlançar a bomba de uma declaração franca e apaixonada? Estêvão hesitou alguns\\nsegundos; mas tomando ânimo, ia continuar o período, quando a viúva lhe disse:\\n\\n\\x97 Estava ansiosa por vê-lo para\\ncomunicar-lhe uma coisa de certa importância, e que só a um homem de honra,\\ncomo o senhor, se pode confiar.\\n\\nEstêvão empalideceu.\\n\\n\\x97 Sabe onde foi que eu o vi pela primeira\\nvez?\\n\\n\\x97 No baile de ***.\\n\\n\\x97 Não; foi antes disso; foi no Teatro Lírico.\\n\\n\\x97 Ah!\\n\\n\\x97 Lá o vi com o seu amigo Meneses.\\n\\n\\x97 Fomos algumas vezes lá!\\n\\nMadalena entrou então em uma longa\\nexposição, que o rapaz ouviu sem pestanejar, mas pálido e agitado por comoções\\níntimas. As últimas palavras da viúva foram estas:\\n\\n\\x97 Bem vê, senhor; coisas destas só uma\\ngrande alma pode ouvi-las. As pequenas não as compreendem. Se lhe mereço alguma\\ncoisa, e se esta confiança pode ser paga com um benefício, peço-lhe que faça o\\nque lhe pedi.\\n\\nO médico passou a mão pelos olhos, e\\napenas murmurou:\\n\\n\\x97 Mas...\\n\\nNeste momento entrava na sala o filhinho\\nde Madalena; a viúva levantou-se e trouxe-o pela mão até o lugar onde se achava\\nEstêvão Soares.\\n\\n\\x97 Se não por mim, disse ela, ao menos por\\nesta criança inocente!\\n\\nA criança, sem nada compreender,\\natirou-se aos braços de Estêvão.\\n\\nO moço deu-lhe um beijo na testa, e disse\\npara a viúva:\\n\\n\\x97 Se hesitei não foi porque duvidasse do\\nque a senhora acaba de contar-me; foi porque a missão é espinhosa; mas prometo\\nque hei de cumpri-la.\\n\\nCAPÍTULO IX\\n\\nEstêvão saiu da casa da viúva agitado por\\ndiversos sentimentos, com passo trêmulo e a vista turva. A conversa com a viúva\\nfora um longo combate; a última promessa foi um golpe decisivo e mortal. Estêvão\\nsaía dali como um homem que acabava de matar as suas esperanças em flor;\\ncaminhava ao acaso, precisava de ar e queria meter-se em um quarto sombrio;\\nquisera ao mesmo tempo estar solitário e no meio de imensa multidão.\\n\\nNo caminho encontrou Oliveira, o poeta\\nnovel.\\n\\nLembrou-se que a leitura da comédia\\nimpedira a remessa da carta, e portanto poupou-lhe um tristíssimo desengano.\\n\\nEstêvão involuntariamente abraçou o poeta\\ncom toda a efusão d'alma.\\n\\nOliveira correspondeu ao abraço, e quando\\npôde desligar-se do médico, disse-lhe:\\n\\n\\x97 Obrigado, meu amigo; estas\\nmanifestações são muito honrosas para mim; sempre te conheci como um perfeito\\njuiz literário, e a prova que acabas de dar-me é uma consolação e uma animação;\\nconsola-me do que tenho sofrido, anima-me para novos cometimentos. Se Torquato\\nTasso...\\n\\nDiante desta ameaça de discurso, e\\nsobretudo vendo a interpretação do seu abraço, Estêvão resolveu-se a continuar\\ncaminho abandonando o poeta.\\n\\n\\x97 Adeus, tenho pressa\\n\\n\\x97 Adeus, obrigado! Estêvão chegou à casa\\ne atirou-se à cama. Ninguém o soube nunca, só as paredes do quarto foram\\ntestemunhas; mas a verdade é que Estêvão chorou lágrimas amargas.\\n\\nEnfim que lhe dissera Madalena e que\\nexigira dele?\\n\\nA viúva não era viúva; era mulher de\\nMeneses; viera do Norte meses antes do marido, que só veio como deputado;\\nMeneses, que a amava doidamente, e que era amado com igual delírio, acusava-a\\nde infidelidade; uma carta e um retrato eram os indícios; ela negou, mas\\nexplicou-se mal; o marido separou-se e mandou-a para o Rio de Janeiro.\\n\\nMadalena aceitou a situação com\\nresignação e coragem: não murmurou nem pediu, cumpriu a ordem do marido.\\n\\nTodavia Madalena não era criminosa; o seu\\ncrime era uma aparência; estava condenada por fidelidade de honra. A carta e o\\nretrato não lhe pertenciam; eram apenas um depósito imprudente e fatal.\\nMadalena podia dizer tudo, mas era trair uma promessa; não quis; preferiu que a\\ntempestade doméstica caísse unicamente sobre ela.\\n\\nAgora, porém, a necessidade do segredo\\nexpirara; Madalena recebeu do Norte uma carta em que a amiga, no leito da\\nmorte, pedia que inutilizasse a carta e o retrato, ou os restituísse ao homem\\nque lhos dera. Essa carta era uma justificação.\\n\\nMadalena podia mandar a carta ao marido,\\nou pedir-lhe uma entrevista; mas receava tudo; sabia que seria inútil, porque\\nMeneses era extremamente severo.\\n\\nVira o médico uma noite no teatro em\\ncompanhia de seu marido; indagara e soube que eram amigos; pedia-lhe pois que\\nfosse mediador entre os dois, que a salvasse e que reconstruísse uma família.\\n\\nNão era pois somente o amor de Estêvão\\nque sofria; era também o seu amor-próprio. Estêvão facilmente compreendeu que\\nnão fora atraído àquela casa para outra coisa. É verdade que a carta só chegara\\nna véspera; mas a carta apenas vinha apressar a resolução. Naturalmente\\nMadalena pedir-lhe-ia, sem haver carta, algum serviço análogo àquele.\\n\\nSe se tratasse de qualquer outro homem,\\nEstêvão recusaria o serviço que lhe pedia a viúva, mas tratava-se do seu\\namigo, de um homem a quem ele devia estima e serviços de amizade.\\n\\nAceitou, pois, a cruel missão.\\n\\n\\x97 Cumpra-se o destino, disse ele; hei de\\nir lançar a mulher que amo aos braços de outro; e por desgraça maior, em vez de\\ngozar com este restabelecimento de concórdia doméstica, vejo-me na dura\\nsituação de amar a mulher do meu amigo, isto é, de fugir para longe...\\n\\nEstêvão não saiu mais de casa nesse dia.\\n\\nQuis escrever ao deputado contando-lhe tudo;\\nmas pensou que o melhor era falar-lhe de viva voz. Embora lhe custasse mais,\\nera de mais efeito para o desempenho da sua promessa.\\n\\nAdiou, porém, para o dia seguinte, ou\\nantes para o mesmo dia, porque a noite não lhe interrompeu o tempo, visto que Estêvão\\nnão dormiu um minuto sequer.\\n\\nCAPÍTULO X\\n\\nLevantou-se da cama o pobre namorado sem\\nter conseguido dormir. Vinha nascendo o sol.\\n\\nQuis ler os jornais e pediu-os.\\n\\nJá os ia pondo de lado, por haver acabado\\nde ler, quando repentinamente viu o seu nome impresso no Jornal do Comércio.\\n\\nEra um artigo a pedido com o\\ntítulo de 'Uma Obra-Prima.'\\n\\nDizia o artigo:\\n\\nTemos o prazer de anunciar ao país o\\npróximo aparecimento de uma excelente comédia, estréia de um jovem literato\\nfluminense, de nome Antônio Carlos de Oliveira.\\n\\nEste robusto talento, por muito tempo\\nincógnito, vai enfim entrar nos mares da publicidade, e para isso procurou logo\\nensaiar-se em uma obra de certo vulto.\\n\\nConsta-nos que o autor, solicitado por\\nseus numerosos amigos, leu há dias a comédia em casa do Sr. Dr. Estêvão Soares,\\ndiante de um luzido auditório, que aplaudiu muito e profetizou no Sr. Oliveira\\num futuro Shakespeare.\\n\\nO Sr. Dr. Estêvão Soares levou a sua\\namabilidade a ponto de pedir a comédia para ler segunda vez, e ontem ao\\nencontrar-se na rua com o Sr. Oliveira, de tal entusiasmo vinha possuído que o\\nabraçou estreitamente, com grande pasmo dos numerosos transeuntes.\\n\\nDa parte de um juiz tão competente em\\nmatérias literárias este ato é honroso para o Sr. Oliveira.\\n\\nEstamos ansiosos por ler a peça do Sr.\\nOliveira, e ficamos certos de que ela fará fortuna de qualquer teatro.\\n\\nO AMIGO DAS LETRAS.\\n\\nEstêvão, apesar dos sentimentos que o agitavam\\nentão, enfureceu-se com o artigo que acabava de ler. Não havia dúvida que o\\nautor dele era o próprio autor da comédia. O abraço da véspera fora mal\\ninterpretado, e o poetastro aproveitava-o em seu favor. Se ao menos não falasse\\nno nome de Estêvão, este poderia desculpar a vaidadezinha do escritor. Mas o\\nnome ali estava como cúmplice da obra.\\n\\nPondo de lado o Jornal do Comércio,\\nEstêvão lembrou-se de protestar, e ia já escrever um artigo quando recebeu uma\\ncartinha de Oliveira.\\n\\nDizia a carta:\\n\\nMeu Estêvão.\\n\\nLembrou-se um amigo meu de escrever\\nalguma coisa a propósito da minha peça. Expliquei-lhe como se dera a leitura em\\ntua casa, e disse-lhe como é que, apesar do vivo desejo que tinhas de ouvir\\nlê-la, interrompeste-me para ir cuidar de um doente. Apesar de tudo isto, o meu\\nreferido amigo contou hoje no Jornal do Comércio a história alterando\\num pouco a verdade. Desculpa-o; é a linguagem da amizade e da benevolência.\\n\\nOntem entrei para casa tão orgulhoso com\\no teu abraço que escrevi uma ode, e assim manifestou-se em mim a veia lírica,\\ndepois da cômica e da trágica. Aí te mando o rascunho; se não prestar, rasga-a.\\n\\nA carta tinha, por engano, a data da\\nvéspera.\\n\\nA ode era muito comprida; Estêvão nem a\\nleu, atirou-a para um canto.\\n\\nA ode começava assim:\\n\\nSai do teu monte, ó musa!\\n\\nVem inspirar a lira do poeta;\\n\\nEnche de luz a minha fronte ousada,\\n\\nE mandemos aos evos,\\n\\nNas asas de uma estrofe igente e\\naltíssona,\\n\\nDo caro amigo o animador abraço!\\n\\nNão canto os altos feitos\\n\\nDe Aquiles, nem traduzo os sons tremendos\\n\\nDos rufos marciais enchendo os campos!\\n\\nOutro assunto me inspira.\\n\\nNão canto a espada que dá morte e campa;\\n\\nCanto o abraço que dá vida e glória!\\n\\nCAPÍTULO XI\\n\\nComo havia prometido, Estêvão foi logo\\nprocurar o deputado Meneses. Em vez de ir direito ao fim, quis antes sondá-lo a\\nrespeito do seu passado. Era a primeira vez que o moço tocava em tal. Meneses\\nnão desconfiou, mas estranhou; mas tal confiança tinha nele que não recusou\\nnada.\\n\\n\\x97 Sempre imaginei, dissera-lhe Estêvão,\\nque há na sua vida um drama. E talvez engano meu, mas a verdade é que ainda não\\nperdi a idéia.\\n\\n\\x97 Há, com efeito, um drama; mas um drama\\npateado. Não sorria; é assim. Que supõe então?\\n\\n\\x97 Não suponho nada. Imagino que...\\n\\n\\x97 Pede dramas a um homem político?\\n\\n\\x97 Por que não?\\n\\n\\x97 Eu lhe digo. Sou político e não sou.\\nNão entrei na vida pública por vocação; entrei como se entra em uma sepultura:\\npara dormir melhor. Por que o fiz? A razão é o drama de que me fala.\\n\\n\\x97 Uma mulher, talvez...\\n\\n\\x97 Sim, uma mulher.\\n\\n\\x97 Talvez mesmo, disse Estêvão procurando\\nsorrir, talvez uma esposa.\\n\\nMeneses estremeceu e olhou para o amigo,\\nespantado e desconfiado.\\n\\n\\x97 Quem lho disse?\\n\\n\\x97 Pergunto.\\n\\n\\x97 Uma esposa, sim; mas não lhe direi mais\\nnada. É a primeira pessoa que ouve tanta coisa de mim. Deixemos o passado que\\nmorreu: parce sepultis.\\n\\n\\x97 Conforme, disse Estêvão; e se eu\\npertencer a uma seita filosófica que pretenda ressuscitar os mortos, mesmo\\nquando é um passado...\\n\\n\\x97 As suas palavras, ou querem dizer\\nmuito, ou nada. Qual é a sua intenção?\\n\\n\\x97 A minha intenção não é ressuscitar o\\npassado unicamente; é repará-lo, é restaurá-lo em todo o seu esplendor, com\\ntoda a legitimidade do seu direito; o meu fim é dizer-lhe, meu caro amigo, que\\na mulher condenada é uma mulher inocente.\\n\\nOuvindo estas palavras Meneses deu um\\npequeno grito.\\n\\nDepois levantando-se com rapidez pediu a\\nEstêvão que lhe dissesse o que sabia e como sabia.\\n\\nEstêvão referiu tudo.\\n\\nQuando concluiu a sua narração, o deputado\\nabanou a cabeça com aquele último sintoma de incredulidade que é ainda um eco\\ndas grandes catástrofes domésticas.\\n\\nMas Estêvão ia armado contra as objeções\\ndo marido. Protestou energicamente pela defesa da mulher; instou pelo\\ncumprimento do dever.\\n\\nA última resposta de Meneses foi esta:\\n\\n\\x97 Meu caro Estêvão, a mulher de César nem\\ndeve ser suspeitada. Acredito em tudo; mas o que está feito, está feito.\\n\\n\\x97 O princípio é cruel, meu amigo.\\n\\n\\x97 É fatal.\\n\\nEstêvão saiu.\\n\\nFicando só, Meneses caiu em profunda\\nmeditação; ele acreditava em tudo, e amava a mulher; mas não acreditava que os\\nbelos dias pudessem voltar.\\n\\nRecusando, pensava ele, era ficar no\\ntúmulo em que tivera tão brando sono.\\n\\nEstêvão, porém, não desanimou.\\n\\nQuando entrou em casa, escreveu uma longa\\ncarta ao deputado exortando-o a que restaurasse a família um momento separada e\\ndesfeita. Estêvão era eloqüente; o coração de Meneses com pouco se contentava.\\n\\nEnfim, nesta missão diplomática, o médico\\nhouve-se com suprema habilidade. No fim de alguns dias dissipara-se a nuvem do\\npassado, e o casal reunira-se.\\n\\nComo?\\n\\nMadalena soube das disposições de Meneses\\ne recebeu o anúncio de uma visita de seu marido.\\n\\nQuando o deputado preparava-se para sair,\\nvieram dizer-lhe que uma senhora o procurava.\\n\\nA senhora era Madalena.\\n\\nMeneses nem quis abraçá-la;\\najoelhou-se-lhe aos pés.\\n\\nTudo estava esquecido.\\n\\nQuiseram celebrar a reconciliação, e\\nEstêvão foi convidado para lá passar o dia em companhia dos seus amigos, que\\nlhe deviam a felicidade.\\n\\nEstêvão não foi.\\n\\nMas no dia seguinte Meneses recebeu este\\nbilhete:\\n\\nDesculpe, meu amigo, se não vou\\ndespedir-me pessoalmente. Sou obrigado a partir repentinamente para Minas.\\nVoltarei daqui a alguns meses.\\n\\nEstimo que sejam felizes, e espero que\\nnão se esqueçam de mim.\\n\\nMeneses foi apressadamente à casa de\\nEstêvão, e ainda o achou preparando as malas. Achou singular a viagem, e mais\\nsingular o bilhete; mas o médico não revelou por modo nenhum o verdadeiro\\nmotivo da sua partida.\\n\\nQuando Meneses voltou, comunicou à mulher\\nas suas impressões; e perguntou se ela compreendia aquilo.\\n\\n\\x97 Não, respondeu Madalena.\\n\\nMas tinha compreendido enfim.\\n\\n'Nobre alma!' disse ela\\nconsigo.\\n\\nNada disse ao marido; nisso mostrava-se esposa\\nsolícita pela tranqüilidade conjugal; mas mostrava-se sobretudo mulher.\\n\\nMeneses não foi à Câmara durante muitos\\ndias, e no primeiro paquete seguiu para o Norte.\\n\\nA ausência transtornou algumas votações,\\ne a sua partida logrou muitos cálculos.\\n\\nMas o homem tem o direito de procurar a\\nsua felicidade e a felicidade de Meneses era independente da política.\\n\\nO SEGREDO DE\\nAUGUSTA\\n\\nÍNDICE\\n\\nCapítulo Primeiro\\n\\nCapítulo II\\n\\nCapítulo iii\\n\\nCapítulo iv\\n\\nCapítulo v\\n\\nCapítulo vI\\n\\nCapítulo vII\\n\\nCAPÍTULO PRIMEIRO\\n\\nSão onze horas da manhã.\\n\\nD. Augusta Vasconcelos está reclinada\\nsobre um sofá, com um livro na mão. Adelaide, sua filha, passa os dedos pelo\\nteclado do piano.\\n\\n\\x97 Papai já acordou? pergunta Adelaide à\\nsua mãe.\\n\\n\\x97 Não, responde esta sem levantar os\\nolhos do livro.\\n\\nAdelaide levantou-se e foi ter com\\nAugusta.\\n\\n\\x97 Mas é tão tarde, mamãe, disse ela. São\\nonze horas. Papai dorme muito.\\n\\nAugusta deixou cair o livro no regaço, e\\ndisse olhando para Adelaide:\\n\\n\\x97 É que naturalmente recolheu-se tarde.\\n\\n\\x97 Reparei já que nunca me despeço de\\npapai quando me vou deitar. Anda sempre fora.\\n\\nAugusta sorriu.\\n\\n\\x97 És uma roceira, disse ela; dormes com\\nas galinhas. Aqui o costume é outro. Teu pai tem que fazer de noite.\\n\\n\\x97 É política, mamãe? perguntou Adelaide.\\n\\n\\x97 Não sei, respondeu Augusta.\\n\\nComecei dizendo que Adelaide era filha de\\nAugusta, e esta informação, necessária no romance, não o era menos na vida real\\nem que se passou o episódio que vou contar, porque à primeira vista ninguém\\ndiria que havia ali mãe e filha; pareciam duas irmãs, tão jovem era a mulher de\\nVasconcelos.\\n\\nTinha Augusta trinta anos e Adelaide\\nquinze; mas comparativamente a mãe parecia mais moça ainda que a filha.\\nConservava a mesma frescura dos quinze anos, e tinha de mais o que faltava a\\nAdelaide, que era a consciência da beleza e da mocidade; consciência que seria\\nlouvável se não tivesse como conseqüência uma imensa e profunda vaidade. A sua\\nestatura era mediana, mas imponente. Era muito alva e muito corada. Tinha os\\ncabelos castanhos, e os olhos garços. As mãos compridas e bem feitas pareciam\\ncriadas para os afagos de amor. Augusta dava melhor emprego às suas mãos;\\ncalçava-as de macia pelica.\\n\\nAs graças de Augusta estavam todas em\\nAdelaide, mas em embrião. Adivinhava-se que aos vinte anos Adelaide devia\\nrivalizar com Augusta; mas por enquanto havia na menina uns restos da infância\\nque não davam realce aos elementos que a natureza pusera nela.\\n\\nTodavia, era bem capaz de apaixonar um\\nhomem, sobretudo se ele fosse poeta, e gostasse das virgens de quinze anos, até\\nporque era um pouco pálida, e os poetas em todos os tempos tiveram sempre queda\\npara as criaturas descoradas.\\n\\nAugusta vestia com suprema elegância;\\ngastava muito, é verdade; mas aproveitava bem as enormes despesas, se acaso é\\nisso aproveitá-las. Deve-se fazer-lhe uma justiça; Augusta não regateava nunca;\\npagava o preço que lhe pediam por qualquer coisa. Punha nisso a sua grandeza, e\\nachava que o procedimento contrário era ridículo e de baixa esfera.\\n\\nNeste ponto Augusta partilhava os\\nsentimentos e servia aos interesses de alguns mercadores, que entendem ser uma\\ndesonra abater alguma coisa no preço das suas mercadorias.\\n\\nO fornecedor de fazendas de Augusta,\\nquando falava a este respeito, costumava dizer-lhe:\\n\\n\\x97 Pedir um preço e dar a fazenda por\\noutro preço menor, é confessar que havia intenção de esbulhar o freguês.\\n\\nO fornecedor preferia fazer a coisa sem a\\nconfissão.\\n\\nOutra justiça que devemos reconhecer era\\nque Augusta não poupava esforços para que Adelaide fosse tão elegante como ela.\\n\\nNão era pequeno o trabalho.\\n\\nAdelaide desde a idade de cinco anos fora\\neducada na roça em casa de uns parentes de Augusta, mais dados ao cultivo do café\\nque às despesas do vestuário. Adelaide foi educada nesses hábitos e nessas\\nidéias. Por isso quando chegou à corte, onde se reuniu à família, houve para\\nela uma verdadeira transformação. Passava de uma civilização para outra; viveu\\nnuma longa série de anos. O que lhe valeu é que tinha em sua mãe uma excelente\\nmestra. Adelaide reformou-se, e no dia em que começa esta narração já era\\noutra; todavia estava ainda muito longe de Augusta.\\n\\nNo momento em que Augusta respondia à\\ncuriosa pergunta de sua filha acerca das ocupações de Vasconcelos, parou um\\ncarro à porta.\\n\\nAdelaide correu à janela.\\n\\n\\x97 É D. Carlota, mamãe, disse a menina\\nvoltando-se para dentro.\\n\\nDaí a alguns minutos entrava na sala a D.\\nCarlota em questão. Os leitores ficarão conhecendo esta nova personagem com a\\nsimples indicação de que era um segundo volume de Augusta; bela, como ela;\\nelegante, como ela; vaidosa, como ela.\\n\\nTudo isto quer dizer que eram ambas as\\nmais afáveis inimigas que pode haver neste mundo.\\n\\nCarlota vinha pedir a Augusta para ir\\ncantar num concerto que ia dar em casa, imaginado por ela para o fim de\\ninaugurar um magnífico vestido novo.\\n\\nAugusta de boa vontade acedeu ao pedido.\\n\\n\\x97 Como está seu marido? perguntou ela a\\nCarlota.\\n\\n\\x97 Foi para a praça; e o seu?\\n\\n\\x97 O meu dorme.\\n\\n\\x97 Como um justo? perguntou Carlota\\nsorrindo maliciosamente.\\n\\n\\x97 Parece, respondeu Augusta.\\n\\nNeste momento, Adelaide, que por pedido\\nde Carlota tinha ido tocar um noturno ao piano, voltou para o grupo.\\n\\nA amiga de Augusta perguntou-lhe:\\n\\n\\x97 Aposto que já tem algum noivo em vista?\\n\\nA menina corou muito, e balbuciou:\\n\\n\\x97 Não fale nisso.\\n\\n\\x97 Ora, há de ter! Ou então aproxima-se da\\népoca em que há de ter um noivo, e eu já lhe profetizo que há de ser bonito...\\n\\n\\x97 É muito cedo, disse Augusta.\\n\\n\\x97 Cedo!\\n\\n\\x97 Sim, está muito criança; casar-se-á\\nquando for tempo, e o tempo está longe...\\n\\n\\x97 Já sei, disse Carlota rindo, quer\\nprepará-la bem... Aprovo-lhe a intenção. Mas nesse caso não lhe tire as\\nbonecas.\\n\\n\\x97 Já não as tem.\\n\\n\\x97 Então é difícil impedir os namorados.\\nUma coisa substitui a outra.\\n\\nAugusta sorriu, e Carlota levantou-se\\npara sair.\\n\\n\\x97 Já? disse Augusta.\\n\\n\\x97 É preciso; adeus!\\n\\n\\x97 Adeus!\\n\\nTrocaram-se alguns beijos e Carlota saiu\\nlogo.\\n\\nLogo depois chegaram dois caixeiros: um com\\nalguns vestidos e outro com um romance; eram encomendas feitas na véspera. Os\\nvestidos eram caríssimos, e o romance tinha este título: Fanny, por\\nErnesto Feydeau.\\n\\nCAPÍTULO II\\n\\nPela uma hora da tarde do mesmo dia\\nlevantou-se Vasconcelos da cama.\\n\\nVasconcelos era um homem de quarenta\\nanos, bem apessoado, dotado de um maravilhoso par de suíças grisalhas, que lhe\\ndavam um ar de diplomata, coisa de que estava afastado umas boas cem léguas.\\nTinha a cara risonha e expansiva; todo ele respirava uma robusta saúde.\\n\\nPossuía uma boa fortuna e não trabalhava,\\nisto é, trabalhava muito na destruição da referida fortuna, obra em que sua\\nmulher colaborava conscienciosamente.\\n\\nA observação de Adelaide era verídica;\\nVasconcelos recolhia-se tarde; acordava sempre depois do meio-dia; e saía às\\nave-marias para voltar na madrugada seguinte. Quer dizer que fazia com\\nregularidade algumas pequenas excursões à casa da família.\\n\\nSó uma pessoa tinha o direito de exigir\\nde Vasconcelos mais alguma assiduidade em casa: era Augusta; mas ela nada lhe\\ndizia. Nem por isso se davam mal, porque o marido em compensação da tolerância\\nde sua esposa não lhe negava nada, e todos os caprichos dela eram de pronto\\nsatisfeitos.\\n\\nSe acontecia que Vasconcelos não pudesse\\nacompanhá-la a todos os passeios e bailes, incumbia-se disso um irmão dele,\\ncomendador de duas ordens, político de oposição, excelente jogador de\\nvoltarete, e homem amável nas horas vagas, que eram bem poucas. O irmão\\nLourenço era o que se pode chamar um irmão terrível. Obedecia a todos os\\ndesejos da cunhada, mas não poupava de quando em quando um sermão ao irmão. Boa\\nsemente que não pegava.\\n\\nAcordou, pois, Vasconcelos, e acordou de\\nbom humor. A filha alegrou-se muito ao vê-lo, e ele mostrou-se de uma grande\\nafabilidade com a mulher, que lhe retribuiu do mesmo modo.\\n\\n\\x97 Por que acorda tão tarde? perguntou\\nAdelaide acariciando as suíças de Vasconcelos.\\n\\n\\x97 Porque me deito tarde.\\n\\n\\x97 Mas por que se deita tarde?\\n\\n\\x97 Isso agora é muito perguntar! disse\\nVasconcelos sorrindo.\\n\\nE continuou:\\n\\n\\x97 Deito-me tarde porque assim o pedem as\\nnecessidades políticas. Tu não sabes o que é política; é uma coisa muito feia,\\nmas muito necessária.\\n\\n\\x97 Sei o que é política, sim! disse\\nAdelaide.\\n\\n\\x97 Ah! explica-me lá então o que é.\\n\\n\\x97 Lá na roça, quando quebraram a cabeça\\nao juiz de paz, disseram que era por política; o que eu achei esquisito, porque\\na política seria não quebrar a cabeça...\\n\\nVasconcelos riu muito com a observação da\\nfilha, e foi almoçar, exatamente quando entrava o irmão, que não pôde deixar de\\nexclamar:\\n\\n\\x97 A boa hora almoças tu!\\n\\n\\x97 Aí vens tu com as tuas reprimendas. Eu\\nalmoço quando tenho fome... Vê se me queres agora escravizar às horas e às\\ndenominações. Chama-lhe almoço ou lunch, a verdade é que estou comendo.\\n\\nLourenço respondeu com uma careta.\\n\\nTerminado o almoço, anunciou-se a chegada\\ndo Sr. Batista. Vasconcelos foi recebê-lo no gabinete particular.\\n\\nBatista era um rapaz de vinte e cinco\\nanos; era o tipo acabado do pândego; excelente companheiro numa ceia de\\nsociedade equívoca, nulo conviva numa sociedade honesta. Tinha chiste e certa\\ninteligência, mas era preciso que estivesse em clima próprio para que se lhe\\ndesenvolvessem essas qualidades. No mais era bonito; tinha um lindo bigode;\\ncalçava botins do Campas, e vestia no mais apurado gosto; fumava tanto como um\\nsoldado e tão bem como um lord.\\n\\n\\x97 Aposto que acordaste agora? disse\\nBatista entrando no gabinete do Vasconcelos.\\n\\n\\x97 Há três quartos de hora; almocei neste\\ninstante. Toma um charuto.\\n\\nBatista aceitou o charuto, e estirou-se\\nnuma cadeira americana, enquanto Vasconcelos acendia um fósforo.\\n\\n\\x97 Viste o Gomes? perguntou Vasconcelos.\\n\\n\\x97 Vi-o ontem. Grande notícia; rompeu com\\na sociedade.\\n\\n\\x97 Deveras?\\n\\n\\x97 Quando lhe perguntei por que motivo\\nninguém o via há um mês, respondeu-me que estava passando por uma\\ntransformação, e que do Gomes que foi só ficará lembrança. Parece incrível, mas\\no rapaz fala com convicção.\\n\\n\\x97 Não creio; aquilo é alguma caçoada que\\nnos quer fazer. Que novidades há?\\n\\n\\x97 Nada; isto é, tu é que deves saber\\nalguma coisa.\\n\\n\\x97 Eu, nada...\\n\\n\\x97 Ora essa! não foste ontem ao Jardim?\\n\\n\\x97 Fui, sim; houve uma ceia...\\n\\n\\x97 De família, sim. Eu fui ao Alcazar. A\\nque horas acabou a reunião?\\n\\n\\x97 Às quatro da manhã...\\n\\nVasconcelos estendeu-se numa rede, e a\\nconversa continuou por esse tom, até que um moleque veio dizer a Vasconcelos\\nque estava na sala o Sr. Gomes.\\n\\n\\x97 Eis o homem! disse Batista.\\n\\n\\x97 Manda subir, ordenou Vasconcelos.\\n\\nO moleque desceu para dar o recado; mas\\nsó um quarto de hora depois é que Gomes apareceu, por demorar-se algum tempo em\\nbaixo conversando com Augusta e Adelaide.\\n\\n\\x97 Quem é vivo sempre aparece, disse\\nVasconcelos ao avistar o rapaz.\\n\\n\\x97 Não me procuram..., disse ele.\\n\\n\\x97 Perdão; eu já lá fui duas vezes, e\\ndisseram-me que havias saído.\\n\\n\\x97 Só por grande fatalidade, porque eu\\nquase nunca saio.\\n\\n\\x97 Mas então estás completamente ermitão?\\n\\n\\x97 Estou crisálida; vou reaparecer\\nborboleta, disse Gomes sentando-se.\\n\\n\\x97 Temos poesia... Guarda debaixo,\\nVasconcelos...\\n\\nO novo personagem, o Gomes tão desejado e\\ntão escondido, representava ter cerca de trinta anos. Ele, Vasconcelos e\\nBatista eram a trindade do prazer e da dissipação, ligada por uma indissolúvel\\namizade. Quando Gomes, cerca de um mês antes, deixou de aparecer nos círculos\\ndo costume, todos repararam nisso, mas só Vasconcelos e Batista sentiram\\ndeveras. Todavia, não insistiram muito em arrancá-lo à solidão, somente pela\\nconsideração de que talvez houvesse nisso algum interesse do rapaz.\\n\\nGomes foi portanto recebido como um filho\\npródigo.\\n\\n\\x97 Mas onde te meteste? que é isso de\\ncrisálida e de borboleta? Cuidas que eu sou do mangue?\\n\\n\\x97 É o que lhes digo, meus amigos. Estou\\ncriando asas.\\n\\n\\x97 Asas! disse Batista sufocando uma\\nrisada.\\n\\n\\x97 Só se são asas de gavião para cair...\\n\\n\\x97 Não, estou falando sério.\\n\\nE com efeito Gomes apresentava um ar\\nsério e convencido.\\n\\nVasconcelos e Batista olharam um para o\\noutro.\\n\\n\\x97 Pois se é verdade isso que dizes,\\nexplica-nos lá que asas são essas, e sobretudo para onde é que queres voar.\\n\\nA estas palavras de Vasconcelos,\\nacrescentou Batista:\\n\\n\\x97 Sim, deves dar-nos uma explicação, e se\\nnós que somos o teu conselho de família, acharmos que a explicação é boa,\\naprovamo-la; senão, ficas sem asas, e ficas sendo o que sempre foste...\\n\\n\\x97 Apoiado, disse Vasconcelos.\\n\\n\\x97 Pois é simples; estou criando asas de\\nanjo, e quero voar para o céu do amor.\\n\\n\\x97 Do amor! disseram os dois amigos de\\nGomes.\\n\\n\\x97 É verdade, continuou Gomes. Que fui eu até\\nhoje? Um verdadeiro estróina, um perfeito pândego, gastando às mãos largas a\\nminha fortuna e o meu coração. Mas isto é bastante para encher a vida? Parece\\nque não...\\n\\n\\x97 Até aí concordo... isso não basta; é preciso\\nque haja outra coisa; a diferença está na maneira de...\\n\\n\\x97 É exato, disse Vasconcelos; é exato; é\\nnatural que vocês pensem de modo diverso, mas eu acho que tenho razão em dizer\\nque sem o amor casto e puro a vida é um puro deserto.\\n\\nBatista deu um pulo...\\n\\nVasconcelos fitou os olhos em Gomes:\\n\\n\\x97 Aposto que vais casar? disse-lhe.\\n\\n\\x97 Não sei se vou casar; sei que amo, e\\nespero acabar por casar-me com a mulher a quem amo.\\n\\n\\x97 Casar! exclamou Batista.\\n\\nE soltou uma estridente gargalhada.\\n\\nMas Gomes falava tão seriamente, insistia\\ncom tanta gravidade naqueles projetos de regeneração, que os dois amigos\\nacabaram por ouvi-lo com igual seriedade.\\n\\nGomes falava uma linguagem estranha, e\\ninteiramente nova na boca de um rapaz que era o mais doido e ruidoso nos\\nfestins de Baco e de Citera.\\n\\n\\x97 Assim, pois, deixas-nos? perguntou\\nVasconcelos.\\n\\n\\x97 Eu? Sim e não; encontrar-me-ão nas\\nsalas; nos hotéis e nas casas equívocas, nunca mais.\\n\\n\\x97 De profundis... cantarolou\\nBatista.\\n\\n\\x97 Mas, afinal de contas, disse Vasconcelos,\\nonde está a tua Marion? Pode-se saber quem ela é?\\n\\n\\x97 Não é Marion, é Virgínia... Pura\\nsimpatia ao princípio, depois afeição pronunciada, hoje paixão verdadeira.\\nLutei enquanto pude; mas abati as armas diante de uma força maior. O meu grande\\nmedo era não ter uma alma capaz de oferecer a essa gentil criatura. Pois\\ntenho-a, e tão fogosa, e tão virgem como no tempo dos meus dezoito anos. Só o\\ncasto olhar de uma virgem poderia descobrir no meu lodo essa pérola divina.\\nRenasço melhor do que era...\\n\\n\\x97 Está claro, Vasconcelos, o rapaz está\\ndoido; mandemo-lo para a Praia Vermelha; e como pode ter algum acesso, eu\\nvou-me embora...\\n\\nBatista pegou no chapéu.\\n\\n\\x97 Onde vais? disse-lhe Gomes.\\n\\n\\x97 Tenho que fazer; mas logo aparecerei em\\ntua casa; quero ver se ainda é tempo de arrancar-te a esse abismo.\\n\\nE saiu.\\n\\nCAPÍTULO III\\n\\nOs dois ficaram sós.\\n\\n\\x97 Então é certo que estás apaixonado?\\n\\n\\x97 Estou. Eu bem sabia que vocês\\ndificilmente acreditariam nisto; eu próprio não creio ainda, e contudo é\\nverdade. Acabo por onde tu começaste. Será melhor ou pior? Eu creio que é\\nmelhor.\\n\\n\\x97 Tens interesse em ocultar o nome da\\npessoa?\\n\\n\\x97 Oculto-o por ora a todos, menos a ti.\\n\\n\\x97 É uma prova de confiança...\\n\\nGomes sorriu.\\n\\n\\x97 Não, disse ele, é uma condição sine\\nqua non; antes de todos tu deves saber quem é a escolhida do meu coração;\\ntrata-se de tua filha.\\n\\n\\x97 Adelaide? perguntou Vasconcelos\\nespantado.\\n\\n\\x97 Sim, tua filha.\\n\\nA revelação de Gomes caiu como uma bomba.\\nVasconcelos nem por sombras suspeitava semelhante coisa.\\n\\n\\x97 Este amor é da tua aprovação?\\nperguntou-lhe Gomes.\\n\\nVasconcelos refletia, e depois de alguns\\nminutos de silêncio, disse:\\n\\n\\x97 O meu coração aprova a tua escolha; és meu\\namigo, estás apaixonado, e uma vez que ela te ame...\\n\\nGomes ia falar, mas Vasconcelos continuou\\nsorrindo:\\n\\n\\x97 Mas a sociedade?\\n\\n\\x97 Que sociedade?\\n\\n\\x97 A sociedade que nos tem em conta de\\nlibertinos, a ti e a mim, é natural que não aprove o meu ato.\\n\\n\\x97 Já vejo que é uma recusa, disse Gomes\\nentristecendo.\\n\\n\\x97 Qual recusa, pateta! É uma objeção, que\\ntu poderás destruir dizendo: a sociedade é uma grande caluniadora e uma famosa\\nindiscreta. Minha filha é tua, com uma condição.\\n\\n\\x97 Qual?\\n\\n\\x97 A condição da reciprocidade. Ama-te\\nela?\\n\\n\\x97 Não sei, respondeu Gomes.\\n\\n\\x97 Mas desconfias...\\n\\n\\x97 Não sei; sei que a amo e que daria a\\nminha vida por ela, mas ignoro se sou correspondido.\\n\\n\\x97 Hás de ser... Eu me incumbirei de\\napalpar o terreno. Daqui a dois dias dou-te a minha resposta. Ah! se ainda\\ntenho de ver-te meu genro!\\n\\nA resposta de Gomes foi cair-lhe nos\\nbraços. A cena já roçava pela comédia quando deram três horas. Gomes lembrou-se\\nque tinha rendez-vous com um amigo; Vasconcelos lembrou-se que tinha de\\nescrever algumas cartas.\\n\\nGomes saiu sem falar às senhoras.\\n\\nPelas quatro horas Vasconcelos\\ndispunha-se a sair, quando vieram anunciar-lhe a visita do Sr. José Brito.\\n\\nAo ouvir este nome o alegre Vasconcelos\\nfranziu o sobrolho.\\n\\nPouco depois entrava no gabinete o Sr.\\nJosé Brito.\\n\\nO Sr. José Brito era para Vasconcelos um\\nverdadeiro fantasma, um eco do abismo, uma voz da realidade; era um credor.\\n\\n\\x97 Não contava hoje com a sua visita,\\ndisse Vasconcelos.\\n\\n\\x97 Admira, respondeu o Sr. José Brito com\\numa placidez de apunhalar, porque hoje são 21.\\n\\n\\x97 Cuidei que eram 19, balbuciou\\nVasconcelos.\\n\\n\\x97 Anteontem, sim; mas hoje são 21. Olhe,\\ncontinuou o credor pegando no Jornal do Comércio que se achava numa\\ncadeira: quinta-feira, 21.\\n\\n\\x97 Vem buscar o dinheiro?\\n\\n\\x97 Aqui está a letra, disse o Sr. José\\nBrito tirando a carteira do bolso e um papel da carteira.\\n\\n\\x97 Por que não veio mais cedo? perguntou\\nVasconcelos, procurando assim espaçar a questão principal.\\n\\n\\x97 Vim às oito horas da manhã, respondeu o\\ncredor, estava dormindo; vim às nove, idem; vim às dez, idem; vim às onze,\\nidem; vim ao meio-dia, idem. Quis vir à uma hora, mas tinha de mandar um homem\\npara a cadeia, e não me foi possível acabar cedo. Às três jantei, e às quatro\\naqui estou.\\n\\nVasconcelos puxava o charuto a ver se lhe\\nocorria alguma idéia boa de escapar ao pagamento com que ele não contava.\\n\\nNão achava nada; mas o próprio credor\\nforneceu-lhe ensejo.\\n\\n\\x97 Além de que, disse ele, a hora não\\nimporta nada, porque eu estava certo de que o senhor me vai pagar.\\n\\n\\x97 Ah! disse Vasconcelos, é talvez um\\nengano; eu não contava com o senhor hoje, e não arranjei o dinheiro...\\n\\n\\x97 Então, como há de ser? perguntou o\\ncredor com ingenuidade.\\n\\nVasconcelos sentiu entrar-lhe n\\x92alma a\\nesperança.\\n\\n\\x97 Nada mais simples, disse; o senhor\\nespera até amanhã...\\n\\n\\x97 Amanhã quero assistir à penhora de um\\nindivíduo que mandei processar por uma larga dívida; não posso...\\n\\n\\x97 Perdão, eu levo-lhe o dinheiro à sua\\ncasa...\\n\\n\\x97 Isso seria bom se os negócios\\ncomerciais se arranjassem assim. Se fôssemos dois amigos é natural que eu me\\ncontentasse com a sua promessa, e tudo acabaria amanhã; mas eu sou seu credor,\\ne só tenho em vista salvar o meu interesse... Portanto, acho melhor pagar hoje...\\n\\nVasconcelos passou a mão pelos cabelos.\\n\\n\\x97 Mas se eu não tenho! disse ele.\\n\\n\\x97 É uma coisa que o deve incomodar muito,\\nmas que a mim não me causa a menor impressão... isto é, deve causar-me alguma,\\nporque o senhor está hoje em situação precária.\\n\\n\\x97 Eu?\\n\\n\\x97 É verdade; as suas casas da Rua da\\nImperatriz estão hipotecadas; a da Rua de S. Pedro foi vendida, e a importância\\njá vai longe; os seus escravos têm ido a um e um, sem que o senhor o perceba, e\\nas despesas que o senhor há pouco fez para montar uma casa a certa dama da\\nsociedade equívoca são imensas. Eu sei tudo; sei mais do que o senhor...\\n\\nVasconcelos estava visivelmente aterrado.\\n\\nO credor dizia a verdade.\\n\\n\\x97 Mas enfim, disse Vasconcelos, o que\\nhavemos de fazer?\\n\\n\\x97 Uma coisa simples; duplicamos a dívida,\\ne o senhor passa-me agora mesmo um depósito.\\n\\n\\x97 Duplicar a dívida! Mas isto é um...\\n\\n\\x97 Isto é uma tábua de salvação; sou\\nmoderado. Vamos lá, aceite. Escreva-me aí o depósito, e rasga-se a letra.\\n\\nVasconcelos ainda quis fazer objeção; mas\\nera impossível convencer o Sr. José Brito.\\n\\nAssinou o depósito de dezoito contos.\\n\\nQuando o credor saiu, Vasconcelos entrou\\na meditar seriamente na sua vida.\\n\\nAté então gastara tanto e tão cegamente\\nque não reparara no abismo que ele próprio cavara a seus pés.\\n\\nVeio porém adverti-lo a voz de um dos\\nseus algozes.\\n\\nVasconcelos refletiu, calculou,\\nrecapitulou as suas despesas e as suas obrigações, e viu que da fortuna que\\npossuía tinha na realidade menos da quarta parte.\\n\\nPara viver como até ali vivera, aquilo\\nera nada menos que a miséria.\\n\\nQue fazer em tal situação?\\n\\nVasconcelos pegou no chapéu e saiu.\\n\\nVinha caindo a noite.\\n\\nDepois de andar algum tempo pelas ruas\\nentregue às suas meditações, Vasconcelos entrou no Alcazar.\\n\\nEra um meio de distrair-se.\\n\\nAli encontraria a sociedade do costume.\\n\\nBatista veio ao encontro do amigo.\\n\\n\\x97 Que cara é essa? disse-lhe.\\n\\n\\x97 Não é nada, pisaram-me um calo,\\nrespondeu Vasconcelos, que não encontrava melhor resposta.\\n\\nMas um pedicuro que se achava perto de\\nambos ouviu o dito, e nunca mais perdeu de vista o infeliz Vasconcelos, a quem\\na coisa mais indiferente incomodava. O olhar persistente do pedicuro\\naborreceu-o tanto, que Vasconcelos saiu.\\n\\nEntrou no Hotel de Milão, para jantar. Por\\nmais preocupado que ele estivesse, a exigência do estômago não se demorou.\\n\\nOra, no meio do jantar lembrou-lhe aquilo\\nque não devia ter-lhe saído da cabeça: o pedido de casamento feito nessa tarde\\npor Gomes.\\n\\nFoi um raio de luz.\\n\\n'Gomes é rico, pensou Vasconcelos; o\\nmeio de escapar a maiores desgostos é este; Gomes casa-se com Adelaide, e como\\né meu amigo não me negará o que eu precisar. Pela minha parte procurarei ganhar\\no perdido... Que boa fortuna foi aquela lembrança do casamento!\\x94\\n\\nVasconcelos comeu alegremente; voltou\\ndepois ao Alcazar, onde alguns rapazes e outras pessoas fizeram esquecer\\ncompletamente os seus infortúnios.\\n\\nÀs três horas da noite Vasconcelos\\nentrava para casa com a tranqüilidade e regularidade do costume.\\n\\nCAPÍTULO IV\\n\\nNo dia seguinte o primeiro cuidado de\\nVasconcelos foi consultar o coração de Adelaide. Queria porém fazê-lo na\\nausência de Augusta. Felizmente esta precisava de ir ver à Rua da Quitanda umas\\nfazendas novas, e saiu com o cunhado, deixando a Vasconcelos toda a liberdade.\\n\\nComo os leitores já sabem, Adelaide\\nqueria muito ao pai, e era capaz de fazer por ele tudo. Era, além disso, um\\nexcelente coração. Vasconcelos contava com essas duas forças.\\n\\n\\x97 Vem cá, Adelaide, disse ele entrando na\\nsala; sabes quantos anos tens?\\n\\n\\x97 Tenho quinze.\\n\\n\\x97 Sabes quantos anos tem tua mãe?\\n\\n\\x97 Vinte e sete, não é?\\n\\n\\x97 Tem trinta; quer dizer que tua mãe\\ncasou-se com quinze anos.\\n\\nVasconcelos parou, a fim de ver o efeito que\\nproduziam estas palavras; mas foi inútil a expectativa; Adelaide não\\ncompreendeu nada.\\n\\nO pai continuou:\\n\\n\\x97 Não pensaste no casamento?\\n\\nA menina corou muito, hesitou em falar,\\nmas como o pai instasse, respondeu:\\n\\n\\x97 Qual, papai! Eu não quero casar...\\n\\n\\x97 Não queres casar? É boa! por quê?\\n\\n\\x97 Porque não tenho vontade, e vivo bem\\naqui.\\n\\n\\x97 Mas tu podes casar e continuar a viver\\naqui...\\n\\n\\x97 Bem; mas não tenho vontade.\\n\\n\\x97 Anda lá... Amas alguém, confessa.\\n\\n\\x97 Não me pergunte isso, papai... eu não\\namo ninguém.\\n\\nA linguagem de Adelaide era tão sincera\\nque Vasconcelos não podia duvidar.\\n\\n\\x97 Ela fala a verdade, pensou ele; é\\ninútil tentar por esse lado...\\n\\nAdelaide sentou-se ao pé dele, e disse:\\n\\n\\x97 Portanto, meu paizinho, não falemos\\nmais nisso...\\n\\n\\x97 Falemos, minha filha; tu és criança,\\nnão sabes calcular. Imagina que eu e a tua mãe morremos amanhã. Quem te há de\\namparar? Só um marido.\\n\\n\\x97 Mas se eu não gosto de ninguém...\\n\\n\\x97 Por ora; mas hás de vir a gostar se o\\nnoivo for um bonito rapaz, de bom coração... Eu já escolhi um que te ama muito,\\ne a quem tu hás de amar.\\n\\nAdelaide estremeceu.\\n\\n\\x97 Eu? disse ela, Mas... quem é?\\n\\n\\x97 É o Gomes.\\n\\n\\x97 Não o amo, meu pai...\\n\\n\\x97 Agora, creio; mas não negas que ele é\\ndigno de ser amado. Dentro de dois meses está apaixonada por ele.\\n\\nAdelaide não disse palavra. Curvou a\\ncabeça e começou a torcer nos dedos uma das tranças bastas e negras. O seio\\narfava-lhe com força; a menina tinha os olhos cravados no tapete.\\n\\n\\x97 Vamos, está decidido, não? perguntou\\nVasconcelos.\\n\\n\\x97 Mas, papai, e se eu for infeliz?...\\n\\n\\x97 Isso é impossível, minha filha; hás de\\nser muito feliz; e hás de amar muito a teu marido.\\n\\n\\x97 Oh! papai, disse-lhe Adelaide com os\\nolhos rasos de água, peço-lhe que não me case ainda...\\n\\n\\x97 Adelaide, o primeiro dever de uma filha\\né obedecer a seu pai, e eu sou teu pai. Quero que te cases com o Gomes; hás de\\ncasar.\\n\\nEstas palavras, para terem todo o efeito,\\ndeviam ser seguidas de uma retirada rápida. Vasconcelos compreendeu isso, e\\nsaiu da sala deixando Adelaide na maior desolação.\\n\\nAdelaide não amava ninguém. A sua recusa\\nnão tinha por ponto de partida nenhum outro amor; também não era resultado de\\naversão que tivesse pelo seu pretendente.\\n\\nA menina sentia simplesmente uma total\\nindiferença pelo rapaz.\\n\\nNestas condições o casamento não deixava\\nde ser uma odiosa imposição.\\n\\nMas que faria Adelaide? a quem\\nrecorreria?\\n\\nRecorreu às lágrimas.\\n\\nQuanto a Vasconcelos, subiu ao gabinete e\\nescreveu as seguintes linhas ao futuro genro:\\n\\nTudo caminha bem; autorizo-te a vires\\nfazer a corte à pequena, e espero que dentro de dois meses o casamento esteja\\nconcluído.\\n\\nFechou a carta e mandou-a.\\n\\nPouco depois voltaram de fora Augusta e\\nLourenço.\\n\\nEnquanto Augusta subiu para o quarto da toilette\\npara mudar de roupa, Lourenço foi ter com Adelaide, que estava no jardim.\\n\\nReparou que ela tinha os olhos vermelhos,\\ne inquiriu a causa; mas a moça negou que fosse de chorar.\\n\\nLourenço não acreditou nas palavras da sobrinha,\\ne instou com ela para que lhe contasse o que havia.\\n\\nAdelaide tinha grande confiança no tio,\\naté por causa da sua rudeza de maneiras. No fim de alguns minutos de\\ninstâncias, Adelaide contou a Lourenço a cena com o pai.\\n\\n\\x97 Então, é por isso que estás chorando,\\npequena?\\n\\n\\x97 Pois então? Como fugir ao casamento?\\n\\n\\x97 Descansa, não te casarás; eu te prometo\\nque não te hás de casar...\\n\\nA moça sentiu um estremecimento de\\nalegria.\\n\\n\\x97 Promete, meu tio, que há de convencer a\\npapai?\\n\\n\\x97 Hei de vencê-lo ou convencê-lo, não\\nimporta; tu não te hás de casar. Teu pai é um tolo.\\n\\nLourenço subiu ao gabinete de\\nVasconcelos, exatamente no momento em que este se dispunha a sair.\\n\\n\\x97 Vais sair? perguntou-lhe Lourenço.\\n\\n\\x97 Vou.\\n\\n\\x97 Preciso falar-te.\\n\\nLourenço sentou-se, e Vasconcelos, que já\\ntinha o chapéu na cabeça, esperou de pé que ele falasse.\\n\\n\\x97 Senta-te, disse Lourenço.\\n\\nVasconcelos sentou-se.\\n\\n\\x97 Há dezesseis anos...\\n\\n\\x97 Começas de muito longe; vê se abrevias\\numa meia dúzia de anos, sem o que não prometo ouvir o que me vais dizer.\\n\\n\\x97 Há dezesseis anos, continuou Lourenço,\\nque és casado; mas a diferença entre o primeiro dia e o dia de hoje é grande.\\n\\n\\x97 Naturalmente, disse Vasconcelos. Tempora\\nmutantur et...\\n\\n\\x97 Naquele tempo, continuou Lourenço,\\ndizias que encontraras o paraíso, o verdadeiro paraíso, e foste durante dois ou\\ntrês anos o modelo dos maridos. Depois mudaste completamente; e o paraíso\\ntornar-se-ia verdadeiro inferno se tua mulher não fosse tão indiferente e fria\\ncomo é, evitando assim as mais terríveis cenas domésticas.\\n\\n\\x97 Mas, Lourenço, que tens com isso?\\n\\n\\x97 Nada; nem é disso que vou falar-te. O\\nque me interessa é que não sacrifiques tua filha por um capricho, entregando-a\\na um dos teus companheiros de vida solta...\\n\\nVasconcelos levantou-se:\\n\\n\\x97 Estás doido! disse ele.\\n\\n\\x97 Estou calmo, e dou-te o prudente\\nconselho de não sacrificares tua filha a um libertino.\\n\\n\\x97 Gomes não é libertino; teve uma vida de\\nrapaz, é verdade, mas gosta de Adelaide, e reformou-se completamente. É um bom\\ncasamento, e por isso acho que todos devemos aceitá-lo. É a minha vontade, e\\nnesta casa quem manda sou eu.\\n\\nLourenço procurou falar ainda, mas\\nVasconcelos já ia longe.\\n\\n'Que fazer?' pensou Lourenço.\\n\\nCAPÍTULO V\\n\\nA oposição de Lourenço não causava grande\\nimpressão a Vasconcelos. Ele podia, é verdade, sugerir à sobrinha idéias de\\nresistência; mas Adelaide, que era um espírito fraco, cederia ao último que lhe\\nfalasse, e os conselhos de um dia seriam vencidos pela imposição do dia\\nseguinte.\\n\\nTodavia era conveniente obter o apoio de\\nAugusta. Vasconcelos pensou em tratar disso o mais cedo que lhe fosse possível.\\n\\nEntretanto, urgia organizar os seus\\nnegócios, e Vasconcelos procurou um advogado a quem entregou todos os papéis e\\ninformações, encarregando-o de orientá-lo em todas as necessidades da situação,\\nquais os meios que poderia opor em qualquer caso de reclamação por dívida ou\\nhipoteca.\\n\\nNada disto fazia supor da parte de\\nVasconcelos uma reforma de costumes. Preparava-se apenas para continuar a vida\\nanterior.\\n\\nDois dias depois da conversa com o irmão,\\nVasconcelos procurou Augusta, para tratar francamente do casamento de Adelaide.\\n\\nJá nesse intervalo o futuro noivo,\\nobedecendo ao conselho de Vasconcelos, fazia corte prévia à filha. Era possível\\nque, se o casamento não lhe fosse imposto, Adelaide acabasse por gostar do\\nrapaz. Gomes era um homem belo e elegante; e, além disso, conhecia todos os\\nrecursos de que se deve usar para impressionar uma mulher.\\n\\nTeria Augusta notado a presença assídua\\ndo moço? Vasconcelos fazia essa pergunta ao seu espírito no momento em que\\nentrava na toilette da mulher.\\n\\n\\x97 Vais sair? perguntou ele.\\n\\n\\x97 Não; tenho visitas.\\n\\n\\x97 Ah! quem?\\n\\n\\x97 A mulher do Seabra, disse ela.\\n\\nVasconcelos sentou-se, e procurou um meio\\nde encabeçar a conversa especial que ali o levava.\\n\\n\\x97 Estás muito bonita hoje!\\n\\n\\x97 Deveras? disse ela sorrindo. Pois estou\\nhoje como sempre, e é singular que o digas hoje...\\n\\n\\x97 Não; realmente hoje estás mais bonita\\ndo que costumas, a ponto que sou capaz de ter ciúmes...\\n\\n\\x97 Qual! disse Augusta com um sorriso\\nirônico.\\n\\nVasconcelos coçou a cabeça, tirou o\\nrelógio, deu-lhe corda; depois entrou a puxar as barbas, pegou numa folha, leu\\ndois ou três anúncios, atirou a folha ao chão, e afinal, depois de um silêncio\\njá prolongado, Vasconcelos achou melhor atacar a praça de frente.\\n\\n\\x97 Tenho pensado ultimamente em Adelaide,\\ndisse ele.\\n\\n\\x97 Ah! por quê?\\n\\n\\x97 Está moça...\\n\\n\\x97 Moça! exclamou Augusta, é uma\\ncriança...\\n\\n\\x97 Está mais velha do que tu quando te\\ncasaste...\\n\\nAugusta franziu ligeiramente a testa.\\n\\n\\x97 Mas então... disse ela.\\n\\n\\x97 Então é que desejo fazê-la feliz e\\nfeliz pelo casamento. Um rapaz, digno dela a todos os respeitos, pediu-ma há\\ndias, e eu disse-lhe que sim. Em sabendo quem é, aprovarás a escolha; é o\\nGomes. Casamo-la, não?\\n\\n\\x97 Não! respondeu Augusta.\\n\\n\\x97 Como, não?\\n\\n\\x97 Adelaide é uma criança; não tem juízo\\nnem idade própria... Casar-se-á quando for tempo.\\n\\n\\x97 Quando for tempo? Estás certa se o\\nnoivo esperará até que seja tempo?\\n\\n\\x97 Paciência, disse Augusta.\\n\\n\\x97 Tens alguma coisa que notar no Gomes?\\n\\n\\x97 Nada. É um moço distinto; mas não\\nconvém a Adelaide.\\n\\nVasconcelos hesitava em continuar;\\nparecia-lhe que nada se podia arranjar; mas a idéia da fortuna deu-lhe forças,\\ne ele perguntou:\\n\\n\\x97 Por quê?\\n\\n\\x97 Estás certo de que ele convenha a\\nAdelaide? perguntou Augusta, eludindo a pergunta do marido.\\n\\n\\x97 Afirmo que convém.\\n\\n\\x97 Convenha ou não, a pequena não deve\\ncasar já.\\n\\n\\x97 E se ela amasse?...\\n\\n\\x97 Que importa isso? esperaria!\\n\\n\\x97 Entretanto, Augusta, não podemos\\nprescindir deste casamento... É uma necessidade fatal.\\n\\n\\x97 Fatal? não compreendo.\\n\\n\\x97 Vou explicar-me. O Gomes tem uma boa\\nfortuna.\\n\\n\\x97 Também nós temos uma...\\n\\n\\x97 É o teu engano, interrompeu\\nVasconcelos.\\n\\n\\x97 Como assim?\\n\\nVasconcelos continuou:\\n\\n\\x97 Mais tarde ou mais cedo havias de\\nsabê-lo, e eu estimo ter esta ocasião de dizer-te toda a verdade. A verdade é\\nque, se não estamos pobres, estamos arruinados.\\n\\nAugusta ouviu estas palavras com os olhos\\nespantados. Quando ele acabou, disse:\\n\\n\\x97 Não é possível!\\n\\n\\x97 Infelizmente é verdade!\\n\\nSeguiu-se algum tempo de silêncio.\\n\\n\\x93Tudo está arranjado\\x94, pensou\\nVasconcelos.\\n\\nAugusta rompeu o silêncio.\\n\\n\\x97 Mas, disse ela, se a nossa fortuna está\\nabalada, creio que o senhor tem coisa melhor para fazer do que estar\\nconversando; é reconstruí-la.\\n\\nVasconcelos fez com a cabeça um movimento\\nde espanto, e como se fosse aquilo uma pergunta, Augusta apressou-se a\\nresponder:\\n\\n\\x97 Não se admire disto; creio que o seu\\ndever é reconstruir a fortuna.\\n\\n\\x97 Não me admira esse dever; admira-me que\\nmo lembres por esse modo. Dir-se-ia que a culpa é minha...\\n\\n\\x97 Bom! disse Augusta, vais dizer que fui\\neu...\\n\\n\\x97 A culpa, se culpa há, é de nós ambos.\\n\\n\\x97 Por quê? é também minha?\\n\\n\\x97 Também. As tuas despesas loucas\\ncontribuíram em grande parte para este resultado; eu nada te recusei nem\\nrecuso, e é nisso que sou culpado. Se é isso que me lanças em rosto, aceito.\\n\\nAugusta levantou os ombros com um gesto de\\ndespeito; e deitou a Vasconcelos um olhar de tamanho desdém que bastaria para\\nintentar uma ação de divórcio.\\n\\nVasconcelos viu o movimento e o olhar.\\n\\n\\x97 O amor do luxo e do supérfluo, disse ele,\\nhá de sempre produzir estas conseqüências. São terríveis, mas explicáveis. Para\\nconjurá-las era preciso viver com moderação. Nunca pensaste nisso. No fim de\\nseis meses de casada entraste a viver no turbilhão da moda, e o pequeno regato\\ndas despesas tornou-se um rio imenso de desperdícios. Sabes o que me disse uma\\nvez meu irmão? Disse-me que a idéia de mandar Adelaide para a roça foi-te\\nsugerida pela necessidade de viver sem cuidados de natureza alguma.\\n\\nAugusta tinha-se levantado, e deu alguns\\npassos; estava trêmula e pálida.\\n\\nVasconcelos ia por diante nas suas\\nrecriminações, quando a mulher o interrompeu, dizendo:\\n\\n\\x97 Mas por que motivo não impediu o senhor\\nessas despesas que eu fazia?\\n\\n\\x97 Queria a paz doméstica.\\n\\n\\x97 Não! clamou ela; o senhor queria ter\\npor sua parte uma vida livre e independente; vendo que eu me entregava a essas\\ndespesas imaginou comprar a minha tolerância com a sua tolerância. Eis o único\\nmotivo; a sua vida não será igual à minha; mas é pior... Se eu fazia despesas\\nem casa o senhor as fazia na rua... É inútil negar, porque eu sei tudo;\\nconheço, de nome, as rivais que sucessivamente o senhor me deu, e nunca lhe\\ndisse uma única palavra, nem agora lho censuro, porque seria inútil e tarde.\\n\\nA situação tinha mudado. Vasconcelos\\ncomeçara constituindo-se juiz, e passara a ser co-réu. Negar era impossível;\\ndiscutir era arriscado e inútil. Preferiu sofismar.\\n\\n\\x97 Dado que fosse assim (e eu não discuto\\nesse ponto), em todo caso a culpa será de nós ambos, e não vejo razão para que\\nma lances em rosto. Devo reparar a fortuna, concordo; há um meio, e é este: o\\ncasamento de Adelaide com o Gomes.\\n\\n\\x97 Não! disse Augusta.\\n\\n\\x97 Bem; seremos pobres, ficaremos piores\\ndo que estamos agora; venderemos tudo...\\n\\n\\x97 Perdão, disse Augusta, eu não sei por\\nque razão não há de o senhor, que é forte, e tem a maior parte no desastre,\\nempregar esforços para a reconstrução da fortuna destruída.\\n\\n\\x97 É trabalho longo; e daqui até lá a vida\\ncontinua e gasta-se. O meio, já lho disse, é este: casar Adelaide com o Gomes.\\n\\n\\x97 Não quero! disse Augusta, não consinto\\nem semelhante casamento.\\n\\nVasconcelos ia responder, mas Augusta,\\nlogo depois de proferir estas palavras, tinha saído precipitadamente do\\ngabinete.\\n\\nVasconcelos saiu alguns minutos depois.\\n\\nCAPÍTULO VI\\n\\nLourenço não teve conhecimento da cena\\nentre o irmão e a cunhada, e depois da teima de Vasconcelos resolveu nada mais\\ndizer; entretanto, como queria muito à sobrinha, e não queria vê-la entregue a\\num homem de costumes que ele reprovava, Lourenço esperou que a situação tomasse\\ncaráter mais decisivo para assumir mais ativo papel.\\n\\nMas, a fim de não perder tempo, e poder\\nusar alguma arma poderosa, Lourenço tratou de instaurar uma pesquisa mediante a\\nqual pudesse colher informações minuciosas acerca de Gomes.\\n\\nEste cuidava que o casamento era coisa\\ndecidida, e não perdia um só dia na conquista de Adelaide.\\n\\nNotou, porém, que Augusta tornava-se mais\\nfria e indiferente, sem causa que ele conhecesse, e entrou-lhe no espírito a\\nsuspeita de que viesse dali alguma oposição.\\n\\nQuanto a Vasconcelos, desanimado pela\\ncena da toilette, esperou melhores dias, e contou sobretudo com o\\nimpério da necessidade.\\n\\nUm dia, porém, exatamente quarenta e oito\\nhoras depois da grande discussão com Augusta, Vasconcelos fez dentro de si esta\\npergunta:\\n\\n'Augusta recusa a mão de Adelaide\\npara o Gomes; por quê?'\\n\\nDe pergunta em pergunta, de dedução em\\ndedução, abriu-se no espírito de Vasconcelos campo para uma suspeita dolorosa.\\n\\n'Amá-lo-á ela?' perguntou ele a\\nsi próprio.\\n\\nDepois, como se o abismo atraísse o\\nabismo, e uma suspeita reclamasse outra, Vasconcelos perguntou:\\n\\n\\x97 Ter-se-iam eles amado algum tempo?\\n\\nPela primeira vez, Vasconcelos sentiu\\nmorder-lhe no coração a serpe do ciúme.\\n\\nDo ciúme digo eu, por eufemismo; não sei\\nse aquilo era ciúme; era amor-próprio ofendido.\\n\\nAs suspeitas de Vasconcelos teriam razão?\\n\\nDevo dizer a verdade: não tinham. Augusta\\nera vaidosa, mas era fiel ao infiel marido; e isso por dois motivos: um de\\nconsciência, outro de temperamento. Ainda que ela não estivesse convencida do\\nseu dever de esposa, é certo que nunca trairia o juramento conjugal. Não era\\nfeita para as paixões, a não ser as paixões ridículas que a vaidade impõe. Ela\\namava antes de tudo a sua própria beleza; o seu melhor amigo era o que dissesse\\nque ela era mais bela entre as mulheres; mas se lhe dava a sua amizade, não lhe\\ndaria nunca o coração; isso a salvava.\\n\\nA verdade é esta; mas quem o diria a\\nVasconcelos? Uma vez suspeitoso de que a sua honra estava afetada, Vasconcelos começou\\na recapitular toda a sua vida. Gomes freqüentava a sua casa há seis anos, e\\ntinha nela plena liberdade. A traição era fácil. Vasconcelos entrou a recordar\\nas palavras, os gestos, os olhares, tudo que antes lhe foi indiferente, e que\\nnaquele momento tomava um caráter suspeitoso.\\n\\nDois dias andou Vasconcelos cheio deste\\npensamento. Não saía de casa. Quando Gomes chegava, Vasconcelos observava a\\nmulher com desusada persistência; a própria frieza com que ela recebia o rapaz\\nera aos olhos do marido uma prova do delito.\\n\\nEstava nisto, quando na manhã do terceiro\\ndia (Vasconcelos já se levantava cedo) entrou-lhe no gabinete o irmão, sempre\\ncom ar selvagem do costume.\\n\\nA presença de Lourenço inspirou a\\nVasconcelos a idéia de contar-lhe tudo.\\n\\nLourenço era um homem de bom senso, e em\\ncaso de necessidade era um apoio.\\n\\nO irmão ouviu tudo quanto Vasconcelos\\ncontou, e concluindo este, rompeu o seu silêncio com estas palavras:\\n\\n\\x97 Tudo isso é uma tolice; se tua mulher recusa\\no casamento, será por qualquer outro motivo que não esse.\\n\\n\\x97 Mas é o casamento com o Gomes que ela\\nrecusa.\\n\\n\\x97 Sim, porque lhe falaste no Gomes;\\nfala-lhe em outro, talvez recuse do mesmo modo. Há de haver outro motivo;\\ntalvez Adelaide lhe contasse, talvez lhe pedisse para opor-se, porque tua filha\\nnão ama o rapaz, e não pode casar com ele.\\n\\n\\x97 Não casará.\\n\\n\\x97 Não só por isso, mas até porque...\\n\\n\\x97 Acaba.\\n\\n\\x97 Até porque este casamento é uma\\nespeculação do Gomes.\\n\\n\\x97 Uma especulação? perguntou Vasconcelos.\\n\\n\\x97 Igual à tua, disse Lourenço. Tu dás-lhe\\na filha com os olhos na fortuna dele; ele aceita-a com os olhos na tua\\nfortuna...\\n\\n\\x97 Mas ele possui...\\n\\n\\x97 Não possui nada; está arruinado como\\ntu. Indaguei e soube da verdade. Quer naturalmente continuar a mesma vida\\ndissipada que teve até hoje, e a tua fortuna é um meio...\\n\\n\\x97 Estás certo disso?\\n\\n\\x97 Certíssimo!...\\n\\nVasconcelos ficou aterrado. No meio de\\ntodas as suspeitas, ainda lhe restava a esperança de ver a sua honra salva, e realizado\\naquele negócio que lhe daria uma excelente situação.\\n\\nMas a revelação de Lourenço matou-o.\\n\\n\\x97 Se queres uma prova, manda chamá-lo, e\\ndize-lhe que estás pobre, e por isso lhe recusas a filha; observa-o bem, e\\nverás o efeito que as tuas palavras lhe hão de produzir.\\n\\nNão foi preciso mandar chamar o\\npretendente. Daí a uma hora apresentou-se ele em casa de Vasconcelos.\\n\\nVasconcelos mandou-o subir ao gabinete.\\n\\nCAPÍTULO VII\\n\\nLogo depois dos primeiros cumprimentos\\nVasconcelos disse:\\n\\n\\x97 Ia mandar chamar-te.\\n\\n\\x97 Ah! para quê? perguntou Gomes.\\n\\n\\x97 Para conversarmos acerca do...\\ncasamento.\\n\\n\\x97 Ah! há algum obstáculo?\\n\\n\\x97 Conversemos.\\n\\nGomes tornou-se mais sério; entrevia\\nalguma dificuldade grande.\\n\\nVasconcelos tomou a palavra.\\n\\n\\x97 Há circunstâncias, disse ele, que devem\\nser bem definidas, para que se possa compreender bem...\\n\\n\\x97 É a minha opinião.\\n\\n\\x97 Amas minha filha?\\n\\n\\x97 Quantas vezes queres que to diga?\\n\\n\\x97 O teu amor está acima de todas as\\ncircunstâncias?...\\n\\n\\x97 De todas, salvo aquelas que entenderem\\ncom a felicidade dela.\\n\\n\\x97 Devemos ser francos; além de amigo que\\nsempre foste, és agora quase meu filho... A discrição entre nós seria\\nindiscreta...\\n\\n\\x97 Sem dúvida! respondeu Gomes.\\n\\n\\x97 Vim a saber que os meus negócios param\\nmal; as despesas que fiz alteraram profundamente a economia da minha vida, de\\nmodo que eu não te minto dizendo que estou pobre.\\n\\nGomes reprimiu uma careta.\\n\\n\\x97 Adelaide, continuou Vasconcelos, não\\ntem fortuna, não terá mesmo dote; é apenas uma mulher que eu te dou. O que te\\nafianço é que é um anjo, e que há de ser excelente esposa.\\n\\nVasconcelos calou-se, e o seu olhar\\ncravado no rapaz parecia querer arrancar-lhe das feições as impressões da alma.\\n\\nGomes devia responder; mas durante alguns\\nminutos houve entre ambos um profundo silêncio.\\n\\nEnfim o pretendente tomou a palavra.\\n\\n\\x97 Aprecio, disse ele, a tua franqueza, e\\nusarei de franqueza igual.\\n\\n\\x97 Não peço outra coisa...\\n\\n\\x97 Não foi por certo o dinheiro que me\\ninspirou este amor; creio que me farás a justiça de crer que eu estou acima\\ndessas considerações. Além de que, no dia em que eu te pedi a querida do meu\\ncoração, acreditava estar rico.\\n\\n\\x97 Acreditavas?\\n\\n\\x97 Escuta. Só ontem é que o meu procurador\\nme comunicou o estado dos meus negócios.\\n\\n\\x97 Mau?\\n\\n\\x97 Se fosse isso apenas! Mas imagina que\\nhá seis meses estou vivendo pelos esforços inauditos que o meu procurador fez\\npara apurar algum dinheiro, pois que ele não tinha ânimo de dizer-me a verdade.\\nOntem soube tudo!\\n\\n\\x97 Ah!\\n\\n\\x97 Calcula qual é o desespero de um homem\\nque acredita estar bem, e reconhece um dia que não tem nada!\\n\\n\\x97 Imagino por mim!\\n\\n\\x97 Entrei alegre aqui, porque a alegria\\nque eu ainda tenho reside nesta casa; mas a verdade é que estou à beira de um abismo.\\nA sorte castigou-nos a um tempo...\\n\\nDepois desta narração, que Vasconcelos\\nouviu sem pestanejar, Gomes entrou no ponto mais difícil da questão.\\n\\n\\x97 Aprecio a tua franqueza, e aceito a tua\\nfilha sem fortuna; também eu não tenho, mas ainda me restam forças para\\ntrabalhar.\\n\\n\\x97 Aceitas?\\n\\n\\x97 Escuta. Aceito D. Adelaide, mediante\\numa condição; é que ela queira esperar algum tempo, a fim de que eu comece a\\nminha vida. Pretendo ir ao governo e pedir um lugar qualquer, se é que ainda me\\nlembro do que aprendi na escola... Apenas tenha começado a vida, cá virei\\nbuscá-la. Queres?\\n\\n\\x97 Se ela consentir, disse Vasconcelos\\nabraçando esta tábua de salvação, é coisa decidida.\\n\\nGomes continuou:\\n\\n\\x97 Bem, falarás nisso amanhã, e\\nmandar-me-ás resposta. Ah! se eu tivesse ainda a minha fortuna! Era agora que\\neu queria provar-te a minha estima!\\n\\n\\x97 Bem, ficamos nisto.\\n\\n\\x97 Espero a tua resposta.\\n\\nE despediram-se.\\n\\nVasconcelos ficou fazendo esta reflexão:\\n\\n'De tudo quanto ele disse só\\nacredito que já não tem nada. Mas é inútil esperar: duro com duro não faz bom\\nmuro.'\\n\\nPela sua parte Gomes desceu a escada\\ndizendo consigo:\\n\\n'O que acho singular é que estando\\npobre viesse dizer-mo assim tão antecipadamente quando eu estava caído. Mas esperarás\\ndebalde: duas metades de cavalo não fazem um cavalo.'\\n\\nVasconcelos desceu.\\n\\nA sua intenção era comunicar a Augusta o\\nresultado da conversa com o pretendente. Uma coisa, porém, o embaraçava: era a\\ninsistência de Augusta em não consentir no casamento de Adelaide, sem dar\\nnenhuma razão da recusa.\\n\\nIa pensando nisto, quando, ao atravessar\\na sala de espera, ouviu vozes na sala de visitas.\\n\\nEra Augusta que conversava com Carlota.\\n\\nIa entrar quando estas palavras lhe\\nchegaram ao ouvido:\\n\\n\\x97 Mas Adelaide é muito criança.\\n\\nEra a voz de Augusta.\\n\\n\\x97 Criança! disse Carlota.\\n\\n\\x97 Sim; não está em idade de casar.\\n\\n\\x97 Mas eu no teu caso não punha embargos\\nao casamento, ainda que fosse daqui a alguns meses, porque o Gomes não me\\nparece mau rapaz...\\n\\n\\x97 Não é; mas enfim eu não quero que\\nAdelaide se case.\\n\\nVasconcelos colou o ouvido à fechadura, e\\ntemia perder uma só palavra do diálogo.\\n\\n\\x97 O que eu não compreendo, disse Carlota,\\né a tua insistência. Mais tarde ou mais cedo Adelaide há de vir a casar-se.\\n\\n\\x97 Oh! o mais tarde possível, disse\\nAugusta.\\n\\nHouve um silêncio.\\n\\nVasconcelos estava impaciente.\\n\\n\\x97 Ah! continuou Augusta, se soubesses o\\nterror que me dá a idéia do casamento de Adelaide...\\n\\n\\x97 Por que, meu Deus?\\n\\n\\x97 Por que, Carlota? Tu pensas em tudo,\\nmenos numa coisa. Eu tenho medo por causa dos filhos dela que serão meus netos!\\nA idéia de ser avó é horrível, Carlota.\\n\\nVasconcelos respirou, e abriu a porta.\\n\\n\\x97 Ah! disse Augusta.\\n\\nVasconcelos cumprimentou Carlota, e\\napenas esta saiu, voltou-se para a mulher, e disse:\\n\\n\\x97 Ouvi a tua conversa com aquela\\nmulher...\\n\\n\\x97 Não era segredo; mas... que ouviste?\\n\\nVasconcelos respondeu sorrindo:\\n\\n\\x97 Ouvi a causa dos teus terrores. Não\\ncuidei nunca que o amor da própria beleza pudesse levar a tamanho egoísmo. O\\ncasamento com o Gomes não se realiza; mas se Adelaide amar alguém, não sei como\\nlhe recusaremos o nosso consentimento...\\n\\n\\x97 Até lá... esperemos, respondeu Augusta.\\n\\nA conversa parou nisto; porque aqueles\\ndois consortes distanciavam-se muito; um tinha a cabeça nos prazeres ruidosos\\nda mocidade, ao passo que a outra meditava exclusivamente em si.\\n\\nNo dia seguinte Gomes recebeu uma carta\\nde Vasconcelos concebida nestes termos:\\n\\nMeu Gomes.\\n\\nOcorre uma circunstância inesperada; é\\nque Adelaide não quer casar. Gastei a minha lógica, mas não alcancei\\nconvencê-la.\\n\\nTeu Vasconcelos.\\n\\nGomes dobrou a carta e acendeu com ela um\\ncharuto, e começou a fumar fazendo esta reflexão profunda:\\n\\n'Onde acharei eu uma herdeira que me\\nqueira por marido?'\\n\\nSe alguém souber avise-o em tempo.\\n\\nDepois do que acabamos de contar,\\nVasconcelos e Gomes encontram-se às vezes na rua ou no Alcazar; conversam,\\nfumam, dão o braço um ao outro, exatamente como dois amigos, que nunca foram,\\nou como dois velhacos que são.\\n\\nConfissões de UMA VIÚVA MOÇA\\n\\nÍNDICE\\n\\nCapítulo Primeiro\\n\\nCapítulo II\\n\\nCapítulo iii\\n\\nCapítulo iv\\n\\nCapítulo v\\n\\nCapítulo vI\\n\\nCapítulo vII\\n\\nCAPÍTULO PRIMEIRO\\n\\nHá dois anos tomei uma resolução\\nsingular: fui residir em Petrópolis em pleno mês de junho. Esta resolução abriu\\nlargo campo às conjeturas. Tu mesma nas cartas que me escreveste para aqui,\\ndeitaste o espírito a adivinhar e figuraste mil razões, cada qual mais absurda.\\n\\nA estas cartas, em que a tua solicitude\\ntraía a um tempo dois sentimentos, a afeição da amiga e a curiosidade de\\nmulher, a essas cartas não respondi e nem podia responder. Não era oportuno\\nabrir-te o meu coração nem desfiar-te a série de motivos que me arredou da\\ncorte, onde as óperas do Teatro Lírico, as tuas partidas e os serões familiares\\ndo primo Barros deviam distrair-me da recente viuvez.\\n\\nEsta circunstância de viuvez recente\\nacreditavam muitos que fosse o único motivo da minha fuga. Era a versão menos\\nequívoca. Deixei-a passar como todas as outras e conservei-me em Petrópolis.\\n\\nLogo no verão\\nseguinte vieste com teu marido para cá, disposta a não voltar para a corte sem\\nlevar o segredo que eu teimava em não revelar. A palavra não fez mais do que a\\ncarta. Fui discreta como um túmulo, indecifrável como a Esfinge. Depuseste as\\narmas e partiste.\\n\\nDesde então não\\nme trataste senão por tua Esfinge.\\n\\nEra Esfinge, era. E se, como Édipo,\\ntivesses respondido ao meu enigma a palavra 'homem', descobririas o\\nmeu segredo, e desfarias o meu encanto.\\n\\nMas não antecipemos os acontecimentos,\\ncomo se diz nos romances.\\n\\nÉ tempo de contar-te este episódio da\\nminha vida.\\n\\nQuero fazê-lo por cartas e não por boca.\\nTalvez corasse de ti. Deste modo o coração abre-se melhor e a vergonha não vem\\ntolher a palavra nos lábios. Repara que eu não falo em lágrimas, o que é um\\nsintoma de que a paz voltou ao meu espírito.\\n\\nAs minhas cartas irão de oito em oito\\ndias, de maneira que a narrativa pode fazer-te o efeito de um folhetim de\\nperiódico semanal.\\n\\nDou-te a minha palavra de que hás de\\ngostar e aprender.\\n\\nE oito dias depois da minha última carta\\nirei abraçar-te, beijar-te, agradecer-te. Tenho necessidade de viver. Estes\\ndois anos são nulos na conta de minha vida: foram dois anos de tédio, de\\ndesespero íntimo, de orgulho abatido, de amor abafado.\\n\\nLia, é verdade. Mas só o tempo, a\\nausência, a idéia do meu coração enganado, da minha dignidade ofendida, puderam\\ntrazer-me a calma necessária, a calma de hoje.\\n\\nE sabe que não ganhei só isto. Ganhei\\nconhecer um homem cujo retrato trago no espírito e que me parece singularmente\\nparecido com outros muitos. Já não é pouco; e a lição há de servir-me, como a\\nti, como às nossas amigas inexperientes. Mostra-lhes estas cartas; são folhas\\nde um roteiro que se eu tivera antes, talvez não houvesse perdido uma ilusão e\\ndois anos de vida.\\n\\nDevo terminar esta. É o prefácio do meu\\nromance, estudo, conto, o que quiseres. Não questiono sobre a designação, nem\\nconsulto para isso os mestres d'arte.\\n\\nEstudo ou romance, isto é simplesmente um\\nlivro de verdades, um episódio singelamente contado, na confabulação íntima dos\\nespíritos, na plena confiança de dois corações que se estimam e se merecem.\\n\\nAdeus.\\n\\nCAPÍTULO II\\n\\nEra no tempo de meu marido.\\n\\nA Corte estava então animada e não tinha\\nesta cruel monotonia que eu sinto aqui através das tuas cartas e dos jornais de\\nque sou assinante.\\n\\nMinha casa era um ponto de reunião de\\nalguns rapazes conversados e algumas moças elegantes. Eu, rainha eleita pelo\\nvoto universal... de minha casa, presidia aos serões familiares. Fora de casa,\\ntínhamos os teatros animados, as partidas das amigas, mil outras distrações que\\ndavam à minha vida certas alegrias exteriores em falta das íntimas, que são as\\núnicas verdadeiras e fecundas.\\n\\nSe eu não era feliz, vivia alegre.\\n\\nE aqui vai o começo do meu romance.\\n\\nUm dia meu marido pediu-me como obséquio\\nespecial que eu não fosse à noite ao Teatro Lírico. Dizia ele que não podia acompanhar-me\\npor ser véspera de saída de paquete.\\n\\nEra razoável o pedido.\\n\\nNão sei, porém, que espírito mau\\nsussurrou-me ao ouvido e eu respondi peremptoriamente que havia de ir ao\\nteatro, e com ele. Insistiu no pedido, insisti na recusa. Pouco bastou para que\\neu julgasse a minha honra empenhada naquilo. Hoje vejo que era a minha vaidade\\nou o meu destino.\\n\\nEu tinha certa superioridade sobre o\\nespírito de meu marido. O meu tom imperioso não admitia recusa; meu marido\\ncedeu a despeito de tudo, e à noite fomos ao Teatro Lírico.\\n\\nHavia pouca gente e os cantores estavam\\nendefluxados. No fim do primeiro ato meu marido, com um sorriso vingativo,\\ndisse-me estas palavras rindo-se:\\n\\n\\x97 Estimei isto.\\n\\n\\x97 Isto? perguntei eu franzindo a testa.\\n\\n\\x97 Este espetáculo deplorável. Fizeste da\\nvinda hoje ao teatro um capítulo de honra; estimo ver que o espetáculo não\\ncorrespondeu à tua expectativa.\\n\\n\\x97 Pelo contrário, acho magnífico.\\n\\n\\x97 Está bom.\\n\\nDeves compreender que eu tinha interesse\\nem me não dar por vencida; mas acreditas facilmente que no fundo eu estava\\nperfeitamente aborrecida do espetáculo e da noite.\\n\\nMeu marido, que não ousava retorquir,\\ncalou-se com ar de vencido, e adiantando-se um pouco à frente do camarote\\npercorreu com o binóculo as linhas dos poucos camarotes fronteiros em que havia\\ngente.\\n\\nEu recuei a minha cadeira, e, encostada à\\ndivisão do camarote, olhava para o corredor vendo a gente que passava.\\n\\nNo corredor, exatamente em frente à porta\\ndo nosso camarote, estava um sujeito encostado, fumando e com os olhos fitos em\\nmim. Não reparei ao princípio, mas a insistência obrigou-me a isso. Olhei para\\nele a ver se era algum conhecido nosso que esperava ser descoberto a fim de vir\\nentão cumprimentar-nos. A intimidade podia explicar este brinco. Mas não\\nconheci.\\n\\nDepois de alguns segundos, vendo que ele\\nnão tirava os olhos de mim, desviei os meus e cravei-os no pano da boca e na\\nplatéia.\\n\\nMeu marido, tendo acabado o exame dos\\ncamarotes, deu-me o binóculo e sentou-se ao fundo diante de mim.\\n\\nTrocamos algumas palavras.\\n\\nNo fim de um quarto de hora a orquestra\\ncomeçou os prelúdios para o segundo ato. Levantei-me, meu marido aproximou a\\ncadeira para a frente, e nesse ínterim lancei um olhar furtivo para o corredor.\\n\\nO homem estava lá.\\n\\nDisse a meu marido que fechasse a porta.\\n\\nComeçou o segundo ato.\\n\\nEntão, por um espírito de curiosidade,\\nprocurei ver se o meu observador entrava para as cadeiras. Queria conhecê-lo\\nmelhor no meio da multidão.\\n\\nMas, ou porque não entrasse, ou porque eu\\nnão tivesse reparado bem, o que é certo é que o não vi.\\n\\nCorreu o segundo ato mais aborrecido do\\nque o primeiro.\\n\\nNo intervalo recuei de novo a cadeira, e\\nmeu marido, a pretexto de que fazia calor, abriu a porta do camarote.\\n\\nLancei um olhar para o corredor.\\n\\nNão vi ninguém; mas daí a poucos minutos\\nchegou o mesmo indivíduo, colocando-se no mesmo lugar, e fitou em mim os mesmos\\nolhos impertinentes.\\n\\nSomos todas vaidosas da nossa beleza e\\ndesejamos que o mundo inteiro nos admire. É por isso que muitas vezes temos a\\nindiscrição de admirar a corte mais ou menos arriscada de um homem. Há, porém,\\numa maneira de fazê-la que nos irrita e nos assusta; irrita-nos por\\nimpertinente, assusta-nos por perigosa. É o que se dava naquele caso.\\n\\nO meu admirador insistia de modo tal que\\nme levava a um dilema: ou ele era vítima de uma paixão louca, ou possuía a\\naudácia mais desfaçada. Em qualquer dos casos não era conveniente que eu\\nanimasse as suas adorações.\\n\\nFiz estas reflexões enquanto decorria o\\ntempo do intervalo. Ia começar o terceiro ato. Esperei que o mudo perseguidor\\nse retirasse e disse a meu marido:\\n\\n\\x97 Vamos?\\n\\n\\x97 Ah!\\n\\n\\x97 Tenho sono simplesmente; mas o\\nespetáculo está magnífico.\\n\\nMeu marido ousou exprimir um sofisma.\\n\\n\\x97 Se está magnífico como te faz sono?\\n\\nNão lhe dei resposta.\\n\\nSaímos.\\n\\nNo corredor encontramos a família do\\nAzevedo que voltava de uma visita a um camarote conhecido. Demorei-me um pouco\\npara abraçar as senhoras. Disse-lhes que tinha uma dor de cabeça e que me\\nretirava por isso.\\n\\nChegamos à porta da Rua dos Ciganos.\\n\\nAí esperei o carro por alguns minutos.\\n\\nQuem me havia de aparecer ali, encostado\\nao portal fronteiro?\\n\\nO misterioso.\\n\\nEnraiveci.\\n\\nCobri o rosto o mais que pude com o meu\\ncapuz e esperei o carro, que chegou logo.\\n\\nO misterioso lá ficou tão insensível e\\ntão mudo como o portal a que estava encostado.\\n\\nDurante a viagem a idéia daquele\\nincidente não me saiu da cabeça. Fui despertada na minha distração quando o\\ncarro parou à porta da casa, em Mata-cavalos.\\n\\nFiquei envergonhada de mim mesma e decidi\\nnão pensar mais no que se havia passado.\\n\\nMas acreditarás tu, Carlota? Dormi meia\\nhora mais tarde do que supunha, tanto a minha imaginação teimava em reproduzir\\no corredor, o portal, e o meu admirador platônico.\\n\\nNo dia seguinte pensei menos. No fim de\\noito dias tinha-me varrido do espírito aquela cena, e eu dava graças a Deus por\\nhaver-me salvo de uma preocupação que podia ser-me fatal.\\n\\nQuis acompanhar o auxílio divino,\\nresolvendo não ir ao teatro durante algum tempo.\\n\\nSujeitei-me à vida íntima e limitei-me à\\ndistração das reuniões à noite.\\n\\nEntretanto estava próximo o dia dos anos\\nda tua filhinha. Lembrei-me que para tomar parte na tua festa de família, tinha\\ncomeçado um mês antes um trabalhozinho. Cumpria rematá-lo.\\n\\nUma quinta-feira de manhã mandei vir os\\npreparos da obra e ia continuá-la, quando descobri dentre uma meada de lã um\\ninvólucro azul fechando uma carta.\\n\\nEstranhei aquilo. A carta não tinha\\nindicação. Estava colada e parecia esperar que a abrisse a pessoa a quem era\\nendereçada. Quem seria? Seria meu marido? Acostumada a abrir todas as cartas\\nque lhe eram dirigidas, não hesitei. Rompi o invólucro e descobri o papel\\ncor-de-rosa que vinha dentro.\\n\\nDizia a carta:\\n\\nNão se surpreenda, Eugênia; este meio é o\\ndo desespero, este desespero é o do amor. Amo-a e muito. Até certo tempo\\nprocurei fugir-lhe e abafar este sentimento; não posso mais. Não me viu no\\nTeatro Lírico? Era uma força oculta e interior que me levava ali. Desde então\\nnão a vi mais. Quando a verei? Não a veja embora, paciência; mas que o seu\\ncoração palpite por mim um minuto em cada dia, é quanto basta a um amor que não\\nbusca nem as venturas do gozo, nem as galas da publicidade. Se a ofendo, perdoe\\num pecador; se pode amar-me, faça-me um deus.\\n\\nLi esta carta com a mão trêmula e os\\nolhos anuviados; e ainda durante alguns minutos depois não sabia o que era de\\nmim.\\n\\nCruzavam-se e confundiam-se mil idéias na\\nminha cabeça, como estes pássaros negros que perpassam em bandos no céu nas\\nhoras próximas da tempestade.\\n\\nSeria o amor que movera a mão daquele\\nincógnito? Seria simplesmente aquilo um meio do sedutor calculado? Eu lançava\\num olhar vago em derredor e temia ver entrar meu marido.\\n\\nTinha o papel diante de mim e aquelas letras\\nmisteriosas pareciam-me outros tantos olhos de uma serpente infernal. Com um\\nmovimento nervoso e involuntário amarrotei a carta nas mãos.\\n\\nSe Eva tivesse feito outro tanto à cabeça\\nda serpente que a tentava não houvera pecado. Eu não podia estar certa do mesmo\\nresultado, porque esta que me aparecia ali e cuja cabeça eu esmagava, podia,\\ncomo a hidra de Lerna, brotar muitas outras cabeças.\\n\\nNão cuides que eu fazia então esta dupla\\nevocação bíblica e pagã. Naquele momento, não refletia, desvairava; só muito\\ntempo depois pude ligar duas idéias.\\n\\nDois sentimentos atuavam em mim:\\nprimeiramente, uma espécie de terror que infundia o abismo, abismo profundo que\\neu pressentia atrás daquela carta; depois uma vergonha amarga de ver que eu não\\nestava tão alta na consideração daquele desconhecido, que pudesse demovê-lo do\\nmeio que empregou.\\n\\nQuando o meu espírito se acalmou é que eu\\npude fazer a reflexão que devia acudir-me desde o princípio. Quem poria ali\\naquela carta? Meu primeiro movimento foi para chamar todos os meus fâmulos. Mas\\ndeteve-me logo a idéia de que por uma simples interrogação nada poderia colher\\ne ficava divulgado o achado da carta. De que valia isto?\\n\\nNão chamei ninguém.\\n\\nEntretanto, dizia eu comigo, a empresa\\nfoi audaz; podia falhar a cada trâmite; que móvel impeliu àquele homem a dar\\neste passo? Seria amor ou sedução?\\n\\nVoltando a este dilema, meu espírito,\\napesar dos perigos, comprazia-se em aceitar a primeira hipótese: era a que\\nrespeitava a minha consideração de mulher casada e a minha vaidade de mulher\\nformosa.\\n\\nQuis adivinhar lendo a carta de novo:\\nli-a, não uma, mas duas, três, cinco vezes.\\n\\nUma curiosidade indiscreta prendia-me\\nàquele papel. Fiz um esforço e resolvi aniquilá-lo, protestando que ao segundo\\ncaso nenhum escravo ou criado me ficaria em casa.\\n\\nAtravessei a sala com o papel na mão,\\ndirigi-me para o meu gabinete, onde acendi uma vela e queimei aquela carta que\\nme queimava as mãos e a cabeça.\\n\\nQuando a última faísca do papel enegreceu\\ne voou, senti passos atrás de mim. Era meu marido.\\n\\nTive um movimento espontâneo: atirei-me\\nem seus braços.\\n\\nEle abraçou-me com certo espanto.\\n\\nE quando o meu abraço se prolongava senti\\nque ele me repelia com brandura dizendo-me:\\n\\n\\x97 Está bom, olha que me afogas!\\n\\nRecuei.\\n\\nEstristeceu-me ver aquele homem, que\\npodia e devia salvar-me, não compreender, por instinto ao menos, que se eu o\\nabraçava tão estreitamente era como se me agarrasse à idéia do dever.\\n\\nMas este sentimento que me apertava o\\ncoração passou um momento para dar lugar a um sentimento de medo. As cinzas da\\ncarta ainda estavam no chão, a vela conservava-se acesa em pleno dia; era\\nbastante para que ele me interrogasse.\\n\\nNem por curiosidade o fez!\\n\\nDeu dois passos no gabinete e saiu.\\n\\nSenti uma lágrima rolar-me pela face. Não\\nera a primeira lágrima de amargura. Seria a primeira advertência do pecado?\\n\\nCAPÍTULO III\\n\\nDecorreu um mês.\\n\\nNão houve durante esse tempo mudança alguma\\nem casa. Nenhuma carta apareceu mais, e a minha vigilância, que era extrema,\\ntornou-se de todo inútil.\\n\\nNão me podia esquecer o incidente da\\ncarta. Se fosse só isto! As primeiras palavras voltavam-me incessantemente à\\nmemória; depois, as outras, as outras, todas. Eu tinha a carta de cor!\\n\\nLembras-te? Uma das minhas vaidades era\\nter a memória feliz. Até neste dote era castigada. Aquelas palavras\\natordoavam-me, faziam-me arder a cabeça. Por quê? Ah! Carlota! é que eu achava\\nnelas um encanto indefinível, encanto doloroso, porque era acompanhado de um\\nremorso, mas encanto de que eu me não podia libertar.\\n\\nNão era o coração que se empenhava, era a\\nimaginação. A imaginação perdia-me; a luta do dever e da imaginação é cruel e\\nperigosa para os espíritos fracos. Eu era fraca. O mistério fascinava a minha\\nfantasia.\\n\\nEnfim os dias e as diversões puderam\\ndesviar o meu espírito daquele pensamento único. No fim de um mês, se eu não\\ntinha esquecido inteiramente o misterioso e a carta dele, estava, todavia,\\nbastante calma para rir de mim e dos meus temores.\\n\\nNa noite de uma quinta-feira, achavam-se\\nalgumas pessoas em minha casa, e muitas das minhas amigas, menos tu. Meu marido\\nnão tinha voltado, e a ausência dele não era notada nem sentida, visto que,\\napesar de franco cavalheiro como era, não tinha o dom particular de um conviva\\npara tais reuniões.\\n\\nTinha-se cantado, tocado, conversado;\\nreinava em todos a mais franca e expansiva alegria; o tio da Amélia Azevedo\\nfazia rir a todos com as suas excentricidades; a Amélia arrebatava bravos a\\ntodos com as notas da sua garganta celeste; estávamos em um intervalo,\\nesperando a hora do chá.\\n\\nAnunciou-se meu marido.\\n\\nNão vinha só. Vinha ao lado dele um homem\\nalto, magro, elegante. Não pude conhecê-lo. Meu marido adiantou-se, e no meio\\ndo silêncio geral veio apresentar-mo.\\n\\nOuvi de meu marido que o nosso conviva\\nchamava-se Emílio.***\\n\\nFixei nele um olhar e retive um grito.\\n\\nEra ele!\\n\\nO meu grito foi substituído por um gesto\\nde surpresa. Ninguém percebeu. Ele pareceu perceber menos que ninguém. Tinha os\\nolhos fixos em mim, e com um gesto gracioso dirigiu-me algumas palavras de\\nlisonjeira cortesia.\\n\\nRespondi como pude.\\n\\nSeguiram-se as apresentações, e durante\\ndez minutos houve um silêncio de acanhamento em todos.\\n\\nOs olhos voltavam-se todos para o\\nrecém-chegado. Eu também voltei os meus e pude reparar naquela figura em que\\ntudo estava disposto para atrair as atenções: cabeça formosa e altiva, olhar\\nprofundo e magnético, maneiras elegantes e delicadas, certo ar distinto e\\npróprio que fazia contraste com o ar afetado e prosaicamente medido dos outros\\nrapazes.\\n\\nEste exame de minha parte foi rápido. Eu\\nnão podia, nem me convinha encontrar o olhar de Emílio. Tornei a abaixar os\\nolhos e esperei ansiosa que a conversação voltasse de novo ao seu curso.\\n\\nMeu marido encarregou-se de dar o tom.\\nInfelizmente era ainda o novo conviva o motivo da conversa geral.\\n\\nSoubemos então que Emílio era um\\nprovinciano filho de pais opulentos, que recebera uma esmerada educação na\\nEuropa, onde não houve um só recanto que não visitasse.\\n\\nVoltara há pouco tempo ao Brasil, e antes\\nde ir para a província tinha determinado passar algum tempo no Rio de Janeiro.\\n\\nFoi tudo quanto soubemos. Vieram as mil\\nperguntas sobre as viagens de Emílio, e este com a mais amável solicitude,\\nsatisfazia a curiosidade geral.\\n\\nSó eu não era curiosa. É que não podia\\narticular palavra. Pedia interiormente a explicação deste romance misterioso,\\ncomeçado em um corredor do teatro, continuado em uma carta anônima e na\\napresentação em minha casa por intermédio de meu próprio marido.\\n\\nDe quando em quando levantava os olhos\\npara Emílio e achava-o calmo e frio, respondendo polidamente às interrogações\\ndos outros e narrando ele próprio, com uma graça modesta e natural, alguma das\\nsuas aventuras de viagem.\\n\\nOcorreu-me uma idéia. Seria realmente ele\\no misterioso do teatro e da carta? Pareceu-me ao princípio que sim, mas eu\\npodia ter-me enganado; eu não tinha as feições do outro bem presentes à\\nmemória; parecia-me que as duas criaturas eram uma e a mesma; mas não podia\\nexplicar-se o engano por uma semelhança miraculosa?\\n\\nDe reflexão em reflexão, foi-me correndo\\no tempo, e eu assistia à conversa de todos como se não estivesse presente. Veio\\na hora do chá. Depois cantou-se e tocou-se ainda. Emílio ouvia tudo com atenção\\nreligiosa e mostrava-se tão apreciador do gosto como era conversador discreto e\\npertinente.\\n\\nNo fim da noite tinha cativado a todos.\\nMeu marido, sobretudo, estava radiante. Via-se que ele se considerava feliz por\\nter feito a descoberta de mais um amigo para si e um companheiro para as nossas\\nreuniões de família.\\n\\nEmílio saiu prometendo voltar algumas\\nvezes.\\n\\nQuando eu me achei a sós com meu marido,\\nperguntei-lhe:\\n\\n\\x97 Donde conheces este homem?\\n\\n\\x97 É uma pérola, não é? Foi-me apresentado\\nno escritório há dias; simpatizei logo; parece ser dotado de boa alma, é vivo\\nde espírito e discreto como o bom senso. Não há ninguém que não goste dele...\\n\\nE como eu o ouvisse séria e calada, meu\\nmarido interrompeu-se e perguntou-me:\\n\\n\\x97 Fiz mal em trazê-lo aqui?\\n\\n\\x97 Mal, por quê? perguntei eu.\\n\\n\\x97 Por coisa nenhuma. Que mal havia de\\nser? É um homem distinto...\\n\\nPus termo ao novo louvor do rapaz,\\nchamando um escravo para dar algumas ordens.\\n\\nE retirei-me ao meu quarto.\\n\\nO sono dessa noite não foi o sono dos\\njustos, podes crer. O que me irritava era a preocupação constante em que eu\\nandava depois destes acontecimentos. Já eu não podia fugir inteiramente a essa\\npreocupação: era involuntária, subjugava-me, arrastava-me. Era a curiosidade do\\ncoração, esse primeiro sinal das tempestades em que sucumbe a nossa vida e o\\nnosso futuro.\\n\\nParece que aquele homem lia na minha alma\\ne sabia apresentar-se no momento mais próprio a ocupar-me a imaginação como uma\\nfigura poética e imponente. Tu, que o conheceste depois, dize-me se, dadas as\\ncircunstâncias anteriores, não era para produzir esta impressão no espírito de\\numa mulher como eu!\\n\\nComo eu, repito. Minhas circunstâncias\\neram especiais; se não o soubeste nunca, suspeitaste-o ao menos.\\n\\nSe meu marido tivesse em mim uma mulher,\\ne se eu tivesse nele um marido, minha salvação era certa. Mas não era assim.\\nEntramos no nosso lar nupcial como dois viajantes estranhos em uma hospedaria,\\ne aos quais a calamidade do tempo e a hora avançada da noite obrigam a aceitar\\npousada sob o teto do mesmo aposento.\\n\\nMeu casamento foi resultado de um cálculo\\ne de uma conveniência. Não inculpo meus pais. Eles cuidavam fazer-me feliz e\\nmorreram na convicção de que o era.\\n\\nEu podia, apesar de tudo, encontrar no\\nmarido que me davam um objeto de felicidade para todos os meus dias. Bastava\\npara isso que meu marido visse em mim uma alma companheira da sua alma, um\\ncoração sócio do seu coração. Não se dava isto; meu marido entendia o casamento\\nao modo da maior parte da gente; via nele a obediência às palavras do Senhor no\\nGênesis.\\n\\nFora disso, fazia-me cercar de certa\\nconsideração e dormia tranqüilo na convicção de que havia cumprido o dever.\\n\\nO dever! esta era a minha tábua de\\nsalvação. Eu sabia que as paixões não eram soberanas e que a nossa vontade pode\\ntriunfar delas. A este respeito eu tinha em mim forças bastantes para repelir\\nidéias más. Mas não era o presente que me abafava e atemorizava; era o futuro.\\nAté então aquele romance influía no meu espírito pela circunstância do mistério\\nem que vinha envolto; a realidade havia de abrir-me os olhos; consolava-me a\\nesperança de que eu triunfaria de um amor culpado. Mas, poderia nesse futuro,\\ncuja proximidade eu não calculava, resistir convenientemente à paixão e salvar\\nintactas a minha consideração e a minha consciência? Esta era a questão.\\n\\nOra, no meio destas oscilações, eu não\\nvia a mão do meu marido estender-se para salvar-me. Pelo contrário, quando na\\nocasião de queimar a carta, atirava-me a ele, lembras-te que ele me repeliu com\\numa palavra de enfado.\\n\\nIsto pensei, isto senti, na longa noite\\nque se seguiu à apresentação de Emílio.\\n\\nNo dia seguinte estava fatigada de\\nespírito; mas, ou fosse calma ou fosse prostração, senti que os pensamentos\\ndolorosos que me haviam torturado durante a noite esvaeceram-se à luz da manhã,\\ncomo verdadeiras aves da noite e da solidão.\\n\\nEntão abriu-se ao meu espírito um raio de\\nluz. Era a repetição do mesmo pensamento que me voltava no meio das\\npreocupações daqueles últimos dias.\\n\\nPor que temer? dizia eu comigo. Sou uma\\ntriste medrosa; e fatigo-me em criar montanhas para cair extenuada no meio da\\nplanície. Eia! nenhum obstáculo se opõe ao meu caminho de mulher virtuosa e\\nconsiderada. Este homem, se é o mesmo, não passa de um mau leitor de romances\\nrealistas. O mistério é que lhe dá algum valor; visto de mais perto há de ser\\nvulgar ou hediondo.\\n\\nCAPÍTULO IV\\n\\nNão te quero fatigar com a narração\\nminuciosa e diária de todos os acontecimentos.\\n\\nEmílio continuou a freqüentar a nossa\\ncasa, mostrando sempre a mesma delicadeza e gravidade, e encantando a todos por\\nsuas maneiras distintas sem afetação, amáveis sem fingimento.\\n\\nNão sei por que meu marido revelava-se\\ncada vez mais amigo de Emílio. Este conseguira despertar nele um entusiasmo\\nnovo para mim e para todos. Que capricho era esse da natureza?\\n\\nMuitas vezes interroguei meu marido\\nacerca desta amizade tão súbita e tão estrepitosa; quis até inventar suspeitas\\nno espírito dele; meu marido era inabalável.\\n\\n\\x97 Que queres? respondia-me ele. Não sei\\npor que simpatizo extraordinariamente com este rapaz. Sinto que é uma bela\\npessoa, e eu não posso dissimular o entusiasmo de que me possuo quando estou\\nperto dele.\\n\\n\\x97 Mas sem conhecê-lo... objetava eu.\\n\\n\\x97 Ora essa! Tenho as melhores\\ninformações; e demais, vê-se logo que é uma pessoa distinta...\\n\\n\\x97 As maneiras enganam muitas vezes.\\n\\n\\x97 Conhece-se...\\n\\nConfesso, minha amiga, que eu podia impor\\na meu marido o afastamento de Emílio; mas quando esta idéia me vinha à cabeça,\\nnão sei por que ria-me dos meus temores e declarava-me com forças de resistir a\\ntudo o que pudesse sobrevir.\\n\\nDemais, o procedimento de Emílio\\nautorizava-me a desarmar. Ele era para mim de um respeito inalterável,\\ntratava-me como a todas as outras, sem deixar entrever a menor intenção oculta,\\no menor pensamento reservado.\\n\\nSucedeu o que era natural. Diante de tal\\nprocedimento não me ficava bem proceder com rigor e responder com a indiferença\\nà amabilidade.\\n\\nAs coisas marchavam de tal modo que eu\\ncheguei a persuadir-me de que tudo o que sucedera antes não tinha relação\\nalguma com aquele rapaz, e que não havia entre ambos mais do que um fenômeno da\\nsemelhança, o que aliás eu não podia afirmar, porque, como te disse já, não\\npudera reparar bem no homem do teatro.\\n\\nAconteceu que dentro de pouco tempo\\nestávamos na maior intimidade, e eu era para ele o mesmo que todas as outras:\\nadmiradora e admirada.\\n\\nDas reuniões passou Emílio às simples\\nvisitas de dia, nas horas em que meu marido estava presente, e mais tarde,\\nmesmo quando ele se achava ausente.\\n\\nMeu marido de ordinário era quem o\\ntrazia. Emílio vinha então no seu carrinho que ele próprio dirigia, com a maior\\ngraça e elegância. Demorava-se horas e horas em nossa casa, tocando piano ou\\nconversando.\\n\\nA primeira vez que o recebi só, confesso que\\nestremeci; mas foi um susto pueril; Emílio procedeu sempre do modo mais\\nindiferente em relação às minhas suspeitas. Nesse dia, se algumas me ficaram,\\ndesvaneceram-se todas.\\n\\nNisto passaram-se dois meses.\\n\\nUm dia, era de tarde, eu estava só;\\nesperava-te para irmos visitar teu pai enfermo. Parou um carro à porta. Mandei\\nver. Era Emílio.\\n\\nRecebi-o como de costume.\\n\\nDisse-lhe que íamos visitar um doente, e\\nele quis logo sair. Disse-lhe que ficasse até à tua chegada. Ficou como se\\noutro motivo o detivesse além de um dever de cortesia.\\n\\nPassou-se meia hora.\\n\\nNossa conversa foi sobre assuntos\\nindiferentes.\\n\\nEm um dos intervalos da conversa Emílio\\nlevantou-se e foi à janela. Eu levantei-me igualmente para ir ao piano buscar\\num leque. Voltando para o sofá reparei pelo espelho que Emílio me olhava com um\\nolhar estranho. Era uma transfiguração. Parecia que naquele olhar estava\\nconcentrada toda a alma dele.\\n\\nEstremeci.\\n\\nTodavia fiz um esforço sobre mim e fui\\nsentar-me, então mais séria que nunca.\\n\\nEmílio encaminhou-se para mim.\\n\\nOlhei para ele.\\n\\nEra o mesmo olhar.\\n\\nBaixei os meus olhos.\\n\\n\\x97 Assustou-se? perguntou-me ele.\\n\\nNão respondi nada. Mas comecei a tremer\\nde novo e parecia-me que o coração me queria pular fora do peito.\\n\\nÉ que naquelas palavras havia a mesma\\nexpressão do olhar; as palavras faziam-me o efeito das palavras da carta.\\n\\n\\x97 Assustou-se? repetiu ele.\\n\\n\\x97 De quê? perguntei eu procurando rir\\npara não dar maior gravidade à situação.\\n\\n\\x97 Pareceu-me.\\n\\nHouve um silêncio.\\n\\n\\x97 D. Eugênia, disse ele sentando-se; não\\nquero por mais tempo ocultar o segredo que faz o tormento da minha vida. Fora\\num sacrifício inútil. Feliz ou infeliz, prefiro a certeza da minha situação. D.\\nEugênia, eu amo-a.\\n\\nNão te posso descrever como fiquei,\\nouvindo estas palavras. Senti que empalidecia; minhas mãos estavam geladas.\\nQuis falar: não pude.\\n\\nEmílio continuou:\\n\\n\\x97 Oh! eu bem sei a que me exponho. Vejo\\ncomo este amor é culpado. Mas que quer? É fatalidade. Andei tantas léguas,\\npassei à ilharga de tantas belezas, sem que o meu coração pulsasse. Estava-me\\nreservada a ventura rara ou o tremendo infortúnio de ser amado ou desprezado\\npela senhora. Curvo-me ao destino. Qualquer que seja a resposta que eu possa\\nobter, não recuso, aceito. Que me responde?\\n\\nEnquanto ele falava, eu podia,\\nouvindo-lhe as palavras, reunir algumas idéias. Quando ele acabou levantei os\\nolhos e disse:\\n\\n\\x97 Que resposta espera de mim?\\n\\n\\x97 Qualquer.\\n\\n\\x97 Só pode esperar uma...\\n\\n\\x97 Não me ama?\\n\\n\\x97 Não! Nem posso e nem amo, nem amaria se\\npudesse ou quisesse... Peço que se retire.\\n\\nE levantei-me.\\n\\nEmílio levantou-se.\\n\\n\\x97 Retiro-me, disse ele; e parto com o\\ninferno no coração.\\n\\nLevantei os ombros em sinal de\\nindiferença.\\n\\n\\x97 Oh! eu bem sei que isso lhe é\\nindiferente. É isso o que eu mais sinto. Eu preferia o ódio; o ódio, sim; mas a\\nindiferença, acredite, é o pior castigo. Mas eu o recebo resignado. Tamanho\\ncrime deve ter tamanha pena.\\n\\nE tomando o chapéu chegou-se a mim de\\nnovo.\\n\\nEu recuei dois passos.\\n\\n\\x97 Oh! não tenha medo. Causo-lhe medo?\\n\\n\\x97 Medo? retorqui eu com altivez.\\n\\n\\x97 Asco? perguntou ele.\\n\\n\\x97 Talvez... murmurei.\\n\\n\\x97 Uma única resposta, tornou Emílio;\\nconserva aquela carta?\\n\\n\\x97 Ah! disse eu. Era o autor da carta?\\n\\n\\x97 Era. E aquele misterioso do corredor do\\nTeatro Lírico. Era eu. A carta?\\n\\n\\x97 Queimei-a.\\n\\n\\x97 Preveniu o meu pensamento.\\n\\nE cumprimentando-me friamente dirigiu-se\\npara a porta. Quase a chegar à porta senti que ele vacilava e levava a mão ao\\npeito.\\n\\nTive um momento de piedade. Mas era\\nnecessário que ele se fosse, quer sofresse quer não. Todavia, dei um passo para\\nele e perguntei-lhe de longe:\\n\\n\\x97 Quer dar-me uma resposta?\\n\\nEle parou e voltou-se.\\n\\n\\x97 Pois não!\\n\\n\\x97 Como é que para praticar o que praticou\\nfingiu-se amigo de meu marido?\\n\\n\\x97 Foi um ato indigno, eu sei; mas o meu\\namor é daqueles que não recuam ante a indignidade. É o único que eu compreendo.\\nMas, perdão; não quero enfadá-la mais. Adeus! Para sempre!\\n\\nE saiu.\\n\\nPareceu-me ouvir um soluço.\\n\\nFui sentar-me ao sofá. Daí a pouco ouvi o\\nrodar do carro.\\n\\nO tempo que mediou entre a partida dele e\\na tua chegada não sei como se passou. No lugar em que fiquei aí me achaste.\\n\\nAté então eu não tinha visto o amor senão\\nnos livros. Aquele homem parecia-me realizar o amor que eu sonhara e vira\\ndescrito. A idéia de que o coração de Emílio sangrava naquele momento,\\ndespertou em mim um sentimento vivo de piedade. A piedade foi um primeiro\\npasso.\\n\\n'Quem sabe, dizia eu comigo mesma, o\\nque ele está agora sofrendo? E que culpa é a dele, afinal de contas? Ama-me,\\ndisse-mo; o amor foi mais forte do que a razão; não viu que eu era sagrada para\\nele; revelou-se. Ama, é a sua desculpa.'\\n\\nDepois repassava na memória todas as\\npalavras dele e procurava recordar-me do tom em que ele as proferira.\\nLembrava-me também do que eu dissera e o tom com que respondera às suas\\nconfissões.\\n\\nFui talvez severa demais. Podia manter a\\nminha dignidade sem abrir-lhe uma chaga no coração. Se eu falasse com mais\\nbrandura podia adquirir dele o respeito e a veneração. Agora há de amar-me\\nainda, mas não se recordará do que se passou sem um sentimento de amargura.\\n\\nEstava nestas reflexões quando entraste.\\n\\nLembras-te que me achaste triste e\\nperguntaste a causa disso. Nada te respondi. Fomos à casa da tua tia, sem que\\neu nada mudasse do ar que tinha antes.\\n\\nÀ noite quando meu marido me perguntou\\npor Emílio, respondi sem saber o que respondia:\\n\\n\\x97 Não veio cá hoje.\\n\\n\\x97 Deveras? disse ele. Então está doente.\\n\\n\\x97 Não sei.\\n\\n\\x97 Lá vou amanhã.\\n\\n\\x97 Lá onde?\\n\\n\\x97 À casa dele.\\n\\n\\x97 Para quê?\\n\\n\\x97 Talvez esteja doente.\\n\\n\\x97 Não creio; esperemos até ver...\\n\\nPassei uma noite angustiosa. A idéia de\\nEmílio perturbava-me o sono. Afigurava-se-me que ele estaria àquela hora\\nchorando lágrimas de sangue no desespero do amor não aceito.\\n\\nEra piedade? Era amor?\\n\\nCarlota, era uma e outra coisa. Que podia\\nser mais? Eu tinha posto o pé em uma senda fatal; uma força me atraía. Eu\\nfraca, podendo ser forte. Não me inculpo senão a mim.\\n\\nAté domingo.\\n\\nCAPÍTULO V\\n\\nNa tarde seguinte, quando meu marido\\nvoltou perguntei por Emílio.\\n\\n\\x97 Não o procurei, respondeu-me ele; tomei\\no conselho; se não vier hoje, sim.\\n\\nPassou-se, pois, um dia sem ter notícias\\ndele.\\n\\nNo dia seguinte, não tendo aparecido, meu\\nmarido foi lá.\\n\\nSerei franca contigo, eu mesma lembrei\\nisso a meu marido.\\n\\nEsperei ansiosa a resposta.\\n\\nMeu marido voltou pela tarde. Tinha um\\ncerto ar triste. Perguntei o que havia.\\n\\n\\x97 Não sei. Fui encontrar o rapaz de cama.\\nDisse-me que era uma ligeira constipação; mas eu creio que não é isso só...\\n\\n\\x97 Que será então? perguntei eu, fitando\\num olhar em meu marido.\\n\\n\\x97 Alguma coisa mais. O rapaz falou-me em\\nembarcar para o Norte. Está triste, distraído, preocupado. Ao mesmo tempo que\\nmanifesta a esperança de ver os pais, revela receios de não tornar a vê-los.\\nTem idéias de morrer na viagem. Não sei que lhe aconteceu, mas foi alguma\\ncoisa. Talvez...\\n\\n\\x97 Talvez?\\n\\n\\x97 Talvez alguma perda de dinheiro.\\n\\nEsta resposta transtornou o meu espírito.\\nPosso afirmar-te que esta resposta entrou por muito nos acontecimentos\\nposteriores.\\n\\nDepois de algum silêncio perguntei:\\n\\n\\x97 Mas que pretendes fazer?\\n\\n\\x97 Abrir-me com ele. Perguntar o que é, e\\nacudir-lhe se for possível. Em qualquer caso não o deixarei partir. Que achas?\\n\\n\\x97 Acho que sim.\\n\\nTudo o que ia acontecendo contribuía\\npoderosamente para tornar a idéia de Emílio cada vez mais presente à minha\\nmemória, e, é com dor que o confesso, não pensava já nele sem pulsações do\\ncoração.\\n\\nNa noite do dia seguinte estávamos\\nreunidas algumas pessoas. Eu não dava grande vida à reunião. Estava triste e\\ndesconsolada. Estava com raiva de mim própria. Fazia-me algoz de Emílio e\\ndoía-me a idéia de que ele padecesse ainda mais por mim.\\n\\nMas, seriam nove horas, quando meu marido\\napareceu trazendo Emílio pelo braço.\\n\\nHouve um movimento geral de surpresa.\\n\\nRealmente porque Emílio não aparecia\\nalguns dias já todos começavam a perguntar por ele; depois, porque o pobre moço\\nvinha pálido de cera.\\n\\nNão te direi o que se passou nessa noite.\\nEmílio parecia sofrer, não estava alegre como dantes; ao contrário, era naquela\\nnoite de uma taciturnidade, de uma tristeza que incomodava a todos, mas que me\\nmortificava atrozmente, a mim que me fazia causa das suas dores.\\n\\nPude falar-lhe em uma ocasião, a alguma\\ndistância das outras pessoas.\\n\\n\\x97 Desculpe-me, disse-lhe eu, se alguma\\npalavra dura lhe disse. Compreende a minha posição. Ouvindo bruscamente o que\\nme disse não pude pensar no que dizia. Sei que sofreu; peço-lhe que não sofra\\nmais, que esqueça...\\n\\n\\x97 Obrigado, murmurou ele.\\n\\n\\x97 Meu marido falou-me de projetos seus...\\n\\n\\x97 De voltar à minha província, é verdade.\\n\\n\\x97 Mas doente...\\n\\n\\x97 Esta doença há de passar.\\n\\nE dizendo isto lançou-me um olhar tão sinistro\\nque eu tive medo.\\n\\n\\x97 Passar? passar como?\\n\\n\\x97 De algum modo.\\n\\n\\x97 Não diga isso...\\n\\n\\x97 Que me resta mais na terra?\\n\\nE voltou os olhos para enxugar uma\\nlágrima.\\n\\n\\x97 Que é isso? disse eu. Está chorando?\\n\\n\\x97 As últimas lágrimas.\\n\\n\\x97 Oh! se soubesse como me faz sofrer! Não\\nchore; eu lho peço. Peço-lhe mais. Peço-lhe que viva.\\n\\n\\x97 Oh!\\n\\n\\x97 Ordeno-lhe.\\n\\n\\x97 Ordena-me? E se eu não obedecer? Se eu\\nnão puder?... Acredita que se possa viver com um espinho no coração?\\n\\nIsto que te escrevo é feio. A maneira por\\nque ele falava é que era apaixonada, dolorosa, comovente. Eu ouvia sem saber de\\nmim. Aproximavam-se algumas pessoas. Quis pôr termo à conversa e disse-lhe:\\n\\n\\x97 Ama-me? disse eu. Só o amor pode\\nordenar? Pois é o amor que lhe ordena que viva!\\n\\nEmílio fez um gesto de alegria.\\nLevantei-me para ir falar às pessoas que se aproximavam.\\n\\n\\x97 Obrigado, murmurou-me ele aos ouvidos.\\n\\nQuando, no fim do serão, Emílio se despediu\\nde mim, dizendo-me, com um olhar em que a gratidão e o amor irradiavam juntos:\\n\\x97 Até amanhã! - não sei que sentimento de confusão e de amor, de remorso e de\\nternura se apoderou de mim.\\n\\n\\x97 Bem; Emílio está mais alegre, dizia-me\\nmeu marido.\\n\\nEu olhei para ele sem saber o que\\nresponder.\\n\\nDepois retirei-me precipitadamente.\\nParecia-me que via nele a imagem da minha consciência.\\n\\nNo dia seguinte recebi de Emílio esta\\ncarta:\\n\\nEugênia. Obrigado. Torno-me à vida, e à\\nsenhora o devo. Obrigado! fez de um cadáver um homem, faça agora de um homem um\\ndeus. Ânimo! ânimo!\\n\\nLi esta carta, reli, e... dir-to-ei,\\nCarlota? beijei-a. Beijei-a repetidas vezes com alma, com paixão, com delírio.\\nEu amava! eu amava!\\n\\nEntão houve em mim a mesma luta, mas estava\\nmudada a situação dos meus sentimentos. Antes era o coração que fugia à razão,\\nagora a razão fugia ao coração.\\n\\nEra um crime, eu bem o via, bem o sentia;\\nmas não sei qual era a minha fatalidade, qual era a minha natureza; eu achava\\nnas delícias do crime desculpa ao meu erro, e procurava com isso legitimar a\\nminha paixão.\\n\\nQuando meu marido se achava perto de mim\\neu me sentia melhor e mais corajosa...\\n\\nParo aqui desta vez. Sinto uma opressão\\nno peito. É a recordação de todos estes acontecimentos.\\n\\nAté domingo.\\n\\nCAPÍTULO VI\\n\\nSeguiram-se alguns dias às cenas que eu\\nte contei na minha carta passada.\\n\\nAtivou-se entre mim e Emílio uma\\ncorrespondência. No fim de quinze dias eu só vivia do pensamento dele.\\n\\nNinguém dos que freqüentavam a nossa casa,\\nnem mesmo tu, pôde descobrir este amor. Éramos dois namorados discretos ao\\núltimo ponto.\\n\\nÉ certo que muitas vezes me perguntavam\\npor que é que eu me distraía tanto e andava tão melancólica; isto chamava-me à\\nvida real e eu mudava logo de parecer.\\n\\nMeu marido sobretudo parecia sofrer com\\nas minhas tristezas.\\n\\nA sua solicitude, confesso,\\nincomodava-me. Muitas vezes lhe respondia mal, não já porque eu o odiasse, mas\\nporque de todos era ele o único a quem eu não quisera ouvir destas\\ninterrogações.\\n\\nUm dia voltando para casa à tarde\\nchegou-se ele a mim e disse:\\n\\n\\x97 Eugênia, tenho uma notícia a dar-te.\\n\\n\\x97 Qual?\\n\\n\\x97 E que te há de agradar muito.\\n\\n\\x97 Vejamos qual é.\\n\\n\\x97 É um passeio.\\n\\n\\x97 Aonde?\\n\\n\\x97 A idéia foi minha. Já fui ao Emílio e\\nele aplaudiu muito. O passeio deve ser domingo à Gávea; iremos daqui muito\\ncedinho. Tudo isto, é preciso notar, não está decidido. Depende de ti. O que\\ndizes?\\n\\n\\x97 Aprovo a idéia.\\n\\n\\x97 Muito bem. A Carlota pode ir.\\n\\n\\x97 E deve ir, acrescentei eu; e algumas\\noutras amigas.\\n\\nPouco depois recebias tu e outras um\\nbilhete de convite para o passeio.\\n\\nLembras-te que lá fomos. O que não sabes\\né que nesse passeio, a favor da confusão e a distração geral, houve entre mim e\\nEmílio um diálogo que foi para mim a primeira amargura de amor.\\n\\n\\x97 Eugênia, dizia ele dando-me o braço,\\nestás certa de que me amas?\\n\\n\\x97 Estou.\\n\\n\\x97 Pois bem. O que te peço, nem sou eu que\\nte peço, é o meu coração, o teu coração que te pedem, um movimento nobre e\\ncapaz de nos engrandecer aos nossos próprios olhos. Não haverá um recanto no\\nmundo em que possamos viver, longe de todos e perto do céu?\\n\\n\\x97 Fugir?\\n\\n\\x97 Sim!\\n\\n\\x97 Oh! isso nunca!\\n\\n\\x97 Não me amas.\\n\\n\\x97 Amo, sim; é já um crime, não quero ir\\nalém.\\n\\n\\x97 Recusas a felicidade?\\n\\n\\x97 Recuso a desonra.\\n\\n\\x97 Não me amas.\\n\\n\\x97 Oh! meu Deus, como respondê-lo? Amo,\\nsim; mas desejo ficar a seus olhos a mesma mulher, amorosa é verdade, mas até\\ncerto ponto... pura.\\n\\n\\x97 O amor que calcula, não é amor.\\n\\nNão respondi. Emílio disse estas palavras\\ncom uma expressão tal de desdém e com uma intenção de ferir-me que eu senti o\\ncoração bater-me apressado, e subir-me o sangue ao rosto.\\n\\nO passeio acabou mal.\\n\\nEsta cena tornou Emílio frio para mim; eu\\nsofria com isso; procurei torná-lo ao estado anterior; mas não consegui.\\n\\nUm dia em que nos achávamos a sós,\\ndisse-lhe:\\n\\n\\x97 Emílio, se eu amanhã te acompanhasse, o\\nque farias?\\n\\n\\x97 Cumpria essa ordem divina.\\n\\n\\x97 Mas depois?\\n\\n\\x97 Depois? perguntou Emílio com ar de quem\\nestranhava a pergunta.\\n\\n\\x97 Sim, depois? continuei eu. Depois\\nquando o tempo volvesse não me havias de olhar com desprezo?\\n\\n\\x97 Desprezo? Não vejo...\\n\\n\\x97 Como não? Que te mereceria eu depois?\\n\\n\\x97 Oh! esse sacrifício seria feito por\\nminha causa, eu fora covarde se te lançasse isso em rosto.\\n\\n\\x97 Di-lo-ias no teu íntimo.\\n\\n\\x97 Juro que não.\\n\\n\\x97 Pois a meus olhos é assim; eu nunca me\\nperdoaria esse erro.\\n\\nEmílio pôs o rosto nas mãos e pareceu\\nchorar. Eu que até ali falava com esforço, fui a ele e tirei-lhe o rosto das\\nmãos.\\n\\n\\x97 Que é isto? disse eu. Não vês que me\\nfazes chorar também?\\n\\nEle olhou para mim com os olhos rasos de\\nlágrimas. Eu tinha os meus úmidos.\\n\\n\\x97 Adeus, disse ele repentinamente. Vou\\npartir.\\n\\nE deu um passo para a porta.\\n\\n\\x97 Se me prometes viver, disse-lhe, parte;\\nse tens alguma idéia sinistra, fica.\\n\\nNão sei o que viu ele no meu olhar, mas\\ntomando a mão que eu lhe estendia beijou-a repetidas vezes (eram os primeiros\\nbeijos) e disse-me com fogo:\\n\\n\\x97 Fico, Eugênia!\\n\\nOuvimos um ruído fora. Mandei ver. Era\\nmeu marido que chegava enfermo. Tinha tido um ataque no escritório. Tornara a\\nsi, mas achava-se mal. Alguns amigos o trouxeram dentro de um carro.\\n\\nCorri para a porta. Meu marido vinha\\npálido e desfeito. Mal podia andar ajudado pelos amigos.\\n\\nFiquei desesperada, não cuidei de mais\\ncoisa alguma. O médico que acompanhara meu marido mandou logo fazer algumas\\naplicações de remédios. Eu estava impaciente; perguntava a todos se meu marido\\nestava salvo.\\n\\nTodos me tranqüilizavam.\\n\\nEmílio mostrou-se pesaroso com o\\nacontecimento. Foi a meu marido e apertou-lhe a mão.\\n\\nQuando Emílio quis sair, meu marido\\ndisse-lhe:\\n\\n\\x97 Olhe, sei que não pode estar aqui\\nsempre; peço-lhe, porém, que venha, se puder, todos os dias.\\n\\n\\x97 Pois não, disse Emílio.\\n\\nE saiu.\\n\\nMeu marido passou mal o resto daquele dia\\ne a noite. Eu não dormi. Passei a noite no quarto.\\n\\nNo dia seguinte estava exausta. Tantas\\ncomoções diversas e uma vigília tão longa deixaram-me prostrada: cedia à força\\nmaior. Mandei chamar a prima Elvira e fui deitar-me.\\n\\nFecho esta carta neste ponto. Pouco falta\\npara chegar ao termo da minha triste narração.\\n\\nAté domingo.\\n\\nCAPÍTULO VII\\n\\nA moléstia de meu marido durou poucos\\ndias. De dia para dia agravava-se. No fim de oito dias os médicos desenganaram\\no doente.\\n\\nQuando recebi esta fatal nova fiquei como\\nlouca. Era meu marido, Carlota, e apesar de tudo eu não podia esquecer que ele\\ntinha sido o companheiro da minha vida e a idéia salvadora nos desvios do meu\\nespírito.\\n\\nEmílio achou-me num estado de desespero.\\nProcurou consolar-me. Eu não lhe ocultei que esta morte era um golpe profundo\\npara mim.\\n\\nUma noite estávamos juntos todos, eu, a\\nprima Elvira, uma parenta de meu marido e Emílio. Fazíamos companhia ao doente.\\nEste, depois de um longo silêncio, voltou-se para mim e disse-me:\\n\\n\\x97 A tua mão.\\n\\nE apertando-me a mão com uma energia\\nsuprema, voltou-se para a parede.\\n\\nExpirou.\\n\\n.................................................................................................................................................................................\\n\\nPassaram-se quatro meses depois dos fatos\\nque te contei. Emílio acompanhou-me na dor e foi dos mais assíduos em todas as\\ncerimônias fúnebres que se fizeram ao meu finado marido.\\n\\nTodavia, as visitas começaram a\\nescassear. Era, parecia-me, por motivo de uma delicadeza natural.\\n\\nNo fim do prazo de que te falei, soube,\\npor boca de um dos amigos de meu marido, que Emílio ia partir. Não pude crer.\\nEscrevi-lhe uma carta.\\n\\nEu amava-o então, como dantes, mais\\nainda, agora que estava livre.\\n\\nDizia a carta:\\n\\nEmílio.\\n\\nConstou-me que ias partir. Será possível?\\nEu mesma não posso acreditar nos meus ouvidos! Bem sabes se eu te amo. Não é\\ntempo de coroar os nossos votos; mas não faltará muito para que o mundo nos\\nrevele uma união que o amor nos impõe. Vem tu mesmo responder-me por boca.\\n\\nTua Eugênia.\\n\\nEmílio veio em pessoa. Asseverou-me que,\\nse ia partir, era por negócio de pouco tempo, mas que voltaria logo. A viagem\\ndevia ter lugar daí a oito dias.\\n\\nPedi-lhe que jurasse o que dizia, e ele\\njurou.\\n\\nDeixei-o partir.\\n\\nDaí a quatro dias recebia eu a seguinte\\ncarta dele:\\n\\nMenti, Eugênia; vou partir já. Menti\\nainda, eu não volto. Não volto porque não posso. Uma união contigo seria para\\nmim o ideal da felicidade se eu não fosse homem de hábitos opostos ao\\ncasamento. Adeus. Desculpa-me, e reza para que eu faça uma boa viagem. Adeus.\\n\\nEmílio.\\n\\nAvalias facilmente como fiquei depois de\\nler esta carta. Era um castelo que se desmoronava. Em troca do meu amor, do meu\\nprimeiro amor, recebia deste modo a ingratidão e o desprezo. Era justo: aquele\\namor culpado não podia ter bom fim; eu fui castigada pelas conseqüências mesmo\\ndo meu crime.\\n\\nMas, perguntava eu, como é que este\\nhomem, que parecia amar-me tanto, recusou aquela de cuja honestidade podia estar\\ncerto, visto que pôde opor uma resistência aos desejos de seu coração? Isto me\\npareceu um mistério. Hoje vejo que não era; Emílio era um sedutor vulgar e só\\nse diferençava dos outros em ter um pouco mais de habilidade que eles.\\n\\nTal é a minha história. Imagina o que\\nsofri nestes dois anos. Mas o tempo é um grande médico: estou curada.\\n\\nO amor ofendido e o remorso de haver de\\nalgum modo traído a confiança de meu esposo fizeram-me doer muito. Mas eu creio\\nque caro paguei o meu crime e acho-me reabilitada perante a minha consciência.\\n\\nAchar-me-ei perante Deus?\\n\\nE tu? É o que me hás de explicar amanhã;\\nvinte e quatro horas depois de partir esta carta eu serei contigo.\\n\\nAdeus!\\n\\nLINHA RETA E LINHA CURVA\\n\\nÍNDICE\\n\\nCAPÍTULO\\nPRIMEIRO\\n\\nCAPÍTULO II\\n\\nCAPÍTULO III\\n\\nCAPÍTULO IV\\n\\nCAPÍTULO PRIMEIRO\\n\\nEra em Petrópolis, no ano de 186... Já se\\nvê que a minha história não data de longe. É tomada dos anais contemporâneos e\\ndos costumes atuais. Talvez algum dos leitores conheça até as personagens que\\nvão figurar neste pequeno quadro. Não será raro que, encontrando uma delas\\namanhã, Azevedo, por exemplo, um dos meus leitores exclame:\\n\\n\\x97 Ah! cá vi uma história em que se falou\\nde ti. Não te tratou mal o autor. Mas a semelhança era tamanha, houve tão pouco\\ncuidado em disfarçar a fisionomia, que eu, à proporção que voltava a página,\\ndizia comigo: É o Azevedo, não há dúvida.\\n\\nFeliz Azevedo! A hora em que começa essa\\nnarrativa é ele um marido feliz, inteiramente feliz. Casado de fresco,\\npossuindo por mulher a mais formosa dama da sociedade, e a melhor alma que ainda\\nse encarnou ao sol da América, dono de algumas propriedades bem situadas e\\nperfeitamente rendosas, acatado, querido, descansado, tal é o nosso Azevedo, a\\nquem por cúmulo de ventura coroam os mais belos vinte e seis anos.\\n\\nDeu-lhe a fortuna um emprego suave: não\\nfazer nada. Possui um diploma de bacharel em direito; mas esse diploma nunca\\nlhe serviu; existe guardado no fundo da lata clássica em que o trouxe da\\nFaculdade de São Paulo. De quando em quando Azevedo faz uma visita ao diploma,\\naliás ganho legitimamente, mas é para não o ver mais senão daí a longo tempo.\\nNão é um diploma, é uma relíquia.\\n\\nQuando Azevedo saiu da faculdade de São\\nPaulo e voltou para a fazenda da província de Minas Gerais, tinha um projeto:\\nir à Europa. No fim de alguns meses o pai consentiu na viagem, e Azevedo\\npreparou-se para realizá-la. Chegou à corte no propósito firme de tomar lugar\\nno primeiro paquete que saísse; mas nem tudo depende da vontade do homem.\\nAzevedo foi a um baile antes de partir; aí estava armada uma rede em que ele\\ndevia ser colhido. Que rede! Vinte anos, uma figura delicada, esbelta,\\nfranzina, uma dessas figuras vaporosas que parecem desfazer-se ao primeiro raio\\ndo sol. Azevedo não foi senhor de si: apaixonou-se; daí a um mês casou-se, e\\ndaí a oito dias partiu para Petrópolis.\\n\\nQue casa encerraria aquele casal tão\\nbelo, tão amante e tão feliz? Não podia ser mais própria a casa escolhida; era\\num edifício leve, delgado, elegante, mais de recreio que de morada; um\\nverdadeiro ninho para aquelas duas pombas fugitivas.\\n\\nA nossa história começa exatamente três\\nmeses depois da ida para Petrópolis. Azevedo e a mulher amavam-se ainda como no\\nprimeiro dia. O amor tomava então uma força maior e nova; é que... devo\\ndizê-lo, ó casais de três meses? é que apontava no horizonte o primeiro filho.\\nTambém a terra e o céu se alegram quando aponta no horizonte o primeiro raio do\\nsol. A figura não vem aqui por simples ornato de estilo; é uma dedução lógica:\\na mulher de Azevedo chamava-se Adelaide.\\n\\nEra, pois, em Petrópolis, numa tarde de\\ndezembro de 186... Azevedo e Adelaide estavam no jardim que ficava em frente da\\ncasa onde ocultavam a sua felicidade. Azevedo lia alto; Adelaide ouvia-o ler,\\nmas como se ouve um eco do coração, tanto a voz do marido e as palavras da obra\\ncorrespondiam ao sentimento interior da moça.\\n\\nNo fim de algum tempo Azevedo deteve-se e\\nperguntou:\\n\\n\\x97 Queres que paremos aqui?\\n\\n\\x97 Como quiseres, disse Adelaide.\\n\\n\\x97 É melhor, disse Azevedo fechando o\\nlivro. As coisas boas não se gozam de uma assentada. Guardemos um pouco para a\\nnoite. Demais, era já tempo que eu passasse do idílio escrito para o idílio\\nvivo. Deixa-me olhar para ti.\\n\\nAdelaide olhou para ele e disse:\\n\\n\\x97 Parece que começamos a lua-de-mel.\\n\\n\\x97 Parece e é, acrescentou Azevedo; e se o\\ncasamento não fosse eternamente isto, o que poderia ser? A ligação de duas\\nexistências para meditar discretamente na melhor maneira de comer o maxixe e o\\nrepolho? Ora, pelo amor de Deus! Eu penso que o casamento deve ser um namoro\\neterno. Não pensas como eu?\\n\\n\\x97 Sinto, disse Adelaide.\\n\\n\\x97 Sentes, é quanto basta.\\n\\n\\x97 Mas que as mulheres sintam é natural;\\nos homens...\\n\\n\\x97 Os homens, são homens.\\n\\n\\x97 O que nas mulheres é sentimento, nos\\nhomens é pieguice; desde pequena me dizem isto.\\n\\n\\x97 Enganam-te desde pequena, disse Azevedo\\nrindo.\\n\\n\\x97 Antes isso!\\n\\n\\x97 É a verdade. E desconfia sempre dos que\\nmais falam, sejam homens ou mulheres. Tens perto um exemplo. A Emília fala\\nmuito da sua isenção. Quantas vezes se casou? Até aqui duas, e está nos vinte e\\ncinco anos. Era melhor calar-se mais e casar-se menos.\\n\\n\\x97 Mas nela é brincadeira, disse Adelaide.\\n\\n\\x97 Pois não. O que não é brincadeira é que\\nos três meses do nosso casamento parecem-me três minutos...\\n\\n\\x97 Três meses! exclamou Adelaide.\\n\\n\\x97 Como foge o tempo! disse Azevedo.\\n\\n\\x97 Dirás sempre o mesmo? perguntou\\nAdelaide com um gesto de incredulidade.\\n\\nAzevedo abraçou-a e perguntou:\\n\\n\\x97 Duvidas?\\n\\n\\x97 Receio. É tão bom ser feliz!\\n\\n\\x97 Sê-lo-ás sempre e do mesmo modo. De\\noutro não entendo eu.\\n\\nNeste momento ouviram os dois uma voz que\\npartia da porta do jardim.\\n\\n\\x97 O que é que não entendes? dizia essa\\nvoz.\\n\\nOlharam.\\n\\nÀ porta do jardim estava um homem alto,\\nbem parecido, trajando com elegância, luvas cor de palha, chicotinho na mão.\\n\\nAzevedo pareceu ao princípio não\\nconhecê-lo. Adelaide olhava para um e para outro sem compreender nada. Tudo\\nisto, porém, não passou de um minuto; no fim dele Azevedo exclamou:\\n\\n\\x97 É o Tito! Entra, Tito!\\n\\nTito entrou galhardamente no jardim;\\nabraçou Azevedo e fez um cumprimento gracioso a Adelaide.\\n\\n\\x97 É minha mulher, disse Azevedo\\napresentando Adelaide ao recém-chegado.\\n\\n\\x97 Já o suspeitava, respondeu Tito; e\\naproveito a ocasião para dar-te os meus parabéns.\\n\\n\\x97 Recebeste a nossa carta de\\nparticipação?\\n\\n\\x97 Em Valparaíso.\\n\\n\\x97 Anda sentar-te e conta-me a tua viagem.\\n\\n\\x97 Isso é longo, disse Tito sentando-se. O\\nque te posso contar é que desembarquei ontem no Rio. Tratei de indagar a tua\\nmorada. Disseram-me que estavas temporariamente em Petrópolis. Descansei, mas logo\\nhoje tomei a barca da Prainha e aqui estou. Eu já suspeitava que com o teu\\nespírito de poeta irias esconder tua felicidade em algum recanto do mundo. Com\\nefeito, isto é verdadeiramente uma nesga do paraíso. Jardim, caramanchões, uma\\ncasa leve e elegante, um livro. Bravo! Marília de Dirceu... É completo! Tityre,\\ntu patulae. Caio no meio de um idílio. Pastorinha, onde está o cajado?\\n\\nAdelaide ri às gargalhadas.\\n\\nTito continua:\\n\\n\\x97 Ri mesmo como uma pastorinha alegre. E tu,\\nTeócrito, que fazes? Deixas correr os dias como as águas do Paraíba? Feliz\\ncriatura!\\n\\n\\x97 Sempre o mesmo! disse Azevedo.\\n\\n\\x97 O mesmo doido? Acha que ele tem razão,\\nminha senhora?\\n\\n\\x97 Acho, se o não ofendo...\\n\\n\\x97 Qual ofender! Se eu até me honro com\\nisso; sou um doido inofensivo, isso é verdade. Mas é que realmente são felizes\\ncomo poucos. Há quantos meses se casaram?\\n\\n\\x97 Três meses faz domingo, respondeu\\nAdelaide.\\n\\n\\x97 Disse há pouco que me pareciam três\\nminutos, acrescentou Azevedo.\\n\\nTito olhou para ambos e disse sorrindo:\\n\\n\\x97 Três meses, três minutos! Eis toda a\\nverdade da vida. Se os pusessem sobre uma grelha, como São Lourenço, cinco\\nminutos eram cinco meses. E ainda se fala em tempo! Há lá tempo! O tempo está\\nnas nossas impressões. Há meses para os infelizes e minutos para os venturosos!\\n\\n\\x97 Mas que ventura! exclama Azevedo.\\n\\n\\x97 Completa, não? Imagino! Marido de um\\nserafim, nas graças e no coração, não reparei que estava aqui... mas não\\nprecisa corar!... Disto me há de ouvir vinte vezes por dia; o que penso, digo.\\nComo não te hão de invejar os nossos amigos!\\n\\n\\x97 Isso não sei.\\n\\n\\x97 Pudera! Encafuado neste desvão do\\nmundo, de nada podes saber. E fazes bem. Isto de ser feliz à vista de todos é\\nrepartir a felicidade. Ora, para respeitar o princípio devo ir-me já embora...\\n\\nDizendo isto, Tito levantou-se.\\n\\n\\x97 Deixa-te disso: fica conosco.\\n\\n\\x97 Os verdadeiros amigos também são a\\nfelicidade, disse Adelaide.\\n\\n\\x97 Ah!\\n\\n\\x97 É até bom que aprendas em nossa escola\\na ciência do casamento, acrescentou Azevedo.\\n\\n\\x97 Para quê? perguntou Tito meneando o\\nchicotinho.\\n\\n\\x97 Para te casares.\\n\\n\\x97 Hum!... fez Tito.\\n\\n\\x97 Não pretende? perguntou Adelaide.\\n\\n\\x97 Estás ainda o mesmo que em outro tempo?\\n\\n\\x97 O mesmíssimo, respondeu Tito.\\n\\nAdelaide fez um gesto de curiosidade e\\nperguntou:\\n\\n\\x97 Tem horror ao casamento?\\n\\n\\x97 Não tenho vocação, respondeu Tito. É\\npuramente um caso de vocação. Quem a não tiver não se meta nisso, que é perder\\no tempo e o sossego. Desde muito tempo estou convencido disto.\\n\\n\\x97 Ainda te não bateu a hora.\\n\\n\\x97 Nem bate, disse Tito.\\n\\n\\x97 Mas, se bem me lembro, disse Azevedo\\noferecendo-lhe um charuto, houve um dia em que fugiste às teorias do costume:\\nandavas então apaixonado...\\n\\n\\x97 Apaixonado, é engano. Houve um dia em\\nque a Providência trouxe uma confirmação aos meus instintos solitários. Meti-me\\na pretender uma senhora...\\n\\n\\x97 É verdade: foi um caso engraçado.\\n\\n\\x97 Como foi o caso? perguntou Adelaide.\\n\\n\\x97 O Tito viu em um baile uma rapariga. No\\ndia seguinte apresenta-se em casa dela, e, sem mais nem menos, pede-lhe a mão.\\nEla responde... que te respondeu?\\n\\n\\x97 Respondeu por escrito que eu era um\\ntolo e me deixasse daquilo. Não disse positivamente tolo, mas vinha a dar na\\nmesma. É preciso confessar que semelhante resposta não era própria. Voltei\\natrás e nunca mais amei.\\n\\n\\x97 Mas amou naquela ocasião? perguntou\\nAdelaide.\\n\\n\\x97 Não sei se era amor, respondeu Tito,\\nera uma coisa... Mas note, isto foi há uns bons cinco anos. Daí para cá ninguém\\nmais me fez bater o coração.\\n\\n\\x97 Pior para ti.\\n\\n\\x97 Eu sei! disse Tito levantando os\\nombros. Se não tenho os gozos íntimos do amor, não tenho nem os dissabores, nem\\nos desenganos. É já uma grande fortuna!\\n\\n\\x97 No verdadeiro amor não há nada disso, disse\\nsentenciosamente a mulher de Azevedo.\\n\\n\\x97 Não há? Deixemos o assunto; eu podia\\nfazer um discurso a propósito, mas prefiro...\\n\\n\\x97 Ficar conosco, Azevedo atalhou-o. Está\\nsabido.\\n\\n\\x97 Não tenho essa intenção.\\n\\n\\x97 Mas tenho eu. Hás de ficar.\\n\\n\\x97 Mas se eu já mandei o criado tomar\\nalojamento no Hotel de Bragança...\\n\\n\\x97 Pois manda contra-ordem. Fica comigo.\\n\\n\\x97 Insisto em não perturbar a tua paz.\\n\\n\\x97 Deixa-te disso.\\n\\n\\x97 Fique! disse Adelaide.\\n\\n\\x97 Ficarei.\\n\\n\\x97 E amanhã, continuou Adelaide, depois de\\nter descansado, há de nos dizer qual é o segredo da isenção de que tanto se\\nufana.\\n\\n\\x97 Não há segredo, disse Tito. O que há é\\nisto. Entre um amor que se oferece e... uma partida de voltarete, não hesito,\\natiro-me ao voltarete. A propósito, Ernesto, sabes que encontrei no Chile um\\nfamoso parceiro de voltarete? Fez a casca mais temerária que tenho visto...\\nsabe o que é uma casca, minha senhora?\\n\\n\\x97 Não, respondeu Adelaide.\\n\\n\\x97 Pois eu lhe explico.\\n\\nAzevedo olhou para fora e disse:\\n\\n\\x97 Aí chega a D. Emília.\\n\\nCom efeito à porta do jardim parava uma\\nsenhora dando o braço a um velho de cinqüenta anos.\\n\\nD. Emília era uma moça a que se pode\\nchamar uma bela mulher; era alta na estatura e altiva de caráter. O amor que\\npudesse infundir seria por imposição. De suas maneiras e das suas graças\\ninspirava um não sei que de rainha que dava vontade de levá-la a um trono.\\n\\nTrajava com elegância e simplicidade. Ela\\ntinha essa elegância natural que é outra elegância diversa da elegância dos\\nenfeites, a propósito da qual já tive ocasião de escrever esta máxima:\\n'Que há pessoas elegantes, e pessoas enfeitadas.'\\n\\nOlhos negros e rasgados, cheios de luz e\\nde grandeza, cabelos castanhos e abundantes, nariz reto como o de Safo, boca\\nvermelha e breve, faces de cetim, colo e braços como os das estátuas, tais eram\\nos traços da beleza de Emília.\\n\\nQuanto ao velho que lhe dava o braço,\\nera, como disse, um homem de cinqüenta anos. Era o que se chama em português\\nchão e rude, - um velho gaiteiro. Pintado, espartilhado, via-se nele uma como que\\nruína do passado reconstruída por mãos modernas, de modo a ter esse aspecto\\nbastardo que não é nem a austeridade da velhice, nem a frescura da mocidade.\\nNão havia dúvida de que o velho devia ter sido um belo rapaz em seus tempos;\\nmas presentemente, se algumas conquistas tivesse feito, só podia contentar-se\\ncom a lembrança delas.\\n\\nQuando Emília entrou no jardim todos se\\nachavam de pé. A recém-chegada apertou a mão a Azevedo e foi beijar Adelaide.\\nIa sentar-se na cadeira que Azevedo lhe oferecera quando reparou em Tito que se\\nachava a um lado.\\n\\nOs dois cumprimentaram-se, mas com ar\\ndiferente. Tito parecia tranqüilo e friamente polido; mas Emília, depois de\\ncumprimentá-lo, conservou os olhos fitos nele, como que avocando uma memória do\\npassado.\\n\\nFeitas as apresentações necessárias, e a\\nDiogo Franco (é o nome do velho braceiro), todos tomaram assentos.\\n\\nA primeira que falou foi Emília:\\n\\n\\x97 Ainda hoje não vinha se não fosse a\\nobsequiosidade do Sr. Diogo.\\n\\nAdelaide olhou para o velho e disse:\\n\\n\\x97 O Sr. Diogo é uma maravilha.\\n\\nDiogo empertigou-se e murmurou com certo\\ntom de modéstia:\\n\\n\\x97 Nem tanto, nem tanto.\\n\\n\\x97 É, é, disse Emília. Não é talvez uma,\\nporém duas maravilhas. Ah! sabes que me vai fazer um presente?\\n\\n\\x97 Um presente! exclamou Azevedo.\\n\\n\\x97 É verdade, continuou Emília, um\\npresente que mandou vir da Europa e lá dos confins; recordações das suas\\nviagens de adolescente...\\n\\nDiogo estava radiante.\\n\\n\\x97 É uma insignificância, disse ele\\nolhando ternamente para Emília.\\n\\n\\x97 Mas o que é? perguntou Adelaide.\\n\\n\\x97 É... adivinhem? É um urso branco!\\n\\n\\x97 Um urso branco!\\n\\n\\x97 Deveras?\\n\\n\\x97 Está para chegar, mas só ontem é que me\\ndeu notícia dele. Que amável lembrança!\\n\\n\\x97 Um urso! exclamou ainda Azevedo.\\n\\nTito inclinou-se ao ouvido do amigo, e disse\\nem voz baixa:\\n\\n\\x97 Com ele fazem dois.\\n\\nDiogo jubiloso pelo efeito que causava a\\nnotícia do presente, mas iludido no caráter desse efeito disse:\\n\\n\\x97 Não vale a pena. É um urso que eu\\nmandei vir; é verdade que eu pedi dos mais belos. Não sabem o que é um urso\\nbranco. Imaginem que é todo branco.\\n\\n\\x97 Ah! disse Tito.\\n\\n\\x97 É um animal admirável! tornou Diogo.\\n\\n\\x97 Acho que sim, disse Tito. Ora imagina\\ntu o que não será um urso branco que é todo branco. Que faz este sujeito?\\nperguntou ele em seguida a Azevedo.\\n\\n\\x97 Namora a Emília; tem cinqüenta contos.\\n\\n\\x97 E ela?\\n\\n\\x97 Não faz caso dele.\\n\\n\\x97 Diz ela?\\n\\n\\x97 E é verdade.\\n\\nEnquanto os dois trocavam estas palavras,\\nDiogo brincava com os sinetes do relógio e as duas senhoras conversavam. Depois\\ndas últimas palavras entre Azevedo e Tito, Emília voltou-se para o marido de\\nAdelaide e perguntou:\\n\\n\\x97 Dá-se isto, Sr. Azevedo? Então faz-se\\nanos nesta casa e não me convidam?\\n\\n\\x97 Mas a chuva? disse Adelaide.\\n\\n\\x97 Ingrata! Bem sabes que não há chuva em casos\\ntais.\\n\\n\\x97 Demais, acrescentou Azevedo, fez-se a\\nfesta tão à capucha.\\n\\n\\x97 Fosse como fosse, eu sou de casa.\\n\\n\\x97 É que a lua-de-mel continua apesar de\\ncinco meses, disse Tito.\\n\\n\\x97 Aí vens tu com os teus epigramas, disse\\nAzevedo.\\n\\n\\x97 Ah! isso é mau, Sr. Tito!\\n\\n\\x97 Tito? perguntou Emília a Adelaide em\\nvoz baixa.\\n\\n\\x97 Sim.\\n\\n\\x97 D. Emília não sabe ainda quem é o nosso\\namigo Tito, disse Azevedo. Eu até tenho medo de dizê-lo.\\n\\n\\x97 Então é muito feio o que tem para\\ndizer?\\n\\n\\x97 Talvez, disse Tito com indiferença.\\n\\n\\x97 Muito feio! exclamou Adelaide.\\n\\n\\x97 O que é então? perguntou Emília.\\n\\n\\x97 É um homem incapaz de amar, continuou\\nAdelaide. Não pode haver maior indiferença para o amor... Em resumo, prefere a\\num amor... o quê? um voltarete.\\n\\n\\x97 Disse-te isso? perguntou Emília.\\n\\n\\x97 E repito, disse Tito. Mas note bem, não\\npor elas, é por mim. Acredito que todas as mulheres sejam credoras da minha\\nadoração; mas eu é que sou feito de modo que nada mais lhes posso conceder do\\nque uma estima desinteressada.\\n\\nEmília olhou para o moço e disse:\\n\\n\\x97 Se não é vaidade, é doença.\\n\\n\\x97 Há de me perdoar, mas eu creio que não\\né doença, nem vaidade. É natureza: uns aborrecem as laranjas, outros aborrecem\\nos amores: agora se o aborrecimento vem por causa das cascas, não sei; o que é\\ncerto é que é assim.\\n\\n\\x97 É ferino! disse Emília olhando para\\nAdelaide.\\n\\n\\x97 Ferino, eu? disse Tito levantando-se.\\nSou uma seda, uma dama, um milagre de brandura... Dói-me, deveras, que eu não\\npossa estar na linha dos outros homens, e não seja, como todos, propenso a receber\\nas impressões amorosas, mas que quer? a culpa não é minha.\\n\\n\\x97 Anda lá, disse Azevedo, o tempo te há\\nde mudar.\\n\\n\\x97 Mas quando? Tenho vinte e nove anos\\nfeitos.\\n\\n\\x97 Já vinte e nove? perguntou Emília.\\n\\n\\x97 Completei-os pela Páscoa.\\n\\n\\x97 Não parece.\\n\\n\\x97 São os seus bons olhos.\\n\\nA conversa continuou por este modo, até\\nque se anunciou o jantar. Emília e Diogo tinham jantado, ficaram apenas para\\nfazer companhia ao casal Azevedo e a Tito, que declarou desde o princípio estar\\ncaindo de fome.\\n\\nA conversa durante o jantar versou sobre\\ncoisas indiferentes.\\n\\nQuando se servia o café apareceu à porta\\num criado do hotel em que morava Diogo; trazia uma carta para este, com\\nindicação no sobrescrito de que era urgente. Diogo recebeu a carta, leu-a e\\npareceu mudar de cor. Todavia continuou a tomar parte na conversa geral. Aquela\\ncircunstância, porém, deu lugar a que Adelaide perguntasse a Emília:\\n\\n\\x97 Quando te deixará este eterno namorado?\\n\\n\\x97 Eu sei cá! respondeu Emília. Mas afinal\\nde contas, não é mau homem. Tem aquela mania de me dizer no fim de todas as\\nsemanas que nutre por mim uma ardente paixão.\\n\\n\\x97 Enfim, se não passa de declaração\\nsemanal...\\n\\n\\x97 Não passa. Tem a vantagem de ser um\\nbraceiro infalível para a rua e um realejo menos mau dentro de casa. Já me\\ncontou umas cinqüenta vezes as batalhas amorosas em que entrou. Todo o seu\\ndesejo é acompanhar-me a uma viagem à roda do globo. Quando me fala nisto, se é\\nà noite, e é quase sempre à noite, mando vir o chá, excelente meio de\\naplacar-lhe os ardores amorosos. Gosta do chá que se pela. Gosta tanto como de\\nmim! Mas aquela do urso branco? E se realmente mandou vir um urso?\\n\\n\\x97 Aceita.\\n\\n\\x97 Pois eu hei de sustentar um urso? Não\\nme faltava mais nada!\\n\\nAdelaide sorriu-se e disse:\\n\\n\\x97 Quer me parecer que acabas por te apaixonar...\\n\\n\\x97 Por quem? Pelo urso?\\n\\n\\x97 Não, pelo Diogo.\\n\\nNeste momento achavam-se as duas perto de\\numa janela. Tito conversava no sofá com Azevedo. Diogo refletia profundamente,\\nestendido numa poltrona.\\n\\nEmília tinha os olhos em Tito. Depois de\\num silêncio, disse ela para Adelaide:\\n\\n\\x97 Que achas ao tal amigo do teu marido?\\nParece um presumido. Nunca se apaixonou! É crível?\\n\\n\\x97 Talvez seja verdade.\\n\\n\\x97 Não acredito. Pareces criança! Diz\\naquilo dos dentes para fora...\\n\\n\\x97 É verdade que não tenho maior conhecimento\\ndele...\\n\\n\\x97 Quanto a mim, pareceu-me não ser\\nestranha aquela cara... mas não me lembro!\\n\\n\\x97 Parece ser sincero... mas dizer aquilo\\né já atrevimento.\\n\\n\\x97 Está claro...\\n\\n\\x97 De que te ris?\\n\\n\\x97 Lembra-me um do mesmo gênero que este,\\ndisse Emília. Foi já há tempos. Andava sempre a gabar-se da sua isenção. Dizia\\nque todas as mulheres eram para ele vasos da China: admirava-as e nada mais.\\nCoitado! Caiu em menos de um mês. Adelaide, vi-o beijar-me a ponta dos\\nsapatos... depois do que desprezei-o.\\n\\n\\x97 Que fizeste?\\n\\n\\x97 Ah! não sei o que fiz. Santa Astúcia\\nfoi quem operou o milagre. Vinguei o sexo e abati um orgulhoso.\\n\\n\\x97 Bem feito!\\n\\n\\x97 Não era menos do que este. Mas falemos\\nde coisas sérias... Recebi as folhas francesas de modas...\\n\\n\\x97 Que há de novo?\\n\\n\\x97 Muita coisa. Amanhã tas mandarei.\\nRepara em um novo corte de mangas. É lindíssimo. Já mandei encomendas para a\\ncorte. Em artigos de passeios há fartura e do melhor.\\n\\n\\x97 Para mim quase que é inútil mandar.\\n\\n\\x97 Por quê?\\n\\n\\x97 Quase nunca saio de casa.\\n\\n\\x97 Nem ao menos irás jantar comigo no dia\\nde ano-bom!\\n\\n\\x97 Oh! com toda a certeza!\\n\\n\\x97 Pois vai... Ah! irá o homem? O Sr.\\nTito?\\n\\n\\x97 Se estiver cá... e quiseres...\\n\\n\\x97 Pois que vá, não faz mal... saberei\\ncontê-lo... Creio que não será sempre tão... incivil. Nem sei como podes ficar\\ncom esse sangue-frio! A mim faz-me mal aos nervos!\\n\\n\\x97 É-me indiferente.\\n\\n\\x97 Mas a injúria ao sexo... não te\\nindigna?\\n\\n\\x97 Pouco.\\n\\n\\x97 És feliz.\\n\\n\\x97 Que queres que eu faça a um homem que diz\\naquilo? Se não fosse casada era possível que me indignasse mais. Se fosse livre\\nera provável que lhe fizesse o que fizeste ao outro. Mas eu não posso cuidar\\ndessas coisas...\\n\\n\\x97 Nem ouvindo a preferência do voltarete?\\nPôr-nos abaixo da dama de copas! E o ar com que ele diz aquilo! Que calma, que\\nindiferença!\\n\\n\\x97 É mau! é mau!\\n\\n\\x97 Merecia castigo...\\n\\n\\x97 Merecia. Queres tu castigá-lo?\\n\\nEmília fez um gesto de desdém e disse:\\n\\n\\x97 Não vale a pena.\\n\\n\\x97 Mas tu castigaste o outro.\\n\\n\\x97 Sim... mas não vale a pena.\\n\\n\\x97 Dissimulada!\\n\\n\\x97 Por que dizes isso?\\n\\n\\x97 Porque já te vejo meio tentada a uma\\nnova vingança...\\n\\n\\x97 Eu? Ora qual!\\n\\n\\x97 Que tem? Não é crime...\\n\\n\\x97 Não é, decerto; mas... veremos.\\n\\n\\x97 Ah! serás capaz?\\n\\n\\x97 Capaz? disse Emília com um gesto de\\norgulho ofendido.\\n\\n\\x97 Beijar-te-á ele a ponta do sapato?\\n\\nEmília ficou silenciosa por alguns\\nmomentos; depois apontando com o leque para a botina que lhe calçava o pé,\\ndisse:\\n\\n\\x97 E hão de ser estes.\\n\\nEmília e Adelaide se dirigiram para o lado\\nem que se achavam os homens. Tito, que parecia conversar intimamente com\\nAzevedo, interrompeu a conversa para dar atenção às senhoras. Diogo continuava\\nmergulhado na sua meditação.\\n\\n\\x97 Então o que é isso, Sr. Diogo?\\nperguntou Tito. Está meditando?\\n\\n\\x97 Ah! perdão, estava distraído!\\n\\n\\x97 Coitado! disse Tito baixo a Azevedo.\\n\\nDepois, voltando-se para as senhoras:\\n\\n\\x97 Não as incomoda o charuto?\\n\\n\\x97 Não senhor, disse Emília.\\n\\n\\x97 Então, posso continuar a fumar?\\n\\n\\x97 Pode, disse Adelaide.\\n\\n\\x97 É um mau vício, mas é o meu único\\nvício. Quando fumo parece que aspiro a eternidade. Enlevo-me todo e mudo de\\nser. Divina invenção!\\n\\n\\x97 Dizem que é excelente para os desgostos\\namorosos, disse Emília com intenção.\\n\\n\\x97 Isso não sei. Mas não é só isto. Depois\\nda invenção do fumo não há solidão possível. É a melhor companhia deste mundo.\\nDemais, o charuto é um verdadeiro Memento homo: convertendo-se pouco a\\npouco em cinzas, vai lembrando ao homem o fim real e infalível de todas as\\ncoisas: é o aviso filosófico, é a sentença fúnebre que nos acompanha em toda a\\nparte. Já é um grande progresso... Mas estou eu a aborrecer com uma dissertação\\ntão pesada. Hão de desculpar... que foi descuido. Ora, a falar a verdade, eu já\\nvou desconfiando; Vossa Excelência olha com olhos tão singulares...\\n\\nEmília, a quem era dirigida a palavra,\\nrespondeu:\\n\\n\\x97 Não sei se são singulares, mas são os\\nmeus.\\n\\n\\x97 Penso que não são os do costume. Está\\ntalvez Vossa Excelência a dizer consigo que eu sou um esquisito, um singular,\\num...\\n\\n\\x97 Um vaidoso, é verdade.\\n\\n\\x97 Sétimo mandamento: não levantar falsos\\ntestemunhos.\\n\\n\\x97 Falsos, diz o mandamento.\\n\\n\\x97 Não me dirá em que sou eu vaidoso?\\n\\n\\x97 Ah! a isso não respondo eu.\\n\\n\\x97 Por que não quer?\\n\\n\\x97 Porque... não sei. É uma coisa que se\\nsente, mas que se não pode descobrir. Respira-lhe a vaidade em tudo: no olhar,\\nna palavra, no gesto... mas não se atina com a verdadeira origem de tal doença.\\n\\n\\x97 É pena. Eu tinha grande prazer em ouvir\\nda sua boca o diagnóstico da minha doença. Em compensação pode ouvir da minha o\\ndiagnóstico da sua... A sua doença é... Digo?\\n\\n\\x97 Pode dizer.\\n\\n\\x97 É um despeitozinho.\\n\\n\\x97 Deveras?\\n\\n\\x97 Vamos ver isso, disse Azevedo rindo-se.\\n\\nTito continuou:\\n\\n\\x97 Despeito pelo que eu disse há pouco.\\n\\n\\x97 Puro engano! disse Emília rindo-se.\\n\\n\\x97 É com toda a certeza. Mas é tudo\\ngratuito. Eu não tenho culpa de coisa alguma. A natureza é que me fez assim.\\n\\n\\x97 Só a natureza?\\n\\n\\x97 E um tanto de estudo. Ora vou expor-lhe\\nas minhas razões. Veja se posso amar ou pretender: primeiro, não sou bonito...\\n\\n\\x97 Oh!... disse Emília.\\n\\n\\x97 Agradeço o protesto, mas continuo na\\nmesma opinião: não sou bonito, não sou...\\n\\n\\x97 Oh!... disse Adelaide.\\n\\n\\x97 Segundo: não sou curioso, e o amor, se\\no reduzirmos às suas verdadeiras proporções, não passa de uma curiosidade;\\nterceiro: não sou paciente, e nas conquistas amorosas a paciência é a principal\\nvirtude; quarto, finalmente: não sou idiota, porque, se com todos estes\\ndefeitos pretendesse amar, mostraria a maior falta de razão. Aqui está o que eu\\nsou por natural e por indústria.\\n\\n\\x97 Emília, parece que é sincero.\\n\\n\\x97 Acreditas?\\n\\n\\x97 Sincero como a verdade, disse Tito.\\n\\n\\x97 Em último caso, seja ou não seja\\nsincero, que tenho eu com isso?\\n\\n\\x97 Eu creio que nada, disse Tito.\\n\\nCAPÍTULO II\\n\\nNo dia seguinte àquele em que se passaram\\nas cenas descritas no capítulo anterior, entendeu o céu que devia regar com as\\nsuas lágrimas o solo da formosa Petrópolis.\\n\\nTito, que destinava esse dia a ver toda a\\ncidade, foi obrigado a conservar-se em casa. Era um amigo que não incomodava,\\nporque quando era de mais sabia escapar-se discretamente, e quando o não era,\\ntornava-se o mais delicioso dos companheiros.\\n\\nTito sabia juntar muita jovialidade a\\nmuita delicadeza; sabia fazer rir sem saltar fora das conveniências. Acrescia\\nque, voltando de uma longa e pitoresca viagem, trazia as algibeiras da memória\\n(deixem passar a frase) cheias de vivas reminiscências. Tinha feito uma viagem\\nde poeta e não de peralvilho. Soube ver e sabia contar. Estas duas qualidades,\\nindispensáveis ao viajante, por desgraça são as mais raras. A maioria das\\npessoas que viajam nem sabem ver, nem sabem contar.\\n\\nTito tinha andado por todas as repúblicas\\ndo mar Pacífico, tinha vivido no México e em alguns Estados americanos. Tinha depois\\nido à Europa no paquete da linha de Nova Iorque. Viu Londres e Paris. Foi à\\nEspanha, onde viveu a vida de Almaviva, dando serenatas às janelas das Rosinas\\nde hoje. Trouxe de lá alguns leques e mantilhas. Passou à Itália e levantou o\\nespírito à altura das recordações da arte clássica. Viu a sombra de Dante nas\\nruas de Florença; viu as almas dos doges pairando saudosas sobre as águas\\nviúvas do mar Adriático; a terra de Rafael, de Virgílio e Miguel Ângelo foi\\npara ele uma fonte viva de recordações do passado e de impressões para o\\nfuturo. Foi à Grécia, onde soube evocar o espírito das gerações extintas que\\nderam ao gênio da arte e da poesia um fulgor que atravessou as sombras dos\\nséculos.\\n\\nViajou ainda mais o nosso herói, e tudo\\nviu com olhos de quem sabe ver e tudo contava com alma de quem sabe contar.\\nAzevedo e Adelaide passavam horas esquecidas.\\n\\n\\x97 Do amor, dizia ele, eu só sei que é uma\\npalavra de quatro letras, um tanto eufônica, é verdade, mas núncia de lutas e\\ndesgraças. Os bons amores são cheios de felicidade, porque têm a virtude de não\\nalçarem olhos para as estrelas do céu; contentam-se com ceias à meia-noite e\\nalguns passeios a cavalo ou por mar.\\n\\nEsta era a linguagem constante de Tito.\\nExprimia ela a verdade, ou era uma linguagem de convenção? Todos acreditavam\\nque a verdade estava na primeira hipótese, até porque essa era de acordo com o\\nespírito jovial e folgazão de Tito.\\n\\nNo primeiro dia da residência de Tito em\\nPetrópolis, a chuva, como disse acima, impediu que os diversos personagens desta\\nhistória se encontrassem. Cada qual ficou na sua casa. Mas o dia imediato foi\\nmais benigno; Tito aproveitou o bom tempo para ir ver a risonha cidade da\\nserra. Azevedo e Adelaide quiseram acompanhá-lo; mandaram aparelhar três\\nginetes próprios para o ligeiro passeio.\\n\\nNa volta foram visitar Emília. Durou\\npoucos minutos a visita. A bela viúva recebeu-os com graça e cortesia de\\nprincesa. Era a primeira vez que Tito lá ia; e fosse por isso, ou por outra\\ncircunstância, foi ele quem mereceu as principais atenções da dona da casa.\\n\\nDiogo, que então fazia a sua centésima\\ndeclaração de amor a Emília, e a quem Emília acabava de oferecer uma chávena de\\nchá, não viu com bons olhos a demasiada atenção que o viajante merecia da dama dos\\nseus pensamentos. Essa, e talvez outras circunstâncias, faziam com que o velho\\nAdônis assistisse à conversação com a cara fechada.\\n\\nÀ despedida Emília ofereceu a casa a\\nTito, com a declaração de que teria a mesma satisfação em recebê-lo muitas\\nvezes. Tito aceitou cavalheiramente o oferecimento; feito o que, saíram todos.\\n\\nCinco dias depois desta visita Emília foi\\nà casa de Adelaide. Tito não estava presente; andava a passeio. Azevedo tinha\\nsaído para um negócio, mas voltou daí a alguns minutos. Quando, depois de uma\\nhora de conversa, Emília já de pé preparava-se para voltar à casa, entrou Tito.\\n\\n\\x97 Ia sair quando entrou, disse Emília.\\nParece que nos contrariamos em tudo.\\n\\n\\x97 Não é por minha vontade, respondeu\\nTito; pelo contrário, meu desejo é não contrariar pessoa alguma, e portanto não\\ncontrariar Vossa Excelência.\\n\\n\\x97 Não parece.\\n\\n\\x97 Por quê?\\n\\nEmília sorriu e disse com uma inflexão de\\ncensura:\\n\\n\\x97 Sabe que me daria prazer se utilizasse\\ndo oferecimento de minha casa; ainda se não utilizou. Foi esquecimento?\\n\\n\\x97 Foi.\\n\\n\\x97 É muito amável...\\n\\n\\x97 Sou muito franco. Eu sei que Vossa\\nExcelência preferia uma delicada mentira; mas eu não conheço nada mais delicado\\nque a verdade.\\n\\nEmília sorriu.\\n\\nNesse momento entrou Diogo.\\n\\n\\x97 Ia sair, D. Emília? perguntou ele.\\n\\n\\x97 Esperava o seu braço.\\n\\n\\x97 Aqui o tem.\\n\\nEmília despediu-se de Azevedo e de\\nAdelaide. Quanto a Tito, no momento em que ele curvava-se respeitosamente,\\nEmília disse-lhe com a maior placidez da alma:\\n\\n\\x97 Há alguém tão delicado como a verdade:\\né o Sr. Diogo. Espero dizer o mesmo...\\n\\n\\x97 De mim? interrompeu Tito. Amanhã mesmo.\\n\\nEmília saiu pelo braço de Diogo.\\n\\nNo dia seguinte, com efeito, Tito foi à\\ncasa de Emília. Ela o esperava com certa impaciência. Como não soubesse a hora\\nem que ele devia apresentar-se lá, a bela viúva esperou-o a todos os momentos,\\ndesde manhã. Só ao cair da tarde é que Tito dignou-se aparecer.\\n\\nEmília morava com uma tia velha. Era uma\\nboa senhora, amiga da sobrinha, e inteiramente escrava da sua vontade. Isto\\nquer dizer que não havia em Emília o menor receio que a boa tia não assinasse\\nde antemão.\\n\\nNa sala em que Tito foi recebido não\\nestava ninguém. Ele teve portanto tempo de sobra para examiná-la à vontade. Era\\numa sala pequena, mas mobiliada e adornada com gosto. Móveis leves, elegantes e\\nricos; quatro finíssimas estatuetas, copiadas de Pradier, um piano de Erard,\\ntudo disposto e arranjado com vida.\\n\\nTito gastou o primeiro quarto de hora no\\nexame da sala e dos objetos que a enchiam. Esse exame devia influir muito no\\nestudo que ele quisesse fazer do espírito da moça. Dize-me como moras,\\ndir-te-ei quem és.\\n\\nMas o primeiro quarto de hora correu sem\\nque aparecesse viva alma, nem que se ouvisse rumor de natureza alguma. Tito\\ncomeçou a impacientar-se. Já sabemos que espírito brusco era ele, apesar da\\nsuprema delicadeza que todos lhe reconheciam. Parece, porém, que a sua rudeza,\\nquase sempre exercida contra Emília, era antes estudada que natural. O que é\\ncerto é que no fim de meia hora, aborrecido pela demora, Tito murmurou consigo:\\n\\n\\x97 Quer tomar desforra!\\n\\nE tomando o chapéu que havia posto numa\\ncadeira ia dirigindo-se para a porta quando ouviu um farfalhar de sedas. Voltou\\na cabeça; Emília entrava.\\n\\n\\x97 Fugia?\\n\\n\\x97 É verdade.\\n\\n\\x97 Perdoe a demora.\\n\\n\\x97 Não há que perdoar; não podia vir, era\\nnatural que fosse por algum motivo sério. Quanto a mim não tenho igualmente de\\nque pedir perdão. Esperei, estava cansado, voltaria em outra ocasião. Tudo isto\\né natural.\\n\\nEmília ofereceu uma cadeira a Tito e\\nsentou-se num sofá.\\n\\n\\x97 Realmente, disse ela acomodando o\\nbalão, o Sr. Tito é um homem original.\\n\\n\\x97 É a minha glória. Não imagina como eu\\naborreço as cópias. Fazer o que muita gente faz, que mérito há nisso? Não nasci\\npara esses trabalhos de imitação.\\n\\n\\x97 Já uma coisa fez como muita gente.\\n\\n\\x97 Qual foi?\\n\\n\\x97 Prometeu-me ontem esta visita e veio\\ncumprir a promessa.\\n\\n\\x97 Ah! minha senhora, não lance isto à\\nconta das minhas virtudes. Podia não vir; vim; não foi vontade, foi... acaso.\\n\\n\\x97 Em todo caso, agradeço-lhe.\\n\\n\\x97 É o meio de me fechar a sua porta.\\n\\n\\x97 Por quê?\\n\\n\\x97 Porque eu não me dou com esses\\nagradecimentos; nem creio mesmo que eles possam acrescentar nada à minha\\nadmiração pela pessoa de Vossa Excelência. Fui visitar muitas vezes as estátuas\\ndos museus da Europa, mas se elas se lembrassem de me agradecer um dia, dou-lhe\\na minha palavra que não voltava lá.\\n\\nA estas palavras seguiu-se um silêncio de\\nalguns segundos.\\n\\nEmília foi quem falou primeiro.\\n\\n\\x97 Há muito tempo que se dá com o marido\\nde Adelaide?\\n\\n\\x97 Desde criança, respondeu Tito.\\n\\n\\x97 Ah! foi criança?\\n\\n\\x97 Ainda hoje sou.\\n\\n\\x97 É exatamente o tempo das minhas\\nrelações com Adelaide. Nunca me arrependi.\\n\\n\\x97 Nem eu.\\n\\n\\x97 Houve um tempo, prosseguiu Emília, em\\nque estivemos separadas; mas isso não trouxe mudança alguma às nossas relações.\\nFoi no tempo do meu primeiro casamento.\\n\\n\\x97 Ah! foi casada duas vezes?\\n\\n\\x97 Em dois anos.\\n\\n\\x97 E por que enviuvou da primeira?\\n\\n\\x97 Porque meu marido morreu, disse Emília\\nrindo-se.\\n\\n\\x97 Mas eu pergunto outra coisa. Por que se\\nfez viúva, mesmo depois da morte de seu primeiro marido? Creio que poderia\\ncontinuar casada.\\n\\n\\x97 De que modo? perguntou Emília com\\nespanto.\\n\\n\\x97 Ficando mulher do finado. Se o amor\\nacaba na sepultura acho que não vale a pena de procurá-lo neste mundo.\\n\\n\\x97 Realmente o Sr. Tito é um espírito fora\\ndo comum.\\n\\n\\x97 Um tanto.\\n\\n\\x97 É preciso que o seja para desconhecer\\nque a nossa vida não importa essas exigências da eterna fidelidade. E demais,\\npode-se conservar a lembrança dos que morrem sem renunciar às condições da\\nnossa existência. Agora é que eu lhe pergunto por que me olha com olhos tão\\nsingulares?...\\n\\n\\x97 Não sei se são singulares, mas são os\\nmeus.\\n\\n\\x97 Então, acha que eu cometi uma bigamia?\\n\\n\\x97 Eu não acho nada. Ora, deixe-me\\ndizer-lhe a última razão da minha incapacidade para os amores.\\n\\n\\x97 Sou toda ouvidos.\\n\\n\\x97 Eu não creio na fidelidade.\\n\\n\\x97 Em absoluto?\\n\\n\\x97 Em absoluto.\\n\\n\\x97 Muito obrigada.\\n\\n\\x97 Ah! eu sei que isto não é delicado; mas\\nem primeiro lugar, eu tenho a coragem das minhas opiniões, e em segundo foi\\nVossa Excelência quem me provocou. É infelizmente verdade, eu não creio nos\\namores leais e eternos. Quero fazê-la minha confidente. Houve um dia em que eu\\ntentei amar; concentrei todas as forças vivas do meu coração; dispus-me a\\nreunir o meu orgulho e a minha ilusão na cabeça do objeto amado. Que lição\\nmestra! O objeto amado, depois de me alimentar as esperanças, casou-se com\\noutro que não era nem mais bonito, nem mais amante.\\n\\n\\x97 Que prova isso? perguntou a viúva.\\n\\n\\x97 Prova que me aconteceu o que pode\\nacontecer e acontece diariamente aos outros.\\n\\n\\x97 Ora...\\n\\n\\x97 Há de me perdoar, mas eu creio que é\\numa coisa já metida na massa do sangue...\\n\\n\\x97 Não diga isso. É certo que podem\\nacontecer casos desses; mas serão todos assim? Não admite uma exceção?\\nAprofunde mais os corações alheios se quiser encontrar a verdade... e há de\\nencontrar.\\n\\n\\x97 Qual! disse Tito abaixando a cabeça e\\nbatendo com a bengala na ponta do pé.\\n\\n\\x97 Posso afirmá-lo, disse Emília.\\n\\n\\x97 Duvido.\\n\\n\\x97 Tenho pena de uma criatura assim,\\ncontinuou a viúva. Não conhecer o amor é não conhecer a vida! Há nada igual à\\nunião de duas almas que se adoram? Desde que o amor entra no coração, tudo se\\ntransforma, tudo muda, a noite parece dia, a dor assemelha-se ao prazer... Se\\nnão conhece nada disto, pode morrer, porque é o mais infeliz dos homens.\\n\\n\\x97 Tenho lido isso nos livros, mas ainda\\nnão me convenci...\\n\\n\\x97 Já reparou na minha sala?\\n\\n\\x97 Já vi alguma coisa.\\n\\n\\x97 Reparou naquela gravura?\\n\\nTito olhou para a gravura que a viúva lhe\\nindicava.\\n\\n\\x97 Se me não engano, disse ele, aquilo é o\\nAmor domando as feras.\\n\\n\\x97 Veja e convença-se.\\n\\n\\x97 Com a opinião do desenhista? perguntou\\nTito. Não é possível. Tenho visto gravuras vivas. Tenho servido de alvo a\\nmuitas setas; crivam-me todo, mas eu tenho a fortaleza de S. Sebastião;\\nafronto, não me curvo.\\n\\n\\x97 Que orgulho!\\n\\n\\x97 O que pode fazer dobrar uma altivez\\ndestas? A beleza? Nem Cleópatra. A castidade? Nem Susana. Resuma, se quiser,\\ntodas as qualidades em uma só criatura, e eu não mudarei... É isto e nada mais.\\n\\nEmília levantou-se e dirigiu-se para o\\npiano.\\n\\n\\x97 Não aborrece a música? perguntou ela\\nabrindo o piano.\\n\\n\\x97 Adoro-a, respondeu o moço sem se mover;\\nagora quanto aos executantes só gosto dos bons. Os maus dá-me ímpetos de\\nenforcá-los.\\n\\nEmília executou ao piano os prelúdios de\\numa sinfonia. Tito ouvia-a com a mais profunda atenção. Realmente a bela viúva\\ntocava divinamente.\\n\\n\\x97 Então, disse ela levantando-se, devo\\nser enforcada?\\n\\n\\x97 Deve ser coroada. Toca perfeitamente.\\n\\n\\x97 Outro ponto em que não é original. Toda\\na gente me diz isso.\\n\\n\\x97 Ah! eu também não nego a luz do sol.\\n\\nNeste momento entrou na sala a tia de\\nEmília. Esta apresentou-lhe Tito. A conversa tomou então um tom pessoal e\\nreservado; durou pouco, aliás, porque Tito, travando repentinamente do chapéu,\\ndeclarou que tinha que fazer.\\n\\n\\x97 Até quando?\\n\\n\\x97 Até sempre.\\n\\nDespediu-se e saiu.\\n\\nEmília ainda o acompanhou com os olhos\\npor algum tempo, da janela da casa. Mas Tito, como se o caso não fosse com ele,\\nseguiu sem olhar para trás.\\n\\nMas, exatamente no momento em que Emília\\nvoltava para dentro, Tito encontrava o velho Diogo.\\n\\nDiogo ia na direção da casa da viúva.\\nTinha um ar pensativo. Tão distraído ia que chegou quase a esbarrar com Tito.\\n\\n\\x97 Onde vai tão distraído? perguntou Tito.\\n\\n\\x97 Ah! é o senhor? Vem da casa de D.\\nEmília?\\n\\n\\x97 Venho.\\n\\n\\x97 Eu para lá vou. Coitada! há de estar\\nmuito impaciente com a minha demora.\\n\\n\\x97 Não está, não senhor, respondeu Tito\\ncom o maior sangue-frio.\\n\\nDiogo lançou-lhe um olhar de despeito.\\n\\nA isso seguiu-se um silêncio de alguns\\nminutos, durante o qual Diogo brincava com a corrente do relógio, e Tito\\nlançava ao ar novelos de fumaça de um primoroso havana. Um desses novelos foi\\ndesenrolar-se na cara de Diogo. O velho tossiu e disse a Tito:\\n\\n\\x97 Apre lá, Sr. Tito! É demais!\\n\\n\\x97 O quê, meu caro senhor? perguntou o rapaz.\\n\\n\\x97 Até a fumaça!\\n\\n\\x97 Foi sem reparar. Mas eu não compreendo\\nas suas palavras...\\n\\n\\x97 Eu me faço explicar, disse o velho\\ntomando um ar risonho. Dê-me o seu braço...\\n\\n\\x97 Pois não!\\n\\nE os dois seguiram conversando como dois\\namigos velhos.\\n\\n\\x97 Estou pronto a ouvir a sua explicação.\\n\\n\\x97 Lá vai. Sabe o que eu quero? É que seja\\nfranco. Não ignora que eu suspiro aos pés da viúva. Peço-lhe que não discuta o\\nfato, admita-o simplesmente. Até aqui tudo ia caminhando bem, quando o senhor\\nchegou a Petrópolis.\\n\\n\\x97 Mas...\\n\\n\\x97 Ouça-me silenciosamente. Chegou o\\nsenhor a Petrópolis, e sem que eu lhe tivesse feito mal algum, entendeu de si\\npara si que me havia de tirar do lance. Desde então começou a corte...\\n\\n\\x97 Meu caro Sr. Diogo, tudo isso é uma\\nfantasia. Eu não faço a corte a D. Emília, nem pretendo fazer-lha. Vê-me acaso\\nfreqüentar a casa dela?\\n\\n\\x97 Acaba de sair de lá.\\n\\n\\x97 É a primeira vez que a visito.\\n\\n\\x97 Quem sabe?\\n\\n\\x97 Demais, ainda ontem não ouviu em casa\\nde Azevedo as expressões com que ela se despediu de mim? Não são de mulher\\nque...\\n\\n\\x97 Ah! isso não prova nada. As mulheres, e\\nsobretudo aquela, nem sempre dizem o que sentem...\\n\\n\\x97 Então acha que aquela sente alguma\\ncoisa por mim?...\\n\\n\\x97 Se não fosse isso, não lhe falaria.\\n\\n\\x97 Ah! ora eis aí uma novidade.\\n\\n\\x97 Suspeito apenas. Ela só me fala do\\nsenhor; indaga-me vinte vezes por dia de sua pessoa, dos seus hábitos, do seu\\npassado e das suas opiniões... Eu, como há de acreditar, respondo a tudo que\\nnão sei, mas vou criando um ódio ao senhor, do qual não me poderá jamais\\ncriminar.\\n\\n\\x97 É culpa minha se ela gosta de mim? Ora,\\nvá descansado, Sr. Diogo. Nem ela gosta de mim, nem eu gosto dela. Trabalhe\\ndesassombradamente e seja feliz.\\n\\n\\x97 Feliz! se eu pudesse ser! Mas não...\\nnão creio; a felicidade não se fez para mim. Olhe, Sr. Tito, amo aquela mulher\\ncomo se pode amar a vida. Um olhar dela vale mais para mim que um ano de\\nglórias e de felicidade. É por ela que eu tenho deixado os meus negócios à toa.\\nNão viu outro dia que uma carta me chegou às mãos, cuja leitura me fez\\nentristecer? Perdi uma causa. Tudo por quê? por ela!\\n\\n\\x97 Mas, ela não lhe dá esperanças?\\n\\n\\x97 Eu sei o que é aquela moça! Ora\\ntrata-me de modo que eu vou ao sétimo céu; ora é tal a sua indiferença que me\\natira ao inferno. Hoje um sorriso, amanhã um gesto de desdém. Ralha-me de não\\nvisitá-la; vou visitá-la, ocupa-se tanto de mim como de Ganimedes; Ganimedes\\né o nome de um cãozinho felpudo que eu lhe dei. Importa-se tanto comigo como\\ncom o cachorro... É de propósito. É um enigma aquela moça.\\n\\n\\x97 Pois não serei eu quem o decifre, Sr.\\nDiogo. Desejo-lhe muita felicidade. Adeus.\\n\\nE os dois separaram-se. Diogo seguiu para\\na casa de Emília, Tito para a casa de Azevedo.\\n\\nTito acabava de saber que a viúva pensava\\nnele; todavia, isso não lhe dera o menor abalo. Por quê? É o que saberemos mais\\nadiante. O que é preciso dizer desde já, é que as mesmas suspeitas despertadas\\nno espírito de Diogo, tivera a mulher de Azevedo. A intimidade de Emília dava lugar\\na uma franca interrogação e a uma confissão franca. Adelaide, no dia seguinte\\nàquele em que se passou a cena que referi acima, disse a Emília o que pensava.\\n\\nA resposta da viúva foi uma risada.\\n\\n\\x97 Não te compreendo, disse a mulher de\\nAzevedo.\\n\\n\\x97 É simples, disse a viúva. Julgas-me\\ncapaz de apaixonar-me pelo amigo de teu marido? Enganas-te. Não, eu não o amo.\\nSomente, como te disse no dia em que o vi aqui pela primeira vez, empenho-me em\\ntê-lo a meus pés. Se bem me recordo foste tu mesma quem me deu conselho.\\nAceitei-o. Hei de vingar o nosso sexo. É um pouco de vaidade minha, embora; mas\\neu creio que aquilo que nenhuma fez, fá-lo-ei eu.\\n\\n\\x97 Ah! cruelzinha! É isso?\\n\\n\\x97 Nem mais, nem menos.\\n\\n\\x97 Achas possível?\\n\\n\\x97 Por que não?\\n\\n\\x97 Reflete que a derrota será dupla...\\n\\n\\x97 Será, mas não há de haver.\\n\\nEsta conversa foi interrompida por\\nAzevedo. Um sinal de Emília fez calar Adelaide. Ficou convencionado que nem\\nmesmo Azevedo saberia de coisa alguma. E, com efeito, Adelaide nada comunicou a\\nseu marido.\\n\\nCAPÍTULO III\\n\\nTinham-se passado oito dias depois do que\\nacabo de narrar.\\n\\nTito, como o temos visto até aqui, estava\\nno terreno do primeiro dia. Passeava, lia, conversava e parecia inteiramente\\nalheio aos planos que se tramavam em roda dele. Durante esse tempo foi apenas\\nduas vezes à casa de Emília, uma com a família de Azevedo, outra com Diogo.\\nNestas visitas era sempre o mesmo, frio, indiferente, impassível. Não havia\\nolhar, por mais sedutor e significativo, que o abalasse; nem a idéia de que\\nandava no pensamento da viúva era capaz de animá-lo.\\n\\n\\x97 Por que, ao menos, se não é capaz de\\namar, não procura entreter um desses namoros de sala, que tanto lisonjeiam a\\nvaidade dos homens?\\n\\nEsta pergunta era feita por Emília a si\\nmesma, sob a impressão da estranheza que lhe causava a indiferença do rapaz.\\nEla não compreendia que Tito pudesse conservar-se de gelo diante dos seus\\nencantos. Mas infelizmente era assim.\\n\\nCansada de trabalhar em vão, a viúva\\ndeterminou dar um golpe mais decisivo. Encaminhou a conversa para as doçuras do\\ncasamento e lamentou o estado de sua viuvez. O casal Azevedo era para ela o\\ntipo da perfeita felicidade conjugal. Apresentava-o aos olhos de Tito como um\\nincentivo para quem queria ser venturoso na terra. Nada, nem a tese, nem a\\nhipótese, nada moveu a frieza de Tito.\\n\\nEmília jogava um jogo perigoso. Era\\npreciso decidir entre os seus desejos de vingar o sexo e as conveniências da\\nsua posição; mas ela era de um caráter imperioso; respeitava muito os\\nprincípios de sua moral severa, mas não acatava do mesmo modo as conveniências\\nde que a sociedade cercava essa moral. A vaidade impunha no espírito dela, com\\nforça prodigiosa. Assim que a bela viúva foi usando todos os meios que era\\nlícito empregar para fazer apaixonar Tito.\\n\\nMas, apaixonado ele, o que faria ela? A\\npergunta é ociosa; desde que ela o tivesse aos pés, trataria de conservá-lo aí\\nfazendo parelha ao velho Diogo. Era o melhor troféu que uma beleza altiva pode\\nambicionar.\\n\\nUma manhã, oito dias depois das cenas\\nreferidas no capítulo anterior, apareceu Diogo em casa de Azevedo. Tinham aí\\nacabado de almoçar; Azevedo subira para o gabinete, a fim de aviar alguma\\ncorrespondência para a corte; Adelaide achava-se na sala do pavimento térreo.\\n\\nDiogo entrou com uma cara contristada,\\ncomo nunca se lhe vira. Adelaide correu para ele.\\n\\n\\x97 Que é isso? perguntou ela.\\n\\n\\x97 Ah! minha senhora... sou o mais infeliz\\ndos homens!\\n\\n\\x97 Por quê? Venha sentar-se...\\n\\nDiogo sentou-se, ou antes deixou-se cair\\nna cadeira que Adelaide lhe ofereceu. Esta tomou lugar ao pé dele, animou-o a\\ncontar as suas mágoas.\\n\\n\\x97 Então que há?\\n\\n\\x97 Duas desgraças, respondeu ele. A\\nprimeira em forma de sentença. Perdi mais uma demanda. É uma desgraça isto, mas\\nnão é nada...\\n\\n\\x97 Pois há maior?...\\n\\n\\x97 Há. A segunda desgraça foi em forma de\\ncarta.\\n\\n\\x97 De carta? perguntou Adelaide.\\n\\n\\x97 De carta. Veja isto.\\n\\nDiogo tirou da carteira uma cartinha\\ncor-de-rosa, cheirando à essência de magnólia.\\n\\nAdelaide leu a carta para si.\\n\\nQuando ela acabou, perguntou-lhe o velho:\\n\\n\\x97 Que me diz a isto?\\n\\n\\x97 Não compreendo, respondeu Adelaide.\\n\\n\\x97 Esta carta é dela.\\n\\n\\x97 Sim, e depois?\\n\\n\\x97 É para ele.\\n\\n\\x97 Ele quem?\\n\\n\\x97 Ele! o diabo! o meu rival! o Tito!\\n\\n\\x97 Ah!\\n\\n\\x97 Dizer-lhe o que senti quando apanhei\\nesta carta, é impossível. Nunca tremi na minha vida! Mas quando li isto, não\\nsei que vertigem se apoderou de mim. Ando tonto! A cada passo como que\\ndesmaio... Ah!\\n\\n\\x97 Ânimo! disse Adelaide.\\n\\n\\x97 É isto mesmo que eu vinha buscar... é\\numa consolação, uma animação. Soube que estava aqui e estimei achá-la só... Ah!\\nquanto sinto que o estimável seu marido esteja vivo... porque a melhor\\nconsolação era aceitar Vossa Excelência um coração tão mal compreendido.\\n\\n\\x97 Felizmente ele está vivo.\\n\\nDiogo soltou um suspiro e disse:\\n\\n\\x97 Felizmente!\\n\\nE depois de um silêncio continuou:\\n\\n\\x97 Tive duas idéias: uma foi o desprezo;\\nmas desprezá-los é pô-los em maior liberdade e ralar-me de dor e de vergonha; a\\nsegunda foi o duelo... é melhor... eu mato... ou...\\n\\n\\x97 Deixe-se disso.\\n\\n\\x97 É indispensável que um de nós seja\\nriscado do número dos vivos.\\n\\n\\x97 Pode ser engano...\\n\\n\\x97 Mas não é engano, é certeza.\\n\\n\\x97 Certeza de quê?\\n\\nDiogo abriu o bilhete e disse:\\n\\n\\x97 Ora, ouça:\\n\\nSe ainda não me compreendeu é bem curto\\nde penetração. Tire a máscara e eu me explicarei. Esta noite tomo chá sozinha.\\nO importuno Diogo não me incomodará com as suas tolices. Dê-me a felicidade de\\nvê-lo e admirá-lo.\\n\\nEMÍLIA\\n\\n\\x97 Mas que é isto?\\n\\n\\x97 Que é isto? Ah! se fosse mais do que\\nisto já eu estava morto! Pude pilhar a carta, e a tal entrevista não se deu...\\n\\n\\x97 Quando foi escrita a carta?\\n\\n\\x97 Ontem.\\n\\n\\x97 Tranqüilize-se. É capaz de guardar um\\nsegredo? O que lhe vou dizer é grave. Mas só a sua aflição me faz falar. Posso\\nafirmar-lhe que esta carta é uma pura caçoada. Trata-se de vingar o nosso sexo\\nultrajado; trata-se de fazer com que Tito se apaixone... nada mais.\\n\\nDiogo estremeceu de alegria.\\n\\n\\x97 Sim? perguntou ele.\\n\\n\\x97 É pura verdade. Mas veja lá, isto é\\nsegredo. Se lho descobri foi por vê-lo aflito. Não nos comprometa.\\n\\n\\x97 Isso é sério? insistiu Diogo.\\n\\n\\x97 Como quer que lho diga?\\n\\n\\x97 Ah! que peso me tirou! Pode estar certa\\nde que o segredo caiu num poço. Oh! muito me hei de rir... muito me hei de\\nrir... Que boa inspiração tive em vir falar-lhe! Diga-me, posso dizer a D.\\nEmília que sei tudo?\\n\\n\\x97 Não!\\n\\n\\x97 É então melhor que não me dê por\\nachado...\\n\\n\\x97 Sim.\\n\\n\\x97 Muito bem!\\n\\nDizendo estas palavras o velho Diogo\\nesfregava as mãos e piscava os olhos. Estava radiante. Quê! ver o suposto rival\\nsendo vítima dos laços da viúva! Que glória! que felicidade!\\n\\nNisto estava quando à porta do interior\\napareceu Tito. Acabava de levantar-se da cama.\\n\\n\\x97 Bom dia, D. Adelaide, disse ele dirigindo-se\\npara a mulher de Azevedo.\\n\\nDepois sentando-se e voltando a cara para\\nDiogo:\\n\\n\\x97 Bom dia, disse. Está hoje alegre...\\nTirou a sorte grande?\\n\\n\\x97 A sorte grande? perguntou Diogo.\\nTirei... tirei...\\n\\n\\x97 Dormiu bem? perguntou Adelaide a Tito.\\n\\n\\x97 Como um justo que sou. Tive sonhos\\ncor-de-rosa: sonhei com o Sr. Diogo.\\n\\n\\x97 Ah! sonhou comigo? murmurou entre\\ndentes o velho namorado. Coitado! tenho pena dele!\\n\\n\\x97 Mas onde está Azevedo? perguntou Tito a\\nAdelaide.\\n\\n\\x97 Anda de passeio.\\n\\n\\x97 Já?\\n\\n\\x97 Pois então. Onze horas.\\n\\n\\x97 Onze horas! É verdade, acordei muito\\ntarde. Tinha duas visitas para fazer: uma a D. Emília...\\n\\n\\x97 Ah! disse Diogo.\\n\\n\\x97 De que se espanta, meu caro?\\n\\n\\x97 De nada! de nada!\\n\\n\\x97 Bom; vou mandar pôr o seu almoço, disse\\nAdelaide.\\n\\nOs dois ficaram sós. Tito acendeu um\\ncigarro de palha; Diogo afetava grande distração, mas olhava sorrateiramente\\npara o moço. Este, apenas soltou duas fumaças, voltou-se para o velho e disse:\\n\\n\\x97 Como vão os seus amores?\\n\\n\\x97 Que amores?\\n\\n\\x97 Os seus, a Emília... Já lhe fez\\ncompreender toda a imensidade da paixão que o devora?\\n\\n\\x97 Qual... Preciso de algumas lições... Se\\nmas quisesse dar?\\n\\n\\x97 Eu? Está sonhando!\\n\\n\\x97 Ah! eu sei que o senhor é forte... É\\nmodesto, mas é forte... e até fortíssimo! Ora, eu sou realmente um aprendiz...\\nTive há pouco a idéia de desafiá-lo.\\n\\n\\x97 A mim?\\n\\n\\x97 É verdade, mas foi uma loucura de que\\nme arrependi...\\n\\n\\x97 Além de que não é uso em nosso país...\\n\\n\\x97 Em toda a parte é uso vingar a honra.\\n\\n\\x97 Bravo, D. Quixote!\\n\\n\\x97 Ora, eu acreditava-me ofendido na\\nhonra.\\n\\n\\x97 Por mim?\\n\\n\\x97 Mas emendei a mão; reparei que era\\nantes eu quem ofendia pretendendo lutar com um mestre, eu simples aprendiz?...\\n\\n\\x97 Mestre de quê?\\n\\n\\x97 Dos amores! Oh! eu sei que é mestre...\\n\\n\\x97 Deixe-se disso... eu não sou nada... o\\nSr. Diogo, sim; o senhor vale um urso, vale mesmo dois. Como havia de eu...\\nOra!... Aposto que teve ciúmes?\\n\\n\\x97 Exatamente.\\n\\n\\x97 Mas era preciso não me conhecer; não\\nsabe das minhas idéias?\\n\\n\\x97 Homem, às vezes é pior.\\n\\n\\x97 Pior, como?\\n\\n\\x97 As mulheres não deixam uma afronta sem\\ncastigo... As suas idéias são afrontosas... Qual será o castigo? Paro aqui...\\nparo aqui...\\n\\n\\x97 Onde vai?\\n\\n\\x97 Vou sair. Adeus. Não se lembre mais da\\nminha desastrada idéia do duelo...\\n\\n\\x97 Que está acabado... Ah! o senhor\\nescapou de boa!\\n\\n\\x97 De quê?\\n\\n\\x97 De morrer. Eu enfiava-lhe a espada por\\nesse abdômen... com um gosto... com um gosto só comparável ao que tenho de\\nabraçá-lo vivo e são!\\n\\nDiogo riu-se com um riso amarelo.\\n\\n\\x97 Obrigado, obrigado. Até logo!\\n\\n\\x97 Venha cá, onde vai? Não se despede de\\nD. Adelaide?\\n\\n\\x97 Eu já volto, disse Diogo travando do\\nchapéu e saindo precipitadamente.\\n\\nTito ainda o acompanhou com os olhos.\\n\\n'Este sujeito', disse o moço\\nconsigo quando se viu só, 'não tem nada de original. Aquela opinião a\\nrespeito das mulheres não é dele... Melhor... já se conspira; é o que me\\nconvém. Hás de vir! hás de vir!\\x94\\n\\nUm criado alemão veio anunciar a Tito que\\no almoço estava preparado. Tito ia entrando quando assomou à porta a figura de\\nAzevedo.\\n\\n\\x97 Ora, graças a Deus! O meu amigo não se\\nlevanta com o sol. Estás com olhos de quem acaba de dormir.\\n\\n\\x97 É verdade, e vou almoçar.\\n\\nDirigiram-se os dois para dentro, onde a\\nmesa estava posta à espera de Tito.\\n\\n\\x97 Almoças outra vez? perguntou Tito.\\n\\n\\x97 Não.\\n\\n\\x97 Pois então vais ver como se come.\\n\\nTito sentou-se à mesa; Azevedo estirou-se\\nnum sofá.\\n\\n\\x97 Onde foste? perguntou Tito.\\n\\n\\x97 Fui passear... Compreendi que é preciso\\nver e admirar o que é indiferente, para apreciar e ver aquilo que faz a\\nfelicidade íntima do coração.\\n\\n\\x97 Ah! sim? Bem vês que até a felicidade\\npor igual fatiga! Afinal sempre a razão do meu lado.\\n\\n\\x97 Talvez. Apesar de tudo, quer-me parecer\\nque já intentas entrar na família dos casados.\\n\\n\\x97 Eu?\\n\\n\\x97 Tu, sim.\\n\\n\\x97 Por quê?\\n\\n\\x97 Mas, dize, é ou não verdade?\\n\\n\\x97 Qual, verdade!\\n\\n\\x97 O que sei, é que uma destas tardes em\\nque adormeceste lendo, não sei que livro, ouvi-te pronunciar em sonhos, com a\\nmaior ternura, o nome de Emília.\\n\\n\\x97 Deveras? perguntou Tito mastigando.\\n\\n\\x97 É exato. Concluí que se sonhavas com\\nela é que a tinhas no pensamento, e se a tinhas no pensamento é que a amavas.\\n\\n\\x97 Concluíste mal.\\n\\n\\x97 Mal?\\n\\n\\x97 Concluíste como um marido de cinco\\nmeses. Que prova um sonho? Não prova nada! Pareces velha supersticiosa...\\n\\n\\x97 Mas enfim, alguma coisa há por força...\\nSerás capaz de me dizeres o que é?\\n\\n\\x97 Homem, podia dizer-te alguma coisa se\\nnão fosses casado...\\n\\n\\x97 Que tem que eu seja casado?\\n\\n\\x97 Tem tudo. Seria indiscreto sem querer e\\naté sem saber. À noite, entre um beijo e um bocejo, o marido e a mulher abrem\\num para o outro a bolsa das confidências. Sem pensares, podes deitar tudo a\\nperder.\\n\\n\\x97 Não digas isso. Vamos lá. Há novidade?\\n\\n\\x97 Não há nada.\\n\\n\\x97 Confirmas as minhas suspeitas. Gostas\\nda Emília.\\n\\n\\x97 Ódio não lhe tenho, é verdade.\\n\\n\\x97 Gostas. E ela merece. É uma boa\\nsenhora, de não vulgar beleza, possuindo as melhores qualidades. Talvez\\npreferisses que não fosse viúva?...\\n\\n\\x97 Sim; é natural que se embale dez vezes\\npor dia na lembrança dos dois maridos que já exportou para o outro mundo... à\\nespera de exportar o terceiro...\\n\\n\\x97 Não é dessas...\\n\\n\\x97 Afianças?\\n\\n\\x97 Quase que posso afiançar.\\n\\n\\x97 Ah! meu amigo, disse Tito levantando-se\\nda mesa e indo acender um charuto, toma o conselho de um tolo: nunca afiances\\nnada, principalmente em tais assuntos. Entre a prudência discreta e a cega\\nconfiança não é lícito duvidar, a escolha está decidida nos próprios termos da\\nprimeira. O que podes tu afiançar a respeito de Emília? Não a conheces melhor\\ndo que eu.\\n\\nHá quinze dias que nos conhecemos, e eu\\njá lhe leio no interior; estou longe de atribuir-lhe maus sentimentos, mas\\ntenho a certeza de que não possui as raríssimas qualidades que são necessárias\\nà exceção. Que sabes tu?\\n\\n\\x97 Realmente, eu não sei nada.\\n\\n'Não sabes nada!' disse Tito\\nconsigo.\\n\\n\\x97 Falo pelas minhas impressões.\\nParecia-me que um casamento entre vocês ambos não vinha fora de propósito.\\n\\n\\x97 Se me falas outra vez em casamento,\\nsaio.\\n\\n\\x97 Pois só a palavra?\\n\\n\\x97 A palavra, a idéia, tudo.\\n\\n\\x97 Entretanto, admiras e aplaudes o meu\\ncasamento...\\n\\n\\x97 Ah! eu aplaudo nos outros muitas coisas\\nde que não sou capaz de usar. Depende da vocação...\\n\\nAdelaide apareceu à porta da sala de\\njantar. A conversa cessou entre os dois rapazes.\\n\\n\\x97 Trago-lhe uma notícia.\\n\\n\\x97 Que notícia? perguntaram-lhe os dois.\\n\\n\\x97 Recebi um bilhete de Emília... Pede-nos\\nque vamos lá amanhã, porque...\\n\\n\\x97 Por quê? perguntou Azevedo.\\n\\n\\x97 Talvez dentro de oito dias se retire\\npara a cidade.\\n\\n\\x97 Ah! disse Tito com a maior indiferença\\ndeste mundo.\\n\\n\\x97 Apronta as tuas malas, disse Azevedo a\\nTito.\\n\\n\\x97 Por quê?\\n\\n\\x97 Não segues os passos da deusa?\\n\\n\\x97 Não zombes, cruel amigo! Quando não...\\n\\n\\x97 Anda lá...\\n\\nAdelaide sorriu ouvindo estas palavras.\\n\\nDaí a meia hora Tito subiu para o\\ngabinete em que Azevedo tinha os livros. Ia, dizia, ler as Confissões de\\nSanto Agostinho.\\n\\n\\x97 Que repentina viagem é esta? perguntou\\nAzevedo à sua mulher.\\n\\n\\x97 Tens muito empenho em saber?\\n\\n\\x97 Tenho.\\n\\n\\x97 Pois bem. Olha que é segredo. Eu não\\nsei positivamente, mas creio que é uma estratégia.\\n\\n\\x97 Estratégia? Não entendo.\\n\\n\\x97 Eu te digo. Trata-se de prender o Tito.\\n\\n\\x97 Prender?\\n\\n\\x97 Estás hoje tão bronco! Prender pelos\\nlaços do amor...\\n\\n\\x97 Ah!\\n\\n\\x97 Emília julgou que deve fazê-lo. É só\\npara brincar. No dia em que ele se declarar vencido fica ela vingada do que ele\\ndisse contra o sexo.\\n\\n\\x97 Não está mau... E tu entras nesta\\nestratégia...\\n\\n\\x97 Como conselheira.\\n\\n\\x97 Trama-se então contra um amigo, um alter\\nego.\\n\\n\\x97 Tá, tá, tá. Cala a boca. Não vás fazer\\nabortar o plano.\\n\\nAzevedo riu-se a bandeiras despregadas.\\nNo fundo achava engraçada a punição premeditada ao pobre Tito.\\n\\nA visita que Tito disse ter de fazer à viúva\\nnaquele dia, não se realizou.\\n\\nDiogo, que apenas saíra da casa de\\nAzevedo, ciente das intenções da viúva, fora para casa desta esperar o rapaz,\\nembalde lá esteve durante o dia, embalde jantou, embalde aborreceu a tarde\\ninteira tanto a Emília como à tia; Tito não apareceu.\\n\\nMas, à noite, à hora em que Diogo, já\\nvexado de tanta demora na casa da moça, tratava de sair, anunciou-se a chegada\\nde Tito.\\n\\nEmília estremeceu; mas esse movimento\\nescapou a Diogo.\\n\\nTito entrou na sala onde se achavam\\nEmília, a tia, e Diogo.\\n\\n\\x97 Não contava com a sua visita, disse a\\nviúva.\\n\\n\\x97 Eu sou assim; apareço quando não me\\nesperam. Sou como a morte e a sorte grande.\\n\\n\\x97 Agora é a sorte grande, disse Emília.\\n\\n\\x97 Que número é o seu bilhete, minha\\nsenhora?\\n\\n\\x97 Número doze, isto é, doze horas que\\ntenho tido o prazer de ter hoje aqui o Sr. Diogo...\\n\\n\\x97 Doze horas! exclamou Tito voltando-se\\npara o velho.\\n\\n\\x97 Sem que ainda o nosso bom amigo nos\\ncontasse uma história...\\n\\n\\x97 Doze horas! repetiu Tito.\\n\\n\\x97 Que admira, meu caro senhor? perguntou\\nDiogo.\\n\\n\\x97 Acho um pouco estirado...\\n\\n\\x97 As horas contam-se quando são\\naborrecidas... Peço para me retirar...\\n\\nE dizendo isto, Diogo travou do chapéu\\npara sair lançando um olhar de despeito e ciúme para a viúva.\\n\\n\\x97 Que é isso? perguntou esta. Onde vai?\\n\\n\\x97 Dou asas às horas, respondeu Diogo ao\\nouvido de Emília; vão correr depressa agora.\\n\\n\\x97 Perdôo-lhe e peço que se sente.\\n\\nDiogo sentou-se.\\n\\nA tia de Emília pediu licença para\\nretirar-se alguns minutos.\\n\\nFicaram os três.\\n\\n\\x97 Mas então, disse Tito, nem ao menos uma\\nhistória contou?\\n\\n\\x97 Nenhuma.\\n\\nEmília lançou um olhar a Diogo como para\\ntranqüilizá-lo. Este, mais calmo então, lembrou-se do que Adelaide lhe havia\\ndito, e voltou às boas.\\n\\n\\x97 Afinal de contas, disse ele consigo, o\\ncaçoado é ele. Eu sou apenas o meio de prendê-lo... Contribuamos para que se\\nlhe tire a proa.\\n\\n\\x97 Nenhuma história, continuou Emília.\\n\\n\\x97 Pois olhe, eu sei muitas, disse Diogo\\ncom intenção.\\n\\n\\x97 Conte uma de tantas que sabe, disse\\nTito.\\n\\n\\x97 Nada! Por que não conta o senhor?\\n\\n\\x97 Se faz empenho...\\n\\n\\x97 Muito... muito, disse Diogo piscando os\\nolhos. Conte lá, por exemplo, a história do taboqueado, a história das\\nimposturas do amor, a história dos viajantes encouraçados; vá, vá.\\n\\n\\x97 Não, vou contar a história de um homem\\ne de um macaco.\\n\\n\\x97 Oh! disse a viúva.\\n\\n\\x97 É muito interessante, disse Tito. Ora,\\nouçam...\\n\\n\\x97 Perdão, interrompeu Emília, será depois\\ndo chá.\\n\\n\\x97 Pois sim.\\n\\nDaí a pouco servia-se o chá aos três.\\nFindo ele, Tito tomou a palavra e começou a história:\\n\\nHISTÓRIA DE UM HOMEM E DE UM MACACO\\n\\nNão longe da vila ***, no interior do\\nBrasil, morava há uns vinte anos um homem de trinta e cinco anos, cuja vida\\nmisteriosa era o objeto das conversas das vilas próximas e o objeto do terror\\nque experimentavam os viajantes que passavam na estrada a dois passos da casa.\\n\\nA própria casa era já de causar\\napreensões ao espírito menos timorato. Vista de longe nem parecia casa, tão\\nbaixinha era. Mas quem se aproximasse conheceria aquela construção singular.\\nMetade do edifício estava ao nível do chão e metade abaixo da terra. Era\\nentretanto uma casa solidamente construída. Não tinha porta nem janelas. Tinha\\num vão quadrado que servia ao mesmo tempo de janela e de porta. Era por ali que\\no misterioso morador entrava e saía.\\n\\nPouca gente o via sair, não só porque ele\\nraras vezes o fazia, como porque o fazia em horas impróprias. Era nas horas da\\nlua cheia que o solitário deixava a residência para ir passear nos arredores.\\nLevava sempre consigo um grande macaco, que acudia pelo nome de Calígula.\\n\\nO macaco e o homem, o homem e o macaco\\neram dois amigos inseparáveis, dentro e fora de casa, na lua nova.\\n\\nMil versões corriam a respeito deste\\nmisterioso solitário.\\n\\nA mais geral é que era um feiticeiro.\\nHavia uma que o dava por doido; outra por simplesmente atacado de misantropia.\\n\\nEsta última versão tinha por si duas\\ncircunstâncias: a primeira era não constar nada de positivo que fizesse\\nreconhecer no homem hábitos de feiticeiro ou alienado; a segunda era a amizade\\nque ele parecia votar ao macaco e o horror com que fugia ao olhar dos homens.\\nQuando a gente se aborrece dos homens toma sempre a afeição dos animais, que\\ntêm a vantagem de não discorrer, nem intrigar.\\n\\nO misterioso... É preciso dar-lhe um\\nnome: chamemo-lo Daniel. Daniel preferia o macaco, e não falava a mais homem\\nalgum. Algumas vezes os viajantes que passavam pela estrada ouviam partir de\\ndentro da casa gritos do macaco e do homem; era o homem que afagava o macaco.\\n\\nComo se alimentavam aquelas duas\\ncriaturas? Houve quem visse um dia de manhã abrir-se a porta, sair o macaco e\\nvoltar pouco depois com um embrulho na boca. O tropeiro que presenciava esta\\ncena quis descobrir onde ia o macaco buscar aquele embrulho que levava sem\\ndúvida os alimentos dos dois solitários. Na manhã seguinte introduziu-se no\\nmato; o macaco chegou à hora do costume, e dirigiu-se para um tronco de árvore;\\nhavia sobre esse tronco um grande galho, que o bicho atirou ao chão. Depois,\\nintroduzindo as mãos no interior do velho tronco, tirou um embrulho igual ao da\\nvéspera e partiu.\\n\\nO tropeiro persignou-se, e tão apreensivo\\nficou com a cena que acabava de presenciar que não a contou a ninguém.\\n\\nDurava esta existência três anos.\\n\\nDurante esse tempo o homem não\\nenvelhecera. Era o mesmo que no primeiro dia. Longas barbas ruivas e cabelos\\ngrandes caídos para trás. Usava um grande casaco de baeta, tanto no inverno,\\ncomo no verão. Calçava botas e não usava chapéu.\\n\\nEra impossível aos passageiros e aos\\nmoradores das vizinhanças penetrar na casa do solitário. Não o será decerto\\npara nós, minha bela senhora, e meu caro amigo.\\n\\nA casa divide-se em duas salas e um\\nquarto. Uma sala é para jantar; a outra é... a de visitas. O quarto é ocupado\\npelos dois moradores, Daniel e Calígula.\\n\\nAs duas salas são de iguais dimensões; o\\nquarto é uma metade da sala. A mobília da primeira sala compõe-se de dois sujos\\nbancos encostados à parede, uma mesa baixa no centro. O chão é assoalhado.\\nPendem das paredes dois retratos: um de moça, outro de velho. A moça é uma\\nfigura angélica e deliciosa. O velho inspirava respeito e admiração. Das outras\\nduas paredes pendem, de um lado uma faca de cabo de marfim, e do outro uma mão\\nde defunto, amarela e seca.\\n\\nA sala de jantar tem apenas uma mesa e\\ndois bancos.\\n\\nA mobília do quarto resume-se num grabato\\nem que dorme Daniel. Calígula estende-se no chão, junto à cabeceira do\\ndono.\\n\\nTal é a mobília da casa.\\n\\nA casa, que de fora parece não ter\\ncapacidade suficiente para conter um homem em pé, é contudo suficiente, visto\\nestar, como disse, entranhada no chão.\\n\\nQue vida terão passado aí dentro o macaco\\ne o homem, no espaço de três anos? Não saberei dizê-lo.\\n\\nQuando Calígula traz de manhã o\\nembrulho, Daniel divide a comida em duas porções, uma para o almoço, outra para\\no jantar. Depois homem e macaco sentam-se em face um do outro na sala de jantar\\ne comem irmãmente as duas refeições.\\n\\nQuando chega a lua cheia saem os dois\\nsolitários, como já disse, todas as noites, até a época em que a lua passa a\\nser minguante. Saem às dez horas, pouco mais ou menos, e voltam pouco mais ou\\nmenos às duas horas da madrugada. Quando entram, Daniel tira a mão do finado\\nque pende da parede e dá com ela duas bofetadas em si próprio. Feito isto, vai\\ndeitar-se; Calígula acompanha-o.\\n\\nUma noite, era no mês de junho, época de\\nlua cheia, Daniel preparou-se para sair. Calígula deu um pulo e saltou à\\nestrada. Daniel fechou a porta, e lá se foi com o macaco estrada acima.\\n\\nA lua, inteiramente cheia, projetava os\\nseus reflexos pálidos e melancólicos na vasta floresta que cobria as colinas\\npróximas, e clareava toda a vasta campina que rodeava a casa.\\n\\nSó se ouvia ao longe o murmúrio de uma\\ncachoeira, e ao perto o piar de algumas corujas, e o chilrar de uma infinidade\\nde grilos espalhados na planície.\\n\\nDaniel caminhava pausadamente levando um\\npau debaixo do braço, e acompanhado do macaco, que saltava do chão aos ombros\\nde Daniel e dos ombros de Daniel para o chão.\\n\\nMesmo sem a forma lúgubre que tinha\\naquele lugar por causa da residência do solitário, qualquer pessoa que\\nencontrasse àquela hora Daniel e o macaco corria risco de morrer de medo.\\nDaniel, extremamente magro e alto, tinha em si um ar lúgubre. Os cabelos da\\nbarba e da cabeça, crescidos em abundância, faziam a sua cabeça ainda maior do\\nque era. Sem chapéu era uma cabeça verdadeiramente satânica.\\n\\nCalígula, que nos outros\\ndias era um macaco ordinário, tomava, naquelas horas de passeio noturno, um ar\\ntão lúgubre e tão misterioso como o de Daniel.\\n\\nHavia já uma hora que os dois solitários\\ntinham saído de casa. A casa ficara já um pouco longe. Nada mais natural do que\\nchegar a polícia nessa ocasião, tomar a entrada da casa e reconhecer o\\nmistério. Mas a polícia, apesar dos meios que tinha à sua disposição, não se\\nanimava a investigar no mistério que o povo reputava diabólico. Também a\\npolícia é humana, e nada do que é humano lhe é desconhecido.\\n\\nHavia uma hora, disse eu, que os dois\\npasseadores tinham saído de casa. Começavam então a subir uma pequena colina...\\n\\nTito foi interrompido por um bocejo do\\nvelho Diogo.\\n\\n\\x97 Quer dormir? perguntou o rapaz.\\n\\n\\x97 É o que vou fazer.\\n\\n\\x97 Mas a história?\\n\\n\\x97 A história é muito divertida. Até aqui\\nsó temos visto duas coisas, um homem e um macaco; perdão... temos mais dois, um\\nmacaco e um homem. É muito divertida! Mas, para variar, o homem vai sair e fica\\no macaco.\\n\\nDizendo estas palavras com uma raiva\\ncômica, Diogo travou do chapéu e saiu.\\n\\nTito soltou uma gargalhada.\\n\\n\\x97 Mas vamos ao fim da história...\\n\\n\\x97 Que fim, minha senhora? Eu já estava em\\ntalas por não saber como continuar... Era um meio de servi-la. Vejo que é um\\nvelho aborrecido...\\n\\n\\x97 Não é, está enganado.\\n\\n\\x97 Ah! não?\\n\\n\\x97 Divirto-me com ele. O que não impede\\nque a presença do senhor me dê infinito prazer...\\n\\n\\x97 Vossa Excelência disse agora uma\\nfalsidade.\\n\\n\\x97 Qual foi?\\n\\n\\x97 Disse que lhe era agradável a minha\\nconversa. Ora, isso é falso como tudo quanto é falso...\\n\\n\\x97 Quer um elogio?\\n\\n\\x97 Não, falo franco. Eu nem sei como Vossa\\nExcelência me atura; desabrido, maçante, chocarreiro, sem fé em coisa alguma,\\nsou um conversador muito pouco digno de ser desejado. É preciso ter uma grande\\nsoma de bondade para ter expressões tão benévolas... tão amigas...\\n\\n\\x97 Deixe esse ar de mofa, e...\\n\\n\\x97 Mofa, minha senhora?\\n\\n\\x97 Ontem eu e minha tia tomamos chá\\nsozinhas! sozinhas!...\\n\\n\\x97 Ah!\\n\\n\\x97 Contava que o senhor viesse\\naborrecer-se uma hora conosco...\\n\\n\\x97 Qual aborrecer... Eu lhe digo: o\\nculpado foi o Ernesto.\\n\\n\\x97 Ah! foi ele?\\n\\n\\x97 É verdade; deu comigo aí em casa de uns\\namigos, éramos quatro ao todo, rolou a conversa sobre o voltarete e acabamos\\npor formar mesa. Ah! mas foi uma noite completa! Aconteceu-me o que me acontece\\nsempre: ganhei!\\n\\n\\x97 Está bom.\\n\\n\\x97 Pois, olhe, ainda assim eu não jogava\\ncom pexotes; eram mestres de primeira força: um principalmente; até às onze\\nhoras a fortuna pareceu desfavorecer-me, mas dessa hora em diante desandou a\\nroda para eles e eu comecei a assombrar... pode ficar certa de que os\\nassombrei. Ah! é que eu tenho diploma... mas que é isso, está chorando?\\n\\nEmília tinha com efeito o lenço nos\\nolhos. Chorava? É certo que quando tirou o lenço dos olhos, tinha-os úmidos.\\nVoltou-se contra a luz e disse ao moço:\\n\\n\\x97 Qual... pode continuar.\\n\\n\\x97 Não há mais nada; foi só isto, disse\\nTito.\\n\\n\\x97 Estimo que a noite lhe corresse\\nfeliz...\\n\\n\\x97 Alguma coisa...\\n\\n\\x97 Mas a uma carta responde-se; por que\\nnão respondeu à minha? disse a viúva.\\n\\n\\x97 À sua qual?\\n\\n\\x97 A carta que lhe escrevi pedindo que\\nviesse tomar chá conosco?\\n\\n\\x97 Não me lembro.\\n\\n\\x97 Não se lembra?\\n\\n\\x97 Ou, se recebi essa carta, foi em\\nocasião que a não pude ler, e então esqueci, esqueci-a em algum lugar...\\n\\n\\x97 É possível: mas é a última vez...\\n\\n\\x97 Não me convida mais para tomar chá?\\n\\n\\x97 Não. Pode arriscar-se a perder\\ndistrações melhores.\\n\\n\\x97 Isso não digo: a senhora trata bem a\\ngente, e em sua casa passam-se bem as horas... Isto é com franqueza. Mas então\\ntomou chá sozinha? E o Diogo?\\n\\n\\x97 Descartei-me dele. Acha que ele seja\\ndivertido?\\n\\n\\x97 Parece que sim... É um homem delicado;\\num tanto dado às paixões, é verdade, mas sendo esse um defeito comum, acho que\\nnele não é muito digno de censura.\\n\\n\\x97 O Diogo está vingado.\\n\\n\\x97 De que, minha senhora?\\n\\nEmília olhou fixamente para Tito e disse:\\n\\n\\x97 De nada!\\n\\nE levantando-se dirigiu-se para o piano.\\n\\n\\x97 Vou tocar, disse ela; não o aborrece?\\n\\n\\x97 De modo nenhum.\\n\\nEmília começou a tocar; mas era uma música\\ntão triste que infundia certa melancolia no espírito do moço. Este, depois de\\nalgum tempo, interrompeu com estas palavras:\\n\\n\\x97 Que música triste!\\n\\n\\x97 Traduzo a minha alma, disse a viúva.\\n\\n\\x97 Anda triste?\\n\\n\\x97 Que lhe importam as minhas tristezas?\\n\\n\\x97 Tem razão, não me importam nada. Em\\ntodo o caso não é comigo?\\n\\nEmília levantou-se e foi para ele.\\n\\n\\x97 Acha que lhe hei de perdoar a desfeita\\nque me fez? disse ela.\\n\\n\\x97 Que desfeita, minha senhora?\\n\\n\\x97 A desfeita de não vir ao meu convite?\\n\\n\\x97 Mas eu já lhe expliquei...\\n\\n\\x97 Paciência! O que sinto é que também\\nnesse voltarete estivesse o marido de Adelaide.\\n\\n\\x97 Ele retirou-se às dez horas, e entrou\\num parceiro novo, que não era de todo mau.\\n\\n\\x97 Pobre Adelaide!\\n\\n\\x97 Mas se eu lhe digo que ele se retirou\\nàs dez horas...\\n\\n\\x97 Não devia ter ido. Devia pertencer\\nsempre à sua mulher. Sei que estou falando a um descrido; não pode calcular a\\nfelicidade e os deveres do lar doméstico. Viverem duas criaturas uma para\\noutra, confundidas, unificadas; pensar, aspirar, sonhar a mesma coisa; limitar\\no horizonte nos olhos de cada uma, sem outra ambição, sem inveja de mais nada.\\nSabe o que é isto?\\n\\n\\x97 Sei... É o casamento por fora.\\n\\n\\x97 Conheço alguém que lhe provava aquilo\\ntudo...\\n\\n\\x97 Deveras? Quem é essa fênix?\\n\\n\\x97 Se lho disser, há de mofar; não digo.\\n\\n\\x97 Qual mofar! Diga lá, eu sou curioso.\\n\\n\\x97 Não acredita que haja alguém que possa\\namá-lo?\\n\\n\\x97 Pode ser...\\n\\n\\x97 Não acredita que alguém, por despeito, por\\noutra coisa que seja, tire da originalidade do seu espírito os influxos de um\\namor verdadeiro, mui diverso do amor ordinário dos salões; um amor capaz de\\nsacrifício, capaz de tudo? Não acredita!\\n\\n\\x97 Se me afirma, acredito; mas...\\n\\n\\x97 Existe a pessoa e o amor.\\n\\n\\x97 São então duas fênix.\\n\\n\\x97 Não zombe. Existem... Procure...\\n\\n\\x97 Ah! isso há de ser mais difícil: não\\ntenho tempo. E suponha que achasse, de que me servia? Para mim é perfeitamente\\ninútil. Isso é bom para outros; para o Diogo, por exemplo...\\n\\n\\x97 Para o Diogo?\\n\\nA bela viúva pareceu ter um assomo de\\ncólera. Depois de um silêncio disse:\\n\\n\\x97 Adeus! Desculpe, estou incomodada.\\n\\n\\x97 Então, até amanhã!\\n\\nDizendo o que, Tito apertou a mão de\\nEmília e saiu tão alegre e descuidoso como se saísse de um jantar de anos.\\n\\nEmília, apenas ficou só, caiu numa\\ncadeira e cobriu o rosto.\\n\\nEstava nessa posição havia cinco minutos,\\nquando assomou à porta a figura do velho Diogo.\\n\\nO rumor que o velho fez entrando\\ndespertou a viúva.\\n\\n\\x97 Ainda aqui!\\n\\n\\x97 É verdade, minha senhora, disse Diogo\\naproximando-se, é verdade. Ainda aqui, por minha infelicidade...\\n\\n\\x97 Não entendo...\\n\\n\\x97 Não saí para casa. Um demônio oculto me\\nimpeliu para cometer um ato infame. Cometi-o, mas tirei dele um proveito; estou\\nsalvo. Sei que me não ama.\\n\\n\\x97 Ouviu?\\n\\n\\x97 Tudo. E percebi.\\n\\n\\x97 Que percebeu, meu caro senhor?\\n\\n\\x97 Percebi que a senhora ama o Tito.\\n\\n\\x97 Ah!\\n\\n\\x97 Retiro-me, portanto, mas não quero\\nfazê-lo sem que ao menos fique sabendo de que saio com ciência de que não sou amado;\\ne que saio antes de me mandarem embora.\\n\\nEmília ouviu as palavras de Diogo com a\\nmaior tranqüilidade. Enquanto ele falava teve tempo de refletir no que devia\\ndizer.\\n\\nDiogo estava já a fazer o seu último cumprimento,\\nquando a viúva lhe dirigiu a palavra.\\n\\n\\x97 Ouça-me, Sr. Diogo. Ouviu bem, mas\\npercebeu mal. Já que pretende ter sabido...\\n\\n\\x97 Já sei; vem dizer que há um plano\\nassentado de zombar com aquele moço...\\n\\n\\x97 Como sabe?\\n\\n\\x97 Disse-mo D. Adelaide.\\n\\n\\x97 É verdade.\\n\\n\\x97 Não creio.\\n\\n\\x97 Por quê?\\n\\n\\x97 Havia lágrimas nas suas palavras.\\nOuvi-as com a dor n\\x92alma. Se soubesse como eu sofria!\\n\\nA bela viúva não pôde deixar de sorrir ao\\ngesto cômico de Diogo. Depois, como ele parecesse mergulhado em meditação\\nsombria, disse:\\n\\n\\x97 Engana-se, tanto que volto para a\\ncidade.\\n\\n\\x97 Deveras?\\n\\n\\x97 Pois acredita que um homem como aquele\\npossa inspirar qualquer sentimento sério? Nem por sombras!\\n\\nEstas palavras foram ditas no tom com que\\nEmília costumava persuadir aquele eterno namorado. Isso e mais um sorriso, foi\\nquanto bastou para acalmar o ânimo de Diogo. Daí a alguns minutos estava ele\\nradiante.\\n\\n\\x97 Olhe, e para desenganá-lo de uma vez\\nvou escrever um bilhete ao Tito...\\n\\n\\x97 Eu mesmo o levarei, disse Diogo louco\\nde contente.\\n\\n\\x97 Pois sim!\\n\\n\\x97 Adeus, até amanhã. Tenha sonhos\\ncor-de-rosa, e desculpe os meus maus modos. Até amanhã.\\n\\nO velho beijou graciosamente a mão de\\nEmília e saiu.\\n\\nCAPÍTULO IV\\n\\nNo dia seguinte, ao meio-dia, Diogo\\napresentou-se ao Tito, e depois de falar sobre diferentes coisas, tirou do\\nbolso uma cartinha, que fingira ter esquecido até então, e a qual mostrava não\\ndar grande apreço.\\n\\n'Que bomba!' disse ele consigo,\\nna ocasião em que Tito rasgou a sobrecarta.\\n\\nEis o que dizia a carta:\\n\\nDei-lhe o meu coração. Não quis\\naceitá-lo, desprezou-o mesmo. A sua bota magoou-o demais para que ele possa\\npalpitar ainda. Está morto. Não o censuro; não se deve falar de luz aos cegos;\\na culpada fui eu. Supus que pudesse dar-lhe uma felicidade, recebendo outra.\\nEnganei-me.\\n\\nTem a glória de retirar-se com todas as\\nhonras de guerra. Eu é que fico vencida. Paciência! Pode zombar de mim; não lhe\\ncontesto o direito que tem para isso.\\n\\nEntretanto, devo dizer-lhe que eu bem o\\nconhecia; nunca lho disse, mas conhecia-o; desde o dia em que o vi pela\\nprimeira vez em casa de Adelaide, reconheci na sua pessoa o mesmo homem que um\\ndia veio atirar-se aos meus pés... Era zombaria então, como hoje. Eu já devia\\nconhecê-lo. Caro pago o meu engano. Adeus, adeus para sempre.\\n\\nLendo esta carta, Tito olhava repetidas\\nvezes para Diogo. Como é que o velho se prestara àquilo? Era autêntica ou\\napócrifa a tal carta? Sobre não trazer assinatura, tinha a letra disfarçada.\\nSeria uma arma de que o velho usara para descartar-se do rapaz? Mas, se fosse\\nassim, era preciso que ele soubesse do que se passara na véspera.\\n\\nTito releu a carta muitas vezes; e,\\ndespedindo-se do velho, disse-lhe que a resposta iria depois.\\n\\nDiogo retirou-se esfregando as mãos de\\ncontente.\\n\\nÉ que a carta cuja leitura os leitores\\nfizeram ao mesmo tempo que o nosso herói, não era a que Emília lera a Diogo. Na\\nminuta apresentada ao velho a viúva declarava simplesmente que se retirava para\\na Corte, e acrescentava que entre as recordações que levava de Petrópolis\\nfigurava Tito, pela figura que ela havia representado diante dele. Mas essa\\nminuta, por uma destreza puramente feminina, não foi a que Emília mandou a\\nTito, como viram os leitores.\\n\\nÀ carta de Emília respondeu Tito nos\\nseguintes termos:\\n\\nMinha senhora,\\n\\nLi e reli a sua carta; e não lhe\\nocultarei o sentimento de pesar que ela me inspirou. Realmente, minha senhora,\\né esse o estado do seu coração? Está assim tão perdido por mim?\\n\\nDiz Vossa Excelência que eu com a minha\\nbota machuquei o seu coração. Penaliza-me o fato, sem que eu entretanto o\\nconfirme. Não me lembra até hoje que tivesse feito estrago algum desta\\nnatureza. Mas, enfim, Vossa Excelência o diz, e eu devo crê-lo.\\n\\nLendo esta carta Vossa Excelência dirá\\nconsigo que eu sou o mais audaz cavalheiro que ainda pisou a terra de Santa\\nCruz. Será um engano de observação. Isto em mim não é audácia, é franqueza.\\nLastimo que as coisas chegassem a este ponto, mas não posso dizer-lhe nada mais\\nque a verdade.\\n\\nDevo confessar que não sei se a carta a\\nque respondo é de Vossa Excelência. A sua letra, de que eu já vi uma amostra no\\nálbum de D. Adelaide, não se parece com a da carta; está evidentemente\\ndisfarçada; é de qualquer mão. Demais, não traz assinatura.\\n\\nDigo isto porque a primeira dúvida que\\nnasceu em meu espírito proveio do portador escolhido. Pois quê? Vossa\\nExcelência não achou outro senão o próprio Diogo? Confesso que de tudo o que tenho\\nvisto em minha vida, é isto o que mais me faz rir.\\n\\nMas eu não devo rir, minha senhora. Vossa\\nExcelência abriu-me o seu coração de um modo que inspira antes compaixão. Esta\\ncompaixão não lhe é desairosa, porque não vem por sentido irônico. É pura e sincera.\\nSinto não poder dar-lhe essa felicidade que me pede; mas é assim.\\n\\nNão devo estender-me, contudo custa-me\\narrancar a pena de cima do papel. É que poucos terão a posição que eu ocupo\\nagora, a posição de requestado. Mas devo acabar e acabo aqui, mandando-lhe os\\nmeus pêsames e rogando a Deus para que encontre um coração menos frio que o\\nmeu.\\n\\nA letra vai disfarçada como a sua, e,\\ncomo na sua carta, deixo a assinatura em branco.\\n\\nEsta carta foi entregue à viúva na mesma\\ntarde. À noite, Azevedo e Adelaide foram visitá-la. Não puderam dissuadi-la da\\nidéia da viagem para a corte. Emília usou mesmo de uma certa reserva para com\\nAdelaide, que não pôde descobrir os motivos de semelhante procedimento, e\\nretirou-se um tanto triste.\\n\\nNo dia seguinte, com efeito, Emília e a\\ntia aprontaram-se e saíram para voltar para a corte.\\n\\nDiogo ficou em Petrópolis ainda, cuidando\\nem aprontar as malas... Não queria, dizia ele, que o público, vendo-o partir em\\ncompanhia das duas senhoras, supusesse coisas desairosas à viúva.\\n\\nTodos estes passos admiravam Adelaide,\\nque, como disse, via na insistência de Emília e nos seus modos reservados um\\nsegredo que não compreendia. Quereria ela por aquele meio de viagem atrair\\nTito? Nesse caso era cálculo errado; visto que o rapaz, naquele dia como nos\\noutros, acordou tarde e almoçou alegremente.\\n\\n\\x97 Sabe, disse Adelaide, que a esta hora\\ndeve ter partido para a cidade nossa amiga Emília?\\n\\n\\x97 Já tinha ouvido dizer.\\n\\n\\x97 Por que será?\\n\\n\\x97 Ah! isso é que eu não sei. Altos\\nsegredos do espírito de mulher! Por que sopra hoje a brisa deste lado e não\\ndaquele? Interessa-me tanto saber uma coisa como outra.\\n\\nNo fim do almoço Tito, como quase sempre,\\nretirou-se para ler durante duas horas.\\n\\nAdelaide ia dar algumas ordens quando viu\\ncom pasmo entrar-lhe em casa a viúva, acompanhada de um criado.\\n\\n\\x97 Ah! não partiste! disse Adelaide\\ncorrendo a abraçá-la.\\n\\n\\x97 Não me vês aqui?\\n\\nO criado saiu a um sinal de Emília.\\n\\n\\x97 Mas que há? perguntou a mulher de\\nAzevedo, vendo os modos estranhos da viúva.\\n\\n\\x97 Que há? disse esta. Há o que não\\nprevíamos... És quase minha irmã... posso falar francamente. Ninguém nos ouve?\\n\\n\\x97 Ernesto está fora e o Tito lá em cima.\\nMas que ar é esse?\\n\\n\\x97 Adelaide! disse Emília com os olhos\\nrasos de lágrimas, eu o amo!\\n\\n\\x97 Que me dizes?\\n\\n\\x97 Isto mesmo. Amo-o doidamente,\\nperdidamente, completamente. Procurei até agora vencer esta paixão, mas não\\npude; e quando, por vãos preconceitos, tratava de ocultar-lhe o estado do meu\\ncoração, não pude, as palavras saíram-me dos lábios insensivelmente...\\n\\n\\x97 Mas como se deu isto?\\n\\n\\x97 Eu sei! Parece que foi castigo; quis\\nfazer fogo e queimei-me nas mesmas chamas. Ah! não é de hoje que me sinto\\nassim. Desde que os seus desdéns em nada cederam, comecei a sentir não sei o\\nquê; ao princípio despeito, depois um desejo de triunfar, depois uma ambição de\\nceder tudo, contanto que tudo ganhasse; afinal não fui senhora de mim. Era eu\\nquem me sentia doidamente apaixonada e lho manifestava, por gestos, por\\npalavras, por tudo; e mais crescia nele a indiferença, mais crescia o amor em\\nmim.\\n\\n\\x97 Mas estás falando sério?\\n\\n\\x97 Olha antes para mim.\\n\\n\\x97 Quem pensara?...\\n\\n\\x97 A mim própria parece impossível; porém\\né mais que verdade...\\n\\n\\x97 E ele?...\\n\\n\\x97 Ele disse-me quatro palavras\\nindiferentes, nem sei o que foi, e retirou-se.\\n\\n\\x97 Resistirá?\\n\\n\\x97 Não sei.\\n\\n\\x97 Se eu adivinhara isto não te insinuaria\\nnaquela malfadada idéia.\\n\\n\\x97 Não me compreendeste. Cuidas que eu deploro\\no que acontece? Oh! não! sinto-me feliz, sinto-me orgulhosa... É um destes\\namores que brotam por si para encher a alma de satisfação: devo antes\\nabençoar-te...\\n\\n\\x97 É uma verdadeira paixão... Mas\\nacreditas impossível a conversão dele?\\n\\n\\x97 Não sei; mas seja ou não impossível,\\nnão é a conversão que eu peço; basta-me que seja menos indiferente e mais\\ncompassivo.\\n\\n\\x97 Mas que pretendes fazer? perguntou\\nAdelaide sentindo que as lágrimas também lhe rebentavam dos olhos.\\n\\nHouve alguns instantes de silêncio.\\n\\n\\x97 Mas o que tu não sabes, continuou\\nEmília, é que ele não é para mim um simples estranho. Já o conhecia antes de\\ncasada. Foi ele quem me pediu em casamento antes de Rafael...\\n\\n\\x97 Ah!\\n\\n\\x97 Sabias?\\n\\n\\x97 Ele já me havia contado a história, mas\\nnão nomeara a santa. Eras tu?\\n\\n\\x97 Era eu. Ambos nos conhecíamos, sem\\ndizermos nada um ao outro...\\n\\n\\x97 Por quê?\\n\\nA resposta a esta pergunta foi dada pelo\\npróprio Tito, que assomara à porta do interior. Tendo visto entrar a viúva de\\numa das janelas, Tito desceu abaixo a ouvir a conversa dela com Adelaide. A\\nestranheza que lhe causava a volta inesperada de Emília podia desculpar a\\nindiscrição do rapaz.\\n\\n\\x97 Por quê? repetiu ele. É o que lhes vou\\ndizer.\\n\\n\\x97 Mas antes de tudo, disse Adelaide, não\\nsei se sabe que uma indiferença, tão completa, como a sua, pode ser fatal a\\nquem lhe é menos indiferente?\\n\\n\\x97 Refere-se à sua amiga? perguntou Tito.\\nEu corto tudo com uma palavra.\\n\\nE voltando-se para Emília, disse,\\nestendendo-lhe a mão:\\n\\n\\x97 Aceita a minha mão de esposo?\\n\\nUm grito de alegria suprema ia saindo do\\npeito de Emília; mas não sei se um resto de orgulho, ou qualquer outro\\nsentimento, converteu essa manifestação em uma simples palavra, que aliás foi\\npronunciada com lágrimas na voz:\\n\\n\\x97 Sim! disse ela.\\n\\nTito beijou amorosamente a mão da viúva.\\nDepois acrescentou:\\n\\n\\x97 Mas é preciso medir toda a minha\\ngenerosidade; eu devia dizer: aceito a sua mão. Devia ou não devia? Sou um\\ntanto original e gosto de fazer inversão em tudo.\\n\\n\\x97 Pois sim; mas de um ou de outro modo\\nsou feliz. Contudo um remorso me surge na consciência. Dou-lhe uma felicidade\\ntão completa como a que recebo?\\n\\n\\x97 Remorso? Se é sujeita aos remorsos deve\\nter um, mas por motivo diverso. A senhora está passando neste momento pelas\\nforças caudinas. Fi-la sofrer, não? Ouvindo o que vou dizer concordará que eu\\njá antes sofria, e muito mais.\\n\\n\\x97 Temos romance? perguntou Adelaide a\\nTito.\\n\\n\\x97 Realidade, minha senhora, respondeu\\nTito, e realidade em prosa. Um dia, há já alguns anos, tive eu a felicidade de\\nver uma senhora, e amei-a. O amor foi tanto mais indomável quanto que me nasceu\\nde súbito. Era então mais ardente que hoje, não conhecia muito os usos do\\nmundo. Resolvi declarar-lhe a minha paixão e pedi-la em casamento. Tive em\\nresposta este bilhete...\\n\\n\\x97 Já sei, disse Emília. Essa senhora fui\\neu. Estou humilhada; perdão!\\n\\n\\x97 Meu amor lhe perdoa; nunca deixei de\\namá-la. Eu estava certo de encontrá-la um dia e procedi de modo a fazer-me o\\ndesejado.\\n\\n\\x97 Escreva isto e dirão que é um romance,\\ndisse alegremente Adelaide.\\n\\n\\x97 A vida não é outra coisa... acrescentou\\nTito,\\n\\nDaí a meia hora entrava Azevedo. Admirado\\nda presença de Emília quando a supunha a rodar no trem de ferro, e mais\\nadmirado ainda das maneiras cordiais por que se tratavam Tito e Emília, o\\nmarido de Adelaide inquiriu a causa disso.\\n\\n\\x97 A causa é simples, respondeu Adelaide;\\nEmília voltou porque vai casar-se com Tito.\\n\\nAzevedo não se deu por satisfeito;\\nexplicaram-lhe tudo.\\n\\n\\x97 Percebo, disse ele; Tito, não tendo alcançado\\nnada caminhando em linha reta, procurou ver se alcançava caminhando por linha\\ncurva. Às vezes é o caminho mais curto.\\n\\n\\x97 Como agora, acrescentou Tito.\\n\\nEmília jantou em casa de Adelaide. À\\ntarde apareceu ali o velho Diogo, que ia despedir-se porque devia partir para a\\ncorte no dia seguinte de manhã. Grande foi a sua admiração quando viu a viúva.\\n\\n\\x97 Voltou?\\n\\n\\x97 É verdade, respondeu Emília rindo.\\n\\n\\x97 Pois eu ia partir, mas já não parto.\\nAh! recebi uma carta da Europa: foi o capitão da galera Macedônia quem a\\ntrouxe! Chegou o urso!\\n\\n\\x97 Pois vá fazer-lhe companhia, respondeu\\nTito.\\n\\nDiogo fez uma careta. Depois, como\\ndesejasse saber o motivo da súbita volta da viúva, esta explicou-lhe que se ia\\ncasar com Tito.\\n\\nDiogo não acreditou.\\n\\n\\x97 É ainda um laço, não? disse ele\\npiscando os olhos.\\n\\nE não só não acreditou então, como não\\nacreditou daí em diante, apesar de tudo. Daí a alguns dias partiram todos para\\na corte. Diogo ainda se não convencia de nada. Mas, quando entrando um dia em\\ncasa de Emília viu a festa do noivado, o pobre velho não pôde negar a realidade\\ne sofreu um forte abalo. Todavia, teve ainda coração para assistir às festas do\\nnoivado. Azevedo e a mulher serviram de testemunhas.\\n\\nÉ preciso confessar, escrevia dois meses\\ndepois o feliz noivo ao esposo de Adelaide; - é preciso confessar que eu entrei\\nnum jogo arriscado. Podia perder; felizmente ganhei.\\n\\nFREI SIMÃO\\n\\nÍNDICE\\n\\nCAPÍTULO PRIMEIRO\\n\\nCAPÍTULO II\\n\\nCAPÍTULO III\\n\\nCAPÍTULO IV\\n\\nCAPÍTULO V\\n\\nCAPÍTULO PRIMEIRO\\n\\nFrei Simão era um frade da ordem dos\\nBeneditinos. Tinha, quando morreu, cinqüenta anos em aparência, mas na\\nrealidade trinta e oito. A causa desta velhice prematura derivava da que o\\nlevou ao claustro na idade de trinta anos, e, tanto quanto se pode saber por\\nuns fragmentos de memórias que ele deixou, a causa era justa.\\n\\nEra frei Simão de caráter taciturno e\\ndesconfiado. Passava dias inteiros na sua cela, donde apenas saía na hora do\\nrefeitório e dos ofícios divinos. Não contava amizade alguma no convento,\\nporque não era possível entreter com ele os preliminares que fundam e\\nconsolidam as afeições.\\n\\nEm um convento, onde a comunhão das almas\\ndeve ser mais pronta e mais profunda, frei Simão parecia fugir à regra geral.\\nUm dos noviços pôs-lhe alcunha de urso, que lhe ficou, mas só entre os\\nnoviços, bem entendido. Os frades professos, esses, apesar do desgosto que o\\ngênio solitário de frei Simão lhes inspirava, sentiam por ele certo respeito e\\nveneração.\\n\\nUm dia anuncia-se que frei Simão adoecera\\ngravemente. Chamaram-se os socorros e prestaram ao enfermo todos os cuidados\\nnecessários. A moléstia era mortal; depois de cinco dias frei Simão expirou.\\n\\nDurante estes cinco dias de moléstia, a\\ncela de frei Simão esteve cheia de frades. Frei Simão não disse uma palavra\\ndurante esses cinco dias; só no último, quando se aproximava o minuto fatal,\\nsentou-se no leito, fez chamar para mais perto o abade, e disse-lhe ao ouvido\\ncom voz sufocada e em tom estranho:\\n\\n\\x97 Morro odiando a humanidade!\\n\\nO abade recuou até a parede ao ouvir\\nestas palavras, e no tom em que foram ditas. Quanto a frei Simão, caiu sobre o\\ntravesseiro e passou à eternidade.\\n\\nDepois de feitas ao irmão finado as\\nhonras que se lhe deviam, a comunidade perguntou ao seu chefe que palavras\\nouvira tão sinistras que o assustaram. O abade referiu-as, persignando-se. Mas\\nos frades não viram nessas palavras senão um segredo do passado, sem dúvida\\nimportante, mas não tal que pudesse lançar o terror no espírito do abade. Este\\nexplicou-lhes a idéia que tivera quando ouviu as palavras de frei Simão, no tom\\nem que foram ditas, e acompanhadas do olhar com que o fulminou: acreditara que\\nfrei Simão estivesse doido; mais ainda, que tivesse entrado já doido para a\\nordem. Os hábitos da solidão e taciturnidade a que se votara o frade pareciam\\nsintomas de uma alienação mental de caráter brando e pacífico; mas durante oito\\nanos parecia impossível aos frades que frei Simão não tivesse um dia revelado\\nde modo positivo a sua loucura; objetaram isso ao abade; mas este persistia na\\nsua crença.\\n\\nEntretanto procedeu-se ao inventário dos\\nobjetos que pertenciam ao finado, e entre eles achou-se um rolo de papéis\\nconvenientemente enlaçados, com este rótulo:\\n\\nMemórias que há de escrever frei Simão de\\nSanta Águeda, frade beneditino.\\n\\nEste rolo de papéis foi um grande achado\\npara a comunidade curiosa. Iam finalmente penetrar alguma coisa no véu\\nmisterioso que envolvia o passado de frei Simão, e talvez confirmar as\\nsuspeitas do abade. O rolo foi aberto e lido para todos.\\n\\nEram, pela maior parte, fragmentos\\nincompletos, apontamentos truncados e notas insuficientes; mas de tudo junto\\npôde-se colher que realmente frei Simão estivera louco durante certo tempo.\\n\\nO autor desta narrativa despreza aquela\\nparte das Memórias que não tiver absolutamente importância; mas procura\\naproveitar a que for menos inútil ou menos obscura.\\n\\nCAPÍTULO II\\n\\nAs notas de frei Simão nada dizem do\\nlugar do seu nascimento nem do nome de seus pais. O que se pôde saber dos seus\\nprincípios é que, tendo concluído os estudos preparatórios, não pôde seguir a\\ncarreira das letras, como desejava, e foi obrigado a entrar como guarda-livros\\nna casa comercial de seu pai.\\n\\nMorava então em casa de seu pai uma prima\\nde Simão, órfã de pai e mãe, que haviam por morte deixado ao pai de Simão o\\ncuidado de a educarem e manterem. Parece que os cabedais deste deram para isto.\\nQuanto ao pai da prima órfã, tendo sido rico, perdera tudo ao jogo e nos azares\\ndo comércio, ficando reduzido à última miséria.\\n\\nA órfã chamava-se Helena; era bela, meiga\\ne extremamente boa. Simão, que se educara com ela, e juntamente vivia debaixo\\ndo mesmo teto, não pôde resistir às elevadas qualidades e à beleza de sua\\nprima. Amaram-se. Em seus sonhos de futuro contavam ambos o casamento, coisa\\nque parece mais natural do mundo para corações amantes.\\n\\nNão tardou muito que os pais de Simão\\ndescobrissem o amor dos dois. Ora é preciso dizer, apesar de não haver\\ndeclaração formal disto nos apontamentos do frade, é preciso dizer que os\\nreferidos pais eram de um egoísmo descomunal. Davam de boa vontade o pão da\\nsubsistência a Helena; mas lá casar o filho com a pobre órfã é que não podiam\\nconsentir. Tinham posto a mira em uma herdeira rica, e dispunham de si para si\\nque o rapaz se casaria com ela.\\n\\nUma tarde, como estivesse o rapaz a\\nadiantar a escrituração do livro mestre, entrou no escritório o pai com ar\\ngrave e risonho ao mesmo tempo, e disse ao filho que largasse o trabalho e o ouvisse.\\nO rapaz obedeceu. O pai falou assim:\\n\\n\\x97 Vais partir para a província de ***.\\nPreciso mandar umas cartas ao meu correspondente Amaral, e como sejam elas de\\ngrande importância, não quero confiá-las ao nosso desleixado correio. Queres ir\\nno vapor ou preferes o nosso brigue?\\n\\nEsta pergunta era feita com grande tino.\\n\\nObrigado a responder-lhe, o velho\\ncomerciante não dera lugar que seu filho apresentasse objeções.\\n\\nO rapaz enfiou, abaixou os olhos e\\nrespondeu:\\n\\n\\x97 Vou onde meu pai quiser.\\n\\nO pai agradeceu mentalmente a submissão\\ndo filho, que lhe poupava o dinheiro da passagem no vapor, e foi muito contente\\ndar parte à mulher de que o rapaz não fizera objeção alguma.\\n\\nNessa noite os dois amantes tiveram\\nocasião de encontrar-se sós na sala de jantar.\\n\\nSimão contou a Helena o que se passara.\\nChoraram ambos algumas lágrimas furtivas, e ficaram na esperança de que a\\nviagem fosse de um mês, quando muito.\\n\\nÀ mesa do chá, o pai de Simão conversou\\nsobre a viagem do rapaz, que devia ser de poucos dias. Isto reanimou as\\nesperanças dos dois amantes. O resto da noite passou-se em conselhos da parte\\ndo velho ao filho sobre a maneira de portar-se na casa do correspondente. Às\\ndez horas, como de costume, todos se recolheram aos aposentos.\\n\\nOs dias passaram-se depressa. Finalmente\\nraiou aquele em que devia partir o brigue. Helena saiu de seu quarto com os\\nolhos vermelhos de chorar. Interrogada bruscamente pela tia, disse que era uma\\ninflamação adquirida pelo muito que lera na noite anterior. A tia prescreveu-lhe\\nabstenção da leitura e banhos de água de malvas.\\n\\nQuanto ao tio, tendo chamado Simão,\\nentregou-lhe uma carta para o correspondente, e abraçou-o. A mala e um criado\\nestavam prontos. A despedida foi triste. Os dois pais sempre choraram alguma\\ncoisa, a rapariga muito.\\n\\nQuanto a Simão, levava os olhos secos e\\nardentes. Era refratário às lágrimas, por isso mesmo padecia mais.\\n\\nO brigue partiu. Simão, enquanto pôde ver\\nterra, não se retirou de cima; quando finalmente se fecharam de todo as paredes\\ndo cárcere que anda, na frase pitoresca de Ribeyrolles, Simão desceu ao seu\\ncamarote, triste e com o coração apertado. Havia como um pressentimento que lhe\\ndizia interiormente ser impossível tornar a ver sua prima. Parecia que ia para\\num degredo.\\n\\nChegando ao lugar do seu destino,\\nprocurou Simão o correspondente de seu pai e entregou-lhe a carta. O Sr. Amaral\\nleu a carta, fitou o rapaz e, depois de algum silêncio, disse-lhe, volvendo a\\ncarta:\\n\\n\\x97 Bem, agora é preciso esperar que eu\\ncumpra esta ordem de seu pai. Entretanto venha morar para a minha casa.\\n\\n\\x97 Quando poderei voltar? perguntou Simão.\\n\\n\\x97 Em poucos dias, salvo se as coisas se\\ncomplicarem.\\n\\nEste salvo, posto na boca de\\nAmaral como incidente, era a oração principal. A carta do pai de Simão versava\\nassim:\\n\\nMeu caro Amaral,\\n\\nMotivos ponderosos me obrigam a mandar\\nmeu filho desta cidade. Retenha-o por lá como puder. O pretexto da viagem é ter\\neu necessidade de ultimar alguns negócios com você, o que dirá ao pequeno,\\nfazendo-lhe sempre crer que a demora é pouca ou nenhuma. Você, que teve na sua\\nadolescência a triste idéia de engendrar romances, vá inventando circunstâncias\\ne ocorrências imprevistas, de modo que o rapaz não me torne cá antes de segunda\\nordem. Sou, como sempre, etc.\\n\\nCAPÍTULO III\\n\\nPassaram-se dias e dias, e nada de chegar\\no momento de voltar à casa paterna. O ex-romancista era na verdade fértil, e\\nnão se cansava de inventar pretextos que deixavam convencido o rapaz.\\n\\nEntretanto, como o espírito dos amantes\\nnão é menos engenhoso que o dos romancistas, Simão e Helena acharam meio de se\\nescreverem, e deste modo podiam consolar-se da ausência, com presença das\\nletras e do papel. Bem diz Heloísa que a arte de escrever foi inventada por\\nalguma amante separada do seu amante. Nestas cartas juravam-se os dois sua\\neterna fidelidade.\\n\\nNo fim de dois meses de espera baldada e\\nde ativa correspondência, a tia de Helena surpreendeu uma carta de Simão. Era a\\nvigésima, creio eu. Houve grande temporal em casa. O tio, que estava no\\nescritório, saiu precipitadamente e tomou conhecimento do negócio. O resultado\\nfoi proscrever de casa tinta, penas e papel, e instituir vigilância rigorosa\\nsobre a infeliz rapariga.\\n\\nComeçaram pois a escassear as cartas ao\\npobre deportado. Inquiriu a causa disto em cartas choradas e compridas; mas\\ncomo o rigor fiscal da casa de seu pai adquiria proporções descomunais,\\nacontecia que todas as cartas de Simão iam parar às mãos do velho, que, depois\\nde apreciar o estilo amoroso de seu filho, fazia queimar as ardentes epístolas.\\n\\nPassaram-se dias e meses. Carta de\\nHelena, nenhuma. O correspondente ia esgotando a veia inventadora, e já não\\nsabia como reter finalmente o rapaz.\\n\\nChega uma carta a Simão. Era letra do\\npai. Só diferençava das outras que recebia do velho em ser esta mais longa,\\nmuito mais longa. O rapaz abriu a carta, e leu trêmulo e pálido. Contava nesta\\ncarta o honrado comerciante que a Helena, a boa rapariga que ele destinava a\\nser sua filha casando-se com Simão, a boa Helena tinha morrido. O velho copiara\\nalgum dos últimos necrológios que vira nos jornais, e ajuntara algumas\\nconsolações de casa. A última consolação foi dizer-lhe que embarcasse e fosse\\nter com ele.\\n\\nO período final da carta dizia:\\n\\nAssim como assim, não se realizam os meus\\nnegócios; não te pude casar com Helena, visto que Deus a levou. Mas volta,\\nfilho, vem; poderás consolar-te casando com outra, a filha do conselheiro ***.\\nEstá moça feita e é um bom partido. Não te desalentes; lembra-te de mim.\\n\\nO pai de Simão não conhecia bem o amor do\\nfilho, nem era grande águia para avaliá-lo, ainda que o conhecesse. Dores tais\\nnão se consolam com uma carta nem com um casamento. Era melhor mandá-lo chamar,\\ne depois preparar- lhe a notícia; mas dada assim friamente em uma carta, era\\nexpor o rapaz a uma morte certa.\\n\\nFicou Simão vivo em corpo e morto\\nmoralmente, tão morto que por sua própria idéia foi dali procurar uma\\nsepultura. Era melhor dar aqui alguns dos papéis escritos por Simão\\nrelativamente ao que sofreu depois da carta; mas há muitas falhas, e eu não\\nquero corrigir a exposição ingênua e sincera do frade.\\n\\nA sepultura que Simão escolheu foi um\\nconvento. Respondeu ao pai que agradecia a filha do conselheiro, mas que daquele\\ndia em diante pertencia ao serviço de Deus.\\n\\nO pai ficou maravilhado. Nunca suspeitou\\nque o filho pudesse vir a ter semelhante resolução. Escreveu às pressas para\\nver se o desviava da idéia; mas não pôde conseguir.\\n\\nQuanto ao correspondente, para quem tudo\\nse embrulhava cada vez mais, deixou o rapaz seguir para o claustro, disposto a\\nnão figurar em um negócio do qual nada realmente sabia.\\n\\nCAPÍTULO IV\\n\\nFrei Simão de Santa Águeda foi obrigado a\\nir à província natal em missão religiosa, tempos depois dos fatos que acabo de\\nnarrar.\\n\\nPreparou-se e embarcou.\\n\\nA missão não era na capital, mas no\\ninterior. Entrando na capital, pareceu-lhe dever ir visitar seus pais. Estavam\\nmudados física e moralmente. Era com certeza a dor e o remorso de terem\\nprecipitado seu filho à resolução que tomou. Tinham vendido a casa comercial e\\nviviam de suas rendas.\\n\\nReceberam o filho com alvoroço e\\nverdadeiro amor. Depois das lágrimas e das consolações, vieram ao fim da viagem\\nde Simão.\\n\\n\\x97 A que vens tu, meu filho?\\n\\n\\x97 Venho cumprir uma missão do sacerdócio\\nque abracei. Venho pregar, para que o rebanho do Senhor não se arrede nunca do\\nbom caminho.\\n\\n\\x97 Aqui na capital?\\n\\n\\x97 Não, no interior. Começo pela vila de\\n***.\\n\\nOs dois velhos estremeceram; mas Simão\\nnada viu. No dia seguinte partiu Simão, não sem algumas instâncias de seus pais\\npara que ficasse. Notaram eles que seu filho nem de leve tocara em Helena.\\nTambém eles não quiseram magoá-lo falando em tal assunto.\\n\\nDaí a dias, na vila de que falara frei\\nSimão, era um alvoroço para ouvir as prédicas do missionário.\\n\\nA velha igreja do lugar estava atopetada\\nde povo.\\n\\nÀ hora anunciada, frei Simão subiu ao\\npúlpito e começou o discurso religioso. Metade do povo saiu aborrecido no meio\\ndo sermão. A razão era simples. Avezado à pintura viva dos caldeirões de Pedro\\nBotelho e outros pedacinhos de ouro da maioria dos pregadores, o povo não podia\\nouvir com prazer a linguagem simples, branda, persuasiva, a que serviam de\\nmodelo as conferências do fundador da nossa religião.\\n\\nO pregador estava a terminar, quando\\nentrou apressadamente na igreja um par, marido e mulher: ele, honrado lavrador,\\nmeio remediado com o sítio que possuía e a boa vontade de trabalhar; ela,\\nsenhora estimada por suas virtudes, mas de uma melancolia invencível.\\n\\nDepois de tomarem água benta, colocam-se\\nambos em lugar donde pudessem ver facilmente o pregador.\\n\\nOuviu-se então um grito, e todos correram\\npara a recém-chegada, que acabava de desmaiar. Frei Simão teve de parar o seu\\ndiscurso, enquanto se punha termo ao incidente. Mas, por uma aberta que a turba\\ndeixava, pôde ele ver o rosto da desmaiada.\\n\\nEra Helena.\\n\\nNo manuscrito do frade há uma série de\\nreticências dispostas em oito linhas. Ele próprio não sabe o que se passou. Mas\\no que se passou foi que, mal conhecera Helena, continuou o frade o discurso.\\nEra então outra coisa: era um discurso sem nexo, sem assunto, um verdadeiro\\ndelírio. A consternação foi geral.\\n\\nCAPÍTULO V\\n\\nO delírio de frei Simão durou alguns\\ndias. Graças aos cuidados, pôde melhorar, e pareceu a todos que estava bom,\\nmenos ao médico, que queria continuar a cura. Mas o frade disse positivamente\\nque se retirava ao convento, e não houve forças humanas que o detivessem.\\n\\nO leitor compreende naturalmente que o\\ncasamento de Helena fora obrigado pelos tios.\\n\\nA pobre senhora não resistiu à comoção.\\nDois meses depois morreu, deixando inconsolável o marido, que a amava com\\nveras.\\n\\nFrei Simão, recolhido ao convento,\\ntornou-se mais solitário e taciturno. Restava-lhe ainda um pouco da alienação.\\n\\nJá conhecemos o acontecimento de sua\\nmorte e a impressão que ela causara ao abade.\\n\\nA cela de frei Simão de Santa Águeda\\nesteve muito tempo religiosamente fechada. Só se abriu, algum tempo depois,\\npara dar entrada a um velho secular, que por esmola alcançou do abade acabar os\\nseus dias na convivência dos médicos da alma. Era o pai de Simão. A mãe tinha\\nmorrido.\\n\\nFoi crença, nos últimos anos de vida\\ndeste velho, que ele não estava menos doido que frei Simão de Santa Águeda.\\n\\nFIM\\n\""
            ]
          },
          "metadata": {
            "tags": []
          },
          "execution_count": 57
        }
      ]
    },
    {
      "cell_type": "markdown",
      "metadata": {
        "id": "95CCG8lhMdUB"
      },
      "source": [
        "O método ''machado_sents()'' retorna todo o texto quebrado pelas setenças e já tokenizado.\n",
        "\n",
        "As sentenças são separadas pelo \"\\n\". Dentro de cada sentença, divide os tokens separadas pelo espaço."
      ]
    },
    {
      "cell_type": "code",
      "metadata": {
        "id": "AdTbDs4rXJRj",
        "colab": {
          "base_uri": "https://localhost:8080/",
          "height": 68
        },
        "outputId": "74f40229-51b5-48d2-f86c-b4a3b4aa3ecc"
      },
      "source": [
        "import nltk\n",
        "nltk.download('punkt')"
      ],
      "execution_count": null,
      "outputs": [
        {
          "output_type": "stream",
          "text": [
            "[nltk_data] Downloading package punkt to /root/nltk_data...\n",
            "[nltk_data]   Package punkt is already up-to-date!\n"
          ],
          "name": "stdout"
        },
        {
          "output_type": "execute_result",
          "data": {
            "text/plain": [
              "True"
            ]
          },
          "metadata": {
            "tags": []
          },
          "execution_count": 58
        }
      ]
    },
    {
      "cell_type": "code",
      "metadata": {
        "id": "MFjN07rvMdUC",
        "colab": {
          "base_uri": "https://localhost:8080/",
          "height": 34
        },
        "outputId": "1d320971-e6cc-485d-b050-6698e0de44dd"
      },
      "source": [
        "machado_sents = machado.sents()\n",
        "print(machado_sents)"
      ],
      "execution_count": null,
      "outputs": [
        {
          "output_type": "stream",
          "text": [
            "[['Conto', ',', 'Contos', 'Fluminenses', ',', '1870'], ['Contos', 'Fluminenses'], ...]\n"
          ],
          "name": "stdout"
        }
      ]
    },
    {
      "cell_type": "code",
      "metadata": {
        "id": "kZfucafwXifP",
        "colab": {
          "base_uri": "https://localhost:8080/",
          "height": 34
        },
        "outputId": "b84d709f-6aec-48c3-f98d-929a8e23a74c"
      },
      "source": [
        "len(machado_sents)"
      ],
      "execution_count": null,
      "outputs": [
        {
          "output_type": "execute_result",
          "data": {
            "text/plain": [
              "200559"
            ]
          },
          "metadata": {
            "tags": []
          },
          "execution_count": 60
        }
      ]
    },
    {
      "cell_type": "markdown",
      "metadata": {
        "id": "rw0GWniXMdUJ"
      },
      "source": [
        "Vamos relizar um pré-processamento mínimo nos dados. Lembrando que: o pré-processamento é impotatíssimo no resultado final.\n",
        "\n",
        "<b> Atividade </b>\n",
        "\n",
        "17) Aplique as técnicas abaixo no documento <b> machado_sents</b>: \n",
        "\n",
        "- lower\n",
        "- remoção pontuações"
      ]
    },
    {
      "cell_type": "code",
      "metadata": {
        "id": "v7uwThZ_MdUK",
        "colab": {
          "base_uri": "https://localhost:8080/",
          "height": 51
        },
        "outputId": "1a770323-3d27-4e85-dc60-33a0f3a613d9"
      },
      "source": [
        "%%time\n",
        "text_preproc =[[word.lower() for word in sentences if word not in string.punctuation ] for sentences in machado_sents]"
      ],
      "execution_count": null,
      "outputs": [
        {
          "output_type": "stream",
          "text": [
            "CPU times: user 10.1 s, sys: 203 ms, total: 10.3 s\n",
            "Wall time: 10.3 s\n"
          ],
          "name": "stdout"
        }
      ]
    },
    {
      "cell_type": "markdown",
      "metadata": {
        "id": "oswsk8NJMdUP"
      },
      "source": [
        "<b> Treinando o embedding </b> \n",
        "\n",
        "Para treinar os embeddings existem alguns parâmetros, vide exemplo abaixo:\n",
        "\n",
        "```python\n",
        "#Alguns parâmetros:\n",
        "## size -> dimensão vetor\n",
        "## min_count -> ignora todas palavras cuja frequência mínima é menor que este\n",
        "## workers -> quantas threads serão utilizadas para treinar o modelo\n",
        "## seed -> seed para geração do numero aleatório. \n",
        "## sg -> 1 para skip-gram; caso contrário CBOW.\n",
        "## window -> contexto, Distância máxima entre a palavra atual e a prevista em uma frase. O default é 5.\n",
        "model = word2vec.Word2Vec(text_preproc, min_count=10, workers=4, seed=123, sg=1, size=300, window=5)\n",
        "```\n",
        "\n",
        "<b> Atividade </b>\n",
        "\n",
        "18) Gere os embeddings com o texto processado do documento de Machado de Assis.\n"
      ]
    },
    {
      "cell_type": "code",
      "metadata": {
        "id": "1NyH9AS-MdUQ",
        "colab": {
          "base_uri": "https://localhost:8080/",
          "height": 51
        },
        "outputId": "7dc8cd56-24a3-47d2-e644-d58c5db5635d"
      },
      "source": [
        "%%time\n",
        "# Alguns parâmetros:\n",
        "## size -> dimensão vetor\n",
        "## min_count -> ignora todas palavras cuja frequência mínima é menor que este\n",
        "## workers -> quantas threads serão utilizadas para treinar o modelo\n",
        "## seed -> seed para geração do numero aleatório. \n",
        "## sg -> 1 para skip-gram; caso contrário CBOW.\n",
        "## window -> contexto, Distância máxima entre a palavra atual e a prevista em uma frase. O default é 5.\n",
        "model = word2vec.Word2Vec(text_preproc, min_count=10, workers=4, seed=123, sg=1, size=300, window=5)"
      ],
      "execution_count": null,
      "outputs": [
        {
          "output_type": "stream",
          "text": [
            "CPU times: user 2min 13s, sys: 246 ms, total: 2min 14s\n",
            "Wall time: 1min 10s\n"
          ],
          "name": "stdout"
        }
      ]
    },
    {
      "cell_type": "markdown",
      "metadata": {
        "id": "Bl9wgOkzMdUU"
      },
      "source": [
        "\n",
        "<b> Atividade </b>\n",
        "\n",
        "19) Faça os itens abaixo:\n",
        "\n",
        "- Verifique o vetor de embeddings da variável \"dom\"\n",
        "- Verifique a similaridade entre \"mulher\" e \"homem\"\n",
        "- Verifique a similaridade entre \"dom\" e \"casmurro\""
      ]
    },
    {
      "cell_type": "code",
      "metadata": {
        "id": "4NsalWifMdUV",
        "colab": {
          "base_uri": "https://localhost:8080/",
          "height": 34
        },
        "outputId": "91f0f4c8-b8d9-40d4-add0-a3a636878758"
      },
      "source": [
        "model[\"dom\"].shape"
      ],
      "execution_count": null,
      "outputs": [
        {
          "output_type": "execute_result",
          "data": {
            "text/plain": [
              "(300,)"
            ]
          },
          "metadata": {
            "tags": []
          },
          "execution_count": 63
        }
      ]
    },
    {
      "cell_type": "code",
      "metadata": {
        "id": "8HeuZi1_Zs4i",
        "colab": {
          "base_uri": "https://localhost:8080/",
          "height": 34
        },
        "outputId": "fef97288-212a-4cc3-ddee-1bb272927729"
      },
      "source": [
        "model.wv.similarity('mulher', 'homem')"
      ],
      "execution_count": null,
      "outputs": [
        {
          "output_type": "execute_result",
          "data": {
            "text/plain": [
              "0.41707802"
            ]
          },
          "metadata": {
            "tags": []
          },
          "execution_count": 64
        }
      ]
    },
    {
      "cell_type": "code",
      "metadata": {
        "id": "tVMwb71qaFv5",
        "colab": {
          "base_uri": "https://localhost:8080/",
          "height": 34
        },
        "outputId": "a2ac67ba-e20f-4cc0-d1a7-26716a9eea73"
      },
      "source": [
        "model.wv.similarity('dom', 'casmurro')"
      ],
      "execution_count": null,
      "outputs": [
        {
          "output_type": "execute_result",
          "data": {
            "text/plain": [
              "0.6473904"
            ]
          },
          "metadata": {
            "tags": []
          },
          "execution_count": 65
        }
      ]
    },
    {
      "cell_type": "markdown",
      "metadata": {
        "id": "khHZsHyZMdUc"
      },
      "source": [
        "<b> Salvando o modelo</b>"
      ]
    },
    {
      "cell_type": "code",
      "metadata": {
        "id": "pz05xpcWMdUd"
      },
      "source": [
        "model.wv.save_word2vec_format('model_emb_treinado.bin', binary=True)"
      ],
      "execution_count": null,
      "outputs": []
    },
    {
      "cell_type": "markdown",
      "metadata": {
        "id": "EqUG0t3LMdUj"
      },
      "source": [
        "<b> Atividade </b>\n",
        "\n",
        "Dada as seguintes palavras:\n",
        "\n",
        "foi, relógio, amor, raiva, brasil.\n",
        "\n",
        "20) Escreva um método que retorne uma lista com as 5 palavras similares de cada uma das listadas anteriormente.\n",
        "Imprima a lista das palavras similares, incluindo a palavra origem."
      ]
    },
    {
      "cell_type": "code",
      "metadata": {
        "id": "QNEBB7-6MdUl"
      },
      "source": [
        "def get_most_similar(modelo, word, max_n):\n",
        "  words_similares = modelo.most_similar(word, topn = max_n)\n",
        "  words = [w[0] for w in words_similares]\n",
        "  words.append(word)\n",
        "  return words"
      ],
      "execution_count": null,
      "outputs": []
    },
    {
      "cell_type": "code",
      "metadata": {
        "id": "Ha9XtexdbMiC"
      },
      "source": [
        "words_seed = [\"foi\", \"relógio\", \"amor\", \"raiva\", \"brasil\"]"
      ],
      "execution_count": null,
      "outputs": []
    },
    {
      "cell_type": "code",
      "metadata": {
        "id": "MvlgnO5MbVcn",
        "colab": {
          "base_uri": "https://localhost:8080/",
          "height": 102
        },
        "outputId": "5b219308-7c91-4a6d-a8ac-451e7c8ba92a"
      },
      "source": [
        "for w in words_seed:\n",
        "  print(get_most_similar(model, w, 5))"
      ],
      "execution_count": null,
      "outputs": [
        {
          "output_type": "stream",
          "text": [
            "['serviu', 'fui', 'correu', 'seguiu', 'obteve', 'foi']\n",
            "['revólver', 'sapato', 'embrulho', 'xale', 'paletó', 'relógio']\n",
            "['ciúme', 'afeto', 'orgulho', 'paixão', 'arrependimento', 'amor']\n",
            "['impaciência', 'morder', 'irritação', 'súplica', 'brandamente', 'raiva']\n",
            "['município', 'méxico', 'distrito', 'império', 'paraguai', 'brasil']\n"
          ],
          "name": "stdout"
        }
      ]
    },
    {
      "cell_type": "markdown",
      "metadata": {
        "id": "iGpTFt7nMdUr"
      },
      "source": [
        "### Visualização"
      ]
    },
    {
      "cell_type": "markdown",
      "metadata": {
        "id": "Rsz6b50fMdUs"
      },
      "source": [
        "Para a visualização dos embeddings iremos  construir um array com todas as palavras retornadas anteriormente.\n",
        "\n",
        "<b> Atividade </b>\n",
        "\n",
        "21) Primeiro, gere uma única lista com todas as palavras retornadas anteriomente. O array deve ter tamanho 30."
      ]
    },
    {
      "cell_type": "code",
      "metadata": {
        "id": "2k-NF5DaMdUt"
      },
      "source": [
        "all_words = []\n",
        "for w in words_seed:\n",
        "  all_words.extend(get_most_similar(model, w, 5))"
      ],
      "execution_count": null,
      "outputs": []
    },
    {
      "cell_type": "code",
      "metadata": {
        "id": "VPU--236cJzS",
        "colab": {
          "base_uri": "https://localhost:8080/",
          "height": 34
        },
        "outputId": "5eae7f22-c0eb-4324-94d4-1e6e979d42b3"
      },
      "source": [
        "len(all_words)"
      ],
      "execution_count": null,
      "outputs": [
        {
          "output_type": "execute_result",
          "data": {
            "text/plain": [
              "30"
            ]
          },
          "metadata": {
            "tags": []
          },
          "execution_count": 71
        }
      ]
    },
    {
      "cell_type": "markdown",
      "metadata": {
        "id": "veKjoHfSMdU5"
      },
      "source": [
        "22) Gere um array com todos os embeddings das palavras anteriores. Este terá dimensão (30,300)"
      ]
    },
    {
      "cell_type": "code",
      "metadata": {
        "id": "PbvMKXLmMdU6",
        "colab": {
          "base_uri": "https://localhost:8080/",
          "height": 34
        },
        "outputId": "56e30c72-e71c-46cb-d7b3-c5c2806ee447"
      },
      "source": [
        "array_embeddings = np.empty((0,300), dtype='f')\n",
        "for w in all_words:\n",
        "  array_embeddings =  np.append(array_embeddings, np.array([model[w]]), axis = 0)\n",
        "print(array_embeddings.shape)"
      ],
      "execution_count": null,
      "outputs": [
        {
          "output_type": "stream",
          "text": [
            "(30, 300)\n"
          ],
          "name": "stdout"
        }
      ]
    },
    {
      "cell_type": "markdown",
      "metadata": {
        "id": "sJmCHiK3MdU9"
      },
      "source": [
        "<b>Dica: </b> Use a função abaixo para plotar o array 2D que será gerado com o método PCA, TSNE e UMAP"
      ]
    },
    {
      "cell_type": "code",
      "metadata": {
        "id": "6wxtuUNWMdU-"
      },
      "source": [
        "def plot_embedding_2d(array_2d, all_words, words_seed):\n",
        "    fig, ax = plt.subplots(1, 1, figsize=(12, 8))\n",
        "    for (x, y), w in zip(pca_result, all_words):\n",
        "        ax.scatter(x, y, c='red' if w in words_seed else 'blue')\n",
        "        ax.annotate(w,\n",
        "                     xy=(x, y),\n",
        "                     xytext=(5, 2),\n",
        "                     textcoords='offset points',\n",
        "                     ha='right',\n",
        "                     va='bottom')"
      ],
      "execution_count": null,
      "outputs": []
    },
    {
      "cell_type": "markdown",
      "metadata": {
        "id": "qATHKSu5MdVD"
      },
      "source": [
        "#### PCA\n",
        "\n",
        "<b> É uma ténica que existe a mais de século. É rápido, determinístico e linear. Essa linearidade limita sua utilidade em domínios complexos, como linguagem natural ou imagens, onde a estrutura não linear. </b>\n",
        "\n",
        "Mais informações: https://medium.com/towards-artificial-intelligence/machine-learning-dimensionality-reduction-via-principal-component-analysis-1bdc77462831\n",
        "\n",
        "\n",
        "<b> Atividade </b>\n",
        "\n",
        "23) Gere a visualização dos embeddings anteriores utilizando o PCA para reduzir a dimensionalidade.\n",
        "\n",
        "Exemplo do PCA:\n",
        "\n",
        "```python\n",
        "#uso de PCA\n",
        "pca = PCA(n_components=2)\n",
        "pca_result = pca.fit_transform(array_embeddings)\n",
        "```"
      ]
    },
    {
      "cell_type": "code",
      "metadata": {
        "id": "blsxrot8MdVE"
      },
      "source": [
        "pca = PCA(n_components=2)"
      ],
      "execution_count": null,
      "outputs": []
    },
    {
      "cell_type": "code",
      "metadata": {
        "id": "4dytTWuaaTmn"
      },
      "source": [
        "pca_result = pca.fit_transform(array_embeddings)"
      ],
      "execution_count": null,
      "outputs": []
    },
    {
      "cell_type": "code",
      "metadata": {
        "id": "H6TZRYkgd8GY",
        "colab": {
          "base_uri": "https://localhost:8080/",
          "height": 483
        },
        "outputId": "5320bb88-20c4-4b88-c692-49e80e3b5bb6"
      },
      "source": [
        "plot_embedding_2d(pca_result, all_words, words_seed)"
      ],
      "execution_count": null,
      "outputs": [
        {
          "output_type": "display_data",
          "data": {
            "image/png": "[encoded data removed]",
            "text/plain": [
              "<Figure size 864x576 with 1 Axes>"
            ]
          },
          "metadata": {
            "tags": [],
            "needs_background": "light"
          }
        }
      ]
    },
    {
      "cell_type": "markdown",
      "metadata": {
        "id": "40udJCqFMdVO"
      },
      "source": [
        "#### TSNE\n",
        "<b> Uma técnica mais recente que captura estrutura não linear é o t-SNE, que significa distribuição estocástica de embedding viziznhos em t ( t-distributed Stochastic Neighbor Embedding). \n",
        "É uma ótima técnica para capturar a estrutura não linear em dados de alta dimensão(pelo menos em nível local). Isto é, dois pontos que são próximos no espaço de alta dimensão a probabilidade de estarem próximos em uma dimensão baixa é alta. </b>\n",
        "\n",
        "Mais informações: https://medium.com/@garora039/dimensionality-reduction-using-t-sne-effectively-cabb2cd519b\n",
        "\n",
        "<b> Atividade </b>\n",
        "\n",
        "24) Gere a visualização dos embeddings anteriores utilizando o TSNE para reduzir a dimensionalidade.\n",
        "\n",
        "Exemplo do TSNE:\n",
        "\n",
        "```python\n",
        "#uso de TSNE\n",
        "tsne = TSNE(n_components=2, random_state=0)\n",
        "tsne_result =  tsne.fit_transform(array_embeddings)\n",
        "```"
      ]
    },
    {
      "cell_type": "code",
      "metadata": {
        "id": "QvSWY6dZMdVO"
      },
      "source": [
        "tsne = TSNE(n_components=2, random_state=0)\n"
      ],
      "execution_count": null,
      "outputs": []
    },
    {
      "cell_type": "code",
      "metadata": {
        "id": "Mz2k38PQdIOz"
      },
      "source": [
        "tsne_result =  tsne.fit_transform(array_embeddings)"
      ],
      "execution_count": null,
      "outputs": []
    },
    {
      "cell_type": "code",
      "metadata": {
        "id": "3Ns7TCzGeNla",
        "colab": {
          "base_uri": "https://localhost:8080/",
          "height": 483
        },
        "outputId": "cddf2555-1262-452e-9b64-89a81566b5a8"
      },
      "source": [
        "plot_embedding_2d(tsne_result, all_words, words_seed)"
      ],
      "execution_count": null,
      "outputs": [
        {
          "output_type": "display_data",
          "data": {
            "image/png": "[encoded data removed]",
            "text/plain": [
              "<Figure size 864x576 with 1 Axes>"
            ]
          },
          "metadata": {
            "tags": [],
            "needs_background": "light"
          }
        }
      ]
    },
    {
      "cell_type": "markdown",
      "metadata": {
        "id": "7H-hkDclMdVS"
      },
      "source": [
        "#### UMAP\n",
        "\n",
        "<b> Técnica super nova!! Foi lançada em 2018! Observe que o resultado do UMAP com o TSNE é semelhante. Mas existem várias vantagens do UMAP, por exemplo: é mais rápido que o t-SNE; ele captura melhor a estrutura global </b>\n",
        "\n",
        "Mais informações: https://medium.com/@dan.allison/dimensionality-reduction-with-umap-b081837354dd\n",
        "\n",
        "<b> Atividade </b>\n",
        "\n",
        "25) Gere a visualização dos embeddings anteriores utilizando o UMAP para reduzir a dimensionalidade.\n",
        "\n",
        "Exemplo do UMAP:\n",
        "\n",
        "```python\n",
        "#uso de TSNE\n",
        "umap = umap.UMAP()\n",
        "umap_result =  umap.fit_transform(array_embeddings)\n",
        "```"
      ]
    },
    {
      "cell_type": "code",
      "metadata": {
        "id": "zs86CBqWMdVT"
      },
      "source": [
        "umap = umap.UMAP()"
      ],
      "execution_count": null,
      "outputs": []
    },
    {
      "cell_type": "code",
      "metadata": {
        "id": "wUGFXTuDdMx1"
      },
      "source": [
        "umap_result =  umap.fit_transform(array_embeddings)"
      ],
      "execution_count": null,
      "outputs": []
    },
    {
      "cell_type": "code",
      "metadata": {
        "id": "_HePc7_ieT89",
        "colab": {
          "base_uri": "https://localhost:8080/",
          "height": 483
        },
        "outputId": "57b2e5a3-1b27-437d-ec6b-f7fd3e56b9ab"
      },
      "source": [
        "plot_embedding_2d(umap_result, all_words, words_seed)"
      ],
      "execution_count": null,
      "outputs": [
        {
          "output_type": "display_data",
          "data": {
            "image/png": "[encoded data removed]",
            "text/plain": [
              "<Figure size 864x576 with 1 Axes>"
            ]
          },
          "metadata": {
            "tags": [],
            "needs_background": "light"
          }
        }
      ]
    }
  ]
}